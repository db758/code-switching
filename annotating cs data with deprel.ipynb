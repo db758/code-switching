{
 "cells": [
  {
   "cell_type": "code",
   "execution_count": 1,
   "metadata": {},
   "outputs": [
    {
     "name": "stderr",
     "output_type": "stream",
     "text": [
      "2021-08-02 21:56:32 INFO: \"zh\" is an alias for \"zh-hans\"\n",
      "2021-08-02 21:56:32 INFO: Loading these models for language: zh-hans (Simplified_Chinese):\n",
      "=======================\n",
      "| Processor | Package |\n",
      "-----------------------\n",
      "| tokenize  | gsdsimp |\n",
      "| pos       | gsdsimp |\n",
      "| lemma     | gsdsimp |\n",
      "| depparse  | gsdsimp |\n",
      "=======================\n",
      "\n",
      "2021-08-02 21:56:32 INFO: Use device: cpu\n",
      "2021-08-02 21:56:32 INFO: Loading: tokenize\n",
      "2021-08-02 21:56:32 INFO: Loading: pos\n",
      "2021-08-02 21:56:32 INFO: Loading: lemma\n",
      "2021-08-02 21:56:32 INFO: Loading: depparse\n",
      "2021-08-02 21:56:33 INFO: Done loading processors!\n"
     ]
    }
   ],
   "source": [
    "import pandas as pd\n",
    "import csv \n",
    "import stanza\n",
    "from nltk import tokenize\n",
    "\n",
    "nlp = stanza.Pipeline(lang='zh', processors='tokenize,pos,lemma,depparse')"
   ]
  },
  {
   "cell_type": "code",
   "execution_count": 2,
   "metadata": {},
   "outputs": [
    {
     "data": {
      "text/html": [
       "<div>\n",
       "<style scoped>\n",
       "    .dataframe tbody tr th:only-of-type {\n",
       "        vertical-align: middle;\n",
       "    }\n",
       "\n",
       "    .dataframe tbody tr th {\n",
       "        vertical-align: top;\n",
       "    }\n",
       "\n",
       "    .dataframe thead th {\n",
       "        text-align: right;\n",
       "    }\n",
       "</style>\n",
       "<table border=\"1\" class=\"dataframe\">\n",
       "  <thead>\n",
       "    <tr style=\"text-align: right;\">\n",
       "      <th></th>\n",
       "      <th>Unnamed: 0</th>\n",
       "      <th>university</th>\n",
       "      <th>sent_id</th>\n",
       "      <th>original_sentence</th>\n",
       "      <th>translation</th>\n",
       "      <th>eng_translation</th>\n",
       "      <th>word_id</th>\n",
       "      <th>first_cs_word_form</th>\n",
       "      <th>first_cs_word_translation</th>\n",
       "      <th>governer_first_cs_word</th>\n",
       "      <th>preceding_word</th>\n",
       "      <th>governer_trans</th>\n",
       "      <th>preceding_trans</th>\n",
       "      <th>preceding_prob</th>\n",
       "      <th>Unnamed: 14</th>\n",
       "      <th>preceding_trans.1</th>\n",
       "      <th>first_cs_word_form.1</th>\n",
       "      <th>Unnamed: 17</th>\n",
       "    </tr>\n",
       "  </thead>\n",
       "  <tbody>\n",
       "    <tr>\n",
       "      <th>0</th>\n",
       "      <td>0.0</td>\n",
       "      <td>CMU</td>\n",
       "      <td>2.0</td>\n",
       "      <td>rich neighborhood ， 非常 安全 （ 这里 属于 富人 区 ） ， 旁边 ...</td>\n",
       "      <td>富人 区 ， 非常 安全 （ 这里 属于 富人 区 ） ， 旁边 就 是 公园 ， 附近 还...</td>\n",
       "      <td>Rich area, very safe (it belongs to rich area)...</td>\n",
       "      <td>1.0</td>\n",
       "      <td>rich</td>\n",
       "      <td>富人</td>\n",
       "      <td>neighborhood</td>\n",
       "      <td>&lt;/s&gt;</td>\n",
       "      <td>社区</td>\n",
       "      <td>&lt;/s&gt;</td>\n",
       "      <td>0.000000</td>\n",
       "      <td>NaN</td>\n",
       "      <td>&lt;/s&gt;</td>\n",
       "      <td>rich</td>\n",
       "      <td>&lt;/s&gt; rich</td>\n",
       "    </tr>\n",
       "    <tr>\n",
       "      <th>1</th>\n",
       "      <td>1.0</td>\n",
       "      <td>CMU</td>\n",
       "      <td>4.0</td>\n",
       "      <td>lease 从 八月 开始 ， 具体 日期 可以 商量 。</td>\n",
       "      <td>租约 从 八月 开始 ， 具体 日期 可以 商量 。</td>\n",
       "      <td>The lease will start in August, the exact date...</td>\n",
       "      <td>1.0</td>\n",
       "      <td>lease</td>\n",
       "      <td>租约</td>\n",
       "      <td>商量</td>\n",
       "      <td>&lt;/s&gt;</td>\n",
       "      <td>To discuss</td>\n",
       "      <td>&lt;/s&gt;</td>\n",
       "      <td>0.000000</td>\n",
       "      <td>NaN</td>\n",
       "      <td>&lt;/s&gt;</td>\n",
       "      <td>lease</td>\n",
       "      <td>&lt;/s&gt; lease</td>\n",
       "    </tr>\n",
       "    <tr>\n",
       "      <th>2</th>\n",
       "      <td>2.0</td>\n",
       "      <td>CMU</td>\n",
       "      <td>5.0</td>\n",
       "      <td>house 一共 有 两 层 + 地下室 。</td>\n",
       "      <td>房子 一共 有 两 层 + 地下室 。</td>\n",
       "      <td>The house has two floors plus a basement.</td>\n",
       "      <td>1.0</td>\n",
       "      <td>house</td>\n",
       "      <td>房子</td>\n",
       "      <td>有</td>\n",
       "      <td>&lt;/s&gt;</td>\n",
       "      <td>There are</td>\n",
       "      <td>&lt;/s&gt;</td>\n",
       "      <td>0.000000</td>\n",
       "      <td>NaN</td>\n",
       "      <td>&lt;/s&gt;</td>\n",
       "      <td>house</td>\n",
       "      <td>&lt;/s&gt; house</td>\n",
       "    </tr>\n",
       "    <tr>\n",
       "      <th>3</th>\n",
       "      <td>3.0</td>\n",
       "      <td>CMU</td>\n",
       "      <td>6.0</td>\n",
       "      <td>一共 有 两 个 可以 洗澡 的 bathroom 。</td>\n",
       "      <td>一共 有 两 个 可以 洗澡 的 浴室 。</td>\n",
       "      <td>There are two bathrooms with a bath.</td>\n",
       "      <td>8.0</td>\n",
       "      <td>bathroom</td>\n",
       "      <td>浴室</td>\n",
       "      <td>有</td>\n",
       "      <td>的</td>\n",
       "      <td>There are</td>\n",
       "      <td>The</td>\n",
       "      <td>0.000088</td>\n",
       "      <td>NaN</td>\n",
       "      <td>The</td>\n",
       "      <td>bathroom</td>\n",
       "      <td>The bathroom</td>\n",
       "    </tr>\n",
       "    <tr>\n",
       "      <th>4</th>\n",
       "      <td>4.0</td>\n",
       "      <td>CMU</td>\n",
       "      <td>9.0</td>\n",
       "      <td>整个 house 家具 齐全 。</td>\n",
       "      <td>整个 房子 家具 齐全 。</td>\n",
       "      <td>The whole house is fully furnished.</td>\n",
       "      <td>2.0</td>\n",
       "      <td>house</td>\n",
       "      <td>房子</td>\n",
       "      <td>家具</td>\n",
       "      <td>整个</td>\n",
       "      <td>furniture</td>\n",
       "      <td>the whole</td>\n",
       "      <td>0.000078</td>\n",
       "      <td>NaN</td>\n",
       "      <td>the whole</td>\n",
       "      <td>house</td>\n",
       "      <td>the whole house</td>\n",
       "    </tr>\n",
       "    <tr>\n",
       "      <th>5</th>\n",
       "      <td>5.0</td>\n",
       "      <td>CMU</td>\n",
       "      <td>10.0</td>\n",
       "      <td>后院 ： deck 。</td>\n",
       "      <td>后院 ： 阳台 。</td>\n",
       "      <td>Backyard: balcony.</td>\n",
       "      <td>3.0</td>\n",
       "      <td>deck</td>\n",
       "      <td>阳台</td>\n",
       "      <td>阳台</td>\n",
       "      <td>：</td>\n",
       "      <td>The balcony</td>\n",
       "      <td>:</td>\n",
       "      <td>0.000006</td>\n",
       "      <td>NaN</td>\n",
       "      <td>:</td>\n",
       "      <td>deck</td>\n",
       "      <td>:  deck</td>\n",
       "    </tr>\n",
       "    <tr>\n",
       "      <th>6</th>\n",
       "      <td>6.0</td>\n",
       "      <td>CMU</td>\n",
       "      <td>13.0</td>\n",
       "      <td>空调 有 window ac 和 暖气 。</td>\n",
       "      <td>空调 有 窗口 式 冷气机 和 暖气 。</td>\n",
       "      <td>There are window - type air - conditioners and...</td>\n",
       "      <td>3.0</td>\n",
       "      <td>window</td>\n",
       "      <td>窗口</td>\n",
       "      <td>ac</td>\n",
       "      <td>有</td>\n",
       "      <td>空调</td>\n",
       "      <td>There are</td>\n",
       "      <td>0.003321</td>\n",
       "      <td>NaN</td>\n",
       "      <td>There are</td>\n",
       "      <td>window</td>\n",
       "      <td>There are window</td>\n",
       "    </tr>\n",
       "    <tr>\n",
       "      <th>7</th>\n",
       "      <td>7.0</td>\n",
       "      <td>CMU</td>\n",
       "      <td>14.0</td>\n",
       "      <td>入住 时间 flexible ， 可 长期 入住 。</td>\n",
       "      <td>入住 时间 灵活 ， 可 长期 入住 。</td>\n",
       "      <td>Flexible check-in time, can be long stay.</td>\n",
       "      <td>3.0</td>\n",
       "      <td>flexible</td>\n",
       "      <td>灵活</td>\n",
       "      <td>入住</td>\n",
       "      <td>时间</td>\n",
       "      <td>to stay in</td>\n",
       "      <td>time</td>\n",
       "      <td>0.000011</td>\n",
       "      <td>NaN</td>\n",
       "      <td>time</td>\n",
       "      <td>flexible</td>\n",
       "      <td>time flexible</td>\n",
       "    </tr>\n",
       "    <tr>\n",
       "      <th>8</th>\n",
       "      <td>8.0</td>\n",
       "      <td>CMU</td>\n",
       "      <td>15.0</td>\n",
       "      <td>感兴趣 的 同学 ， 欢迎 email （ 请 注明 “ 租房 ” ） ， 请 简单 介绍 ...</td>\n",
       "      <td>感兴趣 的 同学 ， 欢迎 发送 邮件 （ 请 注明 “ 租房 ” ） ， 请 简单 介绍 ...</td>\n",
       "      <td>If you are interested, please send us an email...</td>\n",
       "      <td>6.0</td>\n",
       "      <td>email</td>\n",
       "      <td>发送</td>\n",
       "      <td>欢迎</td>\n",
       "      <td>欢迎</td>\n",
       "      <td>welcome</td>\n",
       "      <td>welcome</td>\n",
       "      <td>0.000165</td>\n",
       "      <td>NaN</td>\n",
       "      <td>welcome</td>\n",
       "      <td>email</td>\n",
       "      <td>welcome email</td>\n",
       "    </tr>\n",
       "    <tr>\n",
       "      <th>9</th>\n",
       "      <td>9.0</td>\n",
       "      <td>CMU</td>\n",
       "      <td>2.0</td>\n",
       "      <td>rich neighborhood ， 非常 安全 （ 这里 属于 富人 区 ） ， 旁边 ...</td>\n",
       "      <td>富人 区 ， 非常 安全 （ 这里 属于 富人 区 ） ， 旁边 就 是 公园 ， 附近 还...</td>\n",
       "      <td>Rich area, very safe (it belongs to rich area)...</td>\n",
       "      <td>1.0</td>\n",
       "      <td>rich</td>\n",
       "      <td>富人</td>\n",
       "      <td>neighborhood</td>\n",
       "      <td>&lt;/s&gt;</td>\n",
       "      <td>社区</td>\n",
       "      <td>&lt;/s&gt;</td>\n",
       "      <td>0.000000</td>\n",
       "      <td>NaN</td>\n",
       "      <td>&lt;/s&gt;</td>\n",
       "      <td>rich</td>\n",
       "      <td>&lt;/s&gt; rich</td>\n",
       "    </tr>\n",
       "  </tbody>\n",
       "</table>\n",
       "</div>"
      ],
      "text/plain": [
       "   Unnamed: 0 university  sent_id  \\\n",
       "0         0.0        CMU      2.0   \n",
       "1         1.0        CMU      4.0   \n",
       "2         2.0        CMU      5.0   \n",
       "3         3.0        CMU      6.0   \n",
       "4         4.0        CMU      9.0   \n",
       "5         5.0        CMU     10.0   \n",
       "6         6.0        CMU     13.0   \n",
       "7         7.0        CMU     14.0   \n",
       "8         8.0        CMU     15.0   \n",
       "9         9.0        CMU      2.0   \n",
       "\n",
       "                                   original_sentence  \\\n",
       "0  rich neighborhood ， 非常 安全 （ 这里 属于 富人 区 ） ， 旁边 ...   \n",
       "1                      lease 从 八月 开始 ， 具体 日期 可以 商量 。   \n",
       "2                             house 一共 有 两 层 + 地下室 。   \n",
       "3                        一共 有 两 个 可以 洗澡 的 bathroom 。   \n",
       "4                                   整个 house 家具 齐全 。   \n",
       "5                                        后院 ： deck 。   \n",
       "6                              空调 有 window ac 和 暖气 。   \n",
       "7                         入住 时间 flexible ， 可 长期 入住 。   \n",
       "8  感兴趣 的 同学 ， 欢迎 email （ 请 注明 “ 租房 ” ） ， 请 简单 介绍 ...   \n",
       "9  rich neighborhood ， 非常 安全 （ 这里 属于 富人 区 ） ， 旁边 ...   \n",
       "\n",
       "                                         translation  \\\n",
       "0  富人 区 ， 非常 安全 （ 这里 属于 富人 区 ） ， 旁边 就 是 公园 ， 附近 还...   \n",
       "1                         租约 从 八月 开始 ， 具体 日期 可以 商量 。   \n",
       "2                                房子 一共 有 两 层 + 地下室 。   \n",
       "3                              一共 有 两 个 可以 洗澡 的 浴室 。   \n",
       "4                                      整个 房子 家具 齐全 。   \n",
       "5                                          后院 ： 阳台 。   \n",
       "6                               空调 有 窗口 式 冷气机 和 暖气 。   \n",
       "7                               入住 时间 灵活 ， 可 长期 入住 。   \n",
       "8  感兴趣 的 同学 ， 欢迎 发送 邮件 （ 请 注明 “ 租房 ” ） ， 请 简单 介绍 ...   \n",
       "9  富人 区 ， 非常 安全 （ 这里 属于 富人 区 ） ， 旁边 就 是 公园 ， 附近 还...   \n",
       "\n",
       "                                     eng_translation  word_id  \\\n",
       "0  Rich area, very safe (it belongs to rich area)...      1.0   \n",
       "1  The lease will start in August, the exact date...      1.0   \n",
       "2          The house has two floors plus a basement.      1.0   \n",
       "3               There are two bathrooms with a bath.      8.0   \n",
       "4                The whole house is fully furnished.      2.0   \n",
       "5                                 Backyard: balcony.      3.0   \n",
       "6  There are window - type air - conditioners and...      3.0   \n",
       "7          Flexible check-in time, can be long stay.      3.0   \n",
       "8  If you are interested, please send us an email...      6.0   \n",
       "9  Rich area, very safe (it belongs to rich area)...      1.0   \n",
       "\n",
       "  first_cs_word_form first_cs_word_translation governer_first_cs_word  \\\n",
       "0               rich                        富人           neighborhood   \n",
       "1              lease                        租约                     商量   \n",
       "2              house                        房子                      有   \n",
       "3           bathroom                        浴室                      有   \n",
       "4              house                        房子                     家具   \n",
       "5               deck                        阳台                     阳台   \n",
       "6             window                        窗口                     ac   \n",
       "7           flexible                        灵活                     入住   \n",
       "8              email                        发送                     欢迎   \n",
       "9               rich                        富人           neighborhood   \n",
       "\n",
       "  preceding_word governer_trans preceding_trans  preceding_prob  Unnamed: 14  \\\n",
       "0           </s>             社区            </s>        0.000000          NaN   \n",
       "1           </s>     To discuss            </s>        0.000000          NaN   \n",
       "2           </s>      There are            </s>        0.000000          NaN   \n",
       "3              的      There are             The        0.000088          NaN   \n",
       "4             整个      furniture       the whole        0.000078          NaN   \n",
       "5              ：    The balcony              :         0.000006          NaN   \n",
       "6              有             空调       There are        0.003321          NaN   \n",
       "7             时间     to stay in            time        0.000011          NaN   \n",
       "8             欢迎        welcome         welcome        0.000165          NaN   \n",
       "9           </s>             社区            </s>        0.000000          NaN   \n",
       "\n",
       "  preceding_trans.1 first_cs_word_form.1       Unnamed: 17  \n",
       "0              </s>                 rich         </s> rich  \n",
       "1              </s>                lease        </s> lease  \n",
       "2              </s>                house        </s> house  \n",
       "3               The             bathroom      The bathroom  \n",
       "4         the whole                house   the whole house  \n",
       "5                :                  deck           :  deck  \n",
       "6         There are               window  There are window  \n",
       "7              time             flexible     time flexible  \n",
       "8           welcome                email     welcome email  \n",
       "9              </s>                 rich         </s> rich  "
      ]
     },
     "execution_count": 2,
     "metadata": {},
     "output_type": "execute_result"
    }
   ],
   "source": [
    "cs_data = pd.read_csv(\"governer_and_preceding_words_extracted.csv\")\n",
    "cs_data.head(10)"
   ]
  },
  {
   "cell_type": "code",
   "execution_count": 10,
   "metadata": {},
   "outputs": [
    {
     "data": {
      "text/plain": [
       "1422"
      ]
     },
     "execution_count": 10,
     "metadata": {},
     "output_type": "execute_result"
    }
   ],
   "source": [
    "cs_data.shape[0]"
   ]
  },
  {
   "cell_type": "code",
   "execution_count": 3,
   "metadata": {},
   "outputs": [
    {
     "name": "stdout",
     "output_type": "stream",
     "text": [
      "0\n"
     ]
    }
   ],
   "source": [
    "#need to match first cs word form in eng_translation (both lower cased) and get the deprel of the word in eng_translation\n",
    "\n",
    "bools = []\n",
    "for index, row in cs_data.iterrows():\n",
    "    #bools.append(str(row['first_cs_word_form']).lower() in str(row['eng_translation']).lower())\n",
    "    bools.append(str(row['first_cs_word_translation']).lower() in str(row['translation']).lower())\n",
    "num = bools.count(False)\n",
    "print(num)\n",
    "#print(cs_data.iloc[1][7])"
   ]
  },
  {
   "cell_type": "code",
   "execution_count": 11,
   "metadata": {},
   "outputs": [
    {
     "name": "stdout",
     "output_type": "stream",
     "text": [
      "1422\n"
     ]
    }
   ],
   "source": [
    "print(len(bools))"
   ]
  },
  {
   "cell_type": "code",
   "execution_count": 12,
   "metadata": {},
   "outputs": [
    {
     "name": "stdout",
     "output_type": "stream",
     "text": [
      "['compound', 'nsubj', 'nsubj', 'obj', 'nmod', 'compound', 'compound', 'advmod', 'advcl', 'compound']\n"
     ]
    }
   ],
   "source": [
    "#for chinese data only\n",
    "\n",
    "cs_sentences = []\n",
    "for index, row in cs_data.iterrows():\n",
    "    cs_sentences.append(row['translation'])\n",
    "    \n",
    "labels = ['NA'] * len(cs_sentences)\n",
    "for i in range(len(cs_sentences)):\n",
    "    with_punct = str(cs_sentences[i])\n",
    "    sentence = re.sub(r'[^\\w\\s]', ' ', with_punct)\n",
    "    length = len(sentence.split())\n",
    "    doc = nlp(str(sentence))\n",
    "    for sent in doc.sentences:\n",
    "        count = 0\n",
    "        #print(str(cs_data.iloc[i][7]).lower())\n",
    "        for word in sent.words:\n",
    "            #print(str(word.text).lower())\n",
    "            if str(word.text).lower() == str(cs_data.iloc[i][8]).lower() or str(word.text).lower() in str(cs_data.iloc[i][8]).lower():\n",
    "                label = word.deprel\n",
    "                labels[i] = label\n",
    "                break\n",
    "            count +=1\n",
    "            if count == length-1 and str(word).lower() != str(cs_data.iloc[i][8]).lower() and str(word.text).lower() not in str(cs_data.iloc[i][8]).lower():\n",
    "                pass\n",
    "            #else:\n",
    "                #labels.append(False)\n",
    "print(labels[:10])"
   ]
  },
  {
   "cell_type": "code",
   "execution_count": 13,
   "metadata": {},
   "outputs": [
    {
     "name": "stdout",
     "output_type": "stream",
     "text": [
      "1422\n"
     ]
    }
   ],
   "source": [
    "print(len(labels))"
   ]
  },
  {
   "cell_type": "code",
   "execution_count": 14,
   "metadata": {},
   "outputs": [
    {
     "name": "stdout",
     "output_type": "stream",
     "text": [
      "4\n"
     ]
    }
   ],
   "source": [
    "print(labels.count('NA'))"
   ]
  },
  {
   "cell_type": "code",
   "execution_count": 4,
   "metadata": {},
   "outputs": [],
   "source": [
    "cs_sentences = []\n",
    "for index, row in cs_data.iterrows():\n",
    "    cs_sentences.append(row['eng_translation'])"
   ]
  },
  {
   "cell_type": "code",
   "execution_count": 5,
   "metadata": {},
   "outputs": [
    {
     "data": {
      "text/plain": [
       "['Welcome', 'to', 'telephone', 'or', 'email', 'consultation', '.']"
      ]
     },
     "execution_count": 5,
     "metadata": {},
     "output_type": "execute_result"
    }
   ],
   "source": [
    "tokenize.word_tokenize(cs_sentences[1020])"
   ]
  },
  {
   "cell_type": "code",
   "execution_count": 6,
   "metadata": {},
   "outputs": [
    {
     "name": "stdout",
     "output_type": "stream",
     "text": [
      "Welcome to telephone or email consultation.\n"
     ]
    }
   ],
   "source": [
    "print((cs_sentences[1020]))"
   ]
  },
  {
   "cell_type": "code",
   "execution_count": 5,
   "metadata": {},
   "outputs": [],
   "source": [
    "import re"
   ]
  },
  {
   "cell_type": "code",
   "execution_count": 59,
   "metadata": {},
   "outputs": [
    {
     "name": "stdout",
     "output_type": "stream",
     "text": [
      "['amod', 'nsubj', 'nsubj', 'det', 'nsubj:pass', 'NA', 'compound', 'amod', 'obj', 'amod']\n"
     ]
    }
   ],
   "source": [
    "labels = ['NA'] * len(cs_sentences)\n",
    "for i in range(len(cs_sentences)):\n",
    "    with_punct = str(cs_sentences[i])\n",
    "    sentence = re.sub(r'[^\\w\\s]', ' ', with_punct)\n",
    "    length = len(sentence.split())\n",
    "    doc = nlp(str(sentence))\n",
    "    for sent in doc.sentences:\n",
    "        count = 0\n",
    "        #print(str(cs_data.iloc[i][7]).lower())\n",
    "        for word in sent.words:\n",
    "            #print(str(word.text).lower())\n",
    "            if str(word.text).lower() == str(cs_data.iloc[i][7]).lower() or str(word.text).lower() in str(cs_data.iloc[i][7]).lower():\n",
    "                label = word.deprel\n",
    "                labels[i] = label\n",
    "                break\n",
    "            count +=1\n",
    "            if count == length-1 and str(word).lower() != str(cs_data.iloc[i][7]).lower() and str(word.text).lower() not in str(cs_data.iloc[i][7]).lower():\n",
    "                pass\n",
    "            #else:\n",
    "                #labels.append(False)\n",
    "print(labels[:10])"
   ]
  },
  {
   "cell_type": "code",
   "execution_count": 315,
   "metadata": {},
   "outputs": [
    {
     "name": "stdout",
     "output_type": "stream",
     "text": [
      "There is an apartment downtown\n",
      "downtown\n",
      "nsubj\n"
     ]
    }
   ],
   "source": [
    "with_punct = 'There is an apartment downtown'\n",
    "sentence = re.sub(r'[^\\w\\s]', '', with_punct)\n",
    "print(sentence)\n",
    "length = len(sentence.split())\n",
    "doc = nlp(str(sentence))\n",
    "for sent in doc.sentences:\n",
    "    count = 0\n",
    "    for word in sent.words:\n",
    "        if str(word.text).lower() == 'downtown':\n",
    "            label = word.deprel\n",
    "            print(word.text)\n",
    "            print(label)\n",
    "            break\n",
    "        count +=1\n",
    "        #if count == length-1 and str(word).lower() != str(cs_data.iloc[i][7]).lower() and str(word.text).lower() not in str(cs_data.iloc[i][7]).lower():\n",
    "            #pass"
   ]
  },
  {
   "cell_type": "code",
   "execution_count": 84,
   "metadata": {},
   "outputs": [
    {
     "name": "stdout",
     "output_type": "stream",
     "text": [
      "496\n"
     ]
    }
   ],
   "source": [
    "print((labels).count('NA'))"
   ]
  },
  {
   "cell_type": "code",
   "execution_count": 15,
   "metadata": {},
   "outputs": [],
   "source": [
    "cs_data['cs_word_annotated_zh'] = labels"
   ]
  },
  {
   "cell_type": "code",
   "execution_count": 16,
   "metadata": {},
   "outputs": [
    {
     "data": {
      "text/html": [
       "<div>\n",
       "<style scoped>\n",
       "    .dataframe tbody tr th:only-of-type {\n",
       "        vertical-align: middle;\n",
       "    }\n",
       "\n",
       "    .dataframe tbody tr th {\n",
       "        vertical-align: top;\n",
       "    }\n",
       "\n",
       "    .dataframe thead th {\n",
       "        text-align: right;\n",
       "    }\n",
       "</style>\n",
       "<table border=\"1\" class=\"dataframe\">\n",
       "  <thead>\n",
       "    <tr style=\"text-align: right;\">\n",
       "      <th></th>\n",
       "      <th>Unnamed: 0</th>\n",
       "      <th>university</th>\n",
       "      <th>sent_id</th>\n",
       "      <th>original_sentence</th>\n",
       "      <th>translation</th>\n",
       "      <th>eng_translation</th>\n",
       "      <th>word_id</th>\n",
       "      <th>first_cs_word_form</th>\n",
       "      <th>first_cs_word_translation</th>\n",
       "      <th>governer_first_cs_word</th>\n",
       "      <th>preceding_word</th>\n",
       "      <th>governer_trans</th>\n",
       "      <th>preceding_trans</th>\n",
       "      <th>preceding_prob</th>\n",
       "      <th>Unnamed: 14</th>\n",
       "      <th>preceding_trans.1</th>\n",
       "      <th>first_cs_word_form.1</th>\n",
       "      <th>Unnamed: 17</th>\n",
       "      <th>cs_word_annotated_zh</th>\n",
       "    </tr>\n",
       "  </thead>\n",
       "  <tbody>\n",
       "    <tr>\n",
       "      <th>0</th>\n",
       "      <td>0.0</td>\n",
       "      <td>CMU</td>\n",
       "      <td>2.0</td>\n",
       "      <td>rich neighborhood ， 非常 安全 （ 这里 属于 富人 区 ） ， 旁边 ...</td>\n",
       "      <td>富人 区 ， 非常 安全 （ 这里 属于 富人 区 ） ， 旁边 就 是 公园 ， 附近 还...</td>\n",
       "      <td>Rich area, very safe (it belongs to rich area)...</td>\n",
       "      <td>1.0</td>\n",
       "      <td>rich</td>\n",
       "      <td>富人</td>\n",
       "      <td>neighborhood</td>\n",
       "      <td>&lt;/s&gt;</td>\n",
       "      <td>社区</td>\n",
       "      <td>&lt;/s&gt;</td>\n",
       "      <td>0.000000</td>\n",
       "      <td>NaN</td>\n",
       "      <td>&lt;/s&gt;</td>\n",
       "      <td>rich</td>\n",
       "      <td>&lt;/s&gt; rich</td>\n",
       "      <td>compound</td>\n",
       "    </tr>\n",
       "    <tr>\n",
       "      <th>1</th>\n",
       "      <td>1.0</td>\n",
       "      <td>CMU</td>\n",
       "      <td>4.0</td>\n",
       "      <td>lease 从 八月 开始 ， 具体 日期 可以 商量 。</td>\n",
       "      <td>租约 从 八月 开始 ， 具体 日期 可以 商量 。</td>\n",
       "      <td>The lease will start in August, the exact date...</td>\n",
       "      <td>1.0</td>\n",
       "      <td>lease</td>\n",
       "      <td>租约</td>\n",
       "      <td>商量</td>\n",
       "      <td>&lt;/s&gt;</td>\n",
       "      <td>To discuss</td>\n",
       "      <td>&lt;/s&gt;</td>\n",
       "      <td>0.000000</td>\n",
       "      <td>NaN</td>\n",
       "      <td>&lt;/s&gt;</td>\n",
       "      <td>lease</td>\n",
       "      <td>&lt;/s&gt; lease</td>\n",
       "      <td>nsubj</td>\n",
       "    </tr>\n",
       "    <tr>\n",
       "      <th>2</th>\n",
       "      <td>2.0</td>\n",
       "      <td>CMU</td>\n",
       "      <td>5.0</td>\n",
       "      <td>house 一共 有 两 层 + 地下室 。</td>\n",
       "      <td>房子 一共 有 两 层 + 地下室 。</td>\n",
       "      <td>The house has two floors plus a basement.</td>\n",
       "      <td>1.0</td>\n",
       "      <td>house</td>\n",
       "      <td>房子</td>\n",
       "      <td>有</td>\n",
       "      <td>&lt;/s&gt;</td>\n",
       "      <td>There are</td>\n",
       "      <td>&lt;/s&gt;</td>\n",
       "      <td>0.000000</td>\n",
       "      <td>NaN</td>\n",
       "      <td>&lt;/s&gt;</td>\n",
       "      <td>house</td>\n",
       "      <td>&lt;/s&gt; house</td>\n",
       "      <td>nsubj</td>\n",
       "    </tr>\n",
       "    <tr>\n",
       "      <th>3</th>\n",
       "      <td>3.0</td>\n",
       "      <td>CMU</td>\n",
       "      <td>6.0</td>\n",
       "      <td>一共 有 两 个 可以 洗澡 的 bathroom 。</td>\n",
       "      <td>一共 有 两 个 可以 洗澡 的 浴室 。</td>\n",
       "      <td>There are two bathrooms with a bath.</td>\n",
       "      <td>8.0</td>\n",
       "      <td>bathroom</td>\n",
       "      <td>浴室</td>\n",
       "      <td>有</td>\n",
       "      <td>的</td>\n",
       "      <td>There are</td>\n",
       "      <td>The</td>\n",
       "      <td>0.000088</td>\n",
       "      <td>NaN</td>\n",
       "      <td>The</td>\n",
       "      <td>bathroom</td>\n",
       "      <td>The bathroom</td>\n",
       "      <td>obj</td>\n",
       "    </tr>\n",
       "    <tr>\n",
       "      <th>4</th>\n",
       "      <td>4.0</td>\n",
       "      <td>CMU</td>\n",
       "      <td>9.0</td>\n",
       "      <td>整个 house 家具 齐全 。</td>\n",
       "      <td>整个 房子 家具 齐全 。</td>\n",
       "      <td>The whole house is fully furnished.</td>\n",
       "      <td>2.0</td>\n",
       "      <td>house</td>\n",
       "      <td>房子</td>\n",
       "      <td>家具</td>\n",
       "      <td>整个</td>\n",
       "      <td>furniture</td>\n",
       "      <td>the whole</td>\n",
       "      <td>0.000078</td>\n",
       "      <td>NaN</td>\n",
       "      <td>the whole</td>\n",
       "      <td>house</td>\n",
       "      <td>the whole house</td>\n",
       "      <td>nmod</td>\n",
       "    </tr>\n",
       "  </tbody>\n",
       "</table>\n",
       "</div>"
      ],
      "text/plain": [
       "   Unnamed: 0 university  sent_id  \\\n",
       "0         0.0        CMU      2.0   \n",
       "1         1.0        CMU      4.0   \n",
       "2         2.0        CMU      5.0   \n",
       "3         3.0        CMU      6.0   \n",
       "4         4.0        CMU      9.0   \n",
       "\n",
       "                                   original_sentence  \\\n",
       "0  rich neighborhood ， 非常 安全 （ 这里 属于 富人 区 ） ， 旁边 ...   \n",
       "1                      lease 从 八月 开始 ， 具体 日期 可以 商量 。   \n",
       "2                             house 一共 有 两 层 + 地下室 。   \n",
       "3                        一共 有 两 个 可以 洗澡 的 bathroom 。   \n",
       "4                                   整个 house 家具 齐全 。   \n",
       "\n",
       "                                         translation  \\\n",
       "0  富人 区 ， 非常 安全 （ 这里 属于 富人 区 ） ， 旁边 就 是 公园 ， 附近 还...   \n",
       "1                         租约 从 八月 开始 ， 具体 日期 可以 商量 。   \n",
       "2                                房子 一共 有 两 层 + 地下室 。   \n",
       "3                              一共 有 两 个 可以 洗澡 的 浴室 。   \n",
       "4                                      整个 房子 家具 齐全 。   \n",
       "\n",
       "                                     eng_translation  word_id  \\\n",
       "0  Rich area, very safe (it belongs to rich area)...      1.0   \n",
       "1  The lease will start in August, the exact date...      1.0   \n",
       "2          The house has two floors plus a basement.      1.0   \n",
       "3               There are two bathrooms with a bath.      8.0   \n",
       "4                The whole house is fully furnished.      2.0   \n",
       "\n",
       "  first_cs_word_form first_cs_word_translation governer_first_cs_word  \\\n",
       "0               rich                        富人           neighborhood   \n",
       "1              lease                        租约                     商量   \n",
       "2              house                        房子                      有   \n",
       "3           bathroom                        浴室                      有   \n",
       "4              house                        房子                     家具   \n",
       "\n",
       "  preceding_word governer_trans preceding_trans  preceding_prob  Unnamed: 14  \\\n",
       "0           </s>             社区            </s>        0.000000          NaN   \n",
       "1           </s>     To discuss            </s>        0.000000          NaN   \n",
       "2           </s>      There are            </s>        0.000000          NaN   \n",
       "3              的      There are             The        0.000088          NaN   \n",
       "4             整个      furniture       the whole        0.000078          NaN   \n",
       "\n",
       "  preceding_trans.1 first_cs_word_form.1      Unnamed: 17 cs_word_annotated_zh  \n",
       "0              </s>                 rich        </s> rich             compound  \n",
       "1              </s>                lease       </s> lease                nsubj  \n",
       "2              </s>                house       </s> house                nsubj  \n",
       "3               The             bathroom     The bathroom                  obj  \n",
       "4         the whole                house  the whole house                 nmod  "
      ]
     },
     "execution_count": 16,
     "metadata": {},
     "output_type": "execute_result"
    }
   ],
   "source": [
    "cs_data.head()"
   ]
  },
  {
   "cell_type": "code",
   "execution_count": 17,
   "metadata": {},
   "outputs": [],
   "source": [
    "cs_data.to_csv('annotated_cs_data_zh.csv', index = False)"
   ]
  },
  {
   "cell_type": "code",
   "execution_count": null,
   "metadata": {},
   "outputs": [],
   "source": []
  },
  {
   "cell_type": "code",
   "execution_count": null,
   "metadata": {},
   "outputs": [],
   "source": []
  },
  {
   "cell_type": "code",
   "execution_count": null,
   "metadata": {},
   "outputs": [],
   "source": []
  },
  {
   "cell_type": "code",
   "execution_count": 91,
   "metadata": {},
   "outputs": [
    {
     "name": "stderr",
     "output_type": "stream",
     "text": [
      "2021-08-04 21:05:14 WARNING: Can not find mwt: default from official model list. Ignoring it.\n",
      "2021-08-04 21:05:14 INFO: Loading these models for language: en (English):\n",
      "========================\n",
      "| Processor | Package  |\n",
      "------------------------\n",
      "| tokenize  | combined |\n",
      "| pos       | combined |\n",
      "| lemma     | combined |\n",
      "| depparse  | combined |\n",
      "========================\n",
      "\n",
      "2021-08-04 21:05:14 INFO: Use device: cpu\n",
      "2021-08-04 21:05:14 INFO: Loading: tokenize\n",
      "2021-08-04 21:05:14 INFO: Loading: pos\n",
      "2021-08-04 21:05:15 INFO: Loading: lemma\n",
      "2021-08-04 21:05:15 INFO: Loading: depparse\n",
      "2021-08-04 21:05:18 INFO: Done loading processors!\n"
     ]
    }
   ],
   "source": [
    "import stanza\n",
    "import pandas as pd\n",
    "cs_data = pd.read_csv('redoing_cs_data.csv')\n",
    "cs_data.head()\n",
    "\n",
    "nlp = stanza.Pipeline(lang='en', processors='tokenize,mwt,pos,lemma,depparse')"
   ]
  },
  {
   "cell_type": "code",
   "execution_count": 33,
   "metadata": {},
   "outputs": [
    {
     "name": "stdout",
     "output_type": "stream",
     "text": [
      "['amod rich neighborhood', 'nsubj lease begin', 'nsubj house has', 'nsubj are bathroom', 'nsubj:pass house furnished', 'dep backyard deck', 'compound window ac', 'amod flexible check', 'root email', 'amod full bathroom', 'root email', 'conj garage driveway', 'amod half bath', 'amod free access', 'root share', 'advmod unbeatable nice', 'compound living room', 'advmod all gone', 'root available', 'nsubj pet discuss', 'obl contact email', 'obj send return', 'nmod delivery view', 'root bathroom', 'FAILED', 'case off parking', 'det no smoking', 'nmod people house', 'nsubj is doorman', 'nsubj lease available', 'root nice', 'nsubj is doorman', 'det an experience', 'root share', 'nsubj neighborhood quiet', 'advmod half furnished', 'advmod fully furnished', 'obl looking house', 'nmod floor house', 'root budget', 'FAILED', 'obl contact email', 'compound leasing office', 'root nice', 'compound email details', 'compound queen bed', 'amod indoor spaces', 'amod young professional', 'FAILED', 'compound living room', 'nsubj are utility', 'obl lived house', 'root house', 'nmod floor house', 'conj room deck', 'obj get offer', 'root available', 'root cover', 'advmod so easy', 'obj open party', 'root text', 'compound utility package', 'nsubj are bus', 'amod main office', 'obl rent lease', 'amod twin bed', 'nsubj call better', 'amod young professionals', 'root share', 'compound vending machine', 'nsubj:pass house furnished', 'compound queen bed', 'FAILED', 'advmod about apt', 'compound bedroom level', 'nsubj house open', 'appos room remodel', 'amod free parking', 'nsubj manager nice', 'root basement', 'compound building manager', 'root room', 'nmod basement house', 'compound queen size', 'amod double deck', 'appos pn email', 'root available', 'nsubj house has', 'advmod fully furnished', 'advcl renew lease', 'root utilities', 'FAILED', 'nmod:poss apartment property', 'FAILED', 'advcl suitable visit', 'nsubj apartment has', 'root move', 'FAILED', 'dep type apartment', 'FAILED', 'nsubj are playground', 'parataxis bright walk', 'nsubj is fireplace', 'FAILED', 'FAILED', 'compound king bed', 'compound apartment type', 'obj rent house', 'compound utility package', 'nsubj:pass house owned', 'obj rent house', 'nsubj:pass house occupied', 'FAILED', 'root check', 'compound floor plan', 'nsubj doorman sign', 'nmod interior house', 'nsubj:pass house located', 'obj hold party', 'parataxis bathroom share', 'FAILED', 'conj person couple', 'obj sign lease', 'conj rent utility', 'det the lower', 'nmod description apartment', 'nmod:poss union website', 'root email', 'obl:npmod pet friendly', 'obj share bathroom', 'amod happy house', 'FAILED', 'nmod floor house', 'nsubj:pass house furnished', 'root update', 'obj rent house', 'ccomp thought scam', 'root ps', 'nmod outside house', 'root available', 'nmod structure house', 'root house', 'FAILED', 'nsubj is doorman', 'amod indoor doors', 'nsubj was closet', 'FAILED', 'nsubj apt fine', 'compound summer lease', 'conj message email', 'compound town house', 'compound floor plan', 'FAILED', 'root see', 'compound gas package', 'compound lobby photo', 'obj had lease', 'FAILED', 'nmod floor house', 'nmod access lobby', 'root prefer', 'root email', 'compound floor plan', 'nsubj is doorman', 'advcl signed lease', 'nsubj apartment has', 'obj has garage', 'conj room share', 'obj received offer', 'obj rent house', 'cc or house', 'nsubj house spacious', 'obl:npmod block away', 'obj walk block', 'root available', 'obj contact email', 'det the price', 'compound queen bed', 'compound leasing office', 'nmod entrance building', 'compound doorman service', 'advmod deep clean', 'parataxis complete share', 'nmod floor house', 'FAILED', 'root available', 'amod free parking', 'nsubj are houses', 'nsubj:pass utility included', 'nsubj utility included', 'xcomp negotiate move', 'compound garage parking', 'compound security deposit', 'root apartment', 'obl living house', 'nmod rooms house', 'root nice', 'compound king size', 'amod hard floor', 'root nice', 'compound dining room', 'parataxis are bedroom', 'amod outdoor parking', 'obj has bedrooms', 'nsubj bedroom has', 'FAILED', 'nmod $ month', 'nsubj apt good', 'FAILED', 'compound queen size', 'FAILED', 'compound queen bed', 'conj safe nice', 'obl rent check', 'root house', 'nmod room bath', 'root update', 'root house', 'obl house are', 'compound floor plan', 'root rooms', 'FAILED', 'compound paper napkin', 'root email', 'nsubj bathroom bathroom', 'amod sister nice', 'nmod bedroom house', 'nmod price month', 'nsubj house house', 'obl lived house', 'conj yard share', 'root post', 'nsubj:pass apartment called', 'compound queen bed', 'root share', 'root house', 'nmod kitchen house', 'amod nice neighbors', 'nsubj:pass apt managed', 'nsubj house has', 'FAILED', 'nsubj neighborhood nice', 'amod queen size', 'xcomp welcome email', 'FAILED', 'nsubj was closet', 'root bonus', \"nsubj 's basement\", 'root lease', 'root nice', 'FAILED', 'root location', 'conj disturb share', 'obj has gym', 'nsubj:pass house located', 'root house', 'FAILED', 'nmod:poss apartment website', 'nsubj studio live', 'det a week', 'amod half bathroom', 'root house', 'obl:npmod gone apartments', 'obl apartments contact', 'acl:relcl house park', 'root house', 'obj take bus', 'conj 11 email', 'nsubj lease runs', 'obl surrounded park', 'appos floor duplex', 'FAILED', 'nmod rooms house', 'root house', 'nmod floor house', 'nmod floor house', 'obl looks view', 'compound queen size', 'compound queen size', 'compound living room', 'compound floor plan', 'obl sitting apt', 'obl pay house', 'root house', 'compound garage parking', 'root flexible', 'compound queen size', 'nsubj:pass apartment run', 'nsubj apartment elwood', 'expl apt is', 'root available', 'FAILED', 'FAILED', 'nsubj apartment huge', 'root nice', 'obl are house', 'root house', 'obl sleep bedroom', 'nmod lot money', 'compound crime alert', 'nmod room house', 'obl contact email', 'compound utilities charges', 'root house', 'nmod parking house', 'compound queen bed', 'compound powder room', 'root lease', 'compound powder room', 'nsubj furniture easy', 'root house', 'nmod access apartment', 'compound living room', 'nsubj:pass bathroom heated', 'conj number email', 'advcl free email', 'root email', 'compound floor plan', 'nmod dryer house', 'nmod bedrooms house', 'root house', 'FAILED', 'root washer', 'parataxis type house', 'compound washer dryer', 'det no smoking', 'obl contact email', 'root topic', 'compound dining room', 'conj big cozy', 'root house', 'root house', 'compound email contact', 'ccomp is nice', 'nsubj is playground', 'nsubj:pass everything included', 'obl participate acc', 'root bedroom', 'compound floor plan', 'obj have party', 'nmod bedrooms house', 'FAILED', 'nsubj utilities cheaper', 'appos plenty chinese', \"nsubj 's balcony\", 'cc plus porch', 'obj give offer', 'nmod apartments apartment', 'obl provided email', 'obl email wanted', 'FAILED', 'nmod laundry basement', 'obl provided email', 'compound queen size', 'obl basement were', 'nsubj house condition', 'obj show lease', 'conj room share', 'obl comes garage', 'compound floor plan', 'compound dining room', 'advmod easy going', 'compound house information', 'nsubj bedroom floor', 'compound parking permit', 'obj rent bedroom', 'nsubj lease had', 'conj craig centre', 'obj holds party', 'FAILED', 'nsubj apartment building', 'compound dining room', 'root share', 'obj sign lease', 'nsubj lease expires', 'nsubj house rents', 'compound living room', 'appos introduction apt', 'case off discount', 'root house', 'obj like house', 'appos contact email', 'nmod floor house', 'compound window ac', 'FAILED', 'nmod bedrooms house', 'nmod bedroom house', 'compound queen size', 'conj number email', 'nmod location house', 'nmod bedrooms house', 'xcomp notice set', 'ccomp is email', 'root available', 'nmod landry basement', 'FAILED', 'root safety', 'FAILED', 'root call', 'advmod boy only', 'nmod $ month', 'compound table light', 'obl worry bill', 'nsubj lease $', 'root share', 'compound queen size', 'nmod most neighbourhood', 'amod nice concierges', 'FAILED', 'compound living room', 'amod whole $', 'advcl live living', 'compound basement gym', 'root apartment', 'nsubj bedroom vacant', 'nsubj apartment area', 'FAILED', 'nmod $ month', 'nsubj apartment park', 'compound queen size', 'conj bedrooms diner', 'compound king bed', 'nsubj bedroom 4m*5m', 'obj submit deposit', 'advmod all yours', 'nsubj apartment has', 'compound living room', 'nsubj house apartment', 'obl same bedroom', 'root house', 'FAILED', 'conj $ utility', 'root house', 'parataxis gym free', 'compound maintenance service', 'amod easy software', 'advcl property have', 'acl:relcl areas share', 'root house', 'appos $ lease', 'FAILED', 'nsubj apartment has', 'root email', 'amod apt set', 'nsubj house has', 'conj people couple', 'obj include utilities', 'FAILED', 'appos need email', 'case about me', 'nsubj apartment includes', 'obj covers gas', 'FAILED', 'obl contact email', 'compound air conditioner', 'compound living room', 'compound living room', 'compound dining room', 'obl study summer', 'amod nice man', 'root nice', 'nmod room house', 'obj like apt', 'case on sale', 'compound management people', 'FAILED', 'conj inclusive wireless', 'root nice', 'obl leased lease', 'root bedroom', 'root bedroom', 'compound shopping apt', 'nsubj house requires', 'compound share bedroom', 'compound parking spot', 'root lease', 'xcomp request share', 'obl live apartment', 'compound living room', 'nmod set sheet', 'compound baby safety', 'obj sent email', 'compound screen size', 'root purple', 'obl maintained dealer', 'root nice', 'nsubj garden need', 'nsubj manager issues', 'FAILED', 'obl live house', 'amod clean title', 'compound family plan', 'amod clean title', 'nmod day sale', 'obl ornaments use', 'amod white boards', 'obj add list', 'conj used condition', 'compound baby seat', 'root sold', 'root fan', 'obl open tab', 'conj maintenance inspection', 'nsubj message preferred', 'vocative prepaid pay', 'obl stay plan', 'appos pn- text', 'amod available pictures', 'amod clean title', 'appos card integrated', 'FAILED', 'obj define liability', 'FAILED', 'obl condition miles', 'nsubj feature include', 'amod full size', 'nsubj owner owner', 'root moving', 'compound queen beds', 'compound area code', 'obl available link', 'amod second owner', 'amod full size', 'amod clean title', 'root update', 'compound queen size', 'obj send message', 'parataxis contact text', 'root beats', 'compound reading lamp', 'root pick', 'amod clean title', 'conj cash check', 'FAILED', 'root burner', 'conj capacity soda', 'amod clean title', 'parataxis good email', 'conj tongs seasoning', 'obl lived apartment', 'amod clean title', 'obl graduated sale', 'compound coding lamp', 'nsubj box in', 'FAILED', 'root update', 'nmod people plan', 'compound yard sale', 'amod clean title', 'obj say call', 'obj add cover', 'discourse contact thx', 'compound queen size', 'obl see size', 'FAILED', 'amod moving sale', 'obl reply thread', 'compound mechanic problems', 'root moving', 'FAILED', 'root moving', 'FAILED', 'amod twin size', 'nsubj:pass condition said', 'root moving', 'amod bed full', 'amod full quilts', 'FAILED', 'root apartment', 'amod native speaker', 'advcl proof ok', 'compound flex dollars', 'FAILED', 'FAILED', 'nsubj bus can', 'nsubj summer going', 'compound college puzzle', 'advcl permit need', 'compound family plan', 'root confirm', 'root nice', 'obl go jfk', 'obl leaving jfk', 'root hello', 'compound park campus', 'compound fall semester', 'compound visitor parking', 'amod nice personality', 'nsubj lease start', 'nsubj master look', 'FAILED', 'obj renew lease', 'nmod $ m', 'obl going quote', 'conj clean party', 'nmod landlord rental', 'advmod fully furnished', 'obl study summer', 'nsubj:pass lease signed', 'obl go office', 'xcomp given graduate', 'compound phd share', 'compound corner unit', 'compound leasing office', 'nmod year phd', 'amod free parking', 'FAILED', 'case in unit', 'nmod freshmen summer', 'compound tv mount', 'compound purchase back', 'obl close building', 'nsubj ride available', 'nsubj:pass ride offered', 'appos students master', 'FAILED', 'compound queen size', 'FAILED', 'nsubj jfk going', 'amod clean title', 'discourse hello unable', 'obl sign office', 'obj sign lease', 'root house', 'FAILED', 'obj have apartment', 'nmod year mid', 'nmod contract office', 'compound park office', 'obl contacted email', 'discourse sorry closed', 'compound bbs bike', 'FAILED', 'advmod fully furnished', 'obl sign office', 'xcomp need share', 'nsubj deposit rent', 'root microwave', 'obl go ride', 'amod full size', 'parataxis calm nice', 'nsubj queen has', 'amod full bed', 'FAILED', 'amod machine portable', 'obj provide ride', 'root shift', 'nsubj summer teaching', 'appos patience happy', 'amod nice person', 'mark how drive', 'root hesitate', 'obj need ride', 'nsubj ride available', 'obj found ride', 'nmod lease office', 'root ride', 'compound security deposit', 'nsubj check carry', 'xcomp need ride', 'FAILED', 'conj nice party', 'obl given agent', 'nsubj agent belongs', 'conj company agent', 'root ps', 'amod limited tort', 'FAILED', 'obj consulted agent', 'nsubj agent said', 'nsubj what defamation', 'obl responsible review', 'nsubj when defamation', 'nmod public defamation', 'nsubj:pass office awarded', 'obj coverage have', 'nmod:poss my agent', 'conj desk queen', 'obl renew office', 'root updated', 'conj is share', 'compound email address', 'obj need token', 'obl how office', 'amod last question', 'amod full bath', 'FAILED', 'FAILED', 'obj have phd', 'parataxis love party', 'det no pets', 'nsubj immigration published', 'xcomp packaging free', 'root free', 'obj provide ride', 'compound utility bill', 'nsubj what model', 'FAILED', 'obl is building', 'root basement', 'nsubj apartment has', 'nmod student share', 'amod young couple', 'root parking', 'compound honda dealer', 'compound throttle body', 'obj provides ride', 'obl strives ride', 'obl strives ride', 'parataxis information email', 'root circle', 'advmod very good', 'obl contact office', 'root ride', 'root ride', 'parataxis beautiful nice', 'conj habits party', 'det the one', 'obj get offer', 'amod working flexible', 'amod full time', 'compound team projects', 'conj quizzes quiz', 'obl took property', 'root lease', 'compound king size', 'compound living room', 'amod professional residents', 'nummod two bedroom', 'advcl lease clean', 'obl maintained dealer', 'compound ride pass', 'nsubj:pass lease signed', 'compound gre books', 'obj get medium', 'root bonus', 'advmod just dance', 'conj phds phd', 'nmod link deal', 'obj rent bedroom', 'root theme', 'nmod kind show', 'compound navigation system', 'amod final period', 'obj buy modem', 'nsubj pass there', 'root furnished', 'parataxis desk size', 'compound guest parking', 'acl:relcl performance waive', 'acl:relcl scholars nice', 'amod full bathrooms', 'compound floor plan', 'compound physics phd', 'conj rent ride', 'root lease', 'obl send email', 'compound floor plan', 'compound graduate student', 'amod undergraduate students', 'compound lease runs', 'FAILED', 'nsubj lease is', 'compound queen size', 'compound queen size', 'acl:relcl people ta', 'obj excludes utilities', 'compound floor plan', 'compound party prince', 'nmod rodin_9403 ride', 'compound bus station', 'compound lease time', 'root phd', 'FAILED', 'obj walk gift', 'root ride', 'root ride', 'FAILED', 'obl looking lease', 'root ride', 'appos $ cash', 'compound office people', 'FAILED', 'nmod people office', 'discourse hi find', 'compound club house', 'obj take bus', 'obl studying phd', 'root hi', 'amod nice person', 'compound fall semester', 'amod full bathrooms', 'compound group lease', 'parataxis are free', 'root update', 'nsubj is bus', 'obj provide ride', 'compound living room', 'nmod $ month', 'FAILED', 'compound lease term', 'compound mock interviews', 'obj build profile', 'obl ask party', 'nsubj house do', 'compound queen size', 'FAILED', 'nsubj orientation earlier', 'compound living room', 'parataxis box ride', 'root free', 'conj you officer', 'obj provide ride', 'conj quiet party', 'obj ask ride', 'root lease', 'obj renew lease', 'compound group lease', 'obl large bedroom', 'compound king size', 'compound shoe closet', 'compound bus pass', 'root house', 'root living', 'root update', 'advmod fully furnished', 'root building', 'nmod printer brother', 'compound queen size', 'root share', 'obj sign lease', 'root nice', 'obj click picture', 'obj click picture', 'nsubj apartment one', 'obj sign lease', 'obl worried summer', 'obj enjoy playground', 'root phd', 'obj do inspection', 'root cover', 'amod queen size', 'compound fall bathroom', 'amod half bathroom', 'obj doing project', 'compound queen bed', 'amod high school', 'FAILED', 'compound email contact', 'acl bikes preferred', 'root nice', 'conj owner warranty', 'advmod full furnished', 'nsubj lease available', 'nsubj is backyard', 'nsubj apartment state', \"nsubj 's deck\", 'xcomp want fall', 'acl:relcl tv expended', 'conj quiet party', 'obj have car', 'amod moderate accident', 'root state', 'compound security deposit', 'FAILED', 'compound ie majors', 'root thanks', 'obj have ride', 'nsubj bedroom hold', 'amod clear title', 'amod nice guy', 'amod high school', 'root email', 'compound building technology', 'nsubj bus goes', 'appos table size', 'root willing', 'obj conduct inspection', 'obl walk state', 'nmod:poss college center', 'amod high school', 'obl strives ride', 'compound bus line', 'amod clean tittle', 'compound family plan', 'nsubj:pass lease signed', 'nmod people office', 'xcomp need share', 'nsubj ride available', 'nsubj is bus', 'root pass', 'nsubj apartment new', 'obj add days', 'root party', 'compound buss pass', 'root ride', 'compound lease end', 'nsubj lease runs', 'nsubj is party', 'obl baby paid', 'FAILED', 'obj misunderstood title', 'root party', 'nsubj cable free', 'nsubj apartment floor', 'obj see apartment', 'parataxis information preferred', 'nsubj what size', 'root phd', 'root pass', 'root pass', 'FAILED', 'amod shared bathroom', 'FAILED', 'xcomp consider apt', 'amod individual bathroom', 'root american', 'amod free lot', 'nsubj:pass router sold', 'amod clean title', 'conj daughter party', 'amod mock interviews', 'compound bus stop', 'root yellow', 'conj is share', 'conj has walk', 'obj share line', 'compound garage sale', 'compound garage sale', 'compound garage sale', 'nmod style lab', 'compound family plan', 'compound couple living', 'nsubj lease place', 'nsubj:pass permit obtained', 'amod full size', 'parataxis bathroom share', 'compound family plan', 'nsubj:pass lease signed', 'discourse hello available', 'parataxis talking mean', 'ccomp saying mean', 'root lease', 'obl interested lease', 'aux can send', 'compound floor plan', 'root email', 'discourse hello is', 'compound car inspection', 'obl contact email', 'compound jfk airport', 'obj check list', 'nmod use couple', 'nmod majoring biotechnology', 'FAILED', 'conj switch share', 'root prefer', 'conj rent utilities', 'obj rent share', 'amod full bathroom', 'nsubj is part', 'amod clean title', 'discourse hello rented', 'amod twin size', 'amod full bath', 'FAILED', 'conj open prefer', 'root party', 'xcomp intend lease', 'xcomp select access', 'FAILED', 'root master', 'nummod one apartment', 'xcomp need share', 'xcomp sign lease', 'discourse hello ask', 'compound gift card', 'root free', 'root tips', 'root low', 'obl ask info', 'root house', 'obj asked office', 'amod square feet', 'obl apply visa', 'root share', 'root reserved', 'appos note ride', 'amod civil engineering', 'xcomp want share', 'parataxis request share', 'nmod floor house', 'root phd', 'root ask', 'obj have jfk', 'obj having party', 'root cover', 'root cover', 'nsubj lease due', 'FAILED', 'FAILED', 'conj have share', 'nmod $ person', 'FAILED', 'compound jfk airport', 'obl looking studio', 'csubj shared appropriate', 'nsubj office professional', 'amod final materials', 'amod social activities', 'amod good condition', 'obl ride jfk', 'obj has bar', 'root nice', 'amod furnished house', 'FAILED', 'discourse sorry forgot', 'discourse hello going', 'root available', 'compound title accidents', 'compound lease start', 'nsubj utility includes', 'compound car history', 'FAILED', 'root available', 'compound oil tank', 'obl close campus', 'compound cable modem', 'root update', 'nsubj lease starts', 'nsubj office responsible', 'compound office people', 'root jfk', 'root furnished', 'FAILED', 'nsubj block knows', 'amod final week', 'amod final week', 'compound damage fee', 'compound student service', 'advcl stop permit', 'obl worried share', 'discourse sorry girl', 'obl rent august', 'compound gym running', 'root gym', 'compound moving sale', 'FAILED', 'compound email consultation', 'root email', 'root mall', 'root email', 'compound guest parking', 'obj ask lease', 'compound state id', 'root ps', 'root prefer', 'conj life leadership', 'compound state id', 'nsubj dealer do', 'compound state id', 'conj gas cable', 'FAILED', 'compound club house', 'compound lease issues', 'parataxis traveling nice', 'compound grocery shopping', 'root all', 'FAILED', 'conj displayed email', 'obl communicating email', 'conj broken charge', 'conj come argue', 'discourse hello sent', 'compound activity fee', 'compound lease problem', 'obj having sponsor', 'FAILED', 'obj send resume', 'xcomp help share', 'obj tried code', 'root deal', 'obj sell dealer', 'obj have studio', 'obl contacted email', 'root house', 'conj bathroom walk', 'root ride', 'parataxis have share', 'obl obtained refer', 'obj making examination', 'nmod ride jfk', 'obj point bid', 'nsubj bid equivalent', 'nsubj office belongs', 'obl applying ride', 'compound email list', 'root share', 'FAILED', 'amod ineligible letter', 'root lady', 'FAILED', 'obl drop mall', 'nmod:poss stakeholders perspectives', 'root studio', 'conj depression cover', 'root nice', 'advcl available contact', 'obl welcome email', 'nsubj firestone expensive', 'conj clean party', 'obj see post', 'nsubj pictures contact', 'nsubj spring starts', 'obl read bbs', 'obj requires trick', 'FAILED', 'advcl break sign', 'xcomp have share', 'nsubj visa let', 'advmod fully furnished', 'FAILED', 'advcl break sign', 'obj add lease', 'root park', 'acl share boy', 'amod free parking', 'amod powered lock', 'compound family plan', 'obl wash toilet', 'compound tennis club', 'FAILED', 'csubj:pass preferred contacted', 'root hello', 'amod nice friend', 'aux would like', 'FAILED', 'parataxis contact email', 'root couple', 'amod main bedroom', 'root ride', 'vocative me sent', 'ccomp seen excellent', 'compound family plan', 'obj money need', 'amod applied teacher', 'amod small book', 'obl go office', 'root available', 'root nice', 'compound resident house', 'obl go office', 'compound gre preparation', 'root nice', 'compound king size', 'FAILED', 'amod mini washer', 'obj add tag', 'amod later nights', 'obl live hotel', 'obj use couple', 'compound family plan', 'discourse hello replied', 'amod standard shipping', 'root hello', 'nsubj tag relies', 'discourse hello send', 'compound fee waiver', 'case in august', 'nsubj holder employee', 'obj take permit', 'obj bring passport', 'FAILED', 'nmod girls size', 'root deliver', 'root size', 'nsubj bbs have', 'nsubj:pass referral offered', 'obj doing phd', 'obj includes utility', 'obj go bbs', 'csubj moving continues', 'FAILED', 'obl try site', 'root gym', 'obj sign lease', 'nsubj is box', 'nsubj:pass availability based', 'det no smoking', 'compound cleaning fee', 'root prefer', 'case due decision', 'amod live chat', 'nsubj house sends', 'FAILED', 'root couple', 'obl ask utility', 'ccomp hope share', 'nsubj house road', 'appos pn preferred', 'root recycle', 'compound baby safety', 'det a box', 'nummod three hats', 'compound bus stops', 'root blender', 'compound email contact', 'amod clean title', 'amod clean title', 'conj easy reliable', 'compound family plan', 'amod clean title', 'root sale', 'compound brother brand', 'amod clean title', 'FAILED', 'discourse hello wechat', 'compound learner permit', 'amod clean title', 'root relocate', 'nsubj condition excellent', 'compound fan control', 'nsubj front have', 'compound tv stand', 'list guitar cable', 'root link', 'nsubj inspection done', 'root ask', 'obl suitable party', 'compound king size', 'amod clean title', 'compound car seaters', 'compound room essentials', 'compound modem plans', 'conj strong smooth', 'amod standard window', 'case near park', 'nsubj thx has', 'obj check word', 'compound baby seat', 'obj give report', 'nsubj size =', 'root case', 'conj maintenance inspection', 'compound break rotors', 'root centre', 'xcomp need pick', 'nsubj message best', 'nsubj mic adjust', 'appos blender sold', 'appos card integrated', 'obj tried code', 'root update', 'nsubj condition good', 'root available', 'amod standard shipping', 'amod clean title', 'conj house condo', 'FAILED', 'FAILED', 'root available', 'amod free internet', 'amod free access', 'compound street parking', 'appos room house', 'compound email enquiries', 'nsubj is bus', 'FAILED', 'nmod rent usd', 'nsubj is pet', 'obl contact email', 'obl contact email', 'nsubj house has', 'compound living room', 'compound house kitchen', 'nmod male master', 'compound security deposit', 'conj students shuttle', 'compound living room', 'compound living room', 'amod full bathroom', 'advmod all gone', 'root room', 'root update', 'obj sign lease', 'amod full bathroom', 'compound leasing office', 'conj environment apartments', 'nsubj is doorman', 'nmod bedroom house', 'nsubj lease goes', 'amod full bathroom', 'root studio', 'nsubj lease available', 'root nice', 'cc or text', 'amod attached garage', 'nsubj:pass panel installed', 'amod attached garage', 'advmod all gone', 'amod main layout', 'case to limo', 'FAILED', 'amod single house', 'amod rich neighborhood', 'nmod location summer', 'nsubj:pass apt owned', 'FAILED', 'root available', 'root share', 'amod young professional', 'nmod contract manager', 'root nice', 'nsubj bedroom rent', 'root nice', 'FAILED', 'nmod delivery view', 'amod free parking', 'compound bedding set', 'nsubj lobby has', 'nsubj are playground', 'root sorry', 'root text', 'compound house overview', 'nsubj are bus', 'compound security deposit', 'root prefer', 'nsubj is doorman', 'compound floor plan', 'nsubj is traffic', 'compound:prt has off', 'appos pn- text', 'root share', 'appos occupancy lease', 'nmod:poss apartment website', 'advmod still available', 'compound floor plan', 'amod full bathroom', 'obj has gym', 'amod popular apartments', 'amod preferred location', 'root share', 'FAILED', 'conj pond barbecue', 'amod available time', 'appos room studio', 'root party', 'nmod room house', 'FAILED', 'nmod summary apartment', 'FAILED', 'conj is drive', 'compound trees hall', 'conj countertops appliances', 'advmod still available', 'nsubj is fireplace', 'nsubj apartment has', 'nsubj apartment has', 'obl perfect coupon', 'compound master student', 'FAILED', 'compound king bed', 'conj boys master', 'obl contact email', 'nsubj:pass pets negotiated', 'appos supplement bathroom', 'nummod one apartment', 'FAILED', 'root usd', 'compound queen size', 'compound bus stop', 'root check', 'compound maintenance request', 'compound town house', 'nummod one room', 'root house', 'conj life bar', 'amod landlord nice', 'FAILED', 'FAILED', 'nmod students apartment', 'nmod floor house', 'root prefer', 'root apartment', 'nmod bedroom house', 'nmod room house', 'compound floor plan', 'compound update information', 'amod single house', 'xcomp need share', 'parataxis bathroom share', 'nmod floor house', 'root available', 'compound shuttle station', 'conj garage drive', 'amod single house', 'nsubj lease available', 'nsubj:pass apartment located', 'det all utility', 'nmod information manager', 'root nice', 'FAILED', 'nsubj apartment quiet', 'nsubj studio floor', 'obl regarded studio', 'nmod charge garage', 'nsubj house away', 'compound living room', 'root conditions', 'conj bedrooms bathroom', 'amod nice guys', 'ccomp say have', 'advmod female contact', 'parataxis text prefer', 'obj find month', 'obj signing lease', 'nsubj utility package', 'conj water trash', 'nmod eagle center', 'compound summer students', 'nsubj:pass lease signed', 'nsubj apartment floor', 'advmod still available', 'compound garage parking', 'obl living house', 'compound security deposit', 'root apartment', 'amod important consulting', 'compound king size', 'compound apartment bedroom', 'amod hard floor', 'root nice', 'FAILED', 'nmod room house', 'obj hold party', 'compound bus stop', 'obj has bedrooms', 'nsubj bedroom has', 'amod outdoor parking', 'FAILED', 'root parking', 'xcomp going study', 'nsubj is laundry', 'obl going tower', 'root studio', 'nsubj apt good', 'obj contain utility', 'obl go centre', 'amod back deck', 'nsubj:pass fee required', 'obl welcome email', 'FAILED', 'obl:npmod block away', 'compound dining room', 'amod free parking', 'root lease', 'FAILED', 'compound floor plan', 'obj have permit', 'obj got permit', 'root share', 'obl booking need', 'compound area manager', 'obj obtained offer', 'root nice', 'compound att plan', 'obj see flyer', 'FAILED', 'compound profile picture', 'root remain', 'root use', 'FAILED', 'nsubj toilet excuse', 'compound luggage claim', 'compound baggage claim', 'obl is downtown']\n"
     ]
    }
   ],
   "source": [
    "trigrams = ['FAILED'] * len(cs_data)\n",
    "for index, row in cs_data.iterrows():\n",
    "    doc = nlp(str(row['eng_translation']).lower())\n",
    "    #print(doc)\n",
    "    for sent in doc.sentences:\n",
    "        for word in sent.words:\n",
    "            #print(word.text + \" \" + (str(row['first_cs_word_form']).lower()))\n",
    "            if word.text == str(row['first_cs_word_form']).lower():\n",
    "                if word.head==0:\n",
    "                    trigrams[index] = (\"root \" + word.text)\n",
    "                else:\n",
    "                    if word.id < word.head:\n",
    "                        trigrams[index] = (word.deprel + \" \" + word.text + \" \" + sent.words[word.head-1].text)\n",
    "                    else: \n",
    "                        trigrams[index] = (word.deprel + \" \" + sent.words[word.head-1].text + \" \" + word.text)\n",
    "                break\n",
    "                \n",
    "print(trigrams)\n"
   ]
  },
  {
   "cell_type": "code",
   "execution_count": 34,
   "metadata": {},
   "outputs": [
    {
     "name": "stdout",
     "output_type": "stream",
     "text": [
      "1476\n"
     ]
    }
   ],
   "source": [
    "print(len(trigrams))"
   ]
  },
  {
   "cell_type": "code",
   "execution_count": 35,
   "metadata": {},
   "outputs": [
    {
     "name": "stdout",
     "output_type": "stream",
     "text": [
      "121\n"
     ]
    }
   ],
   "source": [
    "print(trigrams.count(\"FAILED\"))"
   ]
  },
  {
   "cell_type": "code",
   "execution_count": 36,
   "metadata": {},
   "outputs": [],
   "source": [
    "textfile = open(\"redone_dep_test.txt\", \"w\")\n",
    "for element in trigrams:\n",
    "    textfile.write(element + \"\\n\")\n",
    "textfile.close()"
   ]
  },
  {
   "cell_type": "code",
   "execution_count": null,
   "metadata": {},
   "outputs": [],
   "source": []
  },
  {
   "cell_type": "code",
   "execution_count": 43,
   "metadata": {},
   "outputs": [
    {
     "name": "stdout",
     "output_type": "stream",
     "text": [
      "obl Suitable couples\n"
     ]
    }
   ],
   "source": [
    "doc = nlp('Suitable for couples or single.')\n",
    "    #print(doc)\n",
    "for sent in doc.sentences:\n",
    "    for word in sent.words:\n",
    "        #print(word.text + \" \" + (str(row['first_cs_word_form']).lower()))\n",
    "        if word.text == 'couples':\n",
    "            if word.head==0:\n",
    "                print(\"root \" + word.text)\n",
    "            else:\n",
    "                if word.id < word.head:\n",
    "                    print(word.deprel + \" \" + word.text + \" \" + sent.words[word.head-1].text)\n",
    "                else: \n",
    "                    print(word.deprel + \" \" + sent.words[word.head-1].text + \" \" + word.text)\n",
    "            break"
   ]
  },
  {
   "cell_type": "code",
   "execution_count": 42,
   "metadata": {},
   "outputs": [
    {
     "name": "stdout",
     "output_type": "stream",
     "text": [
      "compound walkin closet\n"
     ]
    }
   ],
   "source": [
    "doc = nlp('The living room was huge, the walkin closet was huge.')\n",
    "    #print(doc)\n",
    "for sent in doc.sentences:\n",
    "    for word in sent.words:\n",
    "        #print(word.text + \" \" + (str(row['first_cs_word_form']).lower()))\n",
    "        if word.text == 'walkin':\n",
    "            if word.head==0:\n",
    "                print(\"root \" + word.text)\n",
    "            else:\n",
    "                if word.id < word.head:\n",
    "                    print(word.deprel + \" \" + word.text + \" \" + sent.words[word.head-1].text)\n",
    "                else: \n",
    "                    print(word.deprel + \" \" + sent.words[word.head-1].text + \" \" + word.text)\n",
    "            break"
   ]
  },
  {
   "cell_type": "code",
   "execution_count": 44,
   "metadata": {},
   "outputs": [
    {
     "name": "stdout",
     "output_type": "stream",
     "text": [
      "root shared\n"
     ]
    }
   ],
   "source": [
    "doc = nlp('The whole apartment is shared by two people, so it is easier for them to coordinate.')\n",
    "    #print(doc)\n",
    "for sent in doc.sentences:\n",
    "    for word in sent.words:\n",
    "        #print(word.text + \" \" + (str(row['first_cs_word_form']).lower()))\n",
    "        if word.text == 'shared':\n",
    "            if word.head==0:\n",
    "                print(\"root \" + word.text)\n",
    "            else:\n",
    "                if word.id < word.head:\n",
    "                    print(word.deprel + \" \" + word.text + \" \" + sent.words[word.head-1].text)\n",
    "                else: \n",
    "                    print(word.deprel + \" \" + sent.words[word.head-1].text + \" \" + word.text)\n",
    "            break"
   ]
  },
  {
   "cell_type": "code",
   "execution_count": 46,
   "metadata": {},
   "outputs": [
    {
     "name": "stdout",
     "output_type": "stream",
     "text": [
      "nsubj blocks contain\n"
     ]
    }
   ],
   "source": [
    "doc = nlp('The two blocks contain all kinds of food, a bank and a small supermarket.')\n",
    "    #print(doc)\n",
    "for sent in doc.sentences:\n",
    "    for word in sent.words:\n",
    "        #print(word.text + \" \" + (str(row['first_cs_word_form']).lower()))\n",
    "        if word.text == 'blocks':\n",
    "            if word.head==0:\n",
    "                print(\"root \" + word.text)\n",
    "            else:\n",
    "                if word.id < word.head:\n",
    "                    print(word.deprel + \" \" + word.text + \" \" + sent.words[word.head-1].text)\n",
    "                else: \n",
    "                    print(word.deprel + \" \" + sent.words[word.head-1].text + \" \" + word.text)\n",
    "            break"
   ]
  },
  {
   "cell_type": "code",
   "execution_count": 47,
   "metadata": {},
   "outputs": [
    {
     "name": "stdout",
     "output_type": "stream",
     "text": [
      "conj dinner parties\n"
     ]
    }
   ],
   "source": [
    "doc = nlp('There is plenty of room for friends to come for dinner or parties.')\n",
    "    #print(doc)\n",
    "for sent in doc.sentences:\n",
    "    for word in sent.words:\n",
    "        #print(word.text + \" \" + (str(row['first_cs_word_form']).lower()))\n",
    "        if word.text == 'parties':\n",
    "            if word.head==0:\n",
    "                print(\"root \" + word.text)\n",
    "            else:\n",
    "                if word.id < word.head:\n",
    "                    print(word.deprel + \" \" + word.text + \" \" + sent.words[word.head-1].text)\n",
    "                else: \n",
    "                    print(word.deprel + \" \" + sent.words[word.head-1].text + \" \" + word.text)\n",
    "            break"
   ]
  },
  {
   "cell_type": "code",
   "execution_count": 49,
   "metadata": {},
   "outputs": [
    {
     "name": "stdout",
     "output_type": "stream",
     "text": [
      "root email\n"
     ]
    }
   ],
   "source": [
    "doc = nlp('If you need any help, please email us at em@19')\n",
    "    #print(doc)\n",
    "for sent in doc.sentences:\n",
    "    for word in sent.words:\n",
    "        #print(word.text + \" \" + (str(row['first_cs_word_form']).lower()))\n",
    "        if word.text == 'email':\n",
    "            if word.head==0:\n",
    "                print(\"root \" + word.text)\n",
    "            else:\n",
    "                if word.id < word.head:\n",
    "                    print(word.deprel + \" \" + word.text + \" \" + sent.words[word.head-1].text)\n",
    "                else: \n",
    "                    print(word.deprel + \" \" + sent.words[word.head-1].text + \" \" + word.text)\n",
    "            break"
   ]
  },
  {
   "cell_type": "code",
   "execution_count": 51,
   "metadata": {},
   "outputs": [
    {
     "name": "stdout",
     "output_type": "stream",
     "text": [
      "nsubj bars nearby\n"
     ]
    }
   ],
   "source": [
    "doc = nlp('Nearby: bars, restaurants and a small supermarket are nearby.')\n",
    "    #print(doc)\n",
    "for sent in doc.sentences:\n",
    "    for word in sent.words:\n",
    "        #print(word.text + \" \" + (str(row['first_cs_word_form']).lower()))\n",
    "        if word.text == 'bars':\n",
    "            if word.head==0:\n",
    "                print(\"root \" + word.text)\n",
    "            else:\n",
    "                if word.id < word.head:\n",
    "                    print(word.deprel + \" \" + word.text + \" \" + sent.words[word.head-1].text)\n",
    "                else: \n",
    "                    print(word.deprel + \" \" + sent.words[word.head-1].text + \" \" + word.text)\n",
    "            break"
   ]
  },
  {
   "cell_type": "code",
   "execution_count": 52,
   "metadata": {},
   "outputs": [
    {
     "name": "stdout",
     "output_type": "stream",
     "text": [
      "nsubj are houses\n"
     ]
    }
   ],
   "source": [
    "doc = nlp('There are individual houses and individual rooms for rent.')\n",
    "    #print(doc)\n",
    "for sent in doc.sentences:\n",
    "    for word in sent.words:\n",
    "        #print(word.text + \" \" + (str(row['first_cs_word_form']).lower()))\n",
    "        if word.text == 'houses':\n",
    "            if word.head==0:\n",
    "                print(\"root \" + word.text)\n",
    "            else:\n",
    "                if word.id < word.head:\n",
    "                    print(word.deprel + \" \" + word.text + \" \" + sent.words[word.head-1].text)\n",
    "                else: \n",
    "                    print(word.deprel + \" \" + sent.words[word.head-1].text + \" \" + word.text)\n",
    "            break"
   ]
  },
  {
   "cell_type": "code",
   "execution_count": 53,
   "metadata": {},
   "outputs": [
    {
     "name": "stdout",
     "output_type": "stream",
     "text": [
      "nummod 300 month\n"
     ]
    }
   ],
   "source": [
    "doc = nlp('Rental time and rent: 7/31/2016 ~ 6/30/2016, 300 / month.')\n",
    "    #print(doc)\n",
    "for sent in doc.sentences:\n",
    "    for word in sent.words:\n",
    "        #print(word.text + \" \" + (str(row['first_cs_word_form']).lower()))\n",
    "        if word.text == '300':\n",
    "            if word.head==0:\n",
    "                print(\"root \" + word.text)\n",
    "            else:\n",
    "                if word.id < word.head:\n",
    "                    print(word.deprel + \" \" + word.text + \" \" + sent.words[word.head-1].text)\n",
    "                else: \n",
    "                    print(word.deprel + \" \" + sent.words[word.head-1].text + \" \" + word.text)\n",
    "            break"
   ]
  },
  {
   "cell_type": "code",
   "execution_count": 92,
   "metadata": {},
   "outputs": [
    {
     "name": "stdout",
     "output_type": "stream",
     "text": [
      "nsubj are bedrooms\n"
     ]
    }
   ],
   "source": [
    "doc = nlp('There are at least two bedrooms or more.')\n",
    "    #print(doc)\n",
    "for sent in doc.sentences:\n",
    "    for word in sent.words:\n",
    "        #print(word.text + \" \" + (str(row['first_cs_word_form']).lower()))\n",
    "        if word.text == 'bedrooms':\n",
    "            if word.head==0:\n",
    "                print(\"root \" + word.text)\n",
    "            else:\n",
    "                if word.id < word.head:\n",
    "                    print(word.deprel + \" \" + word.text + \" \" + sent.words[word.head-1].text)\n",
    "                else: \n",
    "                    print(word.deprel + \" \" + sent.words[word.head-1].text + \" \" + word.text)\n",
    "            break"
   ]
  },
  {
   "cell_type": "code",
   "execution_count": 93,
   "metadata": {},
   "outputs": [
    {
     "name": "stdout",
     "output_type": "stream",
     "text": [
      "root email\n"
     ]
    }
   ],
   "source": [
    "doc = nlp('Please email em@26 for details')\n",
    "    #print(doc)\n",
    "for sent in doc.sentences:\n",
    "    for word in sent.words:\n",
    "        #print(word.text + \" \" + (str(row['first_cs_word_form']).lower()))\n",
    "        if word.text == 'email':\n",
    "            if word.head==0:\n",
    "                print(\"root \" + word.text)\n",
    "            else:\n",
    "                if word.id < word.head:\n",
    "                    print(word.deprel + \" \" + word.text + \" \" + sent.words[word.head-1].text)\n",
    "                else: \n",
    "                    print(word.deprel + \" \" + sent.words[word.head-1].text + \" \" + word.text)\n",
    "            break"
   ]
  },
  {
   "cell_type": "code",
   "execution_count": 94,
   "metadata": {},
   "outputs": [
    {
     "name": "stdout",
     "output_type": "stream",
     "text": [
      "obj covers utilities\n"
     ]
    }
   ],
   "source": [
    "doc = nlp('The landlord covers all utilities except the net.')\n",
    "    #print(doc)\n",
    "for sent in doc.sentences:\n",
    "    for word in sent.words:\n",
    "        #print(word.text + \" \" + (str(row['first_cs_word_form']).lower()))\n",
    "        if word.text == 'utilities':\n",
    "            if word.head==0:\n",
    "                print(\"root \" + word.text)\n",
    "            else:\n",
    "                if word.id < word.head:\n",
    "                    print(word.deprel + \" \" + word.text + \" \" + sent.words[word.head-1].text)\n",
    "                else: \n",
    "                    print(word.deprel + \" \" + sent.words[word.head-1].text + \" \" + word.text)\n",
    "            break"
   ]
  },
  {
   "cell_type": "code",
   "execution_count": 97,
   "metadata": {},
   "outputs": [
    {
     "name": "stdout",
     "output_type": "stream",
     "text": [
      "amod walkin closet\n"
     ]
    }
   ],
   "source": [
    "doc = nlp('The living room is quiet enough to study, and there\\'s a walkin closet to use.')\n",
    "    #print(doc)\n",
    "for sent in doc.sentences:\n",
    "    for word in sent.words:\n",
    "        #print(word.text + \" \" + (str(row['first_cs_word_form']).lower()))\n",
    "        if word.text == 'walkin':\n",
    "            if word.head==0:\n",
    "                print(\"root \" + word.text)\n",
    "            else:\n",
    "                if word.id < word.head:\n",
    "                    print(word.deprel + \" \" + word.text + \" \" + sent.words[word.head-1].text)\n",
    "                else: \n",
    "                    print(word.deprel + \" \" + sent.words[word.head-1].text + \" \" + word.text)\n",
    "            break"
   ]
  },
  {
   "cell_type": "code",
   "execution_count": 98,
   "metadata": {},
   "outputs": [
    {
     "name": "stdout",
     "output_type": "stream",
     "text": [
      "obl cleaned quarters\n"
     ]
    }
   ],
   "source": [
    "doc = nlp('There is a washing machine in the basement. It can be cleaned within four quarters.')\n",
    "    #print(doc)\n",
    "for sent in doc.sentences:\n",
    "    for word in sent.words:\n",
    "        #print(word.text + \" \" + (str(row['first_cs_word_form']).lower()))\n",
    "        if word.text == 'quarters':\n",
    "            if word.head==0:\n",
    "                print(\"root \" + word.text)\n",
    "            else:\n",
    "                if word.id < word.head:\n",
    "                    print(word.deprel + \" \" + word.text + \" \" + sent.words[word.head-1].text)\n",
    "                else: \n",
    "                    print(word.deprel + \" \" + sent.words[word.head-1].text + \" \" + word.text)\n",
    "            break"
   ]
  },
  {
   "cell_type": "code",
   "execution_count": 99,
   "metadata": {},
   "outputs": [
    {
     "name": "stdout",
     "output_type": "stream",
     "text": [
      "root shared\n"
     ]
    }
   ],
   "source": [
    "doc = nlp('Toilet: The bathroom is shared with a boy who lives in a small bedroom.')\n",
    "    #print(doc)\n",
    "for sent in doc.sentences:\n",
    "    for word in sent.words:\n",
    "        #print(word.text + \" \" + (str(row['first_cs_word_form']).lower()))\n",
    "        if word.text == 'shared':\n",
    "            if word.head==0:\n",
    "                print(\"root \" + word.text)\n",
    "            else:\n",
    "                if word.id < word.head:\n",
    "                    print(word.deprel + \" \" + word.text + \" \" + sent.words[word.head-1].text)\n",
    "                else: \n",
    "                    print(word.deprel + \" \" + sent.words[word.head-1].text + \" \" + word.text)\n",
    "            break"
   ]
  },
  {
   "cell_type": "code",
   "execution_count": 100,
   "metadata": {},
   "outputs": [
    {
     "name": "stdout",
     "output_type": "stream",
     "text": [
      "obj includes sewage\n"
     ]
    }
   ],
   "source": [
    "doc = nlp('The price includes sewage, heavy metal, gas, heating and maintece.')\n",
    "    #print(doc)\n",
    "for sent in doc.sentences:\n",
    "    for word in sent.words:\n",
    "        #print(word.text + \" \" + (str(row['first_cs_word_form']).lower()))\n",
    "        if word.text == 'sewage':\n",
    "            if word.head==0:\n",
    "                print(\"root \" + word.text)\n",
    "            else:\n",
    "                if word.id < word.head:\n",
    "                    print(word.deprel + \" \" + word.text + \" \" + sent.words[word.head-1].text)\n",
    "                else: \n",
    "                    print(word.deprel + \" \" + sent.words[word.head-1].text + \" \" + word.text)\n",
    "            break"
   ]
  },
  {
   "cell_type": "code",
   "execution_count": 101,
   "metadata": {},
   "outputs": [
    {
     "name": "stdout",
     "output_type": "stream",
     "text": [
      "obj get emails\n"
     ]
    }
   ],
   "source": [
    "doc = nlp('I also get emails from scammers.')\n",
    "    #print(doc)\n",
    "for sent in doc.sentences:\n",
    "    for word in sent.words:\n",
    "        #print(word.text + \" \" + (str(row['first_cs_word_form']).lower()))\n",
    "        if word.text == 'emails':\n",
    "            if word.head==0:\n",
    "                print(\"root \" + word.text)\n",
    "            else:\n",
    "                if word.id < word.head:\n",
    "                    print(word.deprel + \" \" + word.text + \" \" + sent.words[word.head-1].text)\n",
    "                else: \n",
    "                    print(word.deprel + \" \" + sent.words[word.head-1].text + \" \" + word.text)\n",
    "            break"
   ]
  },
  {
   "cell_type": "code",
   "execution_count": 102,
   "metadata": {},
   "outputs": [
    {
     "name": "stdout",
     "output_type": "stream",
     "text": [
      "root bedrooms\n"
     ]
    }
   ],
   "source": [
    "doc = nlp('Not necessarily two bedrooms.')\n",
    "    #print(doc)\n",
    "for sent in doc.sentences:\n",
    "    for word in sent.words:\n",
    "        #print(word.text + \" \" + (str(row['first_cs_word_form']).lower()))\n",
    "        if word.text == 'bedrooms':\n",
    "            if word.head==0:\n",
    "                print(\"root \" + word.text)\n",
    "            else:\n",
    "                if word.id < word.head:\n",
    "                    print(word.deprel + \" \" + word.text + \" \" + sent.words[word.head-1].text)\n",
    "                else: \n",
    "                    print(word.deprel + \" \" + sent.words[word.head-1].text + \" \" + word.text)\n",
    "            break"
   ]
  },
  {
   "cell_type": "code",
   "execution_count": 103,
   "metadata": {},
   "outputs": [
    {
     "name": "stdout",
     "output_type": "stream",
     "text": [
      "obl is houses\n"
     ]
    }
   ],
   "source": [
    "doc = nlp('There is no such thing as expensive heating in some houses, but still not warm.')\n",
    "    #print(doc)\n",
    "for sent in doc.sentences:\n",
    "    for word in sent.words:\n",
    "        #print(word.text + \" \" + (str(row['first_cs_word_form']).lower()))\n",
    "        if word.text == 'houses':\n",
    "            if word.head==0:\n",
    "                print(\"root \" + word.text)\n",
    "            else:\n",
    "                if word.id < word.head:\n",
    "                    print(word.deprel + \" \" + word.text + \" \" + sent.words[word.head-1].text)\n",
    "                else: \n",
    "                    print(word.deprel + \" \" + sent.words[word.head-1].text + \" \" + word.text)\n",
    "            break"
   ]
  },
  {
   "cell_type": "code",
   "execution_count": 104,
   "metadata": {},
   "outputs": [
    {
     "name": "stdout",
     "output_type": "stream",
     "text": [
      "det a lady\n"
     ]
    }
   ],
   "source": [
    "doc = nlp('She knows almost every one of the residents in the apartment, a very nice lady.')\n",
    "    #print(doc)\n",
    "for sent in doc.sentences:\n",
    "    for word in sent.words:\n",
    "        #print(word.text + \" \" + (str(row['first_cs_word_form']).lower()))\n",
    "        if word.text == 'a':\n",
    "            if word.head==0:\n",
    "                print(\"root \" + word.text)\n",
    "            else:\n",
    "                if word.id < word.head:\n",
    "                    print(word.deprel + \" \" + word.text + \" \" + sent.words[word.head-1].text)\n",
    "                else: \n",
    "                    print(word.deprel + \" \" + sent.words[word.head-1].text + \" \" + word.text)\n",
    "            break"
   ]
  },
  {
   "cell_type": "code",
   "execution_count": 105,
   "metadata": {},
   "outputs": [
    {
     "name": "stdout",
     "output_type": "stream",
     "text": [
      "advcl responsible managing\n"
     ]
    }
   ],
   "source": [
    "doc = nlp('B: I\\'m very responsible for managing a large property.')\n",
    "    #print(doc)\n",
    "for sent in doc.sentences:\n",
    "    for word in sent.words:\n",
    "        #print(word.text + \" \" + (str(row['first_cs_word_form']).lower()))\n",
    "        if word.text == 'managing':\n",
    "            if word.head==0:\n",
    "                print(\"root \" + word.text)\n",
    "            else:\n",
    "                if word.id < word.head:\n",
    "                    print(word.deprel + \" \" + word.text + \" \" + sent.words[word.head-1].text)\n",
    "                else: \n",
    "                    print(word.deprel + \" \" + sent.words[word.head-1].text + \" \" + word.text)\n",
    "            break"
   ]
  },
  {
   "cell_type": "code",
   "execution_count": 106,
   "metadata": {},
   "outputs": [
    {
     "name": "stdout",
     "output_type": "stream",
     "text": [
      "nsubj:pass blocks inhabited\n"
     ]
    }
   ],
   "source": [
    "doc = nlp('The surrounding blocks are inhabited by traditional Jewish families, who live in a harmonious and secure neighborhood.')\n",
    "    #print(doc)\n",
    "for sent in doc.sentences:\n",
    "    for word in sent.words:\n",
    "        #print(word.text + \" \" + (str(row['first_cs_word_form']).lower()))\n",
    "        if word.text == 'blocks':\n",
    "            if word.head==0:\n",
    "                print(\"root \" + word.text)\n",
    "            else:\n",
    "                if word.id < word.head:\n",
    "                    print(word.deprel + \" \" + word.text + \" \" + sent.words[word.head-1].text)\n",
    "                else: \n",
    "                    print(word.deprel + \" \" + sent.words[word.head-1].text + \" \" + word.text)\n",
    "            break"
   ]
  },
  {
   "cell_type": "code",
   "execution_count": 107,
   "metadata": {},
   "outputs": [
    {
     "name": "stdout",
     "output_type": "stream",
     "text": [
      "amod yearly lease\n"
     ]
    }
   ],
   "source": [
    "doc = nlp('Two bedrooms are currently available for rent, yearly lease preferred. ')\n",
    "    #print(doc)\n",
    "for sent in doc.sentences:\n",
    "    for word in sent.words:\n",
    "        #print(word.text + \" \" + (str(row['first_cs_word_form']).lower()))\n",
    "        if word.text == 'yearly':\n",
    "            if word.head==0:\n",
    "                print(\"root \" + word.text)\n",
    "            else:\n",
    "                if word.id < word.head:\n",
    "                    print(word.deprel + \" \" + word.text + \" \" + sent.words[word.head-1].text)\n",
    "                else: \n",
    "                    print(word.deprel + \" \" + sent.words[word.head-1].text + \" \" + word.text)\n",
    "            break"
   ]
  },
  {
   "cell_type": "code",
   "execution_count": 108,
   "metadata": {},
   "outputs": [
    {
     "name": "stdout",
     "output_type": "stream",
     "text": [
      "obl suitable parties\n"
     ]
    }
   ],
   "source": [
    "doc = nlp('Living room area is quite large, after the table shelf cabinet is still more than enough, suitable for parties. ')\n",
    "    #print(doc)\n",
    "for sent in doc.sentences:\n",
    "    for word in sent.words:\n",
    "        #print(word.text + \" \" + (str(row['first_cs_word_form']).lower()))\n",
    "        if word.text == 'parties':\n",
    "            if word.head==0:\n",
    "                print(\"root \" + word.text)\n",
    "            else:\n",
    "                if word.id < word.head:\n",
    "                    print(word.deprel + \" \" + word.text + \" \" + sent.words[word.head-1].text)\n",
    "                else: \n",
    "                    print(word.deprel + \" \" + sent.words[word.head-1].text + \" \" + word.text)\n",
    "            break"
   ]
  },
  {
   "cell_type": "code",
   "execution_count": 109,
   "metadata": {},
   "outputs": [
    {
     "name": "stdout",
     "output_type": "stream",
     "text": [
      "nmod floor house\n"
     ]
    }
   ],
   "source": [
    "doc = nlp('The first floor of the house is the living room and the kitchen.')\n",
    "    #print(doc)\n",
    "for sent in doc.sentences:\n",
    "    for word in sent.words:\n",
    "        #print(word.text + \" \" + (str(row['first_cs_word_form']).lower()))\n",
    "        if word.text == 'house':\n",
    "            if word.head==0:\n",
    "                print(\"root \" + word.text)\n",
    "            else:\n",
    "                if word.id < word.head:\n",
    "                    print(word.deprel + \" \" + word.text + \" \" + sent.words[word.head-1].text)\n",
    "                else: \n",
    "                    print(word.deprel + \" \" + sent.words[word.head-1].text + \" \" + word.text)\n",
    "            break"
   ]
  },
  {
   "cell_type": "code",
   "execution_count": 110,
   "metadata": {},
   "outputs": [
    {
     "name": "stdout",
     "output_type": "stream",
     "text": [
      "advcl affordable shared\n"
     ]
    }
   ],
   "source": [
    "doc = nlp('The price should be affordable by one person, because it is not shared with others.')\n",
    "    #print(doc)\n",
    "for sent in doc.sentences:\n",
    "    for word in sent.words:\n",
    "        #print(word.text + \" \" + (str(row['first_cs_word_form']).lower()))\n",
    "        if word.text == 'shared':\n",
    "            if word.head==0:\n",
    "                print(\"root \" + word.text)\n",
    "            else:\n",
    "                if word.id < word.head:\n",
    "                    print(word.deprel + \" \" + word.text + \" \" + sent.words[word.head-1].text)\n",
    "                else: \n",
    "                    print(word.deprel + \" \" + sent.words[word.head-1].text + \" \" + word.text)\n",
    "            break"
   ]
  },
  {
   "cell_type": "code",
   "execution_count": 111,
   "metadata": {},
   "outputs": [
    {
     "name": "stdout",
     "output_type": "stream",
     "text": [
      "compound house dryer\n"
     ]
    }
   ],
   "source": [
    "doc = nlp('7. Free use of the house basement dryer.')\n",
    "    #print(doc)\n",
    "for sent in doc.sentences:\n",
    "    for word in sent.words:\n",
    "        #print(word.text + \" \" + (str(row['first_cs_word_form']).lower()))\n",
    "        if word.text == 'house':\n",
    "            if word.head==0:\n",
    "                print(\"root \" + word.text)\n",
    "            else:\n",
    "                if word.id < word.head:\n",
    "                    print(word.deprel + \" \" + word.text + \" \" + sent.words[word.head-1].text)\n",
    "                else: \n",
    "                    print(word.deprel + \" \" + sent.words[word.head-1].text + \" \" + word.text)\n",
    "            break"
   ]
  },
  {
   "cell_type": "code",
   "execution_count": 112,
   "metadata": {},
   "outputs": [
    {
     "name": "stdout",
     "output_type": "stream",
     "text": [
      "nmod savings money\n"
     ]
    }
   ],
   "source": [
    "doc = nlp('The rent is 410/month with water and heating (a big savings of money in winter), and you only need to share electricity and Internet.')\n",
    "    #print(doc)\n",
    "for sent in doc.sentences:\n",
    "    for word in sent.words:\n",
    "        #print(word.text + \" \" + (str(row['first_cs_word_form']).lower()))\n",
    "        if word.text == 'money':\n",
    "            if word.head==0:\n",
    "                print(\"root \" + word.text)\n",
    "            else:\n",
    "                if word.id < word.head:\n",
    "                    print(word.deprel + \" \" + word.text + \" \" + sent.words[word.head-1].text)\n",
    "                else: \n",
    "                    print(word.deprel + \" \" + sent.words[word.head-1].text + \" \" + word.text)\n",
    "            break"
   ]
  },
  {
   "cell_type": "code",
   "execution_count": 113,
   "metadata": {},
   "outputs": [
    {
     "name": "stdout",
     "output_type": "stream",
     "text": [
      "root prefer\n"
     ]
    }
   ],
   "source": [
    "doc = nlp('prefer if you are interested, please contact em@70')\n",
    "    #print(doc)\n",
    "for sent in doc.sentences:\n",
    "    for word in sent.words:\n",
    "        #print(word.text + \" \" + (str(row['first_cs_word_form']).lower()))\n",
    "        if word.text == 'prefer':\n",
    "            if word.head==0:\n",
    "                print(\"root \" + word.text)\n",
    "            else:\n",
    "                if word.id < word.head:\n",
    "                    print(word.deprel + \" \" + word.text + \" \" + sent.words[word.head-1].text)\n",
    "                else: \n",
    "                    print(word.deprel + \" \" + sent.words[word.head-1].text + \" \" + word.text)\n",
    "            break"
   ]
  },
  {
   "cell_type": "code",
   "execution_count": 114,
   "metadata": {},
   "outputs": [
    {
     "name": "stdout",
     "output_type": "stream",
     "text": [
      "nmod Most patterns\n"
     ]
    }
   ],
   "source": [
    "doc = nlp('Most of the patterns are obvious and look like frauds.')\n",
    "    #print(doc)\n",
    "for sent in doc.sentences:\n",
    "    for word in sent.words:\n",
    "        #print(word.text + \" \" + (str(row['first_cs_word_form']).lower()))\n",
    "        if word.text == 'patterns':\n",
    "            if word.head==0:\n",
    "                print(\"root \" + word.text)\n",
    "            else:\n",
    "                if word.id < word.head:\n",
    "                    print(word.deprel + \" \" + word.text + \" \" + sent.words[word.head-1].text)\n",
    "                else: \n",
    "                    print(word.deprel + \" \" + sent.words[word.head-1].text + \" \" + word.text)\n",
    "            break"
   ]
  },
  {
   "cell_type": "code",
   "execution_count": 115,
   "metadata": {},
   "outputs": [
    {
     "name": "stdout",
     "output_type": "stream",
     "text": [
      "root kept\n"
     ]
    }
   ],
   "source": [
    "doc = nlp('The house was kept clean and tidy by the tet, and everyone was quiet. ')\n",
    "    #print(doc)\n",
    "for sent in doc.sentences:\n",
    "    for word in sent.words:\n",
    "        #print(word.text + \" \" + (str(row['first_cs_word_form']).lower()))\n",
    "        if word.text == 'kept':\n",
    "            if word.head==0:\n",
    "                print(\"root \" + word.text)\n",
    "            else:\n",
    "                if word.id < word.head:\n",
    "                    print(word.deprel + \" \" + word.text + \" \" + sent.words[word.head-1].text)\n",
    "                else: \n",
    "                    print(word.deprel + \" \" + sent.words[word.head-1].text + \" \" + word.text)\n",
    "            break"
   ]
  },
  {
   "cell_type": "code",
   "execution_count": 116,
   "metadata": {},
   "outputs": [
    {
     "name": "stdout",
     "output_type": "stream",
     "text": [
      "root price\n"
     ]
    }
   ],
   "source": [
    "doc = nlp('The price: One bedroom, one living room for two is $1,100.')\n",
    "    #print(doc)\n",
    "for sent in doc.sentences:\n",
    "    for word in sent.words:\n",
    "        #print(word.text + \" \" + (str(row['first_cs_word_form']).lower()))\n",
    "        if word.text == 'price':\n",
    "            if word.head==0:\n",
    "                print(\"root \" + word.text)\n",
    "            else:\n",
    "                if word.id < word.head:\n",
    "                    print(word.deprel + \" \" + word.text + \" \" + sent.words[word.head-1].text)\n",
    "                else: \n",
    "                    print(word.deprel + \" \" + sent.words[word.head-1].text + \" \" + word.text)\n",
    "            break"
   ]
  },
  {
   "cell_type": "code",
   "execution_count": 118,
   "metadata": {},
   "outputs": [
    {
     "name": "stdout",
     "output_type": "stream",
     "text": [
      "nsubj Bedrooms available\n"
     ]
    }
   ],
   "source": [
    "doc = nlp('1-3 Bedrooms available.')\n",
    "    #print(doc)\n",
    "for sent in doc.sentences:\n",
    "    for word in sent.words:\n",
    "        #print(word.text + \" \" + (str(row['first_cs_word_form']).lower()))\n",
    "        if word.text.lower() == 'bedrooms':\n",
    "            if word.head==0:\n",
    "                print(\"root \" + word.text)\n",
    "            else:\n",
    "                if word.id < word.head:\n",
    "                    print(word.deprel + \" \" + word.text + \" \" + sent.words[word.head-1].text)\n",
    "                else: \n",
    "                    print(word.deprel + \" \" + sent.words[word.head-1].text + \" \" + word.text)\n",
    "            break"
   ]
  },
  {
   "cell_type": "code",
   "execution_count": 121,
   "metadata": {},
   "outputs": [
    {
     "name": "stdout",
     "output_type": "stream",
     "text": [
      "obj has bedrooms\n"
     ]
    }
   ],
   "source": [
    "doc = nlp('It has two bedrooms (one large, one small). The kitchen and bathroom are both very large.')\n",
    "    #print(doc)\n",
    "for sent in doc.sentences:\n",
    "    for word in sent.words:\n",
    "        #print(word.text + \" \" + (str(row['first_cs_word_form']).lower()))\n",
    "        if word.text.lower() == 'bedrooms':\n",
    "            if word.head==0:\n",
    "                print(\"root \" + word.text)\n",
    "            else:\n",
    "                if word.id < word.head:\n",
    "                    print(word.deprel + \" \" + word.text + \" \" + sent.words[word.head-1].text)\n",
    "                else: \n",
    "                    print(word.deprel + \" \" + sent.words[word.head-1].text + \" \" + word.text)\n",
    "            break"
   ]
  },
  {
   "cell_type": "code",
   "execution_count": 126,
   "metadata": {},
   "outputs": [
    {
     "name": "stdout",
     "output_type": "stream",
     "text": [
      "obj has bedrooms\n"
     ]
    }
   ],
   "source": [
    "doc = nlp('The whole house has two bedrooms, one bathroom, living room and dining room.')\n",
    "    #print(doc)\n",
    "for sent in doc.sentences:\n",
    "    for word in sent.words:\n",
    "        #print(word.text + \" \" + (str(row['first_cs_word_form']).lower()))\n",
    "        if word.text.lower() == 'bedrooms':\n",
    "            if word.head==0:\n",
    "                print(\"root \" + word.text)\n",
    "            else:\n",
    "                if word.id < word.head:\n",
    "                    print(word.deprel + \" \" + word.text + \" \" + sent.words[word.head-1].text)\n",
    "                else: \n",
    "                    print(word.deprel + \" \" + sent.words[word.head-1].text + \" \" + word.text)\n",
    "            break"
   ]
  },
  {
   "cell_type": "code",
   "execution_count": 127,
   "metadata": {},
   "outputs": [
    {
     "name": "stdout",
     "output_type": "stream",
     "text": [
      "nsubj dealers do\n"
     ]
    }
   ],
   "source": [
    "doc = nlp('As it is my first car, I cherish it very much and dealers do regular maintece.')\n",
    "    #print(doc)\n",
    "for sent in doc.sentences:\n",
    "    for word in sent.words:\n",
    "        #print(word.text + \" \" + (str(row['first_cs_word_form']).lower()))\n",
    "        if word.text.lower() == 'dealers':\n",
    "            if word.head==0:\n",
    "                print(\"root \" + word.text)\n",
    "            else:\n",
    "                if word.id < word.head:\n",
    "                    print(word.deprel + \" \" + word.text + \" \" + sent.words[word.head-1].text)\n",
    "                else: \n",
    "                    print(word.deprel + \" \" + sent.words[word.head-1].text + \" \" + word.text)\n",
    "            break"
   ]
  },
  {
   "cell_type": "code",
   "execution_count": 128,
   "metadata": {},
   "outputs": [
    {
     "name": "stdout",
     "output_type": "stream",
     "text": [
      "root iPad\n"
     ]
    }
   ],
   "source": [
    "doc = nlp('Third generation iPad, 32GB RAM, Retina Display.')\n",
    "    #print(doc)\n",
    "for sent in doc.sentences:\n",
    "    for word in sent.words:\n",
    "        #print(word.text + \" \" + (str(row['first_cs_word_form']).lower()))\n",
    "        if word.text.lower() == 'ipad':\n",
    "            if word.head==0:\n",
    "                print(\"root \" + word.text)\n",
    "            else:\n",
    "                if word.id < word.head:\n",
    "                    print(word.deprel + \" \" + word.text + \" \" + sent.words[word.head-1].text)\n",
    "                else: \n",
    "                    print(word.deprel + \" \" + sent.words[word.head-1].text + \" \" + word.text)\n",
    "            break"
   ]
  },
  {
   "cell_type": "code",
   "execution_count": 129,
   "metadata": {},
   "outputs": [
    {
     "name": "stdout",
     "output_type": "stream",
     "text": [
      "obj need heaters\n"
     ]
    }
   ],
   "source": [
    "doc = nlp('Students living in houses need heaters very much in winter.')\n",
    "    #print(doc)\n",
    "for sent in doc.sentences:\n",
    "    for word in sent.words:\n",
    "        #print(word.text + \" \" + (str(row['first_cs_word_form']).lower()))\n",
    "        if word.text.lower() == 'heaters':\n",
    "            if word.head==0:\n",
    "                print(\"root \" + word.text)\n",
    "            else:\n",
    "                if word.id < word.head:\n",
    "                    print(word.deprel + \" \" + word.text + \" \" + sent.words[word.head-1].text)\n",
    "                else: \n",
    "                    print(word.deprel + \" \" + sent.words[word.head-1].text + \" \" + word.text)\n",
    "            break"
   ]
  },
  {
   "cell_type": "code",
   "execution_count": 130,
   "metadata": {},
   "outputs": [
    {
     "name": "stdout",
     "output_type": "stream",
     "text": [
      "root posted\n"
     ]
    }
   ],
   "source": [
    "doc = nlp('I posted here.')\n",
    "    #print(doc)\n",
    "for sent in doc.sentences:\n",
    "    for word in sent.words:\n",
    "        #print(word.text + \" \" + (str(row['first_cs_word_form']).lower()))\n",
    "        if word.text.lower() == 'posted':\n",
    "            if word.head==0:\n",
    "                print(\"root \" + word.text)\n",
    "            else:\n",
    "                if word.id < word.head:\n",
    "                    print(word.deprel + \" \" + word.text + \" \" + sent.words[word.head-1].text)\n",
    "                else: \n",
    "                    print(word.deprel + \" \" + sent.words[word.head-1].text + \" \" + word.text)\n",
    "            break"
   ]
  },
  {
   "cell_type": "code",
   "execution_count": 131,
   "metadata": {},
   "outputs": [
    {
     "name": "stdout",
     "output_type": "stream",
     "text": [
      "root sale\n"
     ]
    }
   ],
   "source": [
    "doc = nlp('Graduation sale')\n",
    "    #print(doc)\n",
    "for sent in doc.sentences:\n",
    "    for word in sent.words:\n",
    "        #print(word.text + \" \" + (str(row['first_cs_word_form']).lower()))\n",
    "        if word.text.lower() == 'sale':\n",
    "            if word.head==0:\n",
    "                print(\"root \" + word.text)\n",
    "            else:\n",
    "                if word.id < word.head:\n",
    "                    print(word.deprel + \" \" + word.text + \" \" + sent.words[word.head-1].text)\n",
    "                else: \n",
    "                    print(word.deprel + \" \" + sent.words[word.head-1].text + \" \" + word.text)\n",
    "            break"
   ]
  },
  {
   "cell_type": "code",
   "execution_count": 132,
   "metadata": {},
   "outputs": [
    {
     "name": "stdout",
     "output_type": "stream",
     "text": [
      "conj broken buggy\n"
     ]
    }
   ],
   "source": [
    "doc = nlp('As long as it\\'s not broken or buggy.')\n",
    "    #print(doc)\n",
    "for sent in doc.sentences:\n",
    "    for word in sent.words:\n",
    "        #print(word.text + \" \" + (str(row['first_cs_word_form']).lower()))\n",
    "        if word.text.lower() == 'buggy':\n",
    "            if word.head==0:\n",
    "                print(\"root \" + word.text)\n",
    "            else:\n",
    "                if word.id < word.head:\n",
    "                    print(word.deprel + \" \" + word.text + \" \" + sent.words[word.head-1].text)\n",
    "                else: \n",
    "                    print(word.deprel + \" \" + sent.words[word.head-1].text + \" \" + word.text)\n",
    "            break"
   ]
  },
  {
   "cell_type": "code",
   "execution_count": 133,
   "metadata": {},
   "outputs": [
    {
     "name": "stdout",
     "output_type": "stream",
     "text": [
      "root park\n"
     ]
    }
   ],
   "source": [
    "doc = nlp('You can park at the door. It\\'s super convenient')\n",
    "    #print(doc)\n",
    "for sent in doc.sentences:\n",
    "    for word in sent.words:\n",
    "        #print(word.text + \" \" + (str(row['first_cs_word_form']).lower()))\n",
    "        if word.text.lower() == 'park':\n",
    "            if word.head==0:\n",
    "                print(\"root \" + word.text)\n",
    "            else:\n",
    "                if word.id < word.head:\n",
    "                    print(word.deprel + \" \" + word.text + \" \" + sent.words[word.head-1].text)\n",
    "                else: \n",
    "                    print(word.deprel + \" \" + sent.words[word.head-1].text + \" \" + word.text)\n",
    "            break"
   ]
  },
  {
   "cell_type": "code",
   "execution_count": 134,
   "metadata": {},
   "outputs": [
    {
     "name": "stdout",
     "output_type": "stream",
     "text": [
      "amod Gated Apt\n"
     ]
    }
   ],
   "source": [
    "doc = nlp('Super Security: Gated Apt!')\n",
    "    #print(doc)\n",
    "for sent in doc.sentences:\n",
    "    for word in sent.words:\n",
    "        #print(word.text + \" \" + (str(row['first_cs_word_form']).lower()))\n",
    "        if word.text.lower() == 'gated':\n",
    "            if word.head==0:\n",
    "                print(\"root \" + word.text)\n",
    "            else:\n",
    "                if word.id < word.head:\n",
    "                    print(word.deprel + \" \" + word.text + \" \" + sent.words[word.head-1].text)\n",
    "                else: \n",
    "                    print(word.deprel + \" \" + sent.words[word.head-1].text + \" \" + word.text)\n",
    "            break"
   ]
  },
  {
   "cell_type": "code",
   "execution_count": 135,
   "metadata": {},
   "outputs": [
    {
     "name": "stdout",
     "output_type": "stream",
     "text": [
      "nsubj are paperwork\n"
     ]
    }
   ],
   "source": [
    "doc = nlp('There are also some paperwork that needs to be processed in advance.')\n",
    "    #print(doc)\n",
    "for sent in doc.sentences:\n",
    "    for word in sent.words:\n",
    "        #print(word.text + \" \" + (str(row['first_cs_word_form']).lower()))\n",
    "        if word.text.lower() == 'paperwork':\n",
    "            if word.head==0:\n",
    "                print(\"root \" + word.text)\n",
    "            else:\n",
    "                if word.id < word.head:\n",
    "                    print(word.deprel + \" \" + word.text + \" \" + sent.words[word.head-1].text)\n",
    "                else: \n",
    "                    print(word.deprel + \" \" + sent.words[word.head-1].text + \" \" + word.text)\n",
    "            break"
   ]
  },
  {
   "cell_type": "code",
   "execution_count": 138,
   "metadata": {},
   "outputs": [
    {
     "name": "stdout",
     "output_type": "stream",
     "text": [
      "parataxis bedrooms PhDs\n"
     ]
    }
   ],
   "source": [
    "doc = nlp('At least two bedrooms (one man and one woman are both PhDs), or the whole house.')\n",
    "    #print(doc)\n",
    "for sent in doc.sentences:\n",
    "    for word in sent.words:\n",
    "        #print(word.text + \" \" + (str(row['first_cs_word_form']).lower()))\n",
    "        if word.text.lower() == 'phds':\n",
    "            if word.head==0:\n",
    "                print(\"root \" + word.text)\n",
    "            else:\n",
    "                if word.id < word.head:\n",
    "                    print(word.deprel + \" \" + word.text + \" \" + sent.words[word.head-1].text)\n",
    "                else: \n",
    "                    print(word.deprel + \" \" + sent.words[word.head-1].text + \" \" + word.text)\n",
    "            break"
   ]
  },
  {
   "cell_type": "code",
   "execution_count": 139,
   "metadata": {},
   "outputs": [
    {
     "name": "stdout",
     "output_type": "stream",
     "text": [
      "root Update\n"
     ]
    }
   ],
   "source": [
    "doc = nlp('[ Update ] The room is still there')\n",
    "    #print(doc)\n",
    "for sent in doc.sentences:\n",
    "    for word in sent.words:\n",
    "        #print(word.text + \" \" + (str(row['first_cs_word_form']).lower()))\n",
    "        if word.text.lower() == 'update':\n",
    "            if word.head==0:\n",
    "                print(\"root \" + word.text)\n",
    "            else:\n",
    "                if word.id < word.head:\n",
    "                    print(word.deprel + \" \" + word.text + \" \" + sent.words[word.head-1].text)\n",
    "                else: \n",
    "                    print(word.deprel + \" \" + sent.words[word.head-1].text + \" \" + word.text)\n",
    "            break"
   ]
  },
  {
   "cell_type": "code",
   "execution_count": 140,
   "metadata": {},
   "outputs": [
    {
     "name": "stdout",
     "output_type": "stream",
     "text": [
      "obl play field\n"
     ]
    }
   ],
   "source": [
    "doc = nlp('You can play on the field in your spare time.')\n",
    "    #print(doc)\n",
    "for sent in doc.sentences:\n",
    "    for word in sent.words:\n",
    "        #print(word.text + \" \" + (str(row['first_cs_word_form']).lower()))\n",
    "        if word.text.lower() == 'field':\n",
    "            if word.head==0:\n",
    "                print(\"root \" + word.text)\n",
    "            else:\n",
    "                if word.id < word.head:\n",
    "                    print(word.deprel + \" \" + word.text + \" \" + sent.words[word.head-1].text)\n",
    "                else: \n",
    "                    print(word.deprel + \" \" + sent.words[word.head-1].text + \" \" + word.text)\n",
    "            break"
   ]
  },
  {
   "cell_type": "code",
   "execution_count": 141,
   "metadata": {},
   "outputs": [
    {
     "name": "stdout",
     "output_type": "stream",
     "text": [
      "conj snacks parties\n"
     ]
    }
   ],
   "source": [
    "doc = nlp('There are often activities in the community, such as free snacks, drinks, parties and so on.')\n",
    "    #print(doc)\n",
    "for sent in doc.sentences:\n",
    "    for word in sent.words:\n",
    "        #print(word.text + \" \" + (str(row['first_cs_word_form']).lower()))\n",
    "        if word.text.lower() == 'parties':\n",
    "            if word.head==0:\n",
    "                print(\"root \" + word.text)\n",
    "            else:\n",
    "                if word.id < word.head:\n",
    "                    print(word.deprel + \" \" + word.text + \" \" + sent.words[word.head-1].text)\n",
    "                else: \n",
    "                    print(word.deprel + \" \" + sent.words[word.head-1].text + \" \" + word.text)\n",
    "            break"
   ]
  },
  {
   "cell_type": "code",
   "execution_count": 142,
   "metadata": {},
   "outputs": [
    {
     "name": "stdout",
     "output_type": "stream",
     "text": [
      "root PhDs\n"
     ]
    }
   ],
   "source": [
    "doc = nlp('Both friends are PhDs, quiet and no party.')\n",
    "    #print(doc)\n",
    "for sent in doc.sentences:\n",
    "    for word in sent.words:\n",
    "        #print(word.text + \" \" + (str(row['first_cs_word_form']).lower()))\n",
    "        if word.text.lower() == 'phds':\n",
    "            if word.head==0:\n",
    "                print(\"root \" + word.text)\n",
    "            else:\n",
    "                if word.id < word.head:\n",
    "                    print(word.deprel + \" \" + word.text + \" \" + sent.words[word.head-1].text)\n",
    "                else: \n",
    "                    print(word.deprel + \" \" + sent.words[word.head-1].text + \" \" + word.text)\n",
    "            break"
   ]
  },
  {
   "cell_type": "code",
   "execution_count": 143,
   "metadata": {},
   "outputs": [
    {
     "name": "stdout",
     "output_type": "stream",
     "text": [
      "nmod process agents\n"
     ]
    }
   ],
   "source": [
    "doc = nlp('State Farm has a different process for recruiting agents than many companies.')\n",
    "    #print(doc)\n",
    "for sent in doc.sentences:\n",
    "    for word in sent.words:\n",
    "        #print(word.text + \" \" + (str(row['first_cs_word_form']).lower()))\n",
    "        if word.text.lower() == 'agents':\n",
    "            if word.head==0:\n",
    "                print(\"root \" + word.text)\n",
    "            else:\n",
    "                if word.id < word.head:\n",
    "                    print(word.deprel + \" \" + word.text + \" \" + sent.words[word.head-1].text)\n",
    "                else: \n",
    "                    print(word.deprel + \" \" + sent.words[word.head-1].text + \" \" + word.text)\n",
    "            break"
   ]
  },
  {
   "cell_type": "code",
   "execution_count": 144,
   "metadata": {},
   "outputs": [
    {
     "name": "stdout",
     "output_type": "stream",
     "text": [
      "obj provides visitors\n"
     ]
    }
   ],
   "source": [
    "doc = nlp('The community provides visitors')\n",
    "    #print(doc)\n",
    "for sent in doc.sentences:\n",
    "    for word in sent.words:\n",
    "        #print(word.text + \" \" + (str(row['first_cs_word_form']).lower()))\n",
    "        if word.text.lower() == 'visitors':\n",
    "            if word.head==0:\n",
    "                print(\"root \" + word.text)\n",
    "            else:\n",
    "                if word.id < word.head:\n",
    "                    print(word.deprel + \" \" + word.text + \" \" + sent.words[word.head-1].text)\n",
    "                else: \n",
    "                    print(word.deprel + \" \" + sent.words[word.head-1].text + \" \" + word.text)\n",
    "            break"
   ]
  },
  {
   "cell_type": "code",
   "execution_count": 145,
   "metadata": {},
   "outputs": [
    {
     "name": "stdout",
     "output_type": "stream",
     "text": [
      "nsubj Rides available\n"
     ]
    }
   ],
   "source": [
    "doc = nlp('Rides to both places are available.')\n",
    "    #print(doc)\n",
    "for sent in doc.sentences:\n",
    "    for word in sent.words:\n",
    "        #print(word.text + \" \" + (str(row['first_cs_word_form']).lower()))\n",
    "        if word.text.lower() == 'rides':\n",
    "            if word.head==0:\n",
    "                print(\"root \" + word.text)\n",
    "            else:\n",
    "                if word.id < word.head:\n",
    "                    print(word.deprel + \" \" + word.text + \" \" + sent.words[word.head-1].text)\n",
    "                else: \n",
    "                    print(word.deprel + \" \" + sent.words[word.head-1].text + \" \" + word.text)\n",
    "            break"
   ]
  },
  {
   "cell_type": "code",
   "execution_count": 146,
   "metadata": {},
   "outputs": [
    {
     "name": "stdout",
     "output_type": "stream",
     "text": [
      "amod intermittent problem\n"
     ]
    }
   ],
   "source": [
    "doc = nlp('The car is a intermittent problem now.')\n",
    "    #print(doc)\n",
    "for sent in doc.sentences:\n",
    "    for word in sent.words:\n",
    "        #print(word.text + \" \" + (str(row['first_cs_word_form']).lower()))\n",
    "        if word.text.lower() == 'intermittent':\n",
    "            if word.head==0:\n",
    "                print(\"root \" + word.text)\n",
    "            else:\n",
    "                if word.id < word.head:\n",
    "                    print(word.deprel + \" \" + word.text + \" \" + sent.words[word.head-1].text)\n",
    "                else: \n",
    "                    print(word.deprel + \" \" + sent.words[word.head-1].text + \" \" + word.text)\n",
    "            break"
   ]
  },
  {
   "cell_type": "code",
   "execution_count": 147,
   "metadata": {},
   "outputs": [
    {
     "name": "stdout",
     "output_type": "stream",
     "text": [
      "nsubj:pass lease accepted\n"
     ]
    }
   ],
   "source": [
    "doc = nlp('No other lease will be accepted.')\n",
    "    #print(doc)\n",
    "for sent in doc.sentences:\n",
    "    for word in sent.words:\n",
    "        #print(word.text + \" \" + (str(row['first_cs_word_form']).lower()))\n",
    "        if word.text.lower() == 'lease':\n",
    "            if word.head==0:\n",
    "                print(\"root \" + word.text)\n",
    "            else:\n",
    "                if word.id < word.head:\n",
    "                    print(word.deprel + \" \" + word.text + \" \" + sent.words[word.head-1].text)\n",
    "                else: \n",
    "                    print(word.deprel + \" \" + sent.words[word.head-1].text + \" \" + word.text)\n",
    "            break"
   ]
  },
  {
   "cell_type": "code",
   "execution_count": 148,
   "metadata": {},
   "outputs": [
    {
     "name": "stdout",
     "output_type": "stream",
     "text": [
      "root Miles\n"
     ]
    }
   ],
   "source": [
    "doc = nlp('Miles: about 60,000 miles.')\n",
    "    #print(doc)\n",
    "for sent in doc.sentences:\n",
    "    for word in sent.words:\n",
    "        #print(word.text + \" \" + (str(row['first_cs_word_form']).lower()))\n",
    "        if word.text.lower() == 'miles':\n",
    "            if word.head==0:\n",
    "                print(\"root \" + word.text)\n",
    "            else:\n",
    "                if word.id < word.head:\n",
    "                    print(word.deprel + \" \" + word.text + \" \" + sent.words[word.head-1].text)\n",
    "                else: \n",
    "                    print(word.deprel + \" \" + sent.words[word.head-1].text + \" \" + word.text)\n",
    "            break"
   ]
  },
  {
   "cell_type": "code",
   "execution_count": 149,
   "metadata": {},
   "outputs": [
    {
     "name": "stdout",
     "output_type": "stream",
     "text": [
      "obj fill waiver\n"
     ]
    }
   ],
   "source": [
    "doc = nlp('Does it bother you to fill in the waiver again?')\n",
    "    #print(doc)\n",
    "for sent in doc.sentences:\n",
    "    for word in sent.words:\n",
    "        #print(word.text + \" \" + (str(row['first_cs_word_form']).lower()))\n",
    "        if word.text.lower() == 'waiver':\n",
    "            if word.head==0:\n",
    "                print(\"root \" + word.text)\n",
    "            else:\n",
    "                if word.id < word.head:\n",
    "                    print(word.deprel + \" \" + word.text + \" \" + sent.words[word.head-1].text)\n",
    "                else: \n",
    "                    print(word.deprel + \" \" + sent.words[word.head-1].text + \" \" + word.text)\n",
    "            break"
   ]
  },
  {
   "cell_type": "code",
   "execution_count": 150,
   "metadata": {},
   "outputs": [
    {
     "name": "stdout",
     "output_type": "stream",
     "text": [
      "nmod one bedrooms\n"
     ]
    }
   ],
   "source": [
    "doc = nlp('The room for rent is one of two bedrooms on the second floor.')\n",
    "    #print(doc)\n",
    "for sent in doc.sentences:\n",
    "    for word in sent.words:\n",
    "        #print(word.text + \" \" + (str(row['first_cs_word_form']).lower()))\n",
    "        if word.text.lower() == 'bedrooms':\n",
    "            if word.head==0:\n",
    "                print(\"root \" + word.text)\n",
    "            else:\n",
    "                if word.id < word.head:\n",
    "                    print(word.deprel + \" \" + word.text + \" \" + sent.words[word.head-1].text)\n",
    "                else: \n",
    "                    print(word.deprel + \" \" + sent.words[word.head-1].text + \" \" + word.text)\n",
    "            break"
   ]
  },
  {
   "cell_type": "code",
   "execution_count": 152,
   "metadata": {},
   "outputs": [
    {
     "name": "stdout",
     "output_type": "stream",
     "text": [
      "nsubj:pass requests completed\n"
     ]
    }
   ],
   "source": [
    "doc = nlp('The community has its own resident website, all requests can be completed online, or by phone.')\n",
    "    #print(doc)\n",
    "for sent in doc.sentences:\n",
    "    for word in sent.words:\n",
    "        #print(word.text + \" \" + (str(row['first_cs_word_form']).lower()))\n",
    "        if word.text.lower() == 'requests':\n",
    "            if word.head==0:\n",
    "                print(\"root \" + word.text)\n",
    "            else:\n",
    "                if word.id < word.head:\n",
    "                    print(word.deprel + \" \" + word.text + \" \" + sent.words[word.head-1].text)\n",
    "                else: \n",
    "                    print(word.deprel + \" \" + sent.words[word.head-1].text + \" \" + word.text)\n",
    "            break"
   ]
  },
  {
   "cell_type": "code",
   "execution_count": 153,
   "metadata": {},
   "outputs": [
    {
     "name": "stdout",
     "output_type": "stream",
     "text": [
      "parataxis pets parties\n"
     ]
    }
   ],
   "source": [
    "doc = nlp('No pets, no parties')\n",
    "    #print(doc)\n",
    "for sent in doc.sentences:\n",
    "    for word in sent.words:\n",
    "        #print(word.text + \" \" + (str(row['first_cs_word_form']).lower()))\n",
    "        if word.text.lower() == 'parties':\n",
    "            if word.head==0:\n",
    "                print(\"root \" + word.text)\n",
    "            else:\n",
    "                if word.id < word.head:\n",
    "                    print(word.deprel + \" \" + word.text + \" \" + sent.words[word.head-1].text)\n",
    "                else: \n",
    "                    print(word.deprel + \" \" + sent.words[word.head-1].text + \" \" + word.text)\n",
    "            break"
   ]
  },
  {
   "cell_type": "code",
   "execution_count": 154,
   "metadata": {},
   "outputs": [
    {
     "name": "stdout",
     "output_type": "stream",
     "text": [
      "root email\n"
     ]
    }
   ],
   "source": [
    "doc = nlp('You can email us at em@28')\n",
    "    #print(doc)\n",
    "for sent in doc.sentences:\n",
    "    for word in sent.words:\n",
    "        #print(word.text + \" \" + (str(row['first_cs_word_form']).lower()))\n",
    "        if word.text.lower() == 'email':\n",
    "            if word.head==0:\n",
    "                print(\"root \" + word.text)\n",
    "            else:\n",
    "                if word.id < word.head:\n",
    "                    print(word.deprel + \" \" + word.text + \" \" + sent.words[word.head-1].text)\n",
    "                else: \n",
    "                    print(word.deprel + \" \" + sent.words[word.head-1].text + \" \" + word.text)\n",
    "            break"
   ]
  },
  {
   "cell_type": "code",
   "execution_count": 155,
   "metadata": {},
   "outputs": [
    {
     "name": "stdout",
     "output_type": "stream",
     "text": [
      "compound min walk\n"
     ]
    }
   ],
   "source": [
    "doc = nlp('15-18 min walk to the school, then take the campus loop can easily reach any part of the campus.')\n",
    "    #print(doc)\n",
    "for sent in doc.sentences:\n",
    "    for word in sent.words:\n",
    "        #print(word.text + \" \" + (str(row['first_cs_word_form']).lower()))\n",
    "        if word.text.lower() == 'min':\n",
    "            if word.head==0:\n",
    "                print(\"root \" + word.text)\n",
    "            else:\n",
    "                if word.id < word.head:\n",
    "                    print(word.deprel + \" \" + word.text + \" \" + sent.words[word.head-1].text)\n",
    "                else: \n",
    "                    print(word.deprel + \" \" + sent.words[word.head-1].text + \" \" + word.text)\n",
    "            break"
   ]
  },
  {
   "cell_type": "code",
   "execution_count": 156,
   "metadata": {},
   "outputs": [
    {
     "name": "stdout",
     "output_type": "stream",
     "text": [
      "obj book rides\n"
     ]
    }
   ],
   "source": [
    "doc = nlp('You can book summer airport rides')\n",
    "    #print(doc)\n",
    "for sent in doc.sentences:\n",
    "    for word in sent.words:\n",
    "        #print(word.text + \" \" + (str(row['first_cs_word_form']).lower()))\n",
    "        if word.text.lower() == 'rides':\n",
    "            if word.head==0:\n",
    "                print(\"root \" + word.text)\n",
    "            else:\n",
    "                if word.id < word.head:\n",
    "                    print(word.deprel + \" \" + word.text + \" \" + sent.words[word.head-1].text)\n",
    "                else: \n",
    "                    print(word.deprel + \" \" + sent.words[word.head-1].text + \" \" + word.text)\n",
    "            break"
   ]
  },
  {
   "cell_type": "code",
   "execution_count": 157,
   "metadata": {},
   "outputs": [
    {
     "name": "stdout",
     "output_type": "stream",
     "text": [
      "amod shared bathroom\n"
     ]
    }
   ],
   "source": [
    "doc = nlp('There is a shared bathroom on the second floor.')\n",
    "    #print(doc)\n",
    "for sent in doc.sentences:\n",
    "    for word in sent.words:\n",
    "        #print(word.text + \" \" + (str(row['first_cs_word_form']).lower()))\n",
    "        if word.text.lower() == 'shared':\n",
    "            if word.head==0:\n",
    "                print(\"root \" + word.text)\n",
    "            else:\n",
    "                if word.id < word.head:\n",
    "                    print(word.deprel + \" \" + word.text + \" \" + sent.words[word.head-1].text)\n",
    "                else: \n",
    "                    print(word.deprel + \" \" + sent.words[word.head-1].text + \" \" + word.text)\n",
    "            break"
   ]
  },
  {
   "cell_type": "code",
   "execution_count": 158,
   "metadata": {},
   "outputs": [
    {
     "name": "stdout",
     "output_type": "stream",
     "text": [
      "conj bathroom house\n"
     ]
    }
   ],
   "source": [
    "doc = nlp('There is a bathroom above and below the house on two floors.')\n",
    "    #print(doc)\n",
    "for sent in doc.sentences:\n",
    "    for word in sent.words:\n",
    "        #print(word.text + \" \" + (str(row['first_cs_word_form']).lower()))\n",
    "        if word.text.lower() == 'house':\n",
    "            if word.head==0:\n",
    "                print(\"root \" + word.text)\n",
    "            else:\n",
    "                if word.id < word.head:\n",
    "                    print(word.deprel + \" \" + word.text + \" \" + sent.words[word.head-1].text)\n",
    "                else: \n",
    "                    print(word.deprel + \" \" + sent.words[word.head-1].text + \" \" + word.text)\n",
    "            break"
   ]
  },
  {
   "cell_type": "code",
   "execution_count": 159,
   "metadata": {},
   "outputs": [
    {
     "name": "stdout",
     "output_type": "stream",
     "text": [
      "compound meal plan\n"
     ]
    }
   ],
   "source": [
    "doc = nlp('I\\'m going home soon. I\\'ll transfer my meal plan for ten times.')\n",
    "    #print(doc)\n",
    "for sent in doc.sentences:\n",
    "    for word in sent.words:\n",
    "        #print(word.text + \" \" + (str(row['first_cs_word_form']).lower()))\n",
    "        if word.text.lower() == 'meal':\n",
    "            if word.head==0:\n",
    "                print(\"root \" + word.text)\n",
    "            else:\n",
    "                if word.id < word.head:\n",
    "                    print(word.deprel + \" \" + word.text + \" \" + sent.words[word.head-1].text)\n",
    "                else: \n",
    "                    print(word.deprel + \" \" + sent.words[word.head-1].text + \" \" + word.text)\n",
    "            break"
   ]
  },
  {
   "cell_type": "code",
   "execution_count": 160,
   "metadata": {},
   "outputs": [
    {
     "name": "stdout",
     "output_type": "stream",
     "text": [
      "obl covered utilities\n"
     ]
    }
   ],
   "source": [
    "doc = nlp('Rent is covered by all utilities')\n",
    "    #print(doc)\n",
    "for sent in doc.sentences:\n",
    "    for word in sent.words:\n",
    "        #print(word.text + \" \" + (str(row['first_cs_word_form']).lower()))\n",
    "        if word.text.lower() == 'utilities':\n",
    "            if word.head==0:\n",
    "                print(\"root \" + word.text)\n",
    "            else:\n",
    "                if word.id < word.head:\n",
    "                    print(word.deprel + \" \" + word.text + \" \" + sent.words[word.head-1].text)\n",
    "                else: \n",
    "                    print(word.deprel + \" \" + sent.words[word.head-1].text + \" \" + word.text)\n",
    "            break"
   ]
  },
  {
   "cell_type": "code",
   "execution_count": 161,
   "metadata": {},
   "outputs": [
    {
     "name": "stdout",
     "output_type": "stream",
     "text": [
      "amod kitchen shareable\n"
     ]
    }
   ],
   "source": [
    "doc = nlp('With kitchen and bathroom (shareable), with refrigerator.')\n",
    "    #print(doc)\n",
    "for sent in doc.sentences:\n",
    "    for word in sent.words:\n",
    "        #print(word.text + \" \" + (str(row['first_cs_word_form']).lower()))\n",
    "        if word.text.lower() == 'shareable':\n",
    "            if word.head==0:\n",
    "                print(\"root \" + word.text)\n",
    "            else:\n",
    "                if word.id < word.head:\n",
    "                    print(word.deprel + \" \" + word.text + \" \" + sent.words[word.head-1].text)\n",
    "                else: \n",
    "                    print(word.deprel + \" \" + sent.words[word.head-1].text + \" \" + word.text)\n",
    "            break"
   ]
  },
  {
   "cell_type": "code",
   "execution_count": 162,
   "metadata": {},
   "outputs": [
    {
     "name": "stdout",
     "output_type": "stream",
     "text": [
      "root delivered\n"
     ]
    }
   ],
   "source": [
    "doc = nlp('Can\\'t your mail be delivered?')\n",
    "    #print(doc)\n",
    "for sent in doc.sentences:\n",
    "    for word in sent.words:\n",
    "        #print(word.text + \" \" + (str(row['first_cs_word_form']).lower()))\n",
    "        if word.text.lower() == 'delivered':\n",
    "            if word.head==0:\n",
    "                print(\"root \" + word.text)\n",
    "            else:\n",
    "                if word.id < word.head:\n",
    "                    print(word.deprel + \" \" + word.text + \" \" + sent.words[word.head-1].text)\n",
    "                else: \n",
    "                    print(word.deprel + \" \" + sent.words[word.head-1].text + \" \" + word.text)\n",
    "            break"
   ]
  },
  {
   "cell_type": "code",
   "execution_count": 165,
   "metadata": {},
   "outputs": [
    {
     "name": "stdout",
     "output_type": "stream",
     "text": [
      "obj have parties\n"
     ]
    }
   ],
   "source": [
    "doc = nlp('Usually quiet, do not have parties, most of the time in the lab.')\n",
    "    #print(doc)\n",
    "for sent in doc.sentences:\n",
    "    for word in sent.words:\n",
    "        #print(word.text + \" \" + (str(row['first_cs_word_form']).lower()))\n",
    "        if word.text.lower() == 'parties':\n",
    "            if word.head==0:\n",
    "                print(\"root \" + word.text)\n",
    "            else:\n",
    "                if word.id < word.head:\n",
    "                    print(word.deprel + \" \" + word.text + \" \" + sent.words[word.head-1].text)\n",
    "                else: \n",
    "                    print(word.deprel + \" \" + sent.words[word.head-1].text + \" \" + word.text)\n",
    "            break"
   ]
  },
  {
   "cell_type": "code",
   "execution_count": 166,
   "metadata": {},
   "outputs": [
    {
     "name": "stdout",
     "output_type": "stream",
     "text": [
      "obl talked professor\n"
     ]
    }
   ],
   "source": [
    "doc = nlp('I haven\\'t talked to the professor about the project or funding yet.')\n",
    "    #print(doc)\n",
    "for sent in doc.sentences:\n",
    "    for word in sent.words:\n",
    "        #print(word.text + \" \" + (str(row['first_cs_word_form']).lower()))\n",
    "        if word.text.lower() == 'professor':\n",
    "            if word.head==0:\n",
    "                print(\"root \" + word.text)\n",
    "            else:\n",
    "                if word.id < word.head:\n",
    "                    print(word.deprel + \" \" + word.text + \" \" + sent.words[word.head-1].text)\n",
    "                else: \n",
    "                    print(word.deprel + \" \" + sent.words[word.head-1].text + \" \" + word.text)\n",
    "            break"
   ]
  },
  {
   "cell_type": "code",
   "execution_count": 167,
   "metadata": {},
   "outputs": [
    {
     "name": "stdout",
     "output_type": "stream",
     "text": [
      "nsubj are PhDs\n"
     ]
    }
   ],
   "source": [
    "doc = nlp('Now there are two PhDs living there.')\n",
    "    #print(doc)\n",
    "for sent in doc.sentences:\n",
    "    for word in sent.words:\n",
    "        #print(word.text + \" \" + (str(row['first_cs_word_form']).lower()))\n",
    "        if word.text.lower() == 'phds':\n",
    "            if word.head==0:\n",
    "                print(\"root \" + word.text)\n",
    "            else:\n",
    "                if word.id < word.head:\n",
    "                    print(word.deprel + \" \" + word.text + \" \" + sent.words[word.head-1].text)\n",
    "                else: \n",
    "                    print(word.deprel + \" \" + sent.words[word.head-1].text + \" \" + word.text)\n",
    "            break"
   ]
  },
  {
   "cell_type": "code",
   "execution_count": 168,
   "metadata": {},
   "outputs": [
    {
     "name": "stdout",
     "output_type": "stream",
     "text": [
      "nsubj Learners permit\n"
     ]
    }
   ],
   "source": [
    "doc = nlp('Learners permit, certificate of registration A: I have a driver\\'s license, and I have a driver\\'s license.')\n",
    "    #print(doc)\n",
    "for sent in doc.sentences:\n",
    "    for word in sent.words:\n",
    "        #print(word.text + \" \" + (str(row['first_cs_word_form']).lower()))\n",
    "        if word.text.lower() == 'learners':\n",
    "            if word.head==0:\n",
    "                print(\"root \" + word.text)\n",
    "            else:\n",
    "                if word.id < word.head:\n",
    "                    print(word.deprel + \" \" + word.text + \" \" + sent.words[word.head-1].text)\n",
    "                else: \n",
    "                    print(word.deprel + \" \" + sent.words[word.head-1].text + \" \" + word.text)\n",
    "            break"
   ]
  },
  {
   "cell_type": "code",
   "execution_count": 170,
   "metadata": {},
   "outputs": [
    {
     "name": "stdout",
     "output_type": "stream",
     "text": [
      "nsubj I Player\n"
     ]
    }
   ],
   "source": [
    "doc = nlp('Yes, I am a Student Team Player!')\n",
    "    #print(doc)\n",
    "for sent in doc.sentences:\n",
    "    for word in sent.words:\n",
    "        #print(word.text + \" \" + (str(row['first_cs_word_form']).lower()))\n",
    "        if word.text.lower() == 'i':\n",
    "            if word.head==0:\n",
    "                print(\"root \" + word.text)\n",
    "            else:\n",
    "                if word.id < word.head:\n",
    "                    print(word.deprel + \" \" + word.text + \" \" + sent.words[word.head-1].text)\n",
    "                else: \n",
    "                    print(word.deprel + \" \" + sent.words[word.head-1].text + \" \" + word.text)\n",
    "            break"
   ]
  },
  {
   "cell_type": "code",
   "execution_count": 171,
   "metadata": {},
   "outputs": [
    {
     "name": "stdout",
     "output_type": "stream",
     "text": [
      "nsubj:pass utilities included\n"
     ]
    }
   ],
   "source": [
    "doc = nlp('Other utilities are also included, not to mention the Sewer.')\n",
    "    #print(doc)\n",
    "for sent in doc.sentences:\n",
    "    for word in sent.words:\n",
    "        #print(word.text + \" \" + (str(row['first_cs_word_form']).lower()))\n",
    "        if word.text.lower() == 'utilities':\n",
    "            if word.head==0:\n",
    "                print(\"root \" + word.text)\n",
    "            else:\n",
    "                if word.id < word.head:\n",
    "                    print(word.deprel + \" \" + word.text + \" \" + sent.words[word.head-1].text)\n",
    "                else: \n",
    "                    print(word.deprel + \" \" + sent.words[word.head-1].text + \" \" + word.text)\n",
    "            break"
   ]
  },
  {
   "cell_type": "code",
   "execution_count": 172,
   "metadata": {},
   "outputs": [
    {
     "name": "stdout",
     "output_type": "stream",
     "text": [
      "obl park overnight\n"
     ]
    }
   ],
   "source": [
    "doc = nlp('Or is there an apartment nearby where you can park it for free overnight?')\n",
    "    #print(doc)\n",
    "for sent in doc.sentences:\n",
    "    for word in sent.words:\n",
    "        #print(word.text + \" \" + (str(row['first_cs_word_form']).lower()))\n",
    "        if word.text.lower() == 'overnight':\n",
    "            if word.head==0:\n",
    "                print(\"root \" + word.text)\n",
    "            else:\n",
    "                if word.id < word.head:\n",
    "                    print(word.deprel + \" \" + word.text + \" \" + sent.words[word.head-1].text)\n",
    "                else: \n",
    "                    print(word.deprel + \" \" + sent.words[word.head-1].text + \" \" + word.text)\n",
    "            break"
   ]
  },
  {
   "cell_type": "code",
   "execution_count": 175,
   "metadata": {},
   "outputs": [
    {
     "name": "stdout",
     "output_type": "stream",
     "text": [
      "obj have permits\n"
     ]
    }
   ],
   "source": [
    "doc = nlp('So even if I could have two permits, I wouldn\\'t be able to use my car.')\n",
    "    #print(doc)\n",
    "for sent in doc.sentences:\n",
    "    for word in sent.words:\n",
    "        #print(word.text + \" \" + (str(row['first_cs_word_form']).lower()))\n",
    "        if word.text.lower() == 'permits':\n",
    "            if word.head==0:\n",
    "                print(\"root \" + word.text)\n",
    "            else:\n",
    "                if word.id < word.head:\n",
    "                    print(word.deprel + \" \" + word.text + \" \" + sent.words[word.head-1].text)\n",
    "                else: \n",
    "                    print(word.deprel + \" \" + sent.words[word.head-1].text + \" \" + word.text)\n",
    "            break"
   ]
  },
  {
   "cell_type": "code",
   "execution_count": 176,
   "metadata": {},
   "outputs": [
    {
     "name": "stdout",
     "output_type": "stream",
     "text": [
      "root prefer\n"
     ]
    }
   ],
   "source": [
    "doc = nlp('prefer a girl.')\n",
    "    #print(doc)\n",
    "for sent in doc.sentences:\n",
    "    for word in sent.words:\n",
    "        #print(word.text + \" \" + (str(row['first_cs_word_form']).lower()))\n",
    "        if word.text.lower() == 'prefer':\n",
    "            if word.head==0:\n",
    "                print(\"root \" + word.text)\n",
    "            else:\n",
    "                if word.id < word.head:\n",
    "                    print(word.deprel + \" \" + word.text + \" \" + sent.words[word.head-1].text)\n",
    "                else: \n",
    "                    print(word.deprel + \" \" + sent.words[word.head-1].text + \" \" + word.text)\n",
    "            break"
   ]
  },
  {
   "cell_type": "code",
   "execution_count": 177,
   "metadata": {},
   "outputs": [
    {
     "name": "stdout",
     "output_type": "stream",
     "text": [
      "root Seek\n"
     ]
    }
   ],
   "source": [
    "doc = nlp('Seek tennis partner teacher, teach children students if you are interested, please contact em@139')\n",
    "    #print(doc)\n",
    "for sent in doc.sentences:\n",
    "    for word in sent.words:\n",
    "        #print(word.text + \" \" + (str(row['first_cs_word_form']).lower()))\n",
    "        if word.text.lower() == 'seek':\n",
    "            if word.head==0:\n",
    "                print(\"root \" + word.text)\n",
    "            else:\n",
    "                if word.id < word.head:\n",
    "                    print(word.deprel + \" \" + word.text + \" \" + sent.words[word.head-1].text)\n",
    "                else: \n",
    "                    print(word.deprel + \" \" + sent.words[word.head-1].text + \" \" + word.text)\n",
    "            break"
   ]
  },
  {
   "cell_type": "code",
   "execution_count": 178,
   "metadata": {},
   "outputs": [
    {
     "name": "stdout",
     "output_type": "stream",
     "text": [
      "nmod Google dealers\n",
      "nsubj dealers good\n"
     ]
    }
   ],
   "source": [
    "doc = nlp('You can Google \"Blue Knob\" for better dealers nearby. Local dealers in the village are not as good as theirs (personal feeling).')\n",
    "    #print(doc)\n",
    "for sent in doc.sentences:\n",
    "    for word in sent.words:\n",
    "        #print(word.text + \" \" + (str(row['first_cs_word_form']).lower()))\n",
    "        if word.text.lower() == 'dealers':\n",
    "            if word.head==0:\n",
    "                print(\"root \" + word.text)\n",
    "            else:\n",
    "                if word.id < word.head:\n",
    "                    print(word.deprel + \" \" + word.text + \" \" + sent.words[word.head-1].text)\n",
    "                else: \n",
    "                    print(word.deprel + \" \" + sent.words[word.head-1].text + \" \" + word.text)\n",
    "            break"
   ]
  },
  {
   "cell_type": "code",
   "execution_count": 180,
   "metadata": {},
   "outputs": [
    {
     "name": "stdout",
     "output_type": "stream",
     "text": [
      "obl go parties\n"
     ]
    }
   ],
   "source": [
    "doc = nlp('I don\\'t go to parties.')\n",
    "    #print(doc)\n",
    "for sent in doc.sentences:\n",
    "    for word in sent.words:\n",
    "        #print(word.text + \" \" + (str(row['first_cs_word_form']).lower()))\n",
    "        if word.text.lower() == 'parties':\n",
    "            if word.head==0:\n",
    "                print(\"root \" + word.text)\n",
    "            else:\n",
    "                if word.id < word.head:\n",
    "                    print(word.deprel + \" \" + word.text + \" \" + sent.words[word.head-1].text)\n",
    "                else: \n",
    "                    print(word.deprel + \" \" + sent.words[word.head-1].text + \" \" + word.text)\n",
    "            break"
   ]
  },
  {
   "cell_type": "code",
   "execution_count": 181,
   "metadata": {},
   "outputs": [
    {
     "name": "stdout",
     "output_type": "stream",
     "text": [
      "root miles\n"
     ]
    }
   ],
   "source": [
    "doc = nlp('How many miles?')\n",
    "    #print(doc)\n",
    "for sent in doc.sentences:\n",
    "    for word in sent.words:\n",
    "        #print(word.text + \" \" + (str(row['first_cs_word_form']).lower()))\n",
    "        if word.text.lower() == 'miles':\n",
    "            if word.head==0:\n",
    "                print(\"root \" + word.text)\n",
    "            else:\n",
    "                if word.id < word.head:\n",
    "                    print(word.deprel + \" \" + word.text + \" \" + sent.words[word.head-1].text)\n",
    "                else: \n",
    "                    print(word.deprel + \" \" + sent.words[word.head-1].text + \" \" + word.text)\n",
    "            break"
   ]
  },
  {
   "cell_type": "code",
   "execution_count": 184,
   "metadata": {},
   "outputs": [
    {
     "name": "stdout",
     "output_type": "stream",
     "text": [
      "obj have parties\n"
     ]
    }
   ],
   "source": [
    "doc = nlp('I usually prefer to stay at home and do not have parties.')\n",
    "    #print(doc)\n",
    "for sent in doc.sentences:\n",
    "    for word in sent.words:\n",
    "        #print(word.text + \" \" + (str(row['first_cs_word_form']).lower()))\n",
    "        if word.text.lower() == 'parties':\n",
    "            if word.head==0:\n",
    "                print(\"root \" + word.text)\n",
    "            else:\n",
    "                if word.id < word.head:\n",
    "                    print(word.deprel + \" \" + word.text + \" \" + sent.words[word.head-1].text)\n",
    "                else: \n",
    "                    print(word.deprel + \" \" + sent.words[word.head-1].text + \" \" + word.text)\n",
    "            break"
   ]
  },
  {
   "cell_type": "code",
   "execution_count": 185,
   "metadata": {},
   "outputs": [
    {
     "name": "stdout",
     "output_type": "stream",
     "text": [
      "root updated\n"
     ]
    }
   ],
   "source": [
    "doc = nlp('Oh, sorry, I have updated my contact information')\n",
    "    #print(doc)\n",
    "for sent in doc.sentences:\n",
    "    for word in sent.words:\n",
    "        #print(word.text + \" \" + (str(row['first_cs_word_form']).lower()))\n",
    "        if word.text.lower() == 'updated':\n",
    "            if word.head==0:\n",
    "                print(\"root \" + word.text)\n",
    "            else:\n",
    "                if word.id < word.head:\n",
    "                    print(word.deprel + \" \" + word.text + \" \" + sent.words[word.head-1].text)\n",
    "                else: \n",
    "                    print(word.deprel + \" \" + sent.words[word.head-1].text + \" \" + word.text)\n",
    "            break"
   ]
  },
  {
   "cell_type": "code",
   "execution_count": 186,
   "metadata": {},
   "outputs": [
    {
     "name": "stdout",
     "output_type": "stream",
     "text": [
      "nmod floor house\n"
     ]
    }
   ],
   "source": [
    "doc = nlp('On the first floor of the house are the dining room and the living room and the kitchen. On the second floor are three rooms.')\n",
    "    #print(doc)\n",
    "for sent in doc.sentences:\n",
    "    for word in sent.words:\n",
    "        #print(word.text + \" \" + (str(row['first_cs_word_form']).lower()))\n",
    "        if word.text.lower() == 'house':\n",
    "            if word.head==0:\n",
    "                print(\"root \" + word.text)\n",
    "            else:\n",
    "                if word.id < word.head:\n",
    "                    print(word.deprel + \" \" + word.text + \" \" + sent.words[word.head-1].text)\n",
    "                else: \n",
    "                    print(word.deprel + \" \" + sent.words[word.head-1].text + \" \" + word.text)\n",
    "            break"
   ]
  },
  {
   "cell_type": "code",
   "execution_count": 187,
   "metadata": {},
   "outputs": [
    {
     "name": "stdout",
     "output_type": "stream",
     "text": [
      "nsubj are shuttles\n"
     ]
    }
   ],
   "source": [
    "doc = nlp('There are many shuttles in front of the school')\n",
    "    #print(doc)\n",
    "for sent in doc.sentences:\n",
    "    for word in sent.words:\n",
    "        #print(word.text + \" \" + (str(row['first_cs_word_form']).lower()))\n",
    "        if word.text.lower() == 'shuttles':\n",
    "            if word.head==0:\n",
    "                print(\"root \" + word.text)\n",
    "            else:\n",
    "                if word.id < word.head:\n",
    "                    print(word.deprel + \" \" + word.text + \" \" + sent.words[word.head-1].text)\n",
    "                else: \n",
    "                    print(word.deprel + \" \" + sent.words[word.head-1].text + \" \" + word.text)\n",
    "            break"
   ]
  },
  {
   "cell_type": "code",
   "execution_count": 188,
   "metadata": {},
   "outputs": [
    {
     "name": "stdout",
     "output_type": "stream",
     "text": [
      "nsubj Managers talkative\n"
     ]
    }
   ],
   "source": [
    "doc = nlp('Managers are very talkative;')\n",
    "    #print(doc)\n",
    "for sent in doc.sentences:\n",
    "    for word in sent.words:\n",
    "        #print(word.text + \" \" + (str(row['first_cs_word_form']).lower()))\n",
    "        if word.text.lower() == 'managers':\n",
    "            if word.head==0:\n",
    "                print(\"root \" + word.text)\n",
    "            else:\n",
    "                if word.id < word.head:\n",
    "                    print(word.deprel + \" \" + word.text + \" \" + sent.words[word.head-1].text)\n",
    "                else: \n",
    "                    print(word.deprel + \" \" + sent.words[word.head-1].text + \" \" + word.text)\n",
    "            break"
   ]
  },
  {
   "cell_type": "code",
   "execution_count": 189,
   "metadata": {},
   "outputs": [
    {
     "name": "stdout",
     "output_type": "stream",
     "text": [
      "obl:npmod blocks away\n"
     ]
    }
   ],
   "source": [
    "doc = nlp('The house is only two blocks away from Frick Park, which is very convenient for exercising in the park.')\n",
    "    #print(doc)\n",
    "for sent in doc.sentences:\n",
    "    for word in sent.words:\n",
    "        #print(word.text + \" \" + (str(row['first_cs_word_form']).lower()))\n",
    "        if word.text.lower() == 'blocks':\n",
    "            if word.head==0:\n",
    "                print(\"root \" + word.text)\n",
    "            else:\n",
    "                if word.id < word.head:\n",
    "                    print(word.deprel + \" \" + word.text + \" \" + sent.words[word.head-1].text)\n",
    "                else: \n",
    "                    print(word.deprel + \" \" + sent.words[word.head-1].text + \" \" + word.text)\n",
    "            break"
   ]
  },
  {
   "cell_type": "code",
   "execution_count": 190,
   "metadata": {},
   "outputs": [
    {
     "name": "stdout",
     "output_type": "stream",
     "text": [
      "amod social work\n"
     ]
    }
   ],
   "source": [
    "doc = nlp('I have been studying social work and working in a city in central America for the past five years')\n",
    "    #print(doc)\n",
    "for sent in doc.sentences:\n",
    "    for word in sent.words:\n",
    "        #print(word.text + \" \" + (str(row['first_cs_word_form']).lower()))\n",
    "        if word.text.lower() == 'social':\n",
    "            if word.head==0:\n",
    "                print(\"root \" + word.text)\n",
    "            else:\n",
    "                if word.id < word.head:\n",
    "                    print(word.deprel + \" \" + word.text + \" \" + sent.words[word.head-1].text)\n",
    "                else: \n",
    "                    print(word.deprel + \" \" + sent.words[word.head-1].text + \" \" + word.text)\n",
    "            break"
   ]
  },
  {
   "cell_type": "code",
   "execution_count": 192,
   "metadata": {},
   "outputs": [
    {
     "name": "stdout",
     "output_type": "stream",
     "text": [
      "obj have parties\n"
     ]
    }
   ],
   "source": [
    "doc = nlp('There is plenty of room for friends to come for dinner or parties.')\n",
    "    #print(doc)\n",
    "for sent in doc.sentences:\n",
    "    for word in sent.words:\n",
    "        #print(word.text + \" \" + (str(row['first_cs_word_form']).lower()))\n",
    "        if word.text.lower() == 'parties':\n",
    "            if word.head==0:\n",
    "                print(\"root \" + word.text)\n",
    "            else:\n",
    "                if word.id < word.head:\n",
    "                    print(word.deprel + \" \" + word.text + \" \" + sent.words[word.head-1].text)\n",
    "                else: \n",
    "                    print(word.deprel + \" \" + sent.words[word.head-1].text + \" \" + word.text)\n",
    "            break"
   ]
  },
  {
   "cell_type": "code",
   "execution_count": 193,
   "metadata": {},
   "outputs": [
    {
     "name": "stdout",
     "output_type": "stream",
     "text": [
      "appos Blair apartment\n"
     ]
    }
   ],
   "source": [
    "doc = nlp('-Blair: One apartment and one living room.')\n",
    "    #print(doc)\n",
    "for sent in doc.sentences:\n",
    "    for word in sent.words:\n",
    "        #print(word.text + \" \" + (str(row['first_cs_word_form']).lower()))\n",
    "        if word.text.lower() == 'apartment':\n",
    "            if word.head==0:\n",
    "                print(\"root \" + word.text)\n",
    "            else:\n",
    "                if word.id < word.head:\n",
    "                    print(word.deprel + \" \" + word.text + \" \" + sent.words[word.head-1].text)\n",
    "                else: \n",
    "                    print(word.deprel + \" \" + sent.words[word.head-1].text + \" \" + word.text)\n",
    "            break"
   ]
  },
  {
   "cell_type": "code",
   "execution_count": 195,
   "metadata": {},
   "outputs": [
    {
     "name": "stdout",
     "output_type": "stream",
     "text": [
      "conj shops bars\n"
     ]
    }
   ],
   "source": [
    "doc = nlp('The small shops and bars above Walnut Street are also good;')\n",
    "    #print(doc)\n",
    "for sent in doc.sentences:\n",
    "    for word in sent.words:\n",
    "        #print(word.text + \" \" + (str(row['first_cs_word_form']).lower()))\n",
    "        if word.text.lower() == 'bars':\n",
    "            if word.head==0:\n",
    "                print(\"root \" + word.text)\n",
    "            else:\n",
    "                if word.id < word.head:\n",
    "                    print(word.deprel + \" \" + word.text + \" \" + sent.words[word.head-1].text)\n",
    "                else: \n",
    "                    print(word.deprel + \" \" + sent.words[word.head-1].text + \" \" + word.text)\n",
    "            break"
   ]
  },
  {
   "cell_type": "code",
   "execution_count": 196,
   "metadata": {},
   "outputs": [
    {
     "name": "stdout",
     "output_type": "stream",
     "text": [
      "obl maintained management\n"
     ]
    }
   ],
   "source": [
    "doc = nlp('The corridor is also cleaned and maintained by management every day')\n",
    "    #print(doc)\n",
    "for sent in doc.sentences:\n",
    "    for word in sent.words:\n",
    "        #print(word.text + \" \" + (str(row['first_cs_word_form']).lower()))\n",
    "        if word.text.lower() == 'management':\n",
    "            if word.head==0:\n",
    "                print(\"root \" + word.text)\n",
    "            else:\n",
    "                if word.id < word.head:\n",
    "                    print(word.deprel + \" \" + word.text + \" \" + sent.words[word.head-1].text)\n",
    "                else: \n",
    "                    print(word.deprel + \" \" + sent.words[word.head-1].text + \" \" + word.text)\n",
    "            break"
   ]
  },
  {
   "cell_type": "code",
   "execution_count": 197,
   "metadata": {},
   "outputs": [
    {
     "name": "stdout",
     "output_type": "stream",
     "text": [
      "root email\n"
     ]
    }
   ],
   "source": [
    "doc = nlp('Please email em@35 for details')\n",
    "    #print(doc)\n",
    "for sent in doc.sentences:\n",
    "    for word in sent.words:\n",
    "        #print(word.text + \" \" + (str(row['first_cs_word_form']).lower()))\n",
    "        if word.text.lower() == 'email':\n",
    "            if word.head==0:\n",
    "                print(\"root \" + word.text)\n",
    "            else:\n",
    "                if word.id < word.head:\n",
    "                    print(word.deprel + \" \" + word.text + \" \" + sent.words[word.head-1].text)\n",
    "                else: \n",
    "                    print(word.deprel + \" \" + sent.words[word.head-1].text + \" \" + word.text)\n",
    "            break"
   ]
  },
  {
   "cell_type": "code",
   "execution_count": 198,
   "metadata": {},
   "outputs": [
    {
     "name": "stdout",
     "output_type": "stream",
     "text": [
      "nsubj are shuttles\n"
     ]
    }
   ],
   "source": [
    "doc = nlp('There are also campus shuttles.')\n",
    "    #print(doc)\n",
    "for sent in doc.sentences:\n",
    "    for word in sent.words:\n",
    "        #print(word.text + \" \" + (str(row['first_cs_word_form']).lower()))\n",
    "        if word.text.lower() == 'shuttles':\n",
    "            if word.head==0:\n",
    "                print(\"root \" + word.text)\n",
    "            else:\n",
    "                if word.id < word.head:\n",
    "                    print(word.deprel + \" \" + word.text + \" \" + sent.words[word.head-1].text)\n",
    "                else: \n",
    "                    print(word.deprel + \" \" + sent.words[word.head-1].text + \" \" + word.text)\n",
    "            break"
   ]
  },
  {
   "cell_type": "code",
   "execution_count": 199,
   "metadata": {},
   "outputs": [
    {
     "name": "stdout",
     "output_type": "stream",
     "text": [
      "nsubj are restaurants\n"
     ]
    }
   ],
   "source": [
    "doc = nlp('There are many restaurants in Squirrel Hill.')\n",
    "    #print(doc)\n",
    "for sent in doc.sentences:\n",
    "    for word in sent.words:\n",
    "        #print(word.text + \" \" + (str(row['first_cs_word_form']).lower()))\n",
    "        if word.text.lower() == 'restaurants':\n",
    "            if word.head==0:\n",
    "                print(\"root \" + word.text)\n",
    "            else:\n",
    "                if word.id < word.head:\n",
    "                    print(word.deprel + \" \" + word.text + \" \" + sent.words[word.head-1].text)\n",
    "                else: \n",
    "                    print(word.deprel + \" \" + sent.words[word.head-1].text + \" \" + word.text)\n",
    "            break"
   ]
  },
  {
   "cell_type": "code",
   "execution_count": 200,
   "metadata": {},
   "outputs": [
    {
     "name": "stdout",
     "output_type": "stream",
     "text": [
      "nsubj are masters\n"
     ]
    }
   ],
   "source": [
    "doc = nlp('There are two big masters, a boy and a girl, very easy to get along with.')\n",
    "    #print(doc)\n",
    "for sent in doc.sentences:\n",
    "    for word in sent.words:\n",
    "        #print(word.text + \" \" + (str(row['first_cs_word_form']).lower()))\n",
    "        if word.text.lower() == 'masters':\n",
    "            if word.head==0:\n",
    "                print(\"root \" + word.text)\n",
    "            else:\n",
    "                if word.id < word.head:\n",
    "                    print(word.deprel + \" \" + word.text + \" \" + sent.words[word.head-1].text)\n",
    "                else: \n",
    "                    print(word.deprel + \" \" + sent.words[word.head-1].text + \" \" + word.text)\n",
    "            break"
   ]
  },
  {
   "cell_type": "code",
   "execution_count": 202,
   "metadata": {},
   "outputs": [
    {
     "name": "stdout",
     "output_type": "stream",
     "text": [
      "root Permit\n"
     ]
    }
   ],
   "source": [
    "doc = nlp('Permit, no car, but need to take a driver\\'s license soon.')\n",
    "    #print(doc)\n",
    "for sent in doc.sentences:\n",
    "    for word in sent.words:\n",
    "        #print(word.text + \" \" + (str(row['first_cs_word_form']).lower()))\n",
    "        if word.text.lower() == 'permit':\n",
    "            if word.head==0:\n",
    "                print(\"root \" + word.text)\n",
    "            else:\n",
    "                if word.id < word.head:\n",
    "                    print(word.deprel + \" \" + word.text + \" \" + sent.words[word.head-1].text)\n",
    "                else: \n",
    "                    print(word.deprel + \" \" + sent.words[word.head-1].text + \" \" + word.text)\n",
    "            break"
   ]
  },
  {
   "cell_type": "code",
   "execution_count": 203,
   "metadata": {},
   "outputs": [
    {
     "name": "stdout",
     "output_type": "stream",
     "text": [
      "obj send emails\n"
     ]
    }
   ],
   "source": [
    "doc = nlp('Then you can send mass emails to nearby dealers to ask for quotation, and then let them beat each other.')\n",
    "    #print(doc)\n",
    "for sent in doc.sentences:\n",
    "    for word in sent.words:\n",
    "        #print(word.text + \" \" + (str(row['first_cs_word_form']).lower()))\n",
    "        if word.text.lower() == 'emails':\n",
    "            if word.head==0:\n",
    "                print(\"root \" + word.text)\n",
    "            else:\n",
    "                if word.id < word.head:\n",
    "                    print(word.deprel + \" \" + word.text + \" \" + sent.words[word.head-1].text)\n",
    "                else: \n",
    "                    print(word.deprel + \" \" + sent.words[word.head-1].text + \" \" + word.text)\n",
    "            break"
   ]
  },
  {
   "cell_type": "code",
   "execution_count": null,
   "metadata": {},
   "outputs": [],
   "source": [
    "Then you can send mass emails to nearby dealers to ask for quotation, and then let them beat each other."
   ]
  },
  {
   "cell_type": "code",
   "execution_count": null,
   "metadata": {},
   "outputs": [],
   "source": []
  },
  {
   "cell_type": "code",
   "execution_count": null,
   "metadata": {},
   "outputs": [],
   "source": []
  },
  {
   "cell_type": "code",
   "execution_count": 204,
   "metadata": {},
   "outputs": [
    {
     "name": "stderr",
     "output_type": "stream",
     "text": [
      "2021-08-06 08:35:24 INFO: \"zh\" is an alias for \"zh-hans\"\n",
      "2021-08-06 08:35:24 INFO: Loading these models for language: zh-hans (Simplified_Chinese):\n",
      "=======================\n",
      "| Processor | Package |\n",
      "-----------------------\n",
      "| tokenize  | gsdsimp |\n",
      "| pos       | gsdsimp |\n",
      "| lemma     | gsdsimp |\n",
      "| depparse  | gsdsimp |\n",
      "=======================\n",
      "\n",
      "2021-08-06 08:35:24 INFO: Use device: cpu\n",
      "2021-08-06 08:35:24 INFO: Loading: tokenize\n",
      "2021-08-06 08:35:24 INFO: Loading: pos\n",
      "2021-08-06 08:35:25 INFO: Loading: lemma\n",
      "2021-08-06 08:35:25 INFO: Loading: depparse\n",
      "2021-08-06 08:35:28 INFO: Done loading processors!\n"
     ]
    }
   ],
   "source": [
    "import stanza\n",
    "\n",
    "nlp = stanza.Pipeline(lang='zh', processors='tokenize,pos,lemma,depparse')\n",
    "#doc = nlp('Barack Obama was born in Hawaii')\n",
    "#print(*[f'id: {word.id}\\tword: {word.text}\\thead id: {word.head}\\thead: {sent.words[word.head-1].text if word.head > 0 else \"root\"}\\tdeprel: {word.deprel}' for sent in doc.sentences for word in sent.words], sep='\\n')"
   ]
  },
  {
   "cell_type": "code",
   "execution_count": 67,
   "metadata": {},
   "outputs": [],
   "source": [
    "trigrams_zh = ['FAILED'] * len(cs_data)\n",
    "for index, row in cs_data.iterrows():\n",
    "    doc = nlp(str(row['zh_translation']))\n",
    "    #print(doc)\n",
    "    for sent in doc.sentences:\n",
    "        for word in sent.words:\n",
    "            #print(word.text == (str(row['first_cs_word_translation'])))\n",
    "            if word.text == str(row['first_cs_word_translation']):\n",
    "                #print(word.head)\n",
    "                if word.head==0:\n",
    "                    trigrams_zh[index] = (\"root \" + word.text)\n",
    "                else:\n",
    "                    #print(word.id)\n",
    "                    if word.id < word.head:\n",
    "                        #print(word.deprel + \" \" + word.text + \" \" + sent.words[word.head-1].text)\n",
    "                        trigrams_zh[index] = (word.deprel + \" \" + word.text + \" \" + sent.words[word.head-1].text)\n",
    "                    else: \n",
    "                        trigrams_zh[index] = (word.deprel + \" \" + sent.words[word.head-1].text + \" \" + word.text)\n",
    "                break        \n",
    "#print(trigrams_zh)\n"
   ]
  },
  {
   "cell_type": "code",
   "execution_count": 68,
   "metadata": {},
   "outputs": [
    {
     "name": "stdout",
     "output_type": "stream",
     "text": [
      "1476\n",
      "143\n"
     ]
    }
   ],
   "source": [
    "print(len(trigrams_zh))\n",
    "print(trigrams_zh.count(\"FAILED\"))"
   ]
  },
  {
   "cell_type": "code",
   "execution_count": 69,
   "metadata": {},
   "outputs": [],
   "source": [
    "textfile = open(\"redone_dep_test_zh.txt\", \"w\")\n",
    "for element in trigrams_zh:\n",
    "    textfile.write(element + \"\\n\")\n",
    "textfile.close()"
   ]
  },
  {
   "cell_type": "code",
   "execution_count": 350,
   "metadata": {},
   "outputs": [
    {
     "name": "stdout",
     "output_type": "stream",
     "text": [
      "厕所\n",
      "nsubj 厕所 在\n",
      "对\n",
      "case 对 不起\n",
      "不起\n",
      "xcomp 不起 问\n",
      "，\n",
      "punct ， 在\n",
      "请\n",
      "aux 请 在\n",
      "问\n",
      "advcl 问 在\n",
      "厕所\n",
      "obj 问 厕所\n",
      "在\n",
      "root 在\n",
      "哪儿\n",
      "obj 在 哪儿\n",
      "。\n",
      "punct 在 。\n"
     ]
    }
   ],
   "source": [
    "doc = nlp('厕所 对不起 ， 请 问 厕所 在 哪儿 。')\n",
    "    #print(doc)\n",
    "for sent in doc.sentences:\n",
    "    for word in sent.words:\n",
    "        print(word.text)\n",
    "        #if word.text == '共用':\n",
    "            #print(word.head)\n",
    "        if word.head==0:\n",
    "            print(\"root \" + word.text)\n",
    "        else:\n",
    "            #print(word.id)\n",
    "            if word.id < word.head:\n",
    "                #print(word.deprel + \" \" + word.text + \" \" + sent.words[word.head-1].text)\n",
    "                print(word.deprel + \" \" + word.text + \" \" + sent.words[word.head-1].text)\n",
    "            else: \n",
    "                print(word.deprel + \" \" + sent.words[word.head-1].text + \" \" + word.text)"
   ]
  },
  {
   "cell_type": "code",
   "execution_count": null,
   "metadata": {},
   "outputs": [],
   "source": [
    "对比 其他 地方 ， 可能 和 很多 人 共用 ， 并且 还 很 贵 ！"
   ]
  },
  {
   "cell_type": "code",
   "execution_count": null,
   "metadata": {},
   "outputs": [],
   "source": []
  }
 ],
 "metadata": {
  "kernelspec": {
   "display_name": "Python 3",
   "language": "python",
   "name": "python3"
  },
  "language_info": {
   "codemirror_mode": {
    "name": "ipython",
    "version": 3
   },
   "file_extension": ".py",
   "mimetype": "text/x-python",
   "name": "python",
   "nbconvert_exporter": "python",
   "pygments_lexer": "ipython3",
   "version": "3.7.6"
  }
 },
 "nbformat": 4,
 "nbformat_minor": 4
}
