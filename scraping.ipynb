{
 "cells": [
  {
   "cell_type": "code",
   "execution_count": 2,
   "metadata": {},
   "outputs": [
    {
     "name": "stdout",
     "output_type": "stream",
     "text": [
      "Defaulting to user installation because normal site-packages is not writeable\n",
      "Collecting praw\n",
      "  Downloading praw-7.2.0-py3-none-any.whl (159 kB)\n",
      "\u001b[K     |████████████████████████████████| 159 kB 1.8 MB/s eta 0:00:01\n",
      "\u001b[?25hCollecting prawcore<3,>=2\n",
      "  Downloading prawcore-2.0.0-py3-none-any.whl (15 kB)\n",
      "Collecting update-checker>=0.18\n",
      "  Downloading update_checker-0.18.0-py3-none-any.whl (7.0 kB)\n",
      "Collecting websocket-client>=0.54.0\n",
      "  Downloading websocket_client-0.58.0-py2.py3-none-any.whl (61 kB)\n",
      "\u001b[K     |████████████████████████████████| 61 kB 4.3 MB/s eta 0:00:01\n",
      "\u001b[?25hRequirement already satisfied: requests<3.0,>=2.6.0 in /Library/Frameworks/Python.framework/Versions/3.7/lib/python3.7/site-packages (from prawcore<3,>=2->praw) (2.25.0)\n",
      "Requirement already satisfied: chardet<4,>=3.0.2 in /Library/Frameworks/Python.framework/Versions/3.7/lib/python3.7/site-packages (from requests<3.0,>=2.6.0->prawcore<3,>=2->praw) (3.0.4)\n",
      "Requirement already satisfied: idna<3,>=2.5 in /Library/Frameworks/Python.framework/Versions/3.7/lib/python3.7/site-packages (from requests<3.0,>=2.6.0->prawcore<3,>=2->praw) (2.10)\n",
      "Requirement already satisfied: certifi>=2017.4.17 in /Library/Frameworks/Python.framework/Versions/3.7/lib/python3.7/site-packages (from requests<3.0,>=2.6.0->prawcore<3,>=2->praw) (2020.11.8)\n",
      "Requirement already satisfied: urllib3<1.27,>=1.21.1 in /Library/Frameworks/Python.framework/Versions/3.7/lib/python3.7/site-packages (from requests<3.0,>=2.6.0->prawcore<3,>=2->praw) (1.26.2)\n",
      "Requirement already satisfied: six in /Library/Frameworks/Python.framework/Versions/3.7/lib/python3.7/site-packages (from websocket-client>=0.54.0->praw) (1.14.0)\n",
      "Installing collected packages: websocket-client, update-checker, prawcore, praw\n",
      "Successfully installed praw-7.2.0 prawcore-2.0.0 update-checker-0.18.0 websocket-client-0.58.0\n",
      "Note: you may need to restart the kernel to use updated packages.\n"
     ]
    }
   ],
   "source": [
    "pip install praw"
   ]
  },
  {
   "cell_type": "code",
   "execution_count": 5,
   "metadata": {},
   "outputs": [],
   "source": [
    "#! usr/bin/env python3\n",
    "import praw\n",
    "import pandas as pd\n",
    "import datetime as dt"
   ]
  },
  {
   "cell_type": "code",
   "execution_count": 6,
   "metadata": {},
   "outputs": [],
   "source": [
    "from praw.models import MoreComments"
   ]
  },
  {
   "cell_type": "code",
   "execution_count": 7,
   "metadata": {},
   "outputs": [],
   "source": [
    "reddit = praw.Reddit(client_id='E6WyYqmCUuEcbw', \n",
    "                     client_secret='EXjQtLA630GSBCrtkACMYlFCB5LQbg', \n",
    "                     user_agent='code switching data eng', \n",
    "                     username='JustForCLabResearch', \n",
    "                     password='justforclabresearch') \n",
    "\n",
    "#'PERSONAL_USE_SCRIPT_14_CHARS'\n",
    "#'SECRET_KEY_27_CHARS '\n",
    "#'YOUR_APP_NAME'\n",
    "#'YOUR_REDDIT_USER_NAME'\n",
    "#YOUR_REDDIT_LOGIN_PASSWORD'"
   ]
  },
  {
   "cell_type": "code",
   "execution_count": 8,
   "metadata": {},
   "outputs": [],
   "source": [
    "cmu_subreddit = reddit.subreddit('cmu')"
   ]
  },
  {
   "cell_type": "code",
   "execution_count": 9,
   "metadata": {},
   "outputs": [],
   "source": [
    "cmu_top_subreddit = cmu_subreddit.top(limit=1000) #most upvoted topics of all time"
   ]
  },
  {
   "cell_type": "code",
   "execution_count": 10,
   "metadata": {},
   "outputs": [],
   "source": [
    "cmu_data = []\n",
    "for submission in cmu_top_subreddit:\n",
    "    cmu_data.append(submission.title)\n",
    "    submission.comments.replace_more(limit=0)\n",
    "    for comment in submission.comments.list():\n",
    "        cmu_data.append(comment.body)"
   ]
  },
  {
   "cell_type": "code",
   "execution_count": 11,
   "metadata": {},
   "outputs": [
    {
     "name": "stdout",
     "output_type": "stream",
     "text": [
      "Honest question but how does your advisor help you? I graduated a couple years ago and I never talked to my advisor once in 4 years. And my advisor never once reached out to chat with me either. I guess I should have put in the effort though. I just didn't know how they helped.\n",
      "13354\n"
     ]
    }
   ],
   "source": [
    "print(cmu_data[101])\n",
    "print(len(cmu_data))"
   ]
  },
  {
   "cell_type": "code",
   "execution_count": 12,
   "metadata": {},
   "outputs": [],
   "source": [
    "pitt_subreddit = reddit.subreddit('Pitt')\n",
    "pitt_top_subreddit = pitt_subreddit.top(limit=1000) #most upvoted topics of all time\n",
    "\n",
    "pitt_data = []\n",
    "for submission in pitt_top_subreddit:\n",
    "    pitt_data.append(submission.title)\n",
    "    submission.comments.replace_more(limit=0)\n",
    "    for comment in submission.comments.list():\n",
    "        pitt_data.append(comment.body)"
   ]
  },
  {
   "cell_type": "code",
   "execution_count": 13,
   "metadata": {},
   "outputs": [
    {
     "name": "stdout",
     "output_type": "stream",
     "text": [
      "16323\n"
     ]
    }
   ],
   "source": [
    "print(len(pitt_data))"
   ]
  },
  {
   "cell_type": "code",
   "execution_count": 14,
   "metadata": {},
   "outputs": [],
   "source": [
    "pennstate_subreddit = reddit.subreddit('PennStateUniversity')\n",
    "pennstate_top_subreddit = pennstate_subreddit.top(limit=1000) #most upvoted topics of all time\n",
    "\n",
    "pennstate_data = []\n",
    "for submission in pennstate_top_subreddit:\n",
    "    pennstate_data.append(submission.title)\n",
    "    submission.comments.replace_more(limit=0)\n",
    "    for comment in submission.comments.list():\n",
    "        pennstate_data.append(comment.body)"
   ]
  },
  {
   "cell_type": "code",
   "execution_count": 15,
   "metadata": {},
   "outputs": [
    {
     "name": "stdout",
     "output_type": "stream",
     "text": [
      "23753\n"
     ]
    }
   ],
   "source": [
    "print(len(pennstate_data))"
   ]
  },
  {
   "cell_type": "code",
   "execution_count": 16,
   "metadata": {},
   "outputs": [],
   "source": [
    "cmu_df = pd.DataFrame (cmu_data,columns=['Reddit Comments'])"
   ]
  },
  {
   "cell_type": "code",
   "execution_count": 17,
   "metadata": {},
   "outputs": [],
   "source": [
    "pitt_df = pd.DataFrame (pitt_data,columns=['Reddit Comments'])"
   ]
  },
  {
   "cell_type": "code",
   "execution_count": 18,
   "metadata": {},
   "outputs": [],
   "source": [
    "pennstate_df = pd.DataFrame (pennstate_data,columns=['Reddit Comments'])"
   ]
  },
  {
   "cell_type": "code",
   "execution_count": 21,
   "metadata": {},
   "outputs": [],
   "source": [
    "all_unis = [cmu_df, pitt_df, pennstate_df]"
   ]
  },
  {
   "cell_type": "code",
   "execution_count": 22,
   "metadata": {},
   "outputs": [],
   "source": [
    "all_unis = pd.concat(all_unis)"
   ]
  },
  {
   "cell_type": "code",
   "execution_count": 26,
   "metadata": {},
   "outputs": [
    {
     "data": {
      "text/plain": [
       "53430"
      ]
     },
     "execution_count": 26,
     "metadata": {},
     "output_type": "execute_result"
    }
   ],
   "source": [
    "len(all_unis)"
   ]
  },
  {
   "cell_type": "code",
   "execution_count": 27,
   "metadata": {},
   "outputs": [],
   "source": [
    "all_unis.to_csv('all_unis_reddit_data.csv', index=False)"
   ]
  },
  {
   "cell_type": "code",
   "execution_count": 24,
   "metadata": {},
   "outputs": [],
   "source": [
    "#print(cmu_subreddit.description)"
   ]
  },
  {
   "cell_type": "code",
   "execution_count": null,
   "metadata": {},
   "outputs": [],
   "source": [
    "#might later need to sentence tokenize and word tokenize for bigram models "
   ]
  }
 ],
 "metadata": {
  "kernelspec": {
   "display_name": "Python 3",
   "language": "python",
   "name": "python3"
  },
  "language_info": {
   "codemirror_mode": {
    "name": "ipython",
    "version": 3
   },
   "file_extension": ".py",
   "mimetype": "text/x-python",
   "name": "python",
   "nbconvert_exporter": "python",
   "pygments_lexer": "ipython3",
   "version": "3.7.6"
  }
 },
 "nbformat": 4,
 "nbformat_minor": 4
}
