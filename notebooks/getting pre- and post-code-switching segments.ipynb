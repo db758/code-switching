{
 "cells": [
  {
   "cell_type": "code",
   "execution_count": 1,
   "metadata": {},
   "outputs": [],
   "source": [
    "import pandas\n",
    "import re"
   ]
  },
  {
   "cell_type": "code",
   "execution_count": 2,
   "metadata": {},
   "outputs": [
    {
     "data": {
      "text/html": [
       "<div>\n",
       "<style scoped>\n",
       "    .dataframe tbody tr th:only-of-type {\n",
       "        vertical-align: middle;\n",
       "    }\n",
       "\n",
       "    .dataframe tbody tr th {\n",
       "        vertical-align: top;\n",
       "    }\n",
       "\n",
       "    .dataframe thead th {\n",
       "        text-align: right;\n",
       "    }\n",
       "</style>\n",
       "<table border=\"1\" class=\"dataframe\">\n",
       "  <thead>\n",
       "    <tr style=\"text-align: right;\">\n",
       "      <th></th>\n",
       "      <th>sent_type</th>\n",
       "      <th>university</th>\n",
       "      <th>sent_id</th>\n",
       "      <th>aligned_to</th>\n",
       "      <th>original_sentence</th>\n",
       "      <th>eng_translation</th>\n",
       "      <th>zh_translation</th>\n",
       "      <th>cs_word_id</th>\n",
       "      <th>first_cs_word_form</th>\n",
       "      <th>first_cs_word_translation</th>\n",
       "      <th>...</th>\n",
       "      <th>surprisal_values</th>\n",
       "      <th>average_surprisal</th>\n",
       "      <th>bilingual_corpus_frequency_negative_log_first_cs_word</th>\n",
       "      <th>bilingual_corpus_frequency_negative_log_first_cs_word_trans</th>\n",
       "      <th>length_first_cs_word_form</th>\n",
       "      <th>dependency_distance</th>\n",
       "      <th>if_it_is_root</th>\n",
       "      <th>if_previous_word_is_punctuation</th>\n",
       "      <th>surprisal_of_previous_word</th>\n",
       "      <th>surprisal_first_cs_word_trans</th>\n",
       "    </tr>\n",
       "  </thead>\n",
       "  <tbody>\n",
       "    <tr>\n",
       "      <th>0</th>\n",
       "      <td>code-switch</td>\n",
       "      <td>CMU</td>\n",
       "      <td>2</td>\n",
       "      <td>CMU_296</td>\n",
       "      <td>rich neighborhood ， 非常 安全 （ 这里 属于 富人 区 ） ， 旁边 ...</td>\n",
       "      <td>Rich neighborhood is very safe (it belongs to ...</td>\n",
       "      <td>富人 区 ， 非常 安全 （ 这里 属于 富人 区 ） ， 旁边 就 是 公园 ， 附近 还...</td>\n",
       "      <td>1</td>\n",
       "      <td>rich</td>\n",
       "      <td>富人</td>\n",
       "      <td>...</td>\n",
       "      <td>6.100998 1.320391 0.7630151 4.4722 3.20577 2.7...</td>\n",
       "      <td>3.144718</td>\n",
       "      <td>11.319098</td>\n",
       "      <td>10.402807</td>\n",
       "      <td>4</td>\n",
       "      <td>1</td>\n",
       "      <td>0</td>\n",
       "      <td>NaN</td>\n",
       "      <td>NaN</td>\n",
       "      <td>6.100998</td>\n",
       "    </tr>\n",
       "    <tr>\n",
       "      <th>1</th>\n",
       "      <td>code-switch</td>\n",
       "      <td>CMU</td>\n",
       "      <td>4</td>\n",
       "      <td>CMU_3006</td>\n",
       "      <td>lease 从 八月 开始 ， 具体 日期 可以 商量 。</td>\n",
       "      <td>Lease will begin in August and the date is neg...</td>\n",
       "      <td>租约 从 八月 开始 ， 具体 日期 可以 商量 。</td>\n",
       "      <td>1</td>\n",
       "      <td>lease</td>\n",
       "      <td>租约</td>\n",
       "      <td>...</td>\n",
       "      <td>6.527233 3.646975 4.193077 1.173965 0.5694761 ...</td>\n",
       "      <td>3.155464</td>\n",
       "      <td>7.348806</td>\n",
       "      <td>10.066335</td>\n",
       "      <td>5</td>\n",
       "      <td>8</td>\n",
       "      <td>0</td>\n",
       "      <td>NaN</td>\n",
       "      <td>NaN</td>\n",
       "      <td>6.527233</td>\n",
       "    </tr>\n",
       "    <tr>\n",
       "      <th>2</th>\n",
       "      <td>code-switch</td>\n",
       "      <td>CMU</td>\n",
       "      <td>5</td>\n",
       "      <td>CMU_70</td>\n",
       "      <td>house 一共 有 两 层 + 地下室 。</td>\n",
       "      <td>House has two floors plus basement.</td>\n",
       "      <td>房子 一共 有 两 层 + 地下室 。</td>\n",
       "      <td>1</td>\n",
       "      <td>house</td>\n",
       "      <td>房子</td>\n",
       "      <td>...</td>\n",
       "      <td>5.512905 5.228868 0.5955775 1.38895 2.136289 4...</td>\n",
       "      <td>3.268832</td>\n",
       "      <td>6.694125</td>\n",
       "      <td>7.084991</td>\n",
       "      <td>5</td>\n",
       "      <td>2</td>\n",
       "      <td>0</td>\n",
       "      <td>NaN</td>\n",
       "      <td>NaN</td>\n",
       "      <td>5.512905</td>\n",
       "    </tr>\n",
       "    <tr>\n",
       "      <th>3</th>\n",
       "      <td>code-switch</td>\n",
       "      <td>CMU</td>\n",
       "      <td>6</td>\n",
       "      <td>CMU_6777</td>\n",
       "      <td>一共 有 两 个 可以 洗澡 的 bathroom 。</td>\n",
       "      <td>There are two bathroom for bathing.</td>\n",
       "      <td>一共 有 两 个 可以 洗澡 的 浴室 。</td>\n",
       "      <td>8</td>\n",
       "      <td>bathroom</td>\n",
       "      <td>浴室</td>\n",
       "      <td>...</td>\n",
       "      <td>4.509301 0.2903937 1.38895 0.4321387 3.465795 ...</td>\n",
       "      <td>2.642274</td>\n",
       "      <td>8.611048</td>\n",
       "      <td>9.709660</td>\n",
       "      <td>8</td>\n",
       "      <td>6</td>\n",
       "      <td>0</td>\n",
       "      <td>0.0</td>\n",
       "      <td>0.895995</td>\n",
       "      <td>5.210801</td>\n",
       "    </tr>\n",
       "    <tr>\n",
       "      <th>4</th>\n",
       "      <td>code-switch</td>\n",
       "      <td>CMU</td>\n",
       "      <td>9</td>\n",
       "      <td>CMU_4373</td>\n",
       "      <td>整个 house 家具 齐全 。</td>\n",
       "      <td>The whole house is fully furnished.</td>\n",
       "      <td>整个 房子 家具 齐全 。</td>\n",
       "      <td>2</td>\n",
       "      <td>house</td>\n",
       "      <td>房子</td>\n",
       "      <td>...</td>\n",
       "      <td>3.732348 4.488641 5.760885 6.166569 0.8237057</td>\n",
       "      <td>4.194430</td>\n",
       "      <td>6.694125</td>\n",
       "      <td>7.084991</td>\n",
       "      <td>5</td>\n",
       "      <td>1</td>\n",
       "      <td>0</td>\n",
       "      <td>0.0</td>\n",
       "      <td>3.732348</td>\n",
       "      <td>4.488641</td>\n",
       "    </tr>\n",
       "  </tbody>\n",
       "</table>\n",
       "<p>5 rows × 41 columns</p>\n",
       "</div>"
      ],
      "text/plain": [
       "     sent_type university  sent_id aligned_to  \\\n",
       "0  code-switch        CMU        2    CMU_296   \n",
       "1  code-switch        CMU        4   CMU_3006   \n",
       "2  code-switch        CMU        5     CMU_70   \n",
       "3  code-switch        CMU        6   CMU_6777   \n",
       "4  code-switch        CMU        9   CMU_4373   \n",
       "\n",
       "                                   original_sentence  \\\n",
       "0  rich neighborhood ， 非常 安全 （ 这里 属于 富人 区 ） ， 旁边 ...   \n",
       "1                      lease 从 八月 开始 ， 具体 日期 可以 商量 。   \n",
       "2                             house 一共 有 两 层 + 地下室 。   \n",
       "3                        一共 有 两 个 可以 洗澡 的 bathroom 。   \n",
       "4                                   整个 house 家具 齐全 。   \n",
       "\n",
       "                                     eng_translation  \\\n",
       "0  Rich neighborhood is very safe (it belongs to ...   \n",
       "1  Lease will begin in August and the date is neg...   \n",
       "2                House has two floors plus basement.   \n",
       "3                There are two bathroom for bathing.   \n",
       "4                The whole house is fully furnished.   \n",
       "\n",
       "                                      zh_translation  cs_word_id  \\\n",
       "0  富人 区 ， 非常 安全 （ 这里 属于 富人 区 ） ， 旁边 就 是 公园 ， 附近 还...           1   \n",
       "1                         租约 从 八月 开始 ， 具体 日期 可以 商量 。           1   \n",
       "2                                房子 一共 有 两 层 + 地下室 。           1   \n",
       "3                              一共 有 两 个 可以 洗澡 的 浴室 。           8   \n",
       "4                                      整个 房子 家具 齐全 。           2   \n",
       "\n",
       "  first_cs_word_form first_cs_word_translation  ...  \\\n",
       "0               rich                        富人  ...   \n",
       "1              lease                        租约  ...   \n",
       "2              house                        房子  ...   \n",
       "3           bathroom                        浴室  ...   \n",
       "4              house                        房子  ...   \n",
       "\n",
       "                                    surprisal_values average_surprisal  \\\n",
       "0  6.100998 1.320391 0.7630151 4.4722 3.20577 2.7...          3.144718   \n",
       "1  6.527233 3.646975 4.193077 1.173965 0.5694761 ...          3.155464   \n",
       "2  5.512905 5.228868 0.5955775 1.38895 2.136289 4...          3.268832   \n",
       "3  4.509301 0.2903937 1.38895 0.4321387 3.465795 ...          2.642274   \n",
       "4      3.732348 4.488641 5.760885 6.166569 0.8237057          4.194430   \n",
       "\n",
       "  bilingual_corpus_frequency_negative_log_first_cs_word  \\\n",
       "0                                          11.319098      \n",
       "1                                           7.348806      \n",
       "2                                           6.694125      \n",
       "3                                           8.611048      \n",
       "4                                           6.694125      \n",
       "\n",
       "  bilingual_corpus_frequency_negative_log_first_cs_word_trans  \\\n",
       "0                                          10.402807            \n",
       "1                                          10.066335            \n",
       "2                                           7.084991            \n",
       "3                                           9.709660            \n",
       "4                                           7.084991            \n",
       "\n",
       "  length_first_cs_word_form dependency_distance  if_it_is_root  \\\n",
       "0                         4                   1              0   \n",
       "1                         5                   8              0   \n",
       "2                         5                   2              0   \n",
       "3                         8                   6              0   \n",
       "4                         5                   1              0   \n",
       "\n",
       "   if_previous_word_is_punctuation surprisal_of_previous_word  \\\n",
       "0                              NaN                        NaN   \n",
       "1                              NaN                        NaN   \n",
       "2                              NaN                        NaN   \n",
       "3                              0.0                   0.895995   \n",
       "4                              0.0                   3.732348   \n",
       "\n",
       "  surprisal_first_cs_word_trans  \n",
       "0                      6.100998  \n",
       "1                      6.527233  \n",
       "2                      5.512905  \n",
       "3                      5.210801  \n",
       "4                      4.488641  \n",
       "\n",
       "[5 rows x 41 columns]"
      ]
     },
     "execution_count": 2,
     "metadata": {},
     "output_type": "execute_result"
    }
   ],
   "source": [
    "df = pandas.read_csv('redoing_cs_data.csv')\n",
    "df.head()"
   ]
  },
  {
   "cell_type": "code",
   "execution_count": 3,
   "metadata": {},
   "outputs": [],
   "source": [
    "sents = df['original_sentence']"
   ]
  },
  {
   "cell_type": "code",
   "execution_count": 4,
   "metadata": {},
   "outputs": [
    {
     "data": {
      "text/plain": [
       "1476"
      ]
     },
     "execution_count": 4,
     "metadata": {},
     "output_type": "execute_result"
    }
   ],
   "source": [
    "len(sents)"
   ]
  },
  {
   "cell_type": "code",
   "execution_count": 5,
   "metadata": {},
   "outputs": [
    {
     "data": {
      "text/plain": [
       "'rich neighborhood ， 非常 安全 （ 这里 属于 富人 区 ） ， 旁边 就 是 公园 ， 附近 还有 配套 的 各 种 球场 和 社区 设施 ， 环境 很 好 很 安静 。'"
      ]
     },
     "execution_count": 5,
     "metadata": {},
     "output_type": "execute_result"
    }
   ],
   "source": [
    "sents[0]"
   ]
  },
  {
   "cell_type": "code",
   "execution_count": 6,
   "metadata": {},
   "outputs": [
    {
     "data": {
      "text/plain": [
       "str"
      ]
     },
     "execution_count": 6,
     "metadata": {},
     "output_type": "execute_result"
    }
   ],
   "source": [
    "type(sents[0])"
   ]
  },
  {
   "cell_type": "code",
   "execution_count": 7,
   "metadata": {},
   "outputs": [],
   "source": [
    "without_punct = []\n",
    "for sent in sents:\n",
    "    stripped = re.sub(r'[^\\w\\s]', '', sent)\n",
    "    without_punct.append(stripped)"
   ]
  },
  {
   "cell_type": "code",
   "execution_count": 8,
   "metadata": {},
   "outputs": [
    {
     "data": {
      "text/plain": [
       "'rich neighborhood  非常 安全  这里 属于 富人 区   旁边 就 是 公园  附近 还有 配套 的 各 种 球场 和 社区 设施  环境 很 好 很 安静 '"
      ]
     },
     "execution_count": 8,
     "metadata": {},
     "output_type": "execute_result"
    }
   ],
   "source": [
    "without_punct[0]"
   ]
  },
  {
   "cell_type": "code",
   "execution_count": 9,
   "metadata": {},
   "outputs": [],
   "source": [
    "split_sent = without_punct[0].split()"
   ]
  },
  {
   "cell_type": "code",
   "execution_count": 10,
   "metadata": {},
   "outputs": [
    {
     "data": {
      "text/plain": [
       "False"
      ]
     },
     "execution_count": 10,
     "metadata": {},
     "output_type": "execute_result"
    }
   ],
   "source": [
    "split_sent[2].isascii()"
   ]
  },
  {
   "cell_type": "code",
   "execution_count": 11,
   "metadata": {},
   "outputs": [],
   "source": [
    "def process(sent):\n",
    "    before_cs = []\n",
    "    cs_back = []\n",
    "    after_cs = []\n",
    "\n",
    "    bools = []\n",
    "    split = sent.split()\n",
    "    for char in split:\n",
    "        bools.append(char.isascii() and char.isalpha())\n",
    "\n",
    "    if bools[0]: #sentence starts with a code-switch\n",
    "        #print('here in if')\n",
    "        first_false = bools.index(False)\n",
    "        cs_back.append(split[first_false])\n",
    "        after_cs.extend(split[first_false+1:])\n",
    "\n",
    "    elif bools[-1]: #sentence ends with a code-switch e.g. F, F, F, T\n",
    "        #print('here in elif')\n",
    "        num_true = bools.count(True)\n",
    "        if False not in bools[-num_true:]: #all the Trues are at the end together i.e. only ONE code-switch at the end\n",
    "            reversed_bools = bools[::-1] #e.g. T, F, F, F\n",
    "            last_false = reversed_bools.index(False) #e.g. 1\n",
    "            before_cs.extend(split[:-(last_false)])\n",
    "        else:\n",
    "            for pos in range(len(bools)):\n",
    "                if bools[pos]:\n",
    "                    before_cs.extend(split[:pos])\n",
    "                    new_bools = bools[pos:]\n",
    "                    new_split = split[pos:]\n",
    "                    break\n",
    "\n",
    "            false_index = new_bools.index(False)\n",
    "            cs_back.append(new_split[false_index])\n",
    "            after_cs.extend(new_split[false_index+1:])  \n",
    "\n",
    "    else: #code-switch somewhere in the middle of sentence\n",
    "        #print('here in else')\n",
    "        for pos in range(len(bools)):\n",
    "            #e.g. [F, F, F, F, F, T, T, T, F, F]\n",
    "            if bools[pos]:\n",
    "                before_cs.extend(split[:pos])\n",
    "                new_bools = bools[pos:]\n",
    "                new_split = split[pos:]\n",
    "                #e.g. [T, T, T, F, F]\n",
    "                break\n",
    "\n",
    "        false_index = new_bools.index(False)\n",
    "        cs_back.append(new_split[false_index])\n",
    "        after_cs.extend(new_split[false_index+1:])     \n",
    "\n",
    "    return(\" \".join(before_cs), \" \".join(cs_back), \" \".join(after_cs))"
   ]
  },
  {
   "cell_type": "code",
   "execution_count": 12,
   "metadata": {},
   "outputs": [
    {
     "data": {
      "text/plain": [
       "('想 找 12 间 带 家具 的', '或者', 'apartment room')"
      ]
     },
     "execution_count": 12,
     "metadata": {},
     "output_type": "execute_result"
    }
   ],
   "source": [
    "process(without_punct[37])"
   ]
  },
  {
   "cell_type": "code",
   "execution_count": 13,
   "metadata": {},
   "outputs": [
    {
     "data": {
      "text/plain": [
       "'想 找 12 间 带 家具 的 house room 或者 apartment room '"
      ]
     },
     "execution_count": 13,
     "metadata": {},
     "output_type": "execute_result"
    }
   ],
   "source": [
    "without_punct[37]"
   ]
  },
  {
   "cell_type": "code",
   "execution_count": 14,
   "metadata": {},
   "outputs": [
    {
     "name": "stdout",
     "output_type": "stream",
     "text": [
      "有 被子\n",
      "特性\n",
      "暖和 又 轻便\n"
     ]
    }
   ],
   "source": [
    "before_cs_full = []\n",
    "cs_back_full = []\n",
    "after_cs_full = []\n",
    "\n",
    "for sent in without_punct:\n",
    "    before_cs_full.append(process(sent)[0])\n",
    "    cs_back_full.append(process(sent)[1])\n",
    "    after_cs_full.append(process(sent)[2])\n",
    "    \n",
    "print(before_cs_full[566])\n",
    "print(cs_back_full[566])\n",
    "print(after_cs_full[566])\n",
    "    "
   ]
  },
  {
   "cell_type": "code",
   "execution_count": 16,
   "metadata": {},
   "outputs": [
    {
     "data": {
      "text/plain": [
       "'被子'"
      ]
     },
     "execution_count": 16,
     "metadata": {},
     "output_type": "execute_result"
    }
   ],
   "source": [
    "before_cs_full[566].split()[-1]"
   ]
  },
  {
   "cell_type": "code",
   "execution_count": 135,
   "metadata": {},
   "outputs": [],
   "source": [
    "#print(after_cs_full)"
   ]
  },
  {
   "cell_type": "code",
   "execution_count": 17,
   "metadata": {},
   "outputs": [],
   "source": [
    "textfile = open(\"code_switched_sentences_word_before_cs.txt\", \"w\")\n",
    "for elt in before_cs_full:\n",
    "    if len(elt)>0:\n",
    "        split = elt.split()\n",
    "        textfile.write(split[-1] + \"\\n\")\n",
    "textfile.close()"
   ]
  },
  {
   "cell_type": "code",
   "execution_count": 15,
   "metadata": {},
   "outputs": [],
   "source": [
    "textfile = open(\"code_switched_sentences_before_cs.txt\", \"w\")\n",
    "for elt in before_cs_full:\n",
    "    if len(elt)>0:\n",
    "        textfile.write(elt + \"\\n\")\n",
    "textfile. close()"
   ]
  },
  {
   "cell_type": "code",
   "execution_count": 16,
   "metadata": {},
   "outputs": [],
   "source": [
    "textfile = open(\"code_switched_sentences_cs_back.txt\", \"w\")\n",
    "for elt in cs_back_full:\n",
    "    if len(elt)>0:\n",
    "        textfile.write(elt + \"\\n\")\n",
    "textfile. close()"
   ]
  },
  {
   "cell_type": "code",
   "execution_count": 17,
   "metadata": {},
   "outputs": [],
   "source": [
    "textfile = open(\"code_switched_sentences_after_cs.txt\", \"w\")\n",
    "for elt in after_cs_full:\n",
    "    if len(elt)>0:\n",
    "        textfile.write(elt + \"\\n\")\n",
    "textfile. close()"
   ]
  },
  {
   "cell_type": "code",
   "execution_count": null,
   "metadata": {},
   "outputs": [],
   "source": []
  }
 ],
 "metadata": {
  "kernelspec": {
   "display_name": "Python 3",
   "language": "python",
   "name": "python3"
  },
  "language_info": {
   "codemirror_mode": {
    "name": "ipython",
    "version": 3
   },
   "file_extension": ".py",
   "mimetype": "text/x-python",
   "name": "python",
   "nbconvert_exporter": "python",
   "pygments_lexer": "ipython3",
   "version": "3.7.6"
  }
 },
 "nbformat": 4,
 "nbformat_minor": 4
}
