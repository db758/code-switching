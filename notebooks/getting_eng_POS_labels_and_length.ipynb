{
 "cells": [
  {
   "cell_type": "code",
   "execution_count": 15,
   "metadata": {},
   "outputs": [
    {
     "name": "stderr",
     "output_type": "stream",
     "text": [
      "/Library/Frameworks/Python.framework/Versions/3.7/lib/python3.7/site-packages/spacy/util.py:275: UserWarning: [W031] Model 'en_core_web_sm' (2.2.0) requires spaCy v2.2 and is incompatible with the current spaCy version (2.3.4). This may lead to unexpected results or runtime errors. To resolve this, download a newer compatible model or retrain your custom model with the current spaCy version. For more details and available updates, run: python -m spacy validate\n",
      "  warnings.warn(warn_msg)\n"
     ]
    }
   ],
   "source": [
    "import spacy\n",
    "from nltk import tokenize\n",
    "nlp = spacy.load(\"en_core_web_sm\")"
   ]
  },
  {
   "cell_type": "code",
   "execution_count": 52,
   "metadata": {},
   "outputs": [],
   "source": [
    "#file = open(\"cs_first_cs_word_form.txt\",\"r+\")\n",
    "file = open(\"non_cs_first_cs_word_form.txt\",\"r+\")\n",
    "p = file.read()\n",
    "tokenized = p.splitlines()"
   ]
  },
  {
   "cell_type": "code",
   "execution_count": 53,
   "metadata": {},
   "outputs": [
    {
     "name": "stdout",
     "output_type": "stream",
     "text": [
      "1476\n"
     ]
    }
   ],
   "source": [
    "print(len(tokenized))"
   ]
  },
  {
   "cell_type": "code",
   "execution_count": 54,
   "metadata": {},
   "outputs": [],
   "source": [
    "tags = []\n",
    "#words = []\n",
    "for word in tokenized:\n",
    "    #words.append(word)\n",
    "    doc = nlp(word)\n",
    "    for token in doc:\n",
    "        tags.append(token.tag_)\n",
    "        break\n",
    "        "
   ]
  },
  {
   "cell_type": "code",
   "execution_count": 55,
   "metadata": {},
   "outputs": [],
   "source": [
    "#print(len(words))"
   ]
  },
  {
   "cell_type": "code",
   "execution_count": 56,
   "metadata": {},
   "outputs": [
    {
     "name": "stdout",
     "output_type": "stream",
     "text": [
      "['NN', 'NNS', 'NNP', 'NN', 'JJ', 'NN', 'NNS', 'JJ', 'VBG', 'NNS', 'VB', 'JJ', 'JJ', 'JJ', 'JJ', 'NNP', 'JJ', 'WP', 'JJ', 'NNP', 'VB', 'NN', 'VB', 'NNP', 'NNS', 'JJ', 'VB', 'NN', 'JJ', 'NN', 'RB', 'NN', 'LS', 'JJR', 'NNS', 'VBD', 'NNP', 'NN', 'CD', 'JJ', 'NN', 'DT', 'NN', 'JJ', 'NN', 'NN', 'NNP', 'JJ', 'RB', 'NN', 'NNS', 'NNP', 'NN', 'NNP', 'NN', 'NNS', 'MD', 'VBD', 'NN', 'NNP', 'VBG', 'VBG', 'JJ', 'JJ', 'DT', 'JJ', 'VB', 'NNP', 'CD', 'DT', 'NN', 'NNS', 'IN', 'IN', 'NN', 'NN', 'NNP', 'JJ', 'NN', 'VBD', 'NN', 'NN', 'VBN', 'NNP', 'JJ', 'NNP', 'NN', 'DT', 'JJ', 'VBP', 'JJR', 'VBG', 'DT', 'NNP', 'VBZ', 'NNP', 'VB', 'RB', 'NN', 'RB', 'NNS', 'VB', 'NN', 'RB', 'DT', 'NNP', 'NNP', 'NN', 'DT', 'NN', 'DT', 'NN', 'VB', 'NN', 'NN', 'NNS', 'NN', 'NN', 'NNS', 'JJ', 'NN', 'NNP', 'DT', 'RB', 'JJ', 'NN', 'JJ', 'RB', 'NNP', 'NNS', 'NNS', 'NNP', 'VBN', 'NN', 'LS', 'DT', 'DT', 'NN', 'NN', 'JJ', 'NNP', 'NNP', 'NN', 'NNP', 'NN', 'NNP', 'DT', 'NN', 'NN', 'VB', 'DT', 'NN', 'NN', 'VB', 'NN', 'NNP', 'NN', 'VBG', 'NN', 'DT', 'JJ', 'VB', 'NNS', 'VBN', 'NNS', 'NNP', 'VBN', 'NN', 'VBD', 'NN', 'CC', 'DT', 'NNS', 'CD', 'MD', 'NN', 'NNP', 'NN', 'NN', 'DT', 'NNS', 'RB', 'MD', 'NN', 'CC', 'JJ', 'DT', 'NN', 'DT', 'DT', 'NN', 'NNP', 'NN', 'NN', 'NNP', 'NN', 'NNP', 'VBN', 'VBP', 'JJ', 'VB', 'NNP', 'JJ', 'NNS', 'JJ', 'VB', 'NN', 'NN', 'RB', 'NN', 'VBN', 'NN', 'JJ', 'NNP', 'JJ', 'NNP', 'NNP', 'NNS', 'DT', 'NN', 'NN', 'NN', 'NNS', 'NN', 'VBG', 'JJ', 'NN', 'CD', 'NN', 'NNP', 'NN', 'VBP', 'NN', 'NN', 'NN', 'NN', 'NN', 'JJ', 'NNP', 'NN', 'VB', 'NN', 'DT', 'VB', 'NNS', 'NNS', 'NN', 'NN', 'NN', 'NNP', 'NNS', 'NN', 'RB', 'NNP', 'NN', 'NN', 'VBZ', 'NNP', 'IN', 'VBD', 'CD', 'NNS', 'NNS', 'VB', 'NN', 'RB', 'NN', 'NNP', 'NNP', 'NN', 'IN', 'NN', 'NNP', 'NNS', 'NNS', 'NNS', 'NN', 'NN', 'NN', 'NN', 'NNP', 'NNP', 'NN', 'DT', 'DT', 'NNP', 'NN', 'DT', 'DT', 'NNP', 'JJ', 'NN', 'NNS', 'NN', 'NN', 'NN', 'NN', 'NN', 'NNS', 'NN', 'NN', 'DT', 'JJ', 'NN', 'NN', 'JJ', 'DT', 'NNP', 'DT', 'NNP', 'DT', 'NNS', 'NN', 'RB', 'NNS', 'DT', 'DT', 'JJ', 'DT', 'NN', 'NNS', 'RB', 'RB', 'NNP', 'NN', 'NN', 'NNP', 'NN', 'NNS', 'JJ', 'NN', 'NN', 'NN', 'JJ', 'NNP', 'NN', 'NN', 'JJ', 'DT', 'DT', 'NNP', 'NN', 'NN', 'JJ', 'NN', 'NNP', 'NN', 'NN', 'NN', 'VBG', 'NNP', 'DT', 'NN', 'IN', 'NN', 'NN', 'NN', 'VBN', 'NN', 'NNP', 'NNP', 'RB', 'NN', 'NNS', 'NN', 'NNS', 'NNP', 'NN', 'RB', 'NNP', 'NNS', 'NN', 'VB', 'NN', 'NN', 'NN', 'NNP', 'NNS', 'NNS', 'NN', 'PRP', 'NN', 'NN', 'JJ', 'CC', 'NN', 'DT', 'RB', 'NNP', 'VBG', 'NN', 'NN', 'NN', 'NN', 'NN', 'NNS', 'NN', 'DT', 'NN', 'NN', 'NN', 'NN', 'NN', 'DT', 'NNP', 'JJ', 'NN', 'NN', 'NNS', 'NNP', 'CD', 'NN', 'DT', 'DT', 'JJ', 'NNS', 'RB', 'IN', 'NNP', 'NNP', 'NNP', 'JJR', 'NNP', 'NN', 'PRP$', 'NNP', 'DT', 'NNP', 'NN', 'NNS', 'NN', 'NNP', 'NNP', 'VB', 'VBD', 'NNP', 'JJ', 'IN', 'DT', 'NN', 'NNS', 'NNS', 'NN', 'NN', 'NN', 'NN', 'DT', 'NN', 'NN', 'IN', 'NN', 'NN', 'JJ', 'UH', 'NN', 'NN', 'NNP', 'NN', 'NN', 'JJ', 'NNP', 'NN', 'NN', 'VB', 'NN', 'NNS', 'VBZ', 'JJ', 'DT', 'DT', 'NN', 'NN', 'NN', 'NNS', 'NN', 'NNS', 'VB', 'NN', 'NNP', 'DT', 'NNP', 'NN', 'NN', 'VBG', 'DT', 'JJ', 'NNP', 'NN', 'NN', 'NN', 'EX', 'NN', 'PRP', 'NNP', 'NNP', 'NNS', 'NN', 'JJ', 'NNS', 'NNP', 'NNS', 'NNS', 'NN', 'NN', 'RB', 'NN', 'RB', 'VB', 'EX', 'NN', 'NNS', 'NN', 'NN', 'NNS', 'CD', 'NN', 'NNS', 'NN', 'JJ', 'RB', 'DT', 'RB', 'NN', 'VBP', 'DT', 'RB', 'NNS', 'DT', 'JJ', 'NNS', 'UH', 'EX', 'NN', 'NNS', 'NN', 'NNP', 'UH', 'NN', 'JJ', 'VBG', 'LS', 'NN', 'NNP', 'VB', 'UH', 'JJ', 'VBN', 'NN', 'EX', 'IN', 'NN', 'VB', 'RB', 'NN', 'JJ', 'JJ', 'NNS', 'NNS', 'RB', 'NNS', 'JJR', 'IN', 'DT', 'NNS', 'RB', 'VBD', 'NNP', 'NN', 'NN', 'NN', 'MD', 'JJ', 'NNP', 'IN', 'NNS', 'NNS', 'DT', 'NNP', 'NN', 'IN', 'JJ', 'NNP', 'JJ', 'PRP', 'IN', 'IN', 'NN', 'JJ', 'RB', 'NNP', 'NN', 'NN', 'NN', 'RB', 'NNP', 'NNP', 'NNP', 'NN', 'JJ', 'NN', 'NN', 'RB', 'DT', 'JJ', 'NN', 'JJ', 'MD', 'VBZ', 'NNP', 'RB', 'VBG', 'NNP', 'VB', 'PRP', 'NNP', 'DT', 'RB', 'NNS', 'NNP', 'NN', 'PRP', 'NN', 'NN', 'NN', 'NN', 'NN', 'NNP', 'VBG', 'DT', 'NN', 'VB', 'JJ', 'NN', 'DT', 'NN', 'NN', 'RB', 'JJ', 'VB', 'JJ', 'JJ', 'CD', 'CD', 'NNP', 'JJ', 'VB', 'MD', 'DT', 'IN', 'JJ', 'DT', 'JJ', 'NN', 'IN', 'NN', 'NN', 'VBD', 'VBZ', 'NN', 'NNP', 'NNS', 'NN', 'NNP', 'NN', 'NN', 'IN', 'NN', 'NNP', 'NNS', 'NNS', 'VB', 'NN', 'JJ', 'NN', 'NN', 'NN', 'PRP$', 'DT', 'NN', 'NNP', 'NN', 'NN', 'NN', 'NN', 'NN', 'NNP', 'JJ', 'VB', 'JJ', 'DT', 'UH', 'NN', 'NN', 'PRP', 'NN', 'NNP', 'NN', 'RB', 'NN', 'NN', 'NNP', 'TO', 'JJ', 'NN', 'VB', 'NN', 'VB', 'NN', 'NNP', 'NN', 'NNP', 'JJ', 'DT', 'NN', 'VB', 'JJ', 'JJ', 'JJ', 'JJ', 'NN', 'NN', 'NN', 'NN', 'NNS', 'IN', 'LS', 'NN', 'EX', 'CD', 'VBG', 'IN', 'MD', 'NN', 'NN', 'NN', 'VBG', 'WDT', 'NNP', 'NN', 'NN', 'NN', 'NNS', 'NNP', 'NNS', 'NN', 'NN', 'VBP', 'NNP', 'NN', 'IN', 'JJ', 'DT', 'NN', 'NN', 'NNS', 'NNP', 'VBN', 'VB', 'NNP', 'NN', 'MD', 'NNP', 'NN', 'NN', 'CD', 'NNP', 'NNP', 'NN', 'VB', 'NN', 'NN', 'NN', 'NNS', 'NNS', 'NNS', 'VB', 'VBN', 'RB', 'VBG', 'VB', 'NNS', 'NNP', 'NNP', 'NNP', 'JJ', 'NN', 'NNP', 'NN', 'UH', 'RBR', 'NNP', 'NN', 'VBP', 'VBP', 'UH', 'NNS', 'VBZ', 'JJ', 'NN', 'NN', 'IN', 'RB', 'NN', 'NNP', 'PRP', 'CD', 'NN', 'NNS', 'NN', 'NNP', 'VBP', 'LS', 'VB', 'DT', 'JJ', 'NNP', 'NN', 'JJS', 'NN', 'RB', 'IN', 'IN', 'DT', 'NN', 'DT', 'NN', 'NN', 'NN', 'NN', 'DT', 'NNP', 'NN', 'NN', 'NN', 'VBN', 'NN', 'NN', 'NNP', 'VB', 'NN', 'NNP', 'NN', 'VBN', 'RB', 'NN', 'CD', 'NNS', 'NN', 'NN', 'RB', 'JJ', 'DT', 'DT', 'NN', 'NN', 'NN', 'JJ', 'NNP', 'RB', 'VBN', 'NNS', 'RB', 'NNP', 'NNS', 'NN', 'NNP', 'JJ', 'VBN', 'NN', 'UH', 'JJ', 'DT', 'NN', 'NNP', 'NN', 'NN', 'VBN', 'VB', 'NNP', 'NNS', 'NNP', 'NN', 'NNS', 'DT', 'NNP', 'VBG', 'DT', 'JJ', 'WRB', 'NNP', 'NN', 'NN', 'NNP', 'NN', 'IN', 'DT', 'IN', 'NNS', 'NNS', 'NN', 'VB', 'NN', 'NN', 'NNP', 'DT', 'JJ', 'VBP', 'UH', 'NN', 'NNS', 'VBN', 'NN', 'NNP', 'JJ', 'NN', 'JJ', 'NN', 'JJ', 'NNP', 'JJ', 'NNS', 'JJ', 'DT', 'NN', 'JJ', 'NNP', 'NNS', 'NN', 'NN', 'NN', 'NNS', 'VBN', 'DT', 'DT', 'NNP', 'DT', 'NNP', 'RB', 'NN', 'PRP', 'JJ', 'VBN', 'NNP', 'IN', 'PRP', 'NN', 'NN', 'PRP$', 'NN', 'NN', 'NNP', 'NN', 'NN', 'NN', 'NNS', 'JJ', 'RB', 'NNP', 'DT', 'JJ', 'JJ', 'NNP', 'PRP', 'VBN', 'JJ', 'DT', 'CC', 'VBG', 'NN', 'VB', 'NN', 'DT', 'NNP', 'RB', 'NN', 'PRP', 'NN', 'NN', 'NNS', 'JJ', 'NN', 'NNP', 'DT', 'NNS', 'NN', 'JJ', 'NNP', 'LS', 'NNS', 'VBP', 'JJ', 'NNP', 'NN', 'NNS', 'NNP', 'NNP', 'DT', 'NNP', 'DT', 'NNS', 'JJ', 'NNP', 'NNP', 'JJ', 'NNP', 'NN', 'NN', 'VB', 'NNS', 'NNP', 'RB', 'DT', 'NN', 'NNP', 'MD', 'NNP', 'JJ', 'UH', 'CC', 'NNP', 'NN', 'NNS', 'NN', 'DT', 'VBP', 'NN', 'NNS', 'JJ', 'MD', 'NN', 'DT', 'DT', 'DT', 'NN', 'NNS', 'NN', 'NN', 'NN', 'NN', 'NN', 'NN', 'JJ', 'RB', 'RB', 'NN', 'NN', 'DT', 'NNP', 'NN', 'NN', 'NN', 'NN', 'NN', 'NN', 'NN', 'RB', 'JJ', 'VBG', 'NN', 'NN', 'RB', 'NN', 'NN', 'DT', 'NN', 'JJ', 'NNS', 'JJR', 'NN', 'NN', 'NN', 'NN', 'NN', 'PRP', 'NNS', 'JJ', 'VB', 'NN', 'NNP', 'NNP', 'NN', 'NN', 'NN', 'NN', 'NN', 'NNP', 'NN', 'CD', 'RBS', 'NNP', 'NNS', 'RB', 'NN', 'VBG', 'NN', 'CD', 'NN', 'NNP', 'NN', 'VB', 'NN', 'VBD', 'VBN', 'NNP', 'DT', 'NN', 'VB', 'NN', 'NN', 'RB', 'NN', 'NN', 'NNS', 'RB', 'NN', 'NN', 'NN', 'NNP', 'JJ', 'NN', 'MD', 'DT', 'VBN', 'NN', 'NNP', 'JJ', 'JJ', 'NN', 'NNP', 'RB', 'NN', 'NNP', 'NN', 'PRP', 'JJ', 'PRP', 'NN', 'NNS', 'NN', 'NNP', 'CD', 'PRP', 'NN', 'NNP', 'NN', 'NN', 'JJ', 'VB', 'RB', 'JJ', 'CC', 'NNS', 'JJ', 'NNP', 'JJ', 'NNS', 'NNP', 'NN', 'NN', 'NNP', 'NNP', 'NN', 'PRP', 'NN', 'NN', 'NN', 'PRP', 'NNP', 'IN', 'JJ', 'DT', 'VBN', 'NNP', 'JJ', 'VB', 'VB', 'NN', 'NN', 'NN', 'NN', 'NNS', 'VBN', 'NN', 'JJ', 'NNP', 'NNP', 'NNS', 'NN', 'NNP', 'NN', 'RB', 'DT', 'JJ', 'NN', 'NNS', 'NN', 'NNS', 'JJS', 'UH', 'VB', 'VB', 'NNP', 'JJ', 'CD', 'NNS', 'NN', 'JJ', 'DT', 'NNP', 'JJ', 'NNP', 'NNP', 'NN', 'NN', 'NNP', 'NN', 'PRP', 'NN', 'JJ', 'NNS', 'NN', 'NNP', 'NN', 'NN', 'NNS', 'NN', 'NNS', 'NNS', 'NN', 'JJ', 'NNP', 'NN', 'NN', 'VB', 'NNP', 'IN', 'IN', 'UH', 'NN', 'CC', 'NN', 'IN', 'NNS', 'NNS', 'NN', 'RB', 'VB', 'VBN', 'NNS', 'DT', 'RB', 'NN', 'JJ', 'NN', 'NN', 'NN', 'JJ', 'NN', 'VB', 'VBN', 'JJ', 'NNP', 'JJ', 'CC', 'JJ', 'NN', 'JJ', 'NN', 'JJ', 'JJ', 'NNP', 'NN', 'NNP', 'NN', 'NN', 'NN', 'NNP', 'JJ', 'NN', 'NN', 'JJ', 'PRP', 'NN', 'IN', 'NN', 'JJ', 'NN', 'VB', 'NN', 'NN', 'NN', 'JJ', 'NNS', 'NNS', 'NNP', 'CC', 'JJ', 'NN', 'JJ', 'NN', 'NN', 'IN', 'JJ', 'VBZ', 'VBN', 'NN', 'NNP', 'JJ', 'RB', 'IN', 'RBR', 'NN', 'NNP', 'NN', 'VBG', 'VBD', 'NN', 'NN', 'VBG', 'NNP', 'NNP', 'RB', 'VB', 'VB', 'JJ', 'NNP', 'VB', 'NN', 'NNP', 'NN', 'JJ', 'NN', 'VB', 'NN', 'NNP', 'RB', 'NN', 'JJ', 'NN', 'VB', 'MD', 'VB', 'NNP', 'JJ', 'JJ', 'NN', 'NNP', 'UH', 'NNS', 'NN', 'NN', 'NNP', 'RB', 'NNS', 'RB', 'NNS', 'NN', 'DT', 'NN', 'NN', 'NN', 'RB', 'NNP', 'DT', 'DT', 'NNP', 'RB', 'NNS', 'NNS', 'EX', 'DT', 'NN', 'NNP', 'RB', 'NNP', 'VB', 'NNS', 'JJ', 'NNP', 'NN', 'NNP', 'IN', 'RB', 'NNS', 'IN', 'JJ', 'VBZ', 'NN', 'JJ', 'NNP', 'DT', 'DT', 'JJ', 'VBN', 'NN', 'JJ', 'NNP', 'NNS', 'VBN', 'NN', 'NNP', 'NN', 'VBG', 'NN', 'WRB', 'NNS', 'NNS', 'NNS', 'NN', 'NNS', 'JJ', 'NN', 'VBG', 'NNP', 'NN', 'NN', 'EX', 'NN', 'NN', 'DT', 'NNS', 'NN', 'RB', 'NN', 'VBD', 'NN', 'NN', 'NN', 'JJ', 'NNP', 'IN', 'DT', 'NNP', 'VB', 'VB', 'NN', 'NNS', 'DT', 'NNS', 'IN', 'NNP', 'IN', 'NN', 'NN', 'NN', 'NN', 'NN', 'NNS', 'JJ', 'NN', 'NN', 'NN', 'IN', 'NNP', 'JJ', 'NNP', 'NNS', 'NN', 'NN', 'NNS', 'VB', 'NNP', 'NN', 'VBG', 'JJ', 'NN', 'NN', 'JJ', 'RB', 'NN', 'NNS', 'NNS', 'JJ', 'NN', 'NN', 'NN']\n"
     ]
    }
   ],
   "source": [
    "print(tags)"
   ]
  },
  {
   "cell_type": "code",
   "execution_count": 57,
   "metadata": {},
   "outputs": [],
   "source": [
    "coded_POS = []\n",
    "for tag in tags:\n",
    "    if tag == 'NN' or tag == 'NNP' or tag == 'NNS' or tag == 'NNPS':\n",
    "        coded_POS.append(0)\n",
    "    elif 'V' in tag:\n",
    "        coded_POS.append(1)\n",
    "    else:\n",
    "        coded_POS.append(2)"
   ]
  },
  {
   "cell_type": "code",
   "execution_count": 58,
   "metadata": {},
   "outputs": [
    {
     "name": "stdout",
     "output_type": "stream",
     "text": [
      "1476\n"
     ]
    }
   ],
   "source": [
    "print(len(coded_POS))"
   ]
  },
  {
   "cell_type": "code",
   "execution_count": 59,
   "metadata": {},
   "outputs": [
    {
     "name": "stdout",
     "output_type": "stream",
     "text": [
      "[0, 0, 0, 0, 2, 0, 0, 2, 1, 0, 1, 2, 2, 2, 2, 0, 2, 2, 2, 0, 1, 0, 1, 0, 0, 2, 1, 0, 2, 0, 2, 0, 2, 2, 0, 1, 0, 0, 2, 2, 0, 2, 0, 2, 0, 0, 0, 2, 2, 0, 0, 0, 0, 0, 0, 0, 2, 1, 0, 0, 1, 1, 2, 2, 2, 2, 1, 0, 2, 2, 0, 0, 2, 2, 0, 0, 0, 2, 0, 1, 0, 0, 1, 0, 2, 0, 0, 2, 2, 1, 2, 1, 2, 0, 1, 0, 1, 2, 0, 2, 0, 1, 0, 2, 2, 0, 0, 0, 2, 0, 2, 0, 1, 0, 0, 0, 0, 0, 0, 2, 0, 0, 2, 2, 2, 0, 2, 2, 0, 0, 0, 0, 1, 0, 2, 2, 2, 0, 0, 2, 0, 0, 0, 0, 0, 0, 2, 0, 0, 1, 2, 0, 0, 1, 0, 0, 0, 1, 0, 2, 2, 1, 0, 1, 0, 0, 1, 0, 1, 0, 2, 2, 0, 2, 2, 0, 0, 0, 0, 2, 0, 2, 2, 0, 2, 2, 2, 0, 2, 2, 0, 0, 0, 0, 0, 0, 0, 1, 1, 2, 1, 0, 2, 0, 2, 1, 0, 0, 2, 0, 1, 0, 2, 0, 2, 0, 0, 0, 2, 0, 0, 0, 0, 0, 1, 2, 0, 2, 0, 0, 0, 1, 0, 0, 0, 0, 0, 2, 0, 0, 1, 0, 2, 1, 0, 0, 0, 0, 0, 0, 0, 0, 2, 0, 0, 0, 1, 0, 2, 1, 2, 0, 0, 1, 0, 2, 0, 0, 0, 0, 2, 0, 0, 0, 0, 0, 0, 0, 0, 0, 0, 0, 0, 2, 2, 0, 0, 2, 2, 0, 2, 0, 0, 0, 0, 0, 0, 0, 0, 0, 0, 2, 2, 0, 0, 2, 2, 0, 2, 0, 2, 0, 0, 2, 0, 2, 2, 2, 2, 0, 0, 2, 2, 0, 0, 0, 0, 0, 0, 2, 0, 0, 0, 2, 0, 0, 0, 2, 2, 2, 0, 0, 0, 2, 0, 0, 0, 0, 0, 1, 0, 2, 0, 2, 0, 0, 0, 1, 0, 0, 0, 2, 0, 0, 0, 0, 0, 0, 2, 0, 0, 0, 1, 0, 0, 0, 0, 0, 0, 0, 2, 0, 0, 2, 2, 0, 2, 2, 0, 1, 0, 0, 0, 0, 0, 0, 0, 2, 0, 0, 0, 0, 0, 2, 0, 2, 0, 0, 0, 0, 2, 0, 2, 2, 2, 0, 2, 2, 0, 0, 0, 2, 0, 0, 2, 0, 2, 0, 0, 0, 0, 0, 0, 1, 1, 0, 2, 2, 2, 0, 0, 0, 0, 0, 0, 0, 2, 0, 0, 2, 0, 0, 2, 2, 0, 0, 0, 0, 0, 2, 0, 0, 0, 1, 0, 0, 1, 2, 2, 2, 0, 0, 0, 0, 0, 0, 1, 0, 0, 2, 0, 0, 0, 1, 2, 2, 0, 0, 0, 0, 2, 0, 2, 0, 0, 0, 0, 2, 0, 0, 0, 0, 0, 0, 2, 0, 2, 1, 2, 0, 0, 0, 0, 0, 2, 0, 0, 0, 2, 2, 2, 2, 0, 1, 2, 2, 0, 2, 2, 0, 2, 2, 0, 0, 0, 0, 2, 0, 2, 1, 2, 0, 0, 1, 2, 2, 1, 0, 2, 2, 0, 1, 2, 0, 2, 2, 0, 0, 2, 0, 2, 2, 2, 0, 2, 1, 0, 0, 0, 0, 2, 2, 0, 2, 0, 0, 2, 0, 0, 2, 2, 0, 2, 2, 2, 2, 0, 2, 2, 0, 0, 0, 0, 2, 0, 0, 0, 0, 2, 0, 0, 2, 2, 2, 0, 2, 2, 1, 0, 2, 1, 0, 1, 2, 0, 2, 2, 0, 0, 0, 2, 0, 0, 0, 0, 0, 0, 1, 2, 0, 1, 2, 0, 2, 0, 0, 2, 2, 1, 2, 2, 2, 2, 0, 2, 1, 2, 2, 2, 2, 2, 2, 0, 2, 0, 0, 1, 1, 0, 0, 0, 0, 0, 0, 0, 2, 0, 0, 0, 0, 1, 0, 2, 0, 0, 0, 2, 2, 0, 0, 0, 0, 0, 0, 0, 0, 2, 1, 2, 2, 2, 0, 0, 2, 0, 0, 0, 2, 0, 0, 0, 2, 2, 0, 1, 0, 1, 0, 0, 0, 0, 2, 2, 0, 1, 2, 2, 2, 2, 0, 0, 0, 0, 0, 2, 2, 0, 2, 2, 1, 2, 2, 0, 0, 0, 1, 2, 0, 0, 0, 0, 0, 0, 0, 0, 0, 1, 0, 0, 2, 2, 2, 0, 0, 0, 0, 1, 1, 0, 0, 2, 0, 0, 0, 2, 0, 0, 0, 1, 0, 0, 0, 0, 0, 0, 1, 1, 2, 1, 1, 0, 0, 0, 0, 2, 0, 0, 0, 2, 2, 0, 0, 1, 1, 2, 0, 1, 2, 0, 0, 2, 2, 0, 0, 2, 2, 0, 0, 0, 0, 1, 2, 1, 2, 2, 0, 0, 2, 0, 2, 2, 2, 2, 0, 2, 0, 0, 0, 0, 2, 0, 0, 0, 0, 1, 0, 0, 0, 1, 0, 0, 0, 1, 2, 0, 2, 0, 0, 0, 2, 2, 2, 2, 0, 0, 0, 2, 0, 2, 1, 0, 2, 0, 0, 0, 0, 2, 1, 0, 2, 2, 2, 0, 0, 0, 0, 1, 1, 0, 0, 0, 0, 0, 2, 0, 1, 2, 2, 2, 0, 0, 0, 0, 0, 2, 2, 2, 0, 0, 0, 1, 0, 0, 0, 2, 2, 1, 2, 0, 0, 1, 0, 0, 2, 0, 2, 0, 2, 0, 2, 0, 2, 2, 0, 2, 0, 0, 0, 0, 0, 0, 1, 2, 2, 0, 2, 0, 2, 0, 2, 2, 1, 0, 2, 2, 0, 0, 2, 0, 0, 0, 0, 0, 0, 0, 2, 2, 0, 2, 2, 2, 0, 2, 1, 2, 2, 2, 1, 0, 1, 0, 2, 0, 2, 0, 2, 0, 0, 0, 2, 0, 0, 2, 0, 0, 2, 0, 2, 0, 1, 2, 0, 0, 0, 0, 0, 2, 0, 2, 0, 2, 0, 0, 2, 0, 0, 0, 1, 0, 0, 2, 2, 0, 0, 2, 0, 2, 2, 2, 0, 0, 0, 0, 2, 1, 0, 0, 2, 2, 0, 2, 2, 2, 0, 0, 0, 0, 0, 0, 0, 0, 2, 2, 2, 0, 0, 2, 0, 0, 0, 0, 0, 0, 0, 0, 2, 2, 1, 0, 0, 2, 0, 0, 2, 0, 2, 0, 2, 0, 0, 0, 0, 0, 2, 0, 2, 1, 0, 0, 0, 0, 0, 0, 0, 0, 0, 0, 2, 2, 0, 0, 2, 0, 1, 0, 2, 0, 0, 0, 1, 0, 1, 1, 0, 2, 0, 1, 0, 0, 2, 0, 0, 0, 2, 0, 0, 0, 0, 2, 0, 2, 2, 1, 0, 0, 2, 2, 0, 0, 2, 0, 0, 0, 2, 2, 2, 0, 0, 0, 0, 2, 2, 0, 0, 0, 0, 2, 1, 2, 2, 2, 0, 2, 0, 2, 0, 0, 0, 0, 0, 0, 0, 2, 0, 0, 0, 2, 0, 2, 2, 2, 1, 0, 2, 1, 1, 0, 0, 0, 0, 0, 1, 0, 2, 0, 0, 0, 0, 0, 0, 2, 2, 2, 0, 0, 0, 0, 2, 2, 1, 1, 0, 2, 2, 0, 0, 2, 2, 0, 2, 0, 0, 0, 0, 0, 0, 2, 0, 2, 0, 0, 0, 0, 0, 0, 0, 0, 0, 0, 2, 0, 0, 0, 1, 0, 2, 2, 2, 0, 2, 0, 2, 0, 0, 0, 2, 1, 1, 0, 2, 2, 0, 2, 0, 0, 0, 2, 0, 1, 1, 2, 0, 2, 2, 2, 0, 2, 0, 2, 2, 0, 0, 0, 0, 0, 0, 0, 2, 0, 0, 2, 2, 0, 2, 0, 2, 0, 1, 0, 0, 0, 2, 0, 0, 0, 2, 2, 0, 2, 0, 0, 2, 2, 1, 1, 0, 0, 2, 2, 2, 2, 0, 0, 0, 1, 1, 0, 0, 1, 0, 0, 2, 1, 1, 2, 0, 1, 0, 0, 0, 2, 0, 1, 0, 0, 2, 0, 2, 0, 1, 2, 1, 0, 2, 2, 0, 0, 2, 0, 0, 0, 0, 2, 0, 2, 0, 0, 2, 0, 0, 0, 2, 0, 2, 2, 0, 2, 0, 0, 2, 2, 0, 0, 2, 0, 1, 0, 2, 0, 0, 0, 2, 2, 0, 2, 2, 1, 0, 2, 0, 2, 2, 2, 1, 0, 2, 0, 0, 1, 0, 0, 0, 1, 0, 2, 0, 0, 0, 0, 0, 2, 0, 1, 0, 0, 0, 2, 0, 0, 2, 0, 0, 2, 0, 1, 0, 0, 0, 2, 0, 2, 2, 0, 1, 1, 0, 0, 2, 0, 2, 0, 2, 0, 0, 0, 0, 0, 0, 2, 0, 0, 0, 2, 0, 2, 0, 0, 0, 0, 0, 1, 0, 0, 1, 2, 0, 0, 2, 2, 0, 0, 0, 2, 0, 0, 0]\n"
     ]
    }
   ],
   "source": [
    "print(coded_POS)"
   ]
  },
  {
   "cell_type": "code",
   "execution_count": 60,
   "metadata": {},
   "outputs": [],
   "source": [
    "with open('non_cs_eng_POS_tags.txt', 'w') as file_handler:\n",
    "    for item in tags:\n",
    "        file_handler.write(\"{}\\n\".format(item))"
   ]
  },
  {
   "cell_type": "code",
   "execution_count": 61,
   "metadata": {},
   "outputs": [],
   "source": [
    "lengths = []\n",
    "for word in tokenized:\n",
    "    lengths.append(len(word))"
   ]
  },
  {
   "cell_type": "code",
   "execution_count": 62,
   "metadata": {},
   "outputs": [
    {
     "name": "stdout",
     "output_type": "stream",
     "text": [
      "1476\n"
     ]
    }
   ],
   "source": [
    "print(len(lengths))"
   ]
  },
  {
   "cell_type": "code",
   "execution_count": 63,
   "metadata": {},
   "outputs": [],
   "source": [
    "with open('non_cs_eng_word_len.txt', 'w') as file_handler:\n",
    "    for item in lengths:\n",
    "        file_handler.write(\"{}\\n\".format(item))"
   ]
  },
  {
   "cell_type": "code",
   "execution_count": null,
   "metadata": {},
   "outputs": [],
   "source": []
  }
 ],
 "metadata": {
  "kernelspec": {
   "display_name": "Python 3",
   "language": "python",
   "name": "python3"
  },
  "language_info": {
   "codemirror_mode": {
    "name": "ipython",
    "version": 3
   },
   "file_extension": ".py",
   "mimetype": "text/x-python",
   "name": "python",
   "nbconvert_exporter": "python",
   "pygments_lexer": "ipython3",
   "version": "3.7.6"
  }
 },
 "nbformat": 4,
 "nbformat_minor": 4
}
