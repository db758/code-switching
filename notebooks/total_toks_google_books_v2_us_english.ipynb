{
 "cells": [
  {
   "cell_type": "code",
   "execution_count": 1,
   "metadata": {},
   "outputs": [],
   "source": [
    "import csv"
   ]
  },
  {
   "cell_type": "code",
   "execution_count": 18,
   "metadata": {},
   "outputs": [
    {
     "name": "stdout",
     "output_type": "stream",
     "text": [
      "356033418959\n"
     ]
    }
   ],
   "source": [
    "sum = 0\n",
    "with open(\"googlebooks-eng-us-all-totalcounts-20120701.txt\") as tsv:\n",
    "    for line in csv.reader(tsv, dialect=\"excel-tab\"): \n",
    "        full_list = line\n",
    "        #print(full_list)\n",
    "        for elt in full_list:\n",
    "            if elt != ' ' and elt != '':\n",
    "                #print(elt)\n",
    "                #print(str.split(elt, ',')[1])\n",
    "                sum += int(str.split(elt, ',')[1])\n",
    "print(sum)"
   ]
  },
  {
   "cell_type": "code",
   "execution_count": null,
   "metadata": {},
   "outputs": [],
   "source": []
  }
 ],
 "metadata": {
  "kernelspec": {
   "display_name": "Python 3",
   "language": "python",
   "name": "python3"
  },
  "language_info": {
   "codemirror_mode": {
    "name": "ipython",
    "version": 3
   },
   "file_extension": ".py",
   "mimetype": "text/x-python",
   "name": "python",
   "nbconvert_exporter": "python",
   "pygments_lexer": "ipython3",
   "version": "3.7.6"
  }
 },
 "nbformat": 4,
 "nbformat_minor": 4
}
