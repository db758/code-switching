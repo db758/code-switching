{
 "cells": [
  {
   "cell_type": "code",
   "execution_count": 6,
   "metadata": {},
   "outputs": [],
   "source": [
    "file = open(\"sample_combined_zhwiki.txt\", \"r\")\n",
    "lines = []\n",
    "for line in file.readlines():\n",
    "    lines.append(line[:-1])\n",
    "    "
   ]
  },
  {
   "cell_type": "code",
   "execution_count": 8,
   "metadata": {},
   "outputs": [
    {
     "data": {
      "text/plain": [
       "['数学，是研究數量、结构、变化以及空间等概念的一門学科，从某种角度看屬於形式科學的一種。數學利用抽象化和邏輯推理，從計數、計算、量度、對物體形狀及運動的觀察發展而成。數學家們拓展這些概念，以公式化新的猜想，以及從選定的公理及定義出發，嚴謹地推導出一些定理。']"
      ]
     },
     "execution_count": 8,
     "metadata": {},
     "output_type": "execute_result"
    }
   ],
   "source": [
    "lines[0].split()"
   ]
  },
  {
   "cell_type": "code",
   "execution_count": 14,
   "metadata": {},
   "outputs": [
    {
     "data": {
      "text/plain": [
       "'数学 ， 是 研究 數量 、 结构 、 变化 以及 空间 等 概念 的 一門 学科 ， 从 某种 角度看 屬 於 形式 科學 的 一種 。 數學 利用 抽象化 和 邏輯 推理 ， 從計數 、 計算 、 量度 、 對物體 形狀及 運動 的 觀察 發展 而成 。 數學家們 拓展 這些 概念 ， 以 公式化 新 的 猜想 ， 以及 從 選定 的 公理 及定 義出 發 ， 嚴謹 地 推導出 一些 定理 。'"
      ]
     },
     "execution_count": 14,
     "metadata": {},
     "output_type": "execute_result"
    }
   ],
   "source": [
    "\" \".join(jieba.lcut(lines[0]))"
   ]
  },
  {
   "cell_type": "code",
   "execution_count": 9,
   "metadata": {},
   "outputs": [],
   "source": [
    "import jieba"
   ]
  },
  {
   "cell_type": "code",
   "execution_count": 15,
   "metadata": {},
   "outputs": [],
   "source": [
    "segmented_lines = []\n",
    "for line in lines:\n",
    "    segmented = jieba.lcut(line)\n",
    "    segmented_lines.append(\" \".join(segmented))"
   ]
  },
  {
   "cell_type": "code",
   "execution_count": 16,
   "metadata": {},
   "outputs": [
    {
     "data": {
      "text/plain": [
       "'数学 ， 是 研究 數量 、 结构 、 变化 以及 空间 等 概念 的 一門 学科 ， 从 某种 角度看 屬 於 形式 科學 的 一種 。 數學 利用 抽象化 和 邏輯 推理 ， 從計數 、 計算 、 量度 、 對物體 形狀及 運動 的 觀察 發展 而成 。 數學家們 拓展 這些 概念 ， 以 公式化 新 的 猜想 ， 以及 從 選定 的 公理 及定 義出 發 ， 嚴謹 地 推導出 一些 定理 。'"
      ]
     },
     "execution_count": 16,
     "metadata": {},
     "output_type": "execute_result"
    }
   ],
   "source": [
    "segmented_lines[0]"
   ]
  },
  {
   "cell_type": "code",
   "execution_count": 17,
   "metadata": {},
   "outputs": [],
   "source": [
    "textfile = open(\"segmented_sample_combined_zhwiki.txt\", \"w\")\n",
    "for line in segmented_lines:\n",
    "    textfile.write(line + \"\\n\")\n",
    "textfile. close()"
   ]
  },
  {
   "cell_type": "code",
   "execution_count": null,
   "metadata": {},
   "outputs": [],
   "source": []
  }
 ],
 "metadata": {
  "kernelspec": {
   "display_name": "Python 3",
   "language": "python",
   "name": "python3"
  },
  "language_info": {
   "codemirror_mode": {
    "name": "ipython",
    "version": 3
   },
   "file_extension": ".py",
   "mimetype": "text/x-python",
   "name": "python",
   "nbconvert_exporter": "python",
   "pygments_lexer": "ipython3",
   "version": "3.7.6"
  }
 },
 "nbformat": 4,
 "nbformat_minor": 4
}
