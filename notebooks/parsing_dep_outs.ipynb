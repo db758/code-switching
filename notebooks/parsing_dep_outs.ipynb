{
 "cells": [
  {
   "cell_type": "code",
   "execution_count": 2,
   "metadata": {},
   "outputs": [
    {
     "name": "stdout",
     "output_type": "stream",
     "text": [
      "0,1,=,3,Chronicles,punct\n",
      "\n"
     ]
    }
   ],
   "source": [
    "my_file = open(\"slurm-284844_1.out\", \"r\")\n",
    "content_list = my_file.readlines()\n",
    "print(content_list[0])"
   ]
  },
  {
   "cell_type": "code",
   "execution_count": 3,
   "metadata": {},
   "outputs": [
    {
     "data": {
      "text/plain": [
       "['0', '1', '=', '3', 'Chronicles', 'punct\\n']"
      ]
     },
     "execution_count": 3,
     "metadata": {},
     "output_type": "execute_result"
    }
   ],
   "source": [
    "content_list[0].split(',')"
   ]
  },
  {
   "cell_type": "code",
   "execution_count": 8,
   "metadata": {},
   "outputs": [
    {
     "data": {
      "text/plain": [
       "'punct'"
      ]
     },
     "execution_count": 8,
     "metadata": {},
     "output_type": "execute_result"
    }
   ],
   "source": [
    "content_list[0].split(',')[5][:-1]"
   ]
  },
  {
   "cell_type": "code",
   "execution_count": 5,
   "metadata": {},
   "outputs": [
    {
     "data": {
      "text/plain": [
       "'='"
      ]
     },
     "execution_count": 5,
     "metadata": {},
     "output_type": "execute_result"
    }
   ],
   "source": [
    "content_list[0].split(',')[2]"
   ]
  },
  {
   "cell_type": "code",
   "execution_count": 6,
   "metadata": {},
   "outputs": [
    {
     "data": {
      "text/plain": [
       "'Chronicles'"
      ]
     },
     "execution_count": 6,
     "metadata": {},
     "output_type": "execute_result"
    }
   ],
   "source": [
    "content_list[0].split(',')[4]"
   ]
  },
  {
   "cell_type": "code",
   "execution_count": 10,
   "metadata": {},
   "outputs": [],
   "source": [
    "for i in range(len(content_list)):\n",
    "    split = content_list[i].split(',')\n",
    "    if split[5][:-1] != 'root':\n",
    "        dep = split[5][:-1] + \" \" + split[2] + \" \" + split[4]\n",
    "    else:\n",
    "        dep = split[5][:-1] + \" \" + split[2] + \" \" + split[2]\n",
    "    text_file = open(\"retrained_dependency_trigrams.txt\", \"a\")\n",
    "    n = text_file.write(dep)\n",
    "    n = text_file.write('\\n')\n",
    "    text_file.close()"
   ]
  },
  {
   "cell_type": "code",
   "execution_count": 11,
   "metadata": {},
   "outputs": [
    {
     "name": "stdout",
     "output_type": "stream",
     "text": [
      "0,1,=,2,Windosill,punct\n",
      "\n"
     ]
    }
   ],
   "source": [
    "my_file = open(\"slurm-284844_2.out\", \"r\")\n",
    "content_list = my_file.readlines()\n",
    "print(content_list[0])"
   ]
  },
  {
   "cell_type": "code",
   "execution_count": 12,
   "metadata": {},
   "outputs": [],
   "source": [
    "for i in range(len(content_list)):\n",
    "    split = content_list[i].split(',')\n",
    "    if split[5][:-1] != 'root':\n",
    "        dep = split[5][:-1] + \" \" + split[2] + \" \" + split[4]\n",
    "    else:\n",
    "        dep = split[5][:-1] + \" \" + split[2] + \" \" + split[2]\n",
    "    text_file = open(\"retrained_dependency_trigrams.txt\", \"a\")\n",
    "    n = text_file.write(dep)\n",
    "    n = text_file.write('\\n')\n",
    "    text_file.close()"
   ]
  },
  {
   "cell_type": "code",
   "execution_count": 13,
   "metadata": {},
   "outputs": [
    {
     "name": "stdout",
     "output_type": "stream",
     "text": [
      "0,1,Biggest,2,defeat,amod\n",
      "\n"
     ]
    }
   ],
   "source": [
    "my_file = open(\"slurm-284844_3.out\", \"r\")\n",
    "content_list = my_file.readlines()\n",
    "print(content_list[0])"
   ]
  },
  {
   "cell_type": "code",
   "execution_count": 14,
   "metadata": {},
   "outputs": [],
   "source": [
    "for i in range(len(content_list)):\n",
    "    split = content_list[i].split(',')\n",
    "    if split[5][:-1] != 'root':\n",
    "        dep = split[5][:-1] + \" \" + split[2] + \" \" + split[4]\n",
    "    else:\n",
    "        dep = split[5][:-1] + \" \" + split[2] + \" \" + split[2]\n",
    "    text_file = open(\"retrained_dependency_trigrams.txt\", \"a\")\n",
    "    n = text_file.write(dep)\n",
    "    n = text_file.write('\\n')\n",
    "    text_file.close()"
   ]
  },
  {
   "cell_type": "code",
   "execution_count": 15,
   "metadata": {},
   "outputs": [
    {
     "name": "stdout",
     "output_type": "stream",
     "text": [
      "0,1,=,3,Palace,punct\n",
      "\n"
     ]
    }
   ],
   "source": [
    "my_file = open(\"slurm-284844_4.out\", \"r\")\n",
    "content_list = my_file.readlines()\n",
    "print(content_list[0])"
   ]
  },
  {
   "cell_type": "code",
   "execution_count": 16,
   "metadata": {},
   "outputs": [],
   "source": [
    "for i in range(len(content_list)):\n",
    "    split = content_list[i].split(',')\n",
    "    if split[5][:-1] != 'root':\n",
    "        dep = split[5][:-1] + \" \" + split[2] + \" \" + split[4]\n",
    "    else:\n",
    "        dep = split[5][:-1] + \" \" + split[2] + \" \" + split[2]\n",
    "    text_file = open(\"retrained_dependency_trigrams.txt\", \"a\")\n",
    "    n = text_file.write(dep)\n",
    "    n = text_file.write('\\n')\n",
    "    text_file.close()"
   ]
  },
  {
   "cell_type": "code",
   "execution_count": 17,
   "metadata": {},
   "outputs": [
    {
     "name": "stdout",
     "output_type": "stream",
     "text": [
      "0,1,Michael,27,lead,nsubj\n",
      "\n"
     ]
    }
   ],
   "source": [
    "my_file = open(\"slurm-284844_5.out\", \"r\")\n",
    "content_list = my_file.readlines()\n",
    "print(content_list[0])"
   ]
  },
  {
   "cell_type": "code",
   "execution_count": 18,
   "metadata": {},
   "outputs": [],
   "source": [
    "for i in range(len(content_list)):\n",
    "    split = content_list[i].split(',')\n",
    "    if split[5][:-1] != 'root':\n",
    "        dep = split[5][:-1] + \" \" + split[2] + \" \" + split[4]\n",
    "    else:\n",
    "        dep = split[5][:-1] + \" \" + split[2] + \" \" + split[2]\n",
    "    text_file = open(\"retrained_dependency_trigrams.txt\", \"a\")\n",
    "    n = text_file.write(dep)\n",
    "    n = text_file.write('\\n')\n",
    "    text_file.close()"
   ]
  },
  {
   "cell_type": "code",
   "execution_count": null,
   "metadata": {},
   "outputs": [],
   "source": []
  }
 ],
 "metadata": {
  "kernelspec": {
   "display_name": "Python 3",
   "language": "python",
   "name": "python3"
  },
  "language_info": {
   "codemirror_mode": {
    "name": "ipython",
    "version": 3
   },
   "file_extension": ".py",
   "mimetype": "text/x-python",
   "name": "python",
   "nbconvert_exporter": "python",
   "pygments_lexer": "ipython3",
   "version": "3.7.6"
  }
 },
 "nbformat": 4,
 "nbformat_minor": 4
}
