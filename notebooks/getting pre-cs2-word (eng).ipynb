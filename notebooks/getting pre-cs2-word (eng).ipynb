{
 "cells": [
  {
   "cell_type": "code",
   "execution_count": 9,
   "metadata": {},
   "outputs": [],
   "source": [
    "import pandas as pd"
   ]
  },
  {
   "cell_type": "code",
   "execution_count": 11,
   "metadata": {},
   "outputs": [
    {
     "data": {
      "text/plain": [
       "Index(['sent_type', 'university', 'sent_id', 'aligned_to', 'original_sentence',\n",
       "       'eng_translation', 'zh_translation', 'cs_word_id', 'first_cs_word_form',\n",
       "       'first_cs_word_translation', 'preceding_word',\n",
       "       'preceding_word_translation', 'ngram_eng', 'ngram_zh', 'dep_eng',\n",
       "       'dep_zh ', 'word_freq_zh', 'word_freq_eng', 'cs_word_pos_zh',\n",
       "       'cs_word_pos_eng', 'cs_word_length_zh', 'cs_word_length_eng',\n",
       "       'sentence_length_zh', 'ngram_surp_zh', 'dep_surp_zh', 'ngram_surp_eng',\n",
       "       'dep_surp_eng', 'cs_back_word', 'Unnamed: 28',\n",
       "       'governor_first_cs_word_trans', 'deprel_first_cs_word_trans',\n",
       "       'surprisal_values', 'average_surprisal',\n",
       "       'bilingual_corpus_frequency_negative_log_first_cs_word',\n",
       "       'bilingual_corpus_frequency_negative_log_first_cs_word_trans',\n",
       "       'length_first_cs_word_form', 'dependency_distance', 'if_it_is_root',\n",
       "       'if_previous_word_is_punctuation', 'surprisal_of_previous_word',\n",
       "       'surprisal_first_cs_word_trans'],\n",
       "      dtype='object')"
      ]
     },
     "execution_count": 11,
     "metadata": {},
     "output_type": "execute_result"
    }
   ],
   "source": [
    "data = pd.read_csv(\"redoing_cs_data.csv\")\n",
    "data.columns"
   ]
  },
  {
   "cell_type": "code",
   "execution_count": 12,
   "metadata": {},
   "outputs": [],
   "source": [
    "data = data[[\"original_sentence\", \"cs_back_word\"]]"
   ]
  },
  {
   "cell_type": "code",
   "execution_count": 13,
   "metadata": {},
   "outputs": [
    {
     "data": {
      "text/html": [
       "<div>\n",
       "<style scoped>\n",
       "    .dataframe tbody tr th:only-of-type {\n",
       "        vertical-align: middle;\n",
       "    }\n",
       "\n",
       "    .dataframe tbody tr th {\n",
       "        vertical-align: top;\n",
       "    }\n",
       "\n",
       "    .dataframe thead th {\n",
       "        text-align: right;\n",
       "    }\n",
       "</style>\n",
       "<table border=\"1\" class=\"dataframe\">\n",
       "  <thead>\n",
       "    <tr style=\"text-align: right;\">\n",
       "      <th></th>\n",
       "      <th>original_sentence</th>\n",
       "      <th>cs_back_word</th>\n",
       "    </tr>\n",
       "  </thead>\n",
       "  <tbody>\n",
       "    <tr>\n",
       "      <th>0</th>\n",
       "      <td>rich neighborhood ， 非常 安全 （ 这里 属于 富人 区 ） ， 旁边 ...</td>\n",
       "      <td>非常</td>\n",
       "    </tr>\n",
       "    <tr>\n",
       "      <th>1</th>\n",
       "      <td>lease 从 八月 开始 ， 具体 日期 可以 商量 。</td>\n",
       "      <td>从</td>\n",
       "    </tr>\n",
       "    <tr>\n",
       "      <th>2</th>\n",
       "      <td>house 一共 有 两 层 + 地下室 。</td>\n",
       "      <td>一共</td>\n",
       "    </tr>\n",
       "    <tr>\n",
       "      <th>3</th>\n",
       "      <td>一共 有 两 个 可以 洗澡 的 bathroom 。</td>\n",
       "      <td>NaN</td>\n",
       "    </tr>\n",
       "    <tr>\n",
       "      <th>4</th>\n",
       "      <td>整个 house 家具 齐全 。</td>\n",
       "      <td>家具</td>\n",
       "    </tr>\n",
       "  </tbody>\n",
       "</table>\n",
       "</div>"
      ],
      "text/plain": [
       "                                   original_sentence cs_back_word\n",
       "0  rich neighborhood ， 非常 安全 （ 这里 属于 富人 区 ） ， 旁边 ...           非常\n",
       "1                      lease 从 八月 开始 ， 具体 日期 可以 商量 。            从\n",
       "2                             house 一共 有 两 层 + 地下室 。           一共\n",
       "3                        一共 有 两 个 可以 洗澡 的 bathroom 。          NaN\n",
       "4                                   整个 house 家具 齐全 。           家具"
      ]
     },
     "execution_count": 13,
     "metadata": {},
     "output_type": "execute_result"
    }
   ],
   "source": [
    "data.head()"
   ]
  },
  {
   "cell_type": "code",
   "execution_count": 14,
   "metadata": {},
   "outputs": [],
   "source": [
    "data = data.dropna()"
   ]
  },
  {
   "cell_type": "code",
   "execution_count": 15,
   "metadata": {},
   "outputs": [
    {
     "data": {
      "text/html": [
       "<div>\n",
       "<style scoped>\n",
       "    .dataframe tbody tr th:only-of-type {\n",
       "        vertical-align: middle;\n",
       "    }\n",
       "\n",
       "    .dataframe tbody tr th {\n",
       "        vertical-align: top;\n",
       "    }\n",
       "\n",
       "    .dataframe thead th {\n",
       "        text-align: right;\n",
       "    }\n",
       "</style>\n",
       "<table border=\"1\" class=\"dataframe\">\n",
       "  <thead>\n",
       "    <tr style=\"text-align: right;\">\n",
       "      <th></th>\n",
       "      <th>original_sentence</th>\n",
       "      <th>cs_back_word</th>\n",
       "    </tr>\n",
       "  </thead>\n",
       "  <tbody>\n",
       "    <tr>\n",
       "      <th>0</th>\n",
       "      <td>rich neighborhood ， 非常 安全 （ 这里 属于 富人 区 ） ， 旁边 ...</td>\n",
       "      <td>非常</td>\n",
       "    </tr>\n",
       "    <tr>\n",
       "      <th>1</th>\n",
       "      <td>lease 从 八月 开始 ， 具体 日期 可以 商量 。</td>\n",
       "      <td>从</td>\n",
       "    </tr>\n",
       "    <tr>\n",
       "      <th>2</th>\n",
       "      <td>house 一共 有 两 层 + 地下室 。</td>\n",
       "      <td>一共</td>\n",
       "    </tr>\n",
       "    <tr>\n",
       "      <th>4</th>\n",
       "      <td>整个 house 家具 齐全 。</td>\n",
       "      <td>家具</td>\n",
       "    </tr>\n",
       "    <tr>\n",
       "      <th>6</th>\n",
       "      <td>空调 有 window ac 和 暖气 。</td>\n",
       "      <td>和</td>\n",
       "    </tr>\n",
       "  </tbody>\n",
       "</table>\n",
       "</div>"
      ],
      "text/plain": [
       "                                   original_sentence cs_back_word\n",
       "0  rich neighborhood ， 非常 安全 （ 这里 属于 富人 区 ） ， 旁边 ...           非常\n",
       "1                      lease 从 八月 开始 ， 具体 日期 可以 商量 。            从\n",
       "2                             house 一共 有 两 层 + 地下室 。           一共\n",
       "4                                   整个 house 家具 齐全 。           家具\n",
       "6                              空调 有 window ac 和 暖气 。            和"
      ]
     },
     "execution_count": 15,
     "metadata": {},
     "output_type": "execute_result"
    }
   ],
   "source": [
    "data.head()"
   ]
  },
  {
   "cell_type": "code",
   "execution_count": 16,
   "metadata": {},
   "outputs": [
    {
     "data": {
      "text/plain": [
       "1128"
      ]
     },
     "execution_count": 16,
     "metadata": {},
     "output_type": "execute_result"
    }
   ],
   "source": [
    "len(data)"
   ]
  },
  {
   "cell_type": "code",
   "execution_count": 38,
   "metadata": {},
   "outputs": [],
   "source": [
    "sentences = list(data[\"original_sentence\"])"
   ]
  },
  {
   "cell_type": "code",
   "execution_count": 39,
   "metadata": {},
   "outputs": [
    {
     "data": {
      "text/plain": [
       "'rich neighborhood ， 非常 安全 （ 这里 属于 富人 区 ） ， 旁边 就 是 公园 ， 附近 还有 配套 的 各 种 球场 和 社区 设施 ， 环境 很 好 很 安静 。'"
      ]
     },
     "execution_count": 39,
     "metadata": {},
     "output_type": "execute_result"
    }
   ],
   "source": [
    "data[\"original_sentence\"][0]"
   ]
  },
  {
   "cell_type": "code",
   "execution_count": 40,
   "metadata": {},
   "outputs": [
    {
     "data": {
      "text/plain": [
       "'rich neighborhood ， 非常 安全 （ 这里 属于 富人 区 ） ， 旁边 就 是 公园 ， 附近 还有 配套 的 各 种 球场 和 社区 设施 ， 环境 很 好 很 安静 。'"
      ]
     },
     "execution_count": 40,
     "metadata": {},
     "output_type": "execute_result"
    }
   ],
   "source": [
    "sentences[0]"
   ]
  },
  {
   "cell_type": "code",
   "execution_count": 41,
   "metadata": {},
   "outputs": [],
   "source": [
    "cs_back_word_list = list(data[\"cs_back_word\"])"
   ]
  },
  {
   "cell_type": "code",
   "execution_count": 43,
   "metadata": {},
   "outputs": [
    {
     "data": {
      "text/plain": [
       "'非常'"
      ]
     },
     "execution_count": 43,
     "metadata": {},
     "output_type": "execute_result"
    }
   ],
   "source": [
    "data[\"cs_back_word\"][0]"
   ]
  },
  {
   "cell_type": "code",
   "execution_count": 44,
   "metadata": {},
   "outputs": [
    {
     "data": {
      "text/plain": [
       "'非常'"
      ]
     },
     "execution_count": 44,
     "metadata": {},
     "output_type": "execute_result"
    }
   ],
   "source": [
    "cs_back_word_list[0]"
   ]
  },
  {
   "cell_type": "code",
   "execution_count": 125,
   "metadata": {},
   "outputs": [
    {
     "data": {
      "text/plain": [
       "2"
      ]
     },
     "execution_count": 125,
     "metadata": {},
     "output_type": "execute_result"
    }
   ],
   "source": [
    "import string\n",
    "full_list = string.punctuation + '，' + '（' + '）' + '。' + '：'\n",
    "\n",
    "\n",
    "a_string = data[\"original_sentence\"][0]\n",
    "new_string = a_string.translate(str.maketrans('', '', full_list))\n",
    "as_list = new_string.split()\n",
    "as_list.index(data['cs_back_word'][0])"
   ]
  },
  {
   "cell_type": "code",
   "execution_count": 126,
   "metadata": {},
   "outputs": [
    {
     "name": "stdout",
     "output_type": "stream",
     "text": [
      "update on 7-27/2016-- 还有 两 个 卧室 招租 ， 欢迎 联系 。\n",
      "7-27/2016\n",
      "\n",
      "有 兴趣 的 请 call pn-19\n",
      "pn-19\n",
      "\n",
      "lease 8/1 开始 到 明年 7/31 一 年 。\n",
      "8/1\n",
      "\n",
      "全新 lease 8/5/2017-7/31/2018 。\n",
      "8/5/2017-7/31/2018\n",
      "\n",
      "联系 电话 or text ： 412-6518342 jane\n",
      "412-6518342\n",
      "\n",
      "phone : pn-18 请 短信 ( prefer )\n",
      "pn-18\n",
      "\n",
      "社区 ： squirrel hill ， 3-9 分钟 步行 可 达 bus stop\n",
      "3-9\n",
      "\n"
     ]
    }
   ],
   "source": [
    "pre_cs_2_words = []\n",
    "\n",
    "for i in range(len(sentences)):\n",
    "    try:\n",
    "        line = sentences[i]\n",
    "        sent = line.translate(str.maketrans('', '', full_list))\n",
    "        as_list = sent.split()\n",
    "        cs_back_index = as_list.index(cs_back_word_list[i])\n",
    "        pre_cs_2_word = as_list[cs_back_index -1]\n",
    "        pre_cs_2_words.append(pre_cs_2_word)\n",
    "    except:\n",
    "        pre_cs_2_words.append('TODO')\n",
    "        print(sentences[i])\n",
    "        print(cs_back_word_list[i])\n",
    "        print()"
   ]
  },
  {
   "cell_type": "code",
   "execution_count": 127,
   "metadata": {},
   "outputs": [
    {
     "data": {
      "text/plain": [
       "1128"
      ]
     },
     "execution_count": 127,
     "metadata": {},
     "output_type": "execute_result"
    }
   ],
   "source": [
    "len(pre_cs_2_words)"
   ]
  },
  {
   "cell_type": "code",
   "execution_count": 128,
   "metadata": {},
   "outputs": [
    {
     "data": {
      "text/plain": [
       "105"
      ]
     },
     "execution_count": 128,
     "metadata": {},
     "output_type": "execute_result"
    }
   ],
   "source": [
    "pre_cs_2_words.index('TODO')"
   ]
  },
  {
   "cell_type": "code",
   "execution_count": 129,
   "metadata": {},
   "outputs": [],
   "source": [
    "pre_cs_2_words[105] = 'on'"
   ]
  },
  {
   "cell_type": "code",
   "execution_count": 130,
   "metadata": {},
   "outputs": [
    {
     "data": {
      "text/plain": [
       "315"
      ]
     },
     "execution_count": 130,
     "metadata": {},
     "output_type": "execute_result"
    }
   ],
   "source": [
    "pre_cs_2_words.index('TODO')"
   ]
  },
  {
   "cell_type": "code",
   "execution_count": 131,
   "metadata": {},
   "outputs": [],
   "source": [
    "pre_cs_2_words[315] = 'call'"
   ]
  },
  {
   "cell_type": "code",
   "execution_count": 132,
   "metadata": {},
   "outputs": [
    {
     "data": {
      "text/plain": [
       "590"
      ]
     },
     "execution_count": 132,
     "metadata": {},
     "output_type": "execute_result"
    }
   ],
   "source": [
    "pre_cs_2_words.index('TODO')"
   ]
  },
  {
   "cell_type": "code",
   "execution_count": 133,
   "metadata": {},
   "outputs": [],
   "source": [
    "pre_cs_2_words[590] = 'lease'"
   ]
  },
  {
   "cell_type": "code",
   "execution_count": 134,
   "metadata": {},
   "outputs": [
    {
     "data": {
      "text/plain": [
       "632"
      ]
     },
     "execution_count": 134,
     "metadata": {},
     "output_type": "execute_result"
    }
   ],
   "source": [
    "pre_cs_2_words.index('TODO')"
   ]
  },
  {
   "cell_type": "code",
   "execution_count": 135,
   "metadata": {},
   "outputs": [],
   "source": [
    "pre_cs_2_words[632] = 'lease'"
   ]
  },
  {
   "cell_type": "code",
   "execution_count": 136,
   "metadata": {},
   "outputs": [
    {
     "data": {
      "text/plain": [
       "999"
      ]
     },
     "execution_count": 136,
     "metadata": {},
     "output_type": "execute_result"
    }
   ],
   "source": [
    "pre_cs_2_words.index('TODO')"
   ]
  },
  {
   "cell_type": "code",
   "execution_count": 137,
   "metadata": {},
   "outputs": [],
   "source": [
    "pre_cs_2_words[999] = 'text'"
   ]
  },
  {
   "cell_type": "code",
   "execution_count": 138,
   "metadata": {},
   "outputs": [
    {
     "data": {
      "text/plain": [
       "1083"
      ]
     },
     "execution_count": 138,
     "metadata": {},
     "output_type": "execute_result"
    }
   ],
   "source": [
    "pre_cs_2_words.index('TODO')"
   ]
  },
  {
   "cell_type": "code",
   "execution_count": 139,
   "metadata": {},
   "outputs": [],
   "source": [
    "pre_cs_2_words[1083] = 'phone'"
   ]
  },
  {
   "cell_type": "code",
   "execution_count": 140,
   "metadata": {},
   "outputs": [
    {
     "data": {
      "text/plain": [
       "1098"
      ]
     },
     "execution_count": 140,
     "metadata": {},
     "output_type": "execute_result"
    }
   ],
   "source": [
    "pre_cs_2_words.index('TODO')"
   ]
  },
  {
   "cell_type": "code",
   "execution_count": 141,
   "metadata": {},
   "outputs": [],
   "source": [
    "pre_cs_2_words[1098] = 'hill'"
   ]
  },
  {
   "cell_type": "code",
   "execution_count": 169,
   "metadata": {},
   "outputs": [
    {
     "data": {
      "text/plain": [
       "'一 楼 living room ， kitchen ， dining room ， 一 个 卫生间 .'"
      ]
     },
     "execution_count": 169,
     "metadata": {},
     "output_type": "execute_result"
    }
   ],
   "source": [
    "sentences[626]"
   ]
  },
  {
   "cell_type": "code",
   "execution_count": 170,
   "metadata": {},
   "outputs": [
    {
     "data": {
      "text/plain": [
       "'一'"
      ]
     },
     "execution_count": 170,
     "metadata": {},
     "output_type": "execute_result"
    }
   ],
   "source": [
    "cs_back_word_list[626]"
   ]
  },
  {
   "cell_type": "code",
   "execution_count": 172,
   "metadata": {},
   "outputs": [],
   "source": [
    "pre_cs_2_words[626] = 'room'"
   ]
  },
  {
   "cell_type": "code",
   "execution_count": 208,
   "metadata": {},
   "outputs": [
    {
     "data": {
      "text/plain": [
       "'总共'"
      ]
     },
     "execution_count": 208,
     "metadata": {},
     "output_type": "execute_result"
    }
   ],
   "source": [
    "pre_cs_2_words[38]"
   ]
  },
  {
   "cell_type": "code",
   "execution_count": 209,
   "metadata": {},
   "outputs": [
    {
     "data": {
      "text/plain": [
       "'整个 公寓 总共 两 人 share ， 两 人 比较 好 协调 。'"
      ]
     },
     "execution_count": 209,
     "metadata": {},
     "output_type": "execute_result"
    }
   ],
   "source": [
    "sentences[38]"
   ]
  },
  {
   "cell_type": "code",
   "execution_count": 210,
   "metadata": {},
   "outputs": [
    {
     "data": {
      "text/plain": [
       "'两'"
      ]
     },
     "execution_count": 210,
     "metadata": {},
     "output_type": "execute_result"
    }
   ],
   "source": [
    "cs_back_word_list[38]"
   ]
  },
  {
   "cell_type": "code",
   "execution_count": 211,
   "metadata": {},
   "outputs": [],
   "source": [
    "pre_cs_2_words[38] = 'share'"
   ]
  },
  {
   "cell_type": "code",
   "execution_count": 212,
   "metadata": {},
   "outputs": [
    {
     "data": {
      "text/plain": [
       "'全新'"
      ]
     },
     "execution_count": 212,
     "metadata": {},
     "output_type": "execute_result"
    }
   ],
   "source": [
    "pre_cs_2_words[51]"
   ]
  },
  {
   "cell_type": "code",
   "execution_count": 213,
   "metadata": {},
   "outputs": [
    {
     "data": {
      "text/plain": [
       "'全新 的 宜家 买 的 twin size 的 床 和 书桌 柜子 ， 房间 内 有 closet 。'"
      ]
     },
     "execution_count": 213,
     "metadata": {},
     "output_type": "execute_result"
    }
   ],
   "source": [
    "sentences[51]"
   ]
  },
  {
   "cell_type": "code",
   "execution_count": 214,
   "metadata": {},
   "outputs": [
    {
     "data": {
      "text/plain": [
       "'的'"
      ]
     },
     "execution_count": 214,
     "metadata": {},
     "output_type": "execute_result"
    }
   ],
   "source": [
    "cs_back_word_list[51]"
   ]
  },
  {
   "cell_type": "code",
   "execution_count": 215,
   "metadata": {},
   "outputs": [],
   "source": [
    "pre_cs_2_words[51] = 'size'"
   ]
  },
  {
   "cell_type": "code",
   "execution_count": 216,
   "metadata": {},
   "outputs": [
    {
     "data": {
      "text/plain": [
       "'入住'"
      ]
     },
     "execution_count": 216,
     "metadata": {},
     "output_type": "execute_result"
    }
   ],
   "source": [
    "pre_cs_2_words[56]"
   ]
  },
  {
   "cell_type": "code",
   "execution_count": 218,
   "metadata": {},
   "outputs": [
    {
     "data": {
      "text/plain": [
       "'家具 ： 整个 house 家具 齐全 ， 出租 卧室 家具 齐全 ， 可以 打包 低价 转让 ， 方便 拎包 入住 。'"
      ]
     },
     "execution_count": 218,
     "metadata": {},
     "output_type": "execute_result"
    }
   ],
   "source": [
    "sentences[56]"
   ]
  },
  {
   "cell_type": "code",
   "execution_count": 219,
   "metadata": {},
   "outputs": [
    {
     "data": {
      "text/plain": [
       "'家具'"
      ]
     },
     "execution_count": 219,
     "metadata": {},
     "output_type": "execute_result"
    }
   ],
   "source": [
    "cs_back_word_list[56]"
   ]
  },
  {
   "cell_type": "code",
   "execution_count": 220,
   "metadata": {},
   "outputs": [],
   "source": [
    "pre_cs_2_words[56] = 'house'"
   ]
  },
  {
   "cell_type": "code",
   "execution_count": 221,
   "metadata": {},
   "outputs": [
    {
     "data": {
      "text/plain": [
       "'我'"
      ]
     },
     "execution_count": 221,
     "metadata": {},
     "output_type": "execute_result"
    }
   ],
   "source": [
    "pre_cs_2_words[74]"
   ]
  },
  {
   "cell_type": "code",
   "execution_count": 222,
   "metadata": {},
   "outputs": [
    {
     "data": {
      "text/plain": [
       "'松鼠山 公寓 很少 ， 所以 我 的 房子 既 能 享受 apartment 的 物业 ， 又 能 享受 松鼠 山 的 优越 位置 。'"
      ]
     },
     "execution_count": 222,
     "metadata": {},
     "output_type": "execute_result"
    }
   ],
   "source": [
    "sentences[74]"
   ]
  },
  {
   "cell_type": "code",
   "execution_count": 223,
   "metadata": {},
   "outputs": [
    {
     "data": {
      "text/plain": [
       "'的'"
      ]
     },
     "execution_count": 223,
     "metadata": {},
     "output_type": "execute_result"
    }
   ],
   "source": [
    "cs_back_word_list[74]"
   ]
  },
  {
   "cell_type": "code",
   "execution_count": 224,
   "metadata": {},
   "outputs": [],
   "source": [
    "pre_cs_2_words[74] = 'apartment'"
   ]
  },
  {
   "cell_type": "code",
   "execution_count": 225,
   "metadata": {},
   "outputs": [
    {
     "data": {
      "text/plain": [
       "'与'"
      ]
     },
     "execution_count": 225,
     "metadata": {},
     "output_type": "execute_result"
    }
   ],
   "source": [
    "pre_cs_2_words[93]"
   ]
  },
  {
   "cell_type": "code",
   "execution_count": 227,
   "metadata": {},
   "outputs": [
    {
     "data": {
      "text/plain": [
       "'厨房 卫生间 ： 可能 与 另 一 个 房间 的 人 share ， 另 一 个 房间 是 女生 ， 匹 大学生 ， 人 很 nice ， 很 爱 干净 。'"
      ]
     },
     "execution_count": 227,
     "metadata": {},
     "output_type": "execute_result"
    }
   ],
   "source": [
    "sentences[93]"
   ]
  },
  {
   "cell_type": "code",
   "execution_count": 229,
   "metadata": {},
   "outputs": [
    {
     "data": {
      "text/plain": [
       "'另'"
      ]
     },
     "execution_count": 229,
     "metadata": {},
     "output_type": "execute_result"
    }
   ],
   "source": [
    "cs_back_word_list[93]"
   ]
  },
  {
   "cell_type": "code",
   "execution_count": 230,
   "metadata": {},
   "outputs": [],
   "source": [
    "pre_cs_2_words[93] = 'share'"
   ]
  },
  {
   "cell_type": "code",
   "execution_count": 231,
   "metadata": {},
   "outputs": [
    {
     "data": {
      "text/plain": [
       "'公寓'"
      ]
     },
     "execution_count": 231,
     "metadata": {},
     "output_type": "execute_result"
    }
   ],
   "source": [
    "pre_cs_2_words[99]"
   ]
  },
  {
   "cell_type": "code",
   "execution_count": 232,
   "metadata": {},
   "outputs": [
    {
     "data": {
      "text/plain": [
       "'公寓 的 详细 信息 和 图片 可以 在 union 的 网站 上 看到 。'"
      ]
     },
     "execution_count": 232,
     "metadata": {},
     "output_type": "execute_result"
    }
   ],
   "source": [
    "sentences[99]"
   ]
  },
  {
   "cell_type": "code",
   "execution_count": 233,
   "metadata": {},
   "outputs": [
    {
     "data": {
      "text/plain": [
       "'的'"
      ]
     },
     "execution_count": 233,
     "metadata": {},
     "output_type": "execute_result"
    }
   ],
   "source": [
    "cs_back_word_list[99]"
   ]
  },
  {
   "cell_type": "code",
   "execution_count": 234,
   "metadata": {},
   "outputs": [],
   "source": [
    "pre_cs_2_words[99] = 'union'"
   ]
  },
  {
   "cell_type": "code",
   "execution_count": 236,
   "metadata": {},
   "outputs": [
    {
     "data": {
      "text/plain": [
       "'里面'"
      ]
     },
     "execution_count": 236,
     "metadata": {},
     "output_type": "execute_result"
    }
   ],
   "source": [
    "pre_cs_2_words[165]"
   ]
  },
  {
   "cell_type": "code",
   "execution_count": 237,
   "metadata": {},
   "outputs": [
    {
     "data": {
      "text/plain": [
       "'房间 里面 的 现有 queen size 的 大 床 ， 书桌 ， 书架 ， 衣柜 ， 穿衣镜 ， 完全 的 拎包 入住 。'"
      ]
     },
     "execution_count": 237,
     "metadata": {},
     "output_type": "execute_result"
    }
   ],
   "source": [
    "sentences[165]"
   ]
  },
  {
   "cell_type": "code",
   "execution_count": 238,
   "metadata": {},
   "outputs": [
    {
     "data": {
      "text/plain": [
       "'的'"
      ]
     },
     "execution_count": 238,
     "metadata": {},
     "output_type": "execute_result"
    }
   ],
   "source": [
    "cs_back_word_list[165]"
   ]
  },
  {
   "cell_type": "code",
   "execution_count": 239,
   "metadata": {},
   "outputs": [],
   "source": [
    "pre_cs_2_words[165] = 'size'"
   ]
  },
  {
   "cell_type": "code",
   "execution_count": 242,
   "metadata": {},
   "outputs": [
    {
     "data": {
      "text/plain": [
       "'可以'"
      ]
     },
     "execution_count": 242,
     "metadata": {},
     "output_type": "execute_result"
    }
   ],
   "source": [
    "pre_cs_2_words[326]"
   ]
  },
  {
   "cell_type": "code",
   "execution_count": 243,
   "metadata": {},
   "outputs": [
    {
     "data": {
      "text/plain": [
       "'如果 你 对 生活 质量 要求 没 那么 高 ， 可以 一 个 住 living rm ， 一 个 住 br 。'"
      ]
     },
     "execution_count": 243,
     "metadata": {},
     "output_type": "execute_result"
    }
   ],
   "source": [
    "sentences[326]"
   ]
  },
  {
   "cell_type": "code",
   "execution_count": 244,
   "metadata": {},
   "outputs": [
    {
     "data": {
      "text/plain": [
       "'一'"
      ]
     },
     "execution_count": 244,
     "metadata": {},
     "output_type": "execute_result"
    }
   ],
   "source": [
    "cs_back_word_list[326]"
   ]
  },
  {
   "cell_type": "code",
   "execution_count": 245,
   "metadata": {},
   "outputs": [],
   "source": [
    "pre_cs_2_words[326] = 'rm'"
   ]
  },
  {
   "cell_type": "code",
   "execution_count": 246,
   "metadata": {},
   "outputs": [
    {
     "data": {
      "text/plain": [
       "'个'"
      ]
     },
     "execution_count": 246,
     "metadata": {},
     "output_type": "execute_result"
    }
   ],
   "source": [
    "pre_cs_2_words[345]"
   ]
  },
  {
   "cell_type": "code",
   "execution_count": 247,
   "metadata": {},
   "outputs": [
    {
     "data": {
      "text/plain": [
       "'（ 已 无效 ） 是 一 个 两 室 一 厅 的 apartment ， 两 个 房间 已 有 人 住 ， 现出 租客厅 。'"
      ]
     },
     "execution_count": 247,
     "metadata": {},
     "output_type": "execute_result"
    }
   ],
   "source": [
    "sentences[345]"
   ]
  },
  {
   "cell_type": "code",
   "execution_count": 248,
   "metadata": {},
   "outputs": [
    {
     "data": {
      "text/plain": [
       "'两'"
      ]
     },
     "execution_count": 248,
     "metadata": {},
     "output_type": "execute_result"
    }
   ],
   "source": [
    "cs_back_word_list[345]"
   ]
  },
  {
   "cell_type": "code",
   "execution_count": 249,
   "metadata": {},
   "outputs": [],
   "source": [
    "pre_cs_2_words[345] = 'apartment'"
   ]
  },
  {
   "cell_type": "code",
   "execution_count": 250,
   "metadata": {},
   "outputs": [
    {
     "data": {
      "text/plain": [
       "'出租'"
      ]
     },
     "execution_count": 250,
     "metadata": {},
     "output_type": "execute_result"
    }
   ],
   "source": [
    "pre_cs_2_words[362]"
   ]
  },
  {
   "cell_type": "code",
   "execution_count": 251,
   "metadata": {},
   "outputs": [
    {
     "data": {
      "text/plain": [
       "'出租 的 是 house 的 客厅 ， 地方 敞亮 ， 与 其他 屋子 相隔 ， 虽然 是 客厅 也 是 能够 有 隐私 的 。'"
      ]
     },
     "execution_count": 251,
     "metadata": {},
     "output_type": "execute_result"
    }
   ],
   "source": [
    "sentences[362]"
   ]
  },
  {
   "cell_type": "code",
   "execution_count": 252,
   "metadata": {},
   "outputs": [
    {
     "data": {
      "text/plain": [
       "'的'"
      ]
     },
     "execution_count": 252,
     "metadata": {},
     "output_type": "execute_result"
    }
   ],
   "source": [
    "cs_back_word_list[362]"
   ]
  },
  {
   "cell_type": "code",
   "execution_count": 253,
   "metadata": {},
   "outputs": [],
   "source": [
    "pre_cs_2_words[362] = 'house'"
   ]
  },
  {
   "cell_type": "code",
   "execution_count": 254,
   "metadata": {},
   "outputs": [
    {
     "data": {
      "text/plain": [
       "'必备'"
      ]
     },
     "execution_count": 254,
     "metadata": {},
     "output_type": "execute_result"
    }
   ],
   "source": [
    "pre_cs_2_words[385]"
   ]
  },
  {
   "cell_type": "code",
   "execution_count": 255,
   "metadata": {},
   "outputs": [
    {
     "data": {
      "text/plain": [
       "'写 paper 写 作业 必备 。'"
      ]
     },
     "execution_count": 255,
     "metadata": {},
     "output_type": "execute_result"
    }
   ],
   "source": [
    "sentences[385]"
   ]
  },
  {
   "cell_type": "code",
   "execution_count": 256,
   "metadata": {},
   "outputs": [
    {
     "data": {
      "text/plain": [
       "'写'"
      ]
     },
     "execution_count": 256,
     "metadata": {},
     "output_type": "execute_result"
    }
   ],
   "source": [
    "cs_back_word_list[385]"
   ]
  },
  {
   "cell_type": "code",
   "execution_count": 257,
   "metadata": {},
   "outputs": [],
   "source": [
    "pre_cs_2_words[385] = 'paper'"
   ]
  },
  {
   "cell_type": "code",
   "execution_count": 258,
   "metadata": {},
   "outputs": [
    {
     "data": {
      "text/plain": [
       "'车主'"
      ]
     },
     "execution_count": 258,
     "metadata": {},
     "output_type": "execute_result"
    }
   ],
   "source": [
    "pre_cs_2_words[402]"
   ]
  },
  {
   "cell_type": "code",
   "execution_count": 259,
   "metadata": {},
   "outputs": [
    {
     "data": {
      "text/plain": [
       "'车主 是 第二 个 owner ， 是 个 妹子 ， 极其 爱惜 车 。'"
      ]
     },
     "execution_count": 259,
     "metadata": {},
     "output_type": "execute_result"
    }
   ],
   "source": [
    "sentences[402]"
   ]
  },
  {
   "cell_type": "code",
   "execution_count": 260,
   "metadata": {},
   "outputs": [
    {
     "data": {
      "text/plain": [
       "'是'"
      ]
     },
     "execution_count": 260,
     "metadata": {},
     "output_type": "execute_result"
    }
   ],
   "source": [
    "cs_back_word_list[402]"
   ]
  },
  {
   "cell_type": "code",
   "execution_count": 261,
   "metadata": {},
   "outputs": [],
   "source": [
    "pre_cs_2_words[402] = 'owner'"
   ]
  },
  {
   "cell_type": "code",
   "execution_count": 262,
   "metadata": {},
   "outputs": [
    {
     "data": {
      "text/plain": [
       "'开'"
      ]
     },
     "execution_count": 262,
     "metadata": {},
     "output_type": "execute_result"
    }
   ],
   "source": [
    "pre_cs_2_words[584]"
   ]
  },
  {
   "cell_type": "code",
   "execution_count": 263,
   "metadata": {},
   "outputs": [
    {
     "data": {
      "text/plain": [
       "'可以 一起 租车 开 回来 或者 有偿 求 ride ， 可以 帮忙 开 。'"
      ]
     },
     "execution_count": 263,
     "metadata": {},
     "output_type": "execute_result"
    }
   ],
   "source": [
    "sentences[584]"
   ]
  },
  {
   "cell_type": "code",
   "execution_count": 264,
   "metadata": {},
   "outputs": [
    {
     "data": {
      "text/plain": [
       "'可以'"
      ]
     },
     "execution_count": 264,
     "metadata": {},
     "output_type": "execute_result"
    }
   ],
   "source": [
    "cs_back_word_list[584]"
   ]
  },
  {
   "cell_type": "code",
   "execution_count": 270,
   "metadata": {},
   "outputs": [],
   "source": [
    "pre_cs_2_words[584] = 'ride'"
   ]
  },
  {
   "cell_type": "code",
   "execution_count": 266,
   "metadata": {},
   "outputs": [
    {
     "data": {
      "text/plain": [
       "'配'"
      ]
     },
     "execution_count": 266,
     "metadata": {},
     "output_type": "execute_result"
    }
   ],
   "source": [
    "pre_cs_2_words[592]"
   ]
  },
  {
   "cell_type": "code",
   "execution_count": 267,
   "metadata": {},
   "outputs": [
    {
     "data": {
      "text/plain": [
       "'卧室 里 配 的 是 queen size 的 床 （ 相当于 国内 1 .'"
      ]
     },
     "execution_count": 267,
     "metadata": {},
     "output_type": "execute_result"
    }
   ],
   "source": [
    "sentences[592]"
   ]
  },
  {
   "cell_type": "code",
   "execution_count": 268,
   "metadata": {},
   "outputs": [
    {
     "data": {
      "text/plain": [
       "'的'"
      ]
     },
     "execution_count": 268,
     "metadata": {},
     "output_type": "execute_result"
    }
   ],
   "source": [
    "cs_back_word_list[592]"
   ]
  },
  {
   "cell_type": "code",
   "execution_count": 271,
   "metadata": {},
   "outputs": [],
   "source": [
    "pre_cs_2_words[592] = 'size'"
   ]
  },
  {
   "cell_type": "code",
   "execution_count": 272,
   "metadata": {},
   "outputs": [
    {
     "data": {
      "text/plain": [
       "'干净'"
      ]
     },
     "execution_count": 272,
     "metadata": {},
     "output_type": "execute_result"
    }
   ],
   "source": [
    "pre_cs_2_words[596]"
   ]
  },
  {
   "cell_type": "code",
   "execution_count": 273,
   "metadata": {},
   "outputs": [
    {
     "data": {
      "text/plain": [
       "'要求 爱 干净 ， 不 要 party prince ， 不 养 宠物 。'"
      ]
     },
     "execution_count": 273,
     "metadata": {},
     "output_type": "execute_result"
    }
   ],
   "source": [
    "sentences[596]"
   ]
  },
  {
   "cell_type": "code",
   "execution_count": 274,
   "metadata": {},
   "outputs": [
    {
     "data": {
      "text/plain": [
       "'不'"
      ]
     },
     "execution_count": 274,
     "metadata": {},
     "output_type": "execute_result"
    }
   ],
   "source": [
    "cs_back_word_list[596]"
   ]
  },
  {
   "cell_type": "code",
   "execution_count": 275,
   "metadata": {},
   "outputs": [],
   "source": [
    "pre_cs_2_words[596] = 'prince'"
   ]
  },
  {
   "cell_type": "code",
   "execution_count": 277,
   "metadata": {},
   "outputs": [
    {
     "data": {
      "text/plain": [
       "'我'"
      ]
     },
     "execution_count": 277,
     "metadata": {},
     "output_type": "execute_result"
    }
   ],
   "source": [
    "pre_cs_2_words[628]"
   ]
  },
  {
   "cell_type": "code",
   "execution_count": 278,
   "metadata": {},
   "outputs": [
    {
     "data": {
      "text/plain": [
       "'如果 我 签 一 年 的 合同 ， 是 和 你 签 还是 和 officer 签 。'"
      ]
     },
     "execution_count": 278,
     "metadata": {},
     "output_type": "execute_result"
    }
   ],
   "source": [
    "sentences[628]"
   ]
  },
  {
   "cell_type": "code",
   "execution_count": 279,
   "metadata": {},
   "outputs": [
    {
     "data": {
      "text/plain": [
       "'签'"
      ]
     },
     "execution_count": 279,
     "metadata": {},
     "output_type": "execute_result"
    }
   ],
   "source": [
    "cs_back_word_list[628]"
   ]
  },
  {
   "cell_type": "code",
   "execution_count": 280,
   "metadata": {},
   "outputs": [],
   "source": [
    "pre_cs_2_words[628] = 'officer'"
   ]
  },
  {
   "cell_type": "code",
   "execution_count": 281,
   "metadata": {},
   "outputs": [
    {
     "data": {
      "text/plain": [
       "'有'"
      ]
     },
     "execution_count": 281,
     "metadata": {},
     "output_type": "execute_result"
    }
   ],
   "source": [
    "pre_cs_2_words[667]"
   ]
  },
  {
   "cell_type": "code",
   "execution_count": 282,
   "metadata": {},
   "outputs": [
    {
     "data": {
      "text/plain": [
       "'业务 有 房地产 广告 设计 包装 ， building technology ， 房地产 保险 评估 以及 施工 管理 技术 咨询 ， 承接 外包 业务 。'"
      ]
     },
     "execution_count": 282,
     "metadata": {},
     "output_type": "execute_result"
    }
   ],
   "source": [
    "sentences[667]"
   ]
  },
  {
   "cell_type": "code",
   "execution_count": 283,
   "metadata": {},
   "outputs": [
    {
     "data": {
      "text/plain": [
       "'房地产'"
      ]
     },
     "execution_count": 283,
     "metadata": {},
     "output_type": "execute_result"
    }
   ],
   "source": [
    "cs_back_word_list[667]"
   ]
  },
  {
   "cell_type": "code",
   "execution_count": 284,
   "metadata": {},
   "outputs": [],
   "source": [
    "pre_cs_2_words[667] = 'technology'"
   ]
  },
  {
   "cell_type": "code",
   "execution_count": 285,
   "metadata": {},
   "outputs": [
    {
     "data": {
      "text/plain": [
       "'带有'"
      ]
     },
     "execution_count": 285,
     "metadata": {},
     "output_type": "execute_result"
    }
   ],
   "source": [
    "pre_cs_2_words[702]"
   ]
  },
  {
   "cell_type": "code",
   "execution_count": 286,
   "metadata": {},
   "outputs": [
    {
     "data": {
      "text/plain": [
       "'卧室 里 带有 十分 宽敞 的 独立 卫浴 ， 以及 walk in closet ， 十分 适合 女生 。'"
      ]
     },
     "execution_count": 286,
     "metadata": {},
     "output_type": "execute_result"
    }
   ],
   "source": [
    "sentences[702]"
   ]
  },
  {
   "cell_type": "code",
   "execution_count": 287,
   "metadata": {},
   "outputs": [
    {
     "data": {
      "text/plain": [
       "'十分'"
      ]
     },
     "execution_count": 287,
     "metadata": {},
     "output_type": "execute_result"
    }
   ],
   "source": [
    "cs_back_word_list[702]"
   ]
  },
  {
   "cell_type": "code",
   "execution_count": 288,
   "metadata": {},
   "outputs": [],
   "source": [
    "pre_cs_2_words[702] = 'closet'"
   ]
  },
  {
   "cell_type": "code",
   "execution_count": 289,
   "metadata": {},
   "outputs": [
    {
     "data": {
      "text/plain": [
       "'人'"
      ]
     },
     "execution_count": 289,
     "metadata": {},
     "output_type": "execute_result"
    }
   ],
   "source": [
    "pre_cs_2_words[707]"
   ]
  },
  {
   "cell_type": "code",
   "execution_count": 290,
   "metadata": {},
   "outputs": [
    {
     "data": {
      "text/plain": [
       "'房间 是 三 楼 ， 最 大 的 那 间 ～～～一 人 住 或 couple 住 都 相当 合适 ！'"
      ]
     },
     "execution_count": 290,
     "metadata": {},
     "output_type": "execute_result"
    }
   ],
   "source": [
    "sentences[707]"
   ]
  },
  {
   "cell_type": "code",
   "execution_count": 291,
   "metadata": {},
   "outputs": [
    {
     "data": {
      "text/plain": [
       "'住'"
      ]
     },
     "execution_count": 291,
     "metadata": {},
     "output_type": "execute_result"
    }
   ],
   "source": [
    "cs_back_word_list[707]"
   ]
  },
  {
   "cell_type": "code",
   "execution_count": 292,
   "metadata": {},
   "outputs": [],
   "source": [
    "pre_cs_2_words[707] = 'couple'"
   ]
  },
  {
   "cell_type": "code",
   "execution_count": 293,
   "metadata": {},
   "outputs": [
    {
     "data": {
      "text/plain": [
       "'说'"
      ]
     },
     "execution_count": 293,
     "metadata": {},
     "output_type": "execute_result"
    }
   ],
   "source": [
    "pre_cs_2_words[714]"
   ]
  },
  {
   "cell_type": "code",
   "execution_count": 294,
   "metadata": {},
   "outputs": [
    {
     "data": {
      "text/plain": [
       "'至于 你 说 我 mean ， 我 只 能 说 你 太 贪心 。'"
      ]
     },
     "execution_count": 294,
     "metadata": {},
     "output_type": "execute_result"
    }
   ],
   "source": [
    "sentences[714]"
   ]
  },
  {
   "cell_type": "code",
   "execution_count": 295,
   "metadata": {},
   "outputs": [
    {
     "data": {
      "text/plain": [
       "'我'"
      ]
     },
     "execution_count": 295,
     "metadata": {},
     "output_type": "execute_result"
    }
   ],
   "source": [
    "cs_back_word_list[714]"
   ]
  },
  {
   "cell_type": "code",
   "execution_count": 296,
   "metadata": {},
   "outputs": [],
   "source": [
    "pre_cs_2_words[714] = 'mean'"
   ]
  },
  {
   "cell_type": "code",
   "execution_count": 297,
   "metadata": {},
   "outputs": [
    {
     "data": {
      "text/plain": [
       "'基本'"
      ]
     },
     "execution_count": 297,
     "metadata": {},
     "output_type": "execute_result"
    }
   ],
   "source": [
    "pre_cs_2_words[731]"
   ]
  },
  {
   "cell_type": "code",
   "execution_count": 298,
   "metadata": {},
   "outputs": [
    {
     "data": {
      "text/plain": [
       "'房子 里 基本 的 家具 都 有 （ 床 是 twin size 的 ） ， utility 全 包 。'"
      ]
     },
     "execution_count": 298,
     "metadata": {},
     "output_type": "execute_result"
    }
   ],
   "source": [
    "sentences[731]"
   ]
  },
  {
   "cell_type": "code",
   "execution_count": 299,
   "metadata": {},
   "outputs": [
    {
     "data": {
      "text/plain": [
       "'的'"
      ]
     },
     "execution_count": 299,
     "metadata": {},
     "output_type": "execute_result"
    }
   ],
   "source": [
    "cs_back_word_list[731]"
   ]
  },
  {
   "cell_type": "code",
   "execution_count": 300,
   "metadata": {},
   "outputs": [],
   "source": [
    "pre_cs_2_words[731] = 'size'"
   ]
  },
  {
   "cell_type": "code",
   "execution_count": 301,
   "metadata": {},
   "outputs": [
    {
     "data": {
      "text/plain": [
       "'登录'"
      ]
     },
     "execution_count": 301,
     "metadata": {},
     "output_type": "execute_result"
    }
   ],
   "source": [
    "pre_cs_2_words[737]"
   ]
  },
  {
   "cell_type": "code",
   "execution_count": 302,
   "metadata": {},
   "outputs": [
    {
     "data": {
      "text/plain": [
       "'完 了 以后 你 就 登录 ， 然后 选 【 access my clearances 】 ， 【 create clearance application 】 然后 根据 要求 再 填 一 大 堆 信息 ， 然后 网上 付款 。'"
      ]
     },
     "execution_count": 302,
     "metadata": {},
     "output_type": "execute_result"
    }
   ],
   "source": [
    "sentences[737]"
   ]
  },
  {
   "cell_type": "code",
   "execution_count": 303,
   "metadata": {},
   "outputs": [
    {
     "data": {
      "text/plain": [
       "'然后'"
      ]
     },
     "execution_count": 303,
     "metadata": {},
     "output_type": "execute_result"
    }
   ],
   "source": [
    "cs_back_word_list[737]"
   ]
  },
  {
   "cell_type": "code",
   "execution_count": 304,
   "metadata": {},
   "outputs": [],
   "source": [
    "pre_cs_2_words[737] = 'application'"
   ]
  },
  {
   "cell_type": "code",
   "execution_count": 305,
   "metadata": {},
   "outputs": [
    {
     "data": {
      "text/plain": [
       "'个'"
      ]
     },
     "execution_count": 305,
     "metadata": {},
     "output_type": "execute_result"
    }
   ],
   "source": [
    "pre_cs_2_words[749]"
   ]
  },
  {
   "cell_type": "code",
   "execution_count": 306,
   "metadata": {},
   "outputs": [
    {
     "data": {
      "text/plain": [
       "'两 个 车位 ， 一 个 reserved 车位 。'"
      ]
     },
     "execution_count": 306,
     "metadata": {},
     "output_type": "execute_result"
    }
   ],
   "source": [
    "sentences[749]"
   ]
  },
  {
   "cell_type": "code",
   "execution_count": 307,
   "metadata": {},
   "outputs": [
    {
     "data": {
      "text/plain": [
       "'车位'"
      ]
     },
     "execution_count": 307,
     "metadata": {},
     "output_type": "execute_result"
    }
   ],
   "source": [
    "cs_back_word_list[749]"
   ]
  },
  {
   "cell_type": "code",
   "execution_count": 308,
   "metadata": {},
   "outputs": [],
   "source": [
    "pre_cs_2_words[749] = 'reserved'"
   ]
  },
  {
   "cell_type": "code",
   "execution_count": 310,
   "metadata": {},
   "outputs": [
    {
     "data": {
      "text/plain": [
       "'情绪'"
      ]
     },
     "execution_count": 310,
     "metadata": {},
     "output_type": "execute_result"
    }
   ],
   "source": [
    "pre_cs_2_words[850]"
   ]
  },
  {
   "cell_type": "code",
   "execution_count": 311,
   "metadata": {},
   "outputs": [
    {
     "data": {
      "text/plain": [
       "'校 医院 有 专门 针对 抑郁 情绪 的 心理 辅导 ， 保险 cover 的'"
      ]
     },
     "execution_count": 311,
     "metadata": {},
     "output_type": "execute_result"
    }
   ],
   "source": [
    "sentences[850]"
   ]
  },
  {
   "cell_type": "code",
   "execution_count": 312,
   "metadata": {},
   "outputs": [
    {
     "data": {
      "text/plain": [
       "'的'"
      ]
     },
     "execution_count": 312,
     "metadata": {},
     "output_type": "execute_result"
    }
   ],
   "source": [
    "cs_back_word_list[850]"
   ]
  },
  {
   "cell_type": "code",
   "execution_count": 313,
   "metadata": {},
   "outputs": [],
   "source": [
    "pre_cs_2_words[850] = 'cover'"
   ]
  },
  {
   "cell_type": "code",
   "execution_count": 314,
   "metadata": {},
   "outputs": [
    {
     "data": {
      "text/plain": [
       "'联系'"
      ]
     },
     "execution_count": 314,
     "metadata": {},
     "output_type": "execute_result"
    }
   ],
   "source": [
    "pre_cs_2_words[877]"
   ]
  },
  {
   "cell_type": "code",
   "execution_count": 315,
   "metadata": {},
   "outputs": [
    {
     "data": {
      "text/plain": [
       "'可以 啊 ， 联系 我 ， 可以 email 我'"
      ]
     },
     "execution_count": 315,
     "metadata": {},
     "output_type": "execute_result"
    }
   ],
   "source": [
    "sentences[877]"
   ]
  },
  {
   "cell_type": "code",
   "execution_count": 316,
   "metadata": {},
   "outputs": [
    {
     "data": {
      "text/plain": [
       "'我'"
      ]
     },
     "execution_count": 316,
     "metadata": {},
     "output_type": "execute_result"
    }
   ],
   "source": [
    "cs_back_word_list[877]"
   ]
  },
  {
   "cell_type": "code",
   "execution_count": 317,
   "metadata": {},
   "outputs": [],
   "source": [
    "pre_cs_2_words[877] = 'email'"
   ]
  },
  {
   "cell_type": "code",
   "execution_count": 318,
   "metadata": {},
   "outputs": [
    {
     "data": {
      "text/plain": [
       "'学校'"
      ]
     },
     "execution_count": 318,
     "metadata": {},
     "output_type": "execute_result"
    }
   ],
   "source": [
    "pre_cs_2_words[888]"
   ]
  },
  {
   "cell_type": "code",
   "execution_count": 319,
   "metadata": {},
   "outputs": [
    {
     "data": {
      "text/plain": [
       "'是 在 学校 可以 办理 还是 需要 去 某 一些 office ， 可以 网上 办理 吗 ？'"
      ]
     },
     "execution_count": 319,
     "metadata": {},
     "output_type": "execute_result"
    }
   ],
   "source": [
    "sentences[888]"
   ]
  },
  {
   "cell_type": "code",
   "execution_count": 320,
   "metadata": {},
   "outputs": [
    {
     "data": {
      "text/plain": [
       "'可以'"
      ]
     },
     "execution_count": 320,
     "metadata": {},
     "output_type": "execute_result"
    }
   ],
   "source": [
    "cs_back_word_list[888]"
   ]
  },
  {
   "cell_type": "code",
   "execution_count": 321,
   "metadata": {},
   "outputs": [],
   "source": [
    "pre_cs_2_words[888]  = 'office'"
   ]
  },
  {
   "cell_type": "code",
   "execution_count": 322,
   "metadata": {},
   "outputs": [
    {
     "data": {
      "text/plain": [
       "'有'"
      ]
     },
     "execution_count": 322,
     "metadata": {},
     "output_type": "execute_result"
    }
   ],
   "source": [
    "pre_cs_2_words[921]"
   ]
  },
  {
   "cell_type": "code",
   "execution_count": 323,
   "metadata": {},
   "outputs": [
    {
     "data": {
      "text/plain": [
       "'帮 朋友 出租 ： 有 两 个 bedroom 两 个 全 bathroom 的 公寓 ， 位置 好 .'"
      ]
     },
     "execution_count": 323,
     "metadata": {},
     "output_type": "execute_result"
    }
   ],
   "source": [
    "sentences[921]"
   ]
  },
  {
   "cell_type": "code",
   "execution_count": 324,
   "metadata": {},
   "outputs": [
    {
     "data": {
      "text/plain": [
       "'两'"
      ]
     },
     "execution_count": 324,
     "metadata": {},
     "output_type": "execute_result"
    }
   ],
   "source": [
    "cs_back_word_list[921]"
   ]
  },
  {
   "cell_type": "code",
   "execution_count": 325,
   "metadata": {},
   "outputs": [],
   "source": [
    "pre_cs_2_words[921] = 'bedroom'"
   ]
  },
  {
   "cell_type": "code",
   "execution_count": 326,
   "metadata": {},
   "outputs": [
    {
     "data": {
      "text/plain": [
       "'必备'"
      ]
     },
     "execution_count": 326,
     "metadata": {},
     "output_type": "execute_result"
    }
   ],
   "source": [
    "pre_cs_2_words[938]"
   ]
  },
  {
   "cell_type": "code",
   "execution_count": 327,
   "metadata": {},
   "outputs": [
    {
     "data": {
      "text/plain": [
       "'写 paper 写 作业 必备 。'"
      ]
     },
     "execution_count": 327,
     "metadata": {},
     "output_type": "execute_result"
    }
   ],
   "source": [
    "sentences[938]"
   ]
  },
  {
   "cell_type": "code",
   "execution_count": 328,
   "metadata": {},
   "outputs": [
    {
     "data": {
      "text/plain": [
       "'写'"
      ]
     },
     "execution_count": 328,
     "metadata": {},
     "output_type": "execute_result"
    }
   ],
   "source": [
    "cs_back_word_list[938]"
   ]
  },
  {
   "cell_type": "code",
   "execution_count": 329,
   "metadata": {},
   "outputs": [],
   "source": [
    "pre_cs_2_words[938] = 'paper'"
   ]
  },
  {
   "cell_type": "code",
   "execution_count": 330,
   "metadata": {},
   "outputs": [
    {
     "data": {
      "text/plain": [
       "'是'"
      ]
     },
     "execution_count": 330,
     "metadata": {},
     "output_type": "execute_result"
    }
   ],
   "source": [
    "pre_cs_2_words[1012]"
   ]
  },
  {
   "cell_type": "code",
   "execution_count": 331,
   "metadata": {},
   "outputs": [
    {
     "data": {
      "text/plain": [
       "'房子 共 三 层 ， 出租 的 是 二 楼 的 bedroom ， 二 楼 有 独立 厨房 和 卫生间 。'"
      ]
     },
     "execution_count": 331,
     "metadata": {},
     "output_type": "execute_result"
    }
   ],
   "source": [
    "sentences[1012]"
   ]
  },
  {
   "cell_type": "code",
   "execution_count": 332,
   "metadata": {},
   "outputs": [
    {
     "data": {
      "text/plain": [
       "'二'"
      ]
     },
     "execution_count": 332,
     "metadata": {},
     "output_type": "execute_result"
    }
   ],
   "source": [
    "cs_back_word_list[1012]"
   ]
  },
  {
   "cell_type": "code",
   "execution_count": 333,
   "metadata": {},
   "outputs": [],
   "source": [
    "pre_cs_2_words[1012] = 'bedroom'"
   ]
  },
  {
   "cell_type": "code",
   "execution_count": 334,
   "metadata": {},
   "outputs": [
    {
     "data": {
      "text/plain": [
       "'是'"
      ]
     },
     "execution_count": 334,
     "metadata": {},
     "output_type": "execute_result"
    }
   ],
   "source": [
    "pre_cs_2_words[1030]"
   ]
  },
  {
   "cell_type": "code",
   "execution_count": 335,
   "metadata": {},
   "outputs": [
    {
     "data": {
      "text/plain": [
       "'拎包 入住 ～ 关于 公寓 信息 就 不 用 多 说 了 吧 ， 那 是 相当 popular ， 相当 好 的 ~~~'"
      ]
     },
     "execution_count": 335,
     "metadata": {},
     "output_type": "execute_result"
    }
   ],
   "source": [
    "sentences[1030]"
   ]
  },
  {
   "cell_type": "code",
   "execution_count": 336,
   "metadata": {},
   "outputs": [
    {
     "data": {
      "text/plain": [
       "'相当'"
      ]
     },
     "execution_count": 336,
     "metadata": {},
     "output_type": "execute_result"
    }
   ],
   "source": [
    "cs_back_word_list[1030]"
   ]
  },
  {
   "cell_type": "code",
   "execution_count": 337,
   "metadata": {},
   "outputs": [],
   "source": [
    "pre_cs_2_words[1030] = 'popular'"
   ]
  },
  {
   "cell_type": "code",
   "execution_count": 338,
   "metadata": {},
   "outputs": [
    {
     "data": {
      "text/plain": [
       "'男生'"
      ]
     },
     "execution_count": 338,
     "metadata": {},
     "output_type": "execute_result"
    }
   ],
   "source": [
    "pre_cs_2_words[1047]"
   ]
  },
  {
   "cell_type": "code",
   "execution_count": 339,
   "metadata": {},
   "outputs": [
    {
     "data": {
      "text/plain": [
       "'现有 两 匹 大 男生 ， 一 master 一 phd ， 很 好 相处 。'"
      ]
     },
     "execution_count": 339,
     "metadata": {},
     "output_type": "execute_result"
    }
   ],
   "source": [
    "sentences[1047]"
   ]
  },
  {
   "cell_type": "code",
   "execution_count": 340,
   "metadata": {},
   "outputs": [
    {
     "data": {
      "text/plain": [
       "'一'"
      ]
     },
     "execution_count": 340,
     "metadata": {},
     "output_type": "execute_result"
    }
   ],
   "source": [
    "cs_back_word_list[1047]"
   ]
  },
  {
   "cell_type": "code",
   "execution_count": 341,
   "metadata": {},
   "outputs": [],
   "source": [
    "pre_cs_2_words[1047] = 'master'"
   ]
  },
  {
   "cell_type": "code",
   "execution_count": 342,
   "metadata": {},
   "outputs": [
    {
     "data": {
      "text/plain": [
       "'与'"
      ]
     },
     "execution_count": 342,
     "metadata": {},
     "output_type": "execute_result"
    }
   ],
   "source": [
    "pre_cs_2_words[1066]"
   ]
  },
  {
   "cell_type": "code",
   "execution_count": 343,
   "metadata": {},
   "outputs": [
    {
     "data": {
      "text/plain": [
       "'厨房 卫生间 ： 可能 与 另 一 个 房间 的 人 share ， 另 一 个 房间 是 女生 ， 匹 大学生 ， 人 很 nice ， 很 爱 干净 。'"
      ]
     },
     "execution_count": 343,
     "metadata": {},
     "output_type": "execute_result"
    }
   ],
   "source": [
    "sentences[1066]"
   ]
  },
  {
   "cell_type": "code",
   "execution_count": 344,
   "metadata": {},
   "outputs": [
    {
     "data": {
      "text/plain": [
       "'另'"
      ]
     },
     "execution_count": 344,
     "metadata": {},
     "output_type": "execute_result"
    }
   ],
   "source": [
    "cs_back_word_list[1066]"
   ]
  },
  {
   "cell_type": "code",
   "execution_count": 345,
   "metadata": {},
   "outputs": [],
   "source": [
    "pre_cs_2_words[1066] = 'share'"
   ]
  },
  {
   "cell_type": "code",
   "execution_count": 348,
   "metadata": {},
   "outputs": [],
   "source": [
    "textfile = open(\"pre_cs2_word_eng.txt\", \"w\")\n",
    "for element in pre_cs_2_words:\n",
    "    textfile. write(element + \"\\n\")\n",
    "textfile. close()\n"
   ]
  },
  {
   "cell_type": "code",
   "execution_count": 349,
   "metadata": {},
   "outputs": [],
   "source": [
    "file = open('final_cs_eng_ngram_output.txt', 'r')\n",
    "lines = []\n",
    "for line in file.readlines(): \n",
    "    lines.append(line.split())"
   ]
  },
  {
   "cell_type": "code",
   "execution_count": 350,
   "metadata": {},
   "outputs": [],
   "source": [
    "lines = lines[:1476]"
   ]
  },
  {
   "cell_type": "code",
   "execution_count": 351,
   "metadata": {},
   "outputs": [
    {
     "data": {
      "text/plain": [
       "['<s>=1',\n",
       " '1',\n",
       " '-1.5428543',\n",
       " 'rich=10557',\n",
       " '1',\n",
       " '-5.9844146',\n",
       " 'neighborhood=10067',\n",
       " '2',\n",
       " '-3.7494495',\n",
       " 'is=27',\n",
       " '2',\n",
       " '-1.8638169',\n",
       " 'very=267',\n",
       " '2',\n",
       " '-2.546147',\n",
       " 'safe=1460',\n",
       " '2',\n",
       " '-3.650646',\n",
       " '(it=0',\n",
       " '1',\n",
       " '-7.357118',\n",
       " 'belongs=15611',\n",
       " '1',\n",
       " '-4.4742713',\n",
       " 'to=23',\n",
       " '2',\n",
       " '-0.15423414',\n",
       " 'the=18',\n",
       " '3',\n",
       " '-0.40851673',\n",
       " 'rich=10557',\n",
       " '3',\n",
       " '-4.3429284',\n",
       " 'area).=0',\n",
       " '1',\n",
       " '-7.3257785',\n",
       " 'it=47',\n",
       " '1',\n",
       " '-3.0048501',\n",
       " 'is=27',\n",
       " '2',\n",
       " '-1.5630789',\n",
       " 'adjacent=8626',\n",
       " '3',\n",
       " '-3.6811929',\n",
       " 'to=23',\n",
       " '4',\n",
       " '-0.037449248',\n",
       " 'the=18',\n",
       " '4',\n",
       " '-0.28426424',\n",
       " 'park,=0',\n",
       " '1',\n",
       " '-8.676736',\n",
       " 'and=38',\n",
       " '1',\n",
       " '-1.9565992',\n",
       " 'there=1497',\n",
       " '2',\n",
       " '-3.0339642',\n",
       " 'are=80',\n",
       " '3',\n",
       " '-0.79388756',\n",
       " 'various=1563',\n",
       " '4',\n",
       " '-2.3052146',\n",
       " 'supporting=4245',\n",
       " '2',\n",
       " '-3.5734682',\n",
       " 'golf=12400',\n",
       " '1',\n",
       " '-5.3176875',\n",
       " 'fields=10688',\n",
       " '1',\n",
       " '-4.774484',\n",
       " 'and=38',\n",
       " '2',\n",
       " '-1.1379249',\n",
       " 'community=4179',\n",
       " '2',\n",
       " '-3.972607',\n",
       " 'facilities=7196',\n",
       " '3',\n",
       " '-1.6735933',\n",
       " 'nearby.=0',\n",
       " '1',\n",
       " '-8.021243',\n",
       " 'the=18',\n",
       " '1',\n",
       " '-2.566617',\n",
       " 'environment=5778',\n",
       " '2',\n",
       " '-3.8431804',\n",
       " 'is=27',\n",
       " '3',\n",
       " '-1.5448735',\n",
       " 'very=267',\n",
       " '3',\n",
       " '-1.9251271',\n",
       " 'nice=20664',\n",
       " '3',\n",
       " '-2.698286',\n",
       " 'and=38',\n",
       " '4',\n",
       " '-1.1585989',\n",
       " 'quiet.=0',\n",
       " '1',\n",
       " '-7.893675',\n",
       " '</s>=2',\n",
       " '1',\n",
       " '-2.8328552',\n",
       " 'Total:',\n",
       " '-121.67164',\n",
       " 'OOV:',\n",
       " '5']"
      ]
     },
     "execution_count": 351,
     "metadata": {},
     "output_type": "execute_result"
    }
   ],
   "source": [
    "lines[0]"
   ]
  },
  {
   "cell_type": "code",
   "execution_count": 352,
   "metadata": {},
   "outputs": [],
   "source": [
    "new_lines = []\n",
    "for line in lines:\n",
    "    new_line = []\n",
    "    for char in line:\n",
    "        if '=' in char:\n",
    "            equal_index = char.index('=')\n",
    "            word = char[:equal_index]\n",
    "            s = ''.join(ch for ch in word if ch.isalnum())\n",
    "            new_line.append(s)\n",
    "        else:\n",
    "            new_line.append(char)\n",
    "    new_lines.append(new_line)"
   ]
  },
  {
   "cell_type": "code",
   "execution_count": 353,
   "metadata": {},
   "outputs": [
    {
     "data": {
      "text/plain": [
       "['s',\n",
       " '1',\n",
       " '-1.5428543',\n",
       " 'rich',\n",
       " '1',\n",
       " '-5.9844146',\n",
       " 'neighborhood',\n",
       " '2',\n",
       " '-3.7494495',\n",
       " 'is',\n",
       " '2',\n",
       " '-1.8638169',\n",
       " 'very',\n",
       " '2',\n",
       " '-2.546147',\n",
       " 'safe',\n",
       " '2',\n",
       " '-3.650646',\n",
       " 'it',\n",
       " '1',\n",
       " '-7.357118',\n",
       " 'belongs',\n",
       " '1',\n",
       " '-4.4742713',\n",
       " 'to',\n",
       " '2',\n",
       " '-0.15423414',\n",
       " 'the',\n",
       " '3',\n",
       " '-0.40851673',\n",
       " 'rich',\n",
       " '3',\n",
       " '-4.3429284',\n",
       " 'area',\n",
       " '1',\n",
       " '-7.3257785',\n",
       " 'it',\n",
       " '1',\n",
       " '-3.0048501',\n",
       " 'is',\n",
       " '2',\n",
       " '-1.5630789',\n",
       " 'adjacent',\n",
       " '3',\n",
       " '-3.6811929',\n",
       " 'to',\n",
       " '4',\n",
       " '-0.037449248',\n",
       " 'the',\n",
       " '4',\n",
       " '-0.28426424',\n",
       " 'park',\n",
       " '1',\n",
       " '-8.676736',\n",
       " 'and',\n",
       " '1',\n",
       " '-1.9565992',\n",
       " 'there',\n",
       " '2',\n",
       " '-3.0339642',\n",
       " 'are',\n",
       " '3',\n",
       " '-0.79388756',\n",
       " 'various',\n",
       " '4',\n",
       " '-2.3052146',\n",
       " 'supporting',\n",
       " '2',\n",
       " '-3.5734682',\n",
       " 'golf',\n",
       " '1',\n",
       " '-5.3176875',\n",
       " 'fields',\n",
       " '1',\n",
       " '-4.774484',\n",
       " 'and',\n",
       " '2',\n",
       " '-1.1379249',\n",
       " 'community',\n",
       " '2',\n",
       " '-3.972607',\n",
       " 'facilities',\n",
       " '3',\n",
       " '-1.6735933',\n",
       " 'nearby',\n",
       " '1',\n",
       " '-8.021243',\n",
       " 'the',\n",
       " '1',\n",
       " '-2.566617',\n",
       " 'environment',\n",
       " '2',\n",
       " '-3.8431804',\n",
       " 'is',\n",
       " '3',\n",
       " '-1.5448735',\n",
       " 'very',\n",
       " '3',\n",
       " '-1.9251271',\n",
       " 'nice',\n",
       " '3',\n",
       " '-2.698286',\n",
       " 'and',\n",
       " '4',\n",
       " '-1.1585989',\n",
       " 'quiet',\n",
       " '1',\n",
       " '-7.893675',\n",
       " 's',\n",
       " '1',\n",
       " '-2.8328552',\n",
       " 'Total:',\n",
       " '-121.67164',\n",
       " 'OOV:',\n",
       " '5']"
      ]
     },
     "execution_count": 353,
     "metadata": {},
     "output_type": "execute_result"
    }
   ],
   "source": [
    "new_lines[0]"
   ]
  },
  {
   "cell_type": "code",
   "execution_count": 354,
   "metadata": {},
   "outputs": [],
   "source": [
    "data = pd.read_csv(\"redoing_cs_data.csv\")"
   ]
  },
  {
   "cell_type": "code",
   "execution_count": 355,
   "metadata": {},
   "outputs": [],
   "source": [
    "data['surps'] = new_lines"
   ]
  },
  {
   "cell_type": "code",
   "execution_count": 356,
   "metadata": {},
   "outputs": [],
   "source": [
    "data = data[['original_sentence', 'cs_back_word', 'surps']]"
   ]
  },
  {
   "cell_type": "code",
   "execution_count": 357,
   "metadata": {},
   "outputs": [
    {
     "data": {
      "text/html": [
       "<div>\n",
       "<style scoped>\n",
       "    .dataframe tbody tr th:only-of-type {\n",
       "        vertical-align: middle;\n",
       "    }\n",
       "\n",
       "    .dataframe tbody tr th {\n",
       "        vertical-align: top;\n",
       "    }\n",
       "\n",
       "    .dataframe thead th {\n",
       "        text-align: right;\n",
       "    }\n",
       "</style>\n",
       "<table border=\"1\" class=\"dataframe\">\n",
       "  <thead>\n",
       "    <tr style=\"text-align: right;\">\n",
       "      <th></th>\n",
       "      <th>original_sentence</th>\n",
       "      <th>cs_back_word</th>\n",
       "      <th>surps</th>\n",
       "    </tr>\n",
       "  </thead>\n",
       "  <tbody>\n",
       "    <tr>\n",
       "      <th>0</th>\n",
       "      <td>rich neighborhood ， 非常 安全 （ 这里 属于 富人 区 ） ， 旁边 ...</td>\n",
       "      <td>非常</td>\n",
       "      <td>[s, 1, -1.5428543, rich, 1, -5.9844146, neighb...</td>\n",
       "    </tr>\n",
       "    <tr>\n",
       "      <th>1</th>\n",
       "      <td>lease 从 八月 开始 ， 具体 日期 可以 商量 。</td>\n",
       "      <td>从</td>\n",
       "      <td>[s, 1, -1.5428543, lease, 1, -6.4799466, will,...</td>\n",
       "    </tr>\n",
       "    <tr>\n",
       "      <th>2</th>\n",
       "      <td>house 一共 有 两 层 + 地下室 。</td>\n",
       "      <td>一共</td>\n",
       "      <td>[s, 1, -1.5428543, house, 2, -5.313124, has, 2...</td>\n",
       "    </tr>\n",
       "    <tr>\n",
       "      <th>3</th>\n",
       "      <td>一共 有 两 个 可以 洗澡 的 bathroom 。</td>\n",
       "      <td>NaN</td>\n",
       "      <td>[s, 1, -1.5428543, there, 2, -4.6604314, are, ...</td>\n",
       "    </tr>\n",
       "    <tr>\n",
       "      <th>4</th>\n",
       "      <td>整个 house 家具 齐全 。</td>\n",
       "      <td>家具</td>\n",
       "      <td>[s, 1, -1.5428543, the, 2, -3.469161, whole, 2...</td>\n",
       "    </tr>\n",
       "  </tbody>\n",
       "</table>\n",
       "</div>"
      ],
      "text/plain": [
       "                                   original_sentence cs_back_word  \\\n",
       "0  rich neighborhood ， 非常 安全 （ 这里 属于 富人 区 ） ， 旁边 ...           非常   \n",
       "1                      lease 从 八月 开始 ， 具体 日期 可以 商量 。            从   \n",
       "2                             house 一共 有 两 层 + 地下室 。           一共   \n",
       "3                        一共 有 两 个 可以 洗澡 的 bathroom 。          NaN   \n",
       "4                                   整个 house 家具 齐全 。           家具   \n",
       "\n",
       "                                               surps  \n",
       "0  [s, 1, -1.5428543, rich, 1, -5.9844146, neighb...  \n",
       "1  [s, 1, -1.5428543, lease, 1, -6.4799466, will,...  \n",
       "2  [s, 1, -1.5428543, house, 2, -5.313124, has, 2...  \n",
       "3  [s, 1, -1.5428543, there, 2, -4.6604314, are, ...  \n",
       "4  [s, 1, -1.5428543, the, 2, -3.469161, whole, 2...  "
      ]
     },
     "execution_count": 357,
     "metadata": {},
     "output_type": "execute_result"
    }
   ],
   "source": [
    "data.head()"
   ]
  },
  {
   "cell_type": "code",
   "execution_count": 358,
   "metadata": {},
   "outputs": [],
   "source": [
    "data = data.dropna()"
   ]
  },
  {
   "cell_type": "code",
   "execution_count": 359,
   "metadata": {},
   "outputs": [
    {
     "data": {
      "text/html": [
       "<div>\n",
       "<style scoped>\n",
       "    .dataframe tbody tr th:only-of-type {\n",
       "        vertical-align: middle;\n",
       "    }\n",
       "\n",
       "    .dataframe tbody tr th {\n",
       "        vertical-align: top;\n",
       "    }\n",
       "\n",
       "    .dataframe thead th {\n",
       "        text-align: right;\n",
       "    }\n",
       "</style>\n",
       "<table border=\"1\" class=\"dataframe\">\n",
       "  <thead>\n",
       "    <tr style=\"text-align: right;\">\n",
       "      <th></th>\n",
       "      <th>original_sentence</th>\n",
       "      <th>cs_back_word</th>\n",
       "      <th>surps</th>\n",
       "    </tr>\n",
       "  </thead>\n",
       "  <tbody>\n",
       "    <tr>\n",
       "      <th>0</th>\n",
       "      <td>rich neighborhood ， 非常 安全 （ 这里 属于 富人 区 ） ， 旁边 ...</td>\n",
       "      <td>非常</td>\n",
       "      <td>[s, 1, -1.5428543, rich, 1, -5.9844146, neighb...</td>\n",
       "    </tr>\n",
       "    <tr>\n",
       "      <th>1</th>\n",
       "      <td>lease 从 八月 开始 ， 具体 日期 可以 商量 。</td>\n",
       "      <td>从</td>\n",
       "      <td>[s, 1, -1.5428543, lease, 1, -6.4799466, will,...</td>\n",
       "    </tr>\n",
       "    <tr>\n",
       "      <th>2</th>\n",
       "      <td>house 一共 有 两 层 + 地下室 。</td>\n",
       "      <td>一共</td>\n",
       "      <td>[s, 1, -1.5428543, house, 2, -5.313124, has, 2...</td>\n",
       "    </tr>\n",
       "    <tr>\n",
       "      <th>4</th>\n",
       "      <td>整个 house 家具 齐全 。</td>\n",
       "      <td>家具</td>\n",
       "      <td>[s, 1, -1.5428543, the, 2, -3.469161, whole, 2...</td>\n",
       "    </tr>\n",
       "    <tr>\n",
       "      <th>6</th>\n",
       "      <td>空调 有 window ac 和 暖气 。</td>\n",
       "      <td>和</td>\n",
       "      <td>[s, 1, -1.5428543, the, 2, -3.469161, air, 3, ...</td>\n",
       "    </tr>\n",
       "  </tbody>\n",
       "</table>\n",
       "</div>"
      ],
      "text/plain": [
       "                                   original_sentence cs_back_word  \\\n",
       "0  rich neighborhood ， 非常 安全 （ 这里 属于 富人 区 ） ， 旁边 ...           非常   \n",
       "1                      lease 从 八月 开始 ， 具体 日期 可以 商量 。            从   \n",
       "2                             house 一共 有 两 层 + 地下室 。           一共   \n",
       "4                                   整个 house 家具 齐全 。           家具   \n",
       "6                              空调 有 window ac 和 暖气 。            和   \n",
       "\n",
       "                                               surps  \n",
       "0  [s, 1, -1.5428543, rich, 1, -5.9844146, neighb...  \n",
       "1  [s, 1, -1.5428543, lease, 1, -6.4799466, will,...  \n",
       "2  [s, 1, -1.5428543, house, 2, -5.313124, has, 2...  \n",
       "4  [s, 1, -1.5428543, the, 2, -3.469161, whole, 2...  \n",
       "6  [s, 1, -1.5428543, the, 2, -3.469161, air, 3, ...  "
      ]
     },
     "execution_count": 359,
     "metadata": {},
     "output_type": "execute_result"
    }
   ],
   "source": [
    "data.head()"
   ]
  },
  {
   "cell_type": "code",
   "execution_count": 360,
   "metadata": {},
   "outputs": [],
   "source": [
    "data['pre_cs_2_word'] = pre_cs_2_words"
   ]
  },
  {
   "cell_type": "code",
   "execution_count": 361,
   "metadata": {},
   "outputs": [
    {
     "data": {
      "text/html": [
       "<div>\n",
       "<style scoped>\n",
       "    .dataframe tbody tr th:only-of-type {\n",
       "        vertical-align: middle;\n",
       "    }\n",
       "\n",
       "    .dataframe tbody tr th {\n",
       "        vertical-align: top;\n",
       "    }\n",
       "\n",
       "    .dataframe thead th {\n",
       "        text-align: right;\n",
       "    }\n",
       "</style>\n",
       "<table border=\"1\" class=\"dataframe\">\n",
       "  <thead>\n",
       "    <tr style=\"text-align: right;\">\n",
       "      <th></th>\n",
       "      <th>original_sentence</th>\n",
       "      <th>cs_back_word</th>\n",
       "      <th>surps</th>\n",
       "      <th>pre_cs_2_word</th>\n",
       "    </tr>\n",
       "  </thead>\n",
       "  <tbody>\n",
       "    <tr>\n",
       "      <th>0</th>\n",
       "      <td>rich neighborhood ， 非常 安全 （ 这里 属于 富人 区 ） ， 旁边 ...</td>\n",
       "      <td>非常</td>\n",
       "      <td>[s, 1, -1.5428543, rich, 1, -5.9844146, neighb...</td>\n",
       "      <td>neighborhood</td>\n",
       "    </tr>\n",
       "    <tr>\n",
       "      <th>1</th>\n",
       "      <td>lease 从 八月 开始 ， 具体 日期 可以 商量 。</td>\n",
       "      <td>从</td>\n",
       "      <td>[s, 1, -1.5428543, lease, 1, -6.4799466, will,...</td>\n",
       "      <td>lease</td>\n",
       "    </tr>\n",
       "    <tr>\n",
       "      <th>2</th>\n",
       "      <td>house 一共 有 两 层 + 地下室 。</td>\n",
       "      <td>一共</td>\n",
       "      <td>[s, 1, -1.5428543, house, 2, -5.313124, has, 2...</td>\n",
       "      <td>house</td>\n",
       "    </tr>\n",
       "    <tr>\n",
       "      <th>4</th>\n",
       "      <td>整个 house 家具 齐全 。</td>\n",
       "      <td>家具</td>\n",
       "      <td>[s, 1, -1.5428543, the, 2, -3.469161, whole, 2...</td>\n",
       "      <td>house</td>\n",
       "    </tr>\n",
       "    <tr>\n",
       "      <th>6</th>\n",
       "      <td>空调 有 window ac 和 暖气 。</td>\n",
       "      <td>和</td>\n",
       "      <td>[s, 1, -1.5428543, the, 2, -3.469161, air, 3, ...</td>\n",
       "      <td>ac</td>\n",
       "    </tr>\n",
       "  </tbody>\n",
       "</table>\n",
       "</div>"
      ],
      "text/plain": [
       "                                   original_sentence cs_back_word  \\\n",
       "0  rich neighborhood ， 非常 安全 （ 这里 属于 富人 区 ） ， 旁边 ...           非常   \n",
       "1                      lease 从 八月 开始 ， 具体 日期 可以 商量 。            从   \n",
       "2                             house 一共 有 两 层 + 地下室 。           一共   \n",
       "4                                   整个 house 家具 齐全 。           家具   \n",
       "6                              空调 有 window ac 和 暖气 。            和   \n",
       "\n",
       "                                               surps pre_cs_2_word  \n",
       "0  [s, 1, -1.5428543, rich, 1, -5.9844146, neighb...  neighborhood  \n",
       "1  [s, 1, -1.5428543, lease, 1, -6.4799466, will,...         lease  \n",
       "2  [s, 1, -1.5428543, house, 2, -5.313124, has, 2...         house  \n",
       "4  [s, 1, -1.5428543, the, 2, -3.469161, whole, 2...         house  \n",
       "6  [s, 1, -1.5428543, the, 2, -3.469161, air, 3, ...            ac  "
      ]
     },
     "execution_count": 361,
     "metadata": {},
     "output_type": "execute_result"
    }
   ],
   "source": [
    "data.head()"
   ]
  },
  {
   "cell_type": "code",
   "execution_count": 362,
   "metadata": {},
   "outputs": [],
   "source": [
    "outputs = list(data['surps'])\n",
    "words = list(data['pre_cs_2_word'])"
   ]
  },
  {
   "cell_type": "code",
   "execution_count": 408,
   "metadata": {},
   "outputs": [],
   "source": [
    "surps = []\n",
    "for i in range(len(outputs)):\n",
    "    line = outputs[i]\n",
    "    word = words[i]\n",
    "    try:\n",
    "        word_idx = line.index(word)\n",
    "    except:\n",
    "        for char in line:\n",
    "            if word in char:\n",
    "                word_idx = line.index(char)\n",
    "                break\n",
    "    try:\n",
    "        word_surp = -float(line[word_idx+2])\n",
    "        surps.append(word_surp)\n",
    "    except:\n",
    "        surps.append('TODO')"
   ]
  },
  {
   "cell_type": "code",
   "execution_count": 409,
   "metadata": {},
   "outputs": [
    {
     "data": {
      "text/plain": [
       "'up'"
      ]
     },
     "execution_count": 409,
     "metadata": {},
     "output_type": "execute_result"
    }
   ],
   "source": [
    "words[1068]"
   ]
  },
  {
   "cell_type": "code",
   "execution_count": 410,
   "metadata": {},
   "outputs": [
    {
     "data": {
      "text/plain": [
       "['s',\n",
       " '1',\n",
       " '-1.5428543',\n",
       " 'the',\n",
       " '2',\n",
       " '-3.469161',\n",
       " 'house',\n",
       " '2',\n",
       " '-3.4567983',\n",
       " 'is',\n",
       " '3',\n",
       " '-1.7115371',\n",
       " 'still',\n",
       " '4',\n",
       " '-2.0013092',\n",
       " 'available',\n",
       " '3',\n",
       " '-2.3709662',\n",
       " 's',\n",
       " '2',\n",
       " '-3.451168',\n",
       " 'Total:',\n",
       " '-18.003796',\n",
       " 'OOV:',\n",
       " '0']"
      ]
     },
     "execution_count": 410,
     "metadata": {},
     "output_type": "execute_result"
    }
   ],
   "source": [
    "outputs[1068]"
   ]
  },
  {
   "cell_type": "code",
   "execution_count": 411,
   "metadata": {},
   "outputs": [
    {
     "data": {
      "text/plain": [
       "'房子'"
      ]
     },
     "execution_count": 411,
     "metadata": {},
     "output_type": "execute_result"
    }
   ],
   "source": [
    "list(data[\"cs_back_word\"])[1068]"
   ]
  },
  {
   "cell_type": "code",
   "execution_count": 412,
   "metadata": {},
   "outputs": [
    {
     "data": {
      "text/plain": [
       "'up up 房子 依然 available'"
      ]
     },
     "execution_count": 412,
     "metadata": {},
     "output_type": "execute_result"
    }
   ],
   "source": [
    "list(data[\"original_sentence\"])[1068]"
   ]
  },
  {
   "cell_type": "code",
   "execution_count": 413,
   "metadata": {},
   "outputs": [
    {
     "data": {
      "text/plain": [
       "'up'"
      ]
     },
     "execution_count": 413,
     "metadata": {},
     "output_type": "execute_result"
    }
   ],
   "source": [
    "list(data[\"pre_cs_2_word\"])[1068]"
   ]
  },
  {
   "cell_type": "code",
   "execution_count": 414,
   "metadata": {},
   "outputs": [
    {
     "data": {
      "text/plain": [
       "1128"
      ]
     },
     "execution_count": 414,
     "metadata": {},
     "output_type": "execute_result"
    }
   ],
   "source": [
    "len(surps)"
   ]
  },
  {
   "cell_type": "code",
   "execution_count": 415,
   "metadata": {},
   "outputs": [
    {
     "data": {
      "text/plain": [
       "2"
      ]
     },
     "execution_count": 415,
     "metadata": {},
     "output_type": "execute_result"
    }
   ],
   "source": [
    "surps.count('TODO')"
   ]
  },
  {
   "cell_type": "code",
   "execution_count": 416,
   "metadata": {},
   "outputs": [
    {
     "data": {
      "text/plain": [
       "738"
      ]
     },
     "execution_count": 416,
     "metadata": {},
     "output_type": "execute_result"
    }
   ],
   "source": [
    "surps.index('TODO')"
   ]
  },
  {
   "cell_type": "code",
   "execution_count": 424,
   "metadata": {},
   "outputs": [],
   "source": [
    "surps[738] = 8.248479"
   ]
  },
  {
   "cell_type": "code",
   "execution_count": 418,
   "metadata": {},
   "outputs": [
    {
     "data": {
      "text/plain": [
       "1068"
      ]
     },
     "execution_count": 418,
     "metadata": {},
     "output_type": "execute_result"
    }
   ],
   "source": [
    "surps.index('TODO')"
   ]
  },
  {
   "cell_type": "code",
   "execution_count": 425,
   "metadata": {},
   "outputs": [],
   "source": [
    "surps[1068] = 2.0013092"
   ]
  },
  {
   "cell_type": "code",
   "execution_count": 426,
   "metadata": {},
   "outputs": [],
   "source": [
    "textfile = open(\"pre_cs2_word_eng_surp.txt\", \"w\")\n",
    "for element in surps:\n",
    "    textfile. write(str(element) + \"\\n\")\n",
    "textfile. close()"
   ]
  },
  {
   "cell_type": "code",
   "execution_count": null,
   "metadata": {},
   "outputs": [],
   "source": []
  }
 ],
 "metadata": {
  "kernelspec": {
   "display_name": "Python 3",
   "language": "python",
   "name": "python3"
  },
  "language_info": {
   "codemirror_mode": {
    "name": "ipython",
    "version": 3
   },
   "file_extension": ".py",
   "mimetype": "text/x-python",
   "name": "python",
   "nbconvert_exporter": "python",
   "pygments_lexer": "ipython3",
   "version": "3.7.6"
  }
 },
 "nbformat": 4,
 "nbformat_minor": 4
}
