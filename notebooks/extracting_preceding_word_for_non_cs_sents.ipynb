{
 "cells": [
  {
   "cell_type": "code",
   "execution_count": 1,
   "metadata": {},
   "outputs": [],
   "source": [
    "import pandas as pd"
   ]
  },
  {
   "cell_type": "code",
   "execution_count": 31,
   "metadata": {},
   "outputs": [
    {
     "data": {
      "text/html": [
       "<div>\n",
       "<style scoped>\n",
       "    .dataframe tbody tr th:only-of-type {\n",
       "        vertical-align: middle;\n",
       "    }\n",
       "\n",
       "    .dataframe tbody tr th {\n",
       "        vertical-align: top;\n",
       "    }\n",
       "\n",
       "    .dataframe thead th {\n",
       "        text-align: right;\n",
       "    }\n",
       "</style>\n",
       "<table border=\"1\" class=\"dataframe\">\n",
       "  <thead>\n",
       "    <tr style=\"text-align: right;\">\n",
       "      <th></th>\n",
       "      <th>Unnamed: 0</th>\n",
       "      <th>sent_type</th>\n",
       "      <th>university</th>\n",
       "      <th>sent_id</th>\n",
       "      <th>aligned_to</th>\n",
       "      <th>translation</th>\n",
       "      <th>eng_translation</th>\n",
       "      <th>word_id</th>\n",
       "      <th>preceding_zh</th>\n",
       "      <th>first_cs_word_translation</th>\n",
       "      <th>preceding_eng</th>\n",
       "      <th>eng_first_cs_word_translation</th>\n",
       "    </tr>\n",
       "  </thead>\n",
       "  <tbody>\n",
       "    <tr>\n",
       "      <th>0</th>\n",
       "      <td>1</td>\n",
       "      <td>non-code-switch</td>\n",
       "      <td>CMU</td>\n",
       "      <td>296</td>\n",
       "      <td>CMU_2</td>\n",
       "      <td>路上 一般 见到 都 是 学生 ， 很少 见到 游民 ， 公寓 对面 是 公园 和 一 个 ...</td>\n",
       "      <td>On the road, I usually see students and seldom...</td>\n",
       "      <td>12</td>\n",
       "      <td>NaN</td>\n",
       "      <td>公寓</td>\n",
       "      <td>NaN</td>\n",
       "      <td>apartment</td>\n",
       "    </tr>\n",
       "    <tr>\n",
       "      <th>1</th>\n",
       "      <td>3</td>\n",
       "      <td>non-code-switch</td>\n",
       "      <td>CMU</td>\n",
       "      <td>3006</td>\n",
       "      <td>CMU_4</td>\n",
       "      <td>房子 的 照片 在 附件 中 ， 还有 好多 照片 放 不 上来 啦 。</td>\n",
       "      <td>The photos of the house are in the attachment,...</td>\n",
       "      <td>3</td>\n",
       "      <td>NaN</td>\n",
       "      <td>照片</td>\n",
       "      <td>NaN</td>\n",
       "      <td>photo</td>\n",
       "    </tr>\n",
       "    <tr>\n",
       "      <th>2</th>\n",
       "      <td>5</td>\n",
       "      <td>non-code-switch</td>\n",
       "      <td>CMU</td>\n",
       "      <td>70</td>\n",
       "      <td>CMU_5</td>\n",
       "      <td>房子 共 有 三 个 厕所 。</td>\n",
       "      <td>There are three toilets in the house.</td>\n",
       "      <td>1</td>\n",
       "      <td>NaN</td>\n",
       "      <td>房子</td>\n",
       "      <td>NaN</td>\n",
       "      <td>house</td>\n",
       "    </tr>\n",
       "    <tr>\n",
       "      <th>3</th>\n",
       "      <td>7</td>\n",
       "      <td>non-code-switch</td>\n",
       "      <td>CMU</td>\n",
       "      <td>6777</td>\n",
       "      <td>CMU_6</td>\n",
       "      <td>没有 找到 寄存 的 地方 。</td>\n",
       "      <td>No depository was found.</td>\n",
       "      <td>5</td>\n",
       "      <td>NaN</td>\n",
       "      <td>地方</td>\n",
       "      <td>NaN</td>\n",
       "      <td>place</td>\n",
       "    </tr>\n",
       "    <tr>\n",
       "      <th>4</th>\n",
       "      <td>9</td>\n",
       "      <td>non-code-switch</td>\n",
       "      <td>CMU</td>\n",
       "      <td>4373</td>\n",
       "      <td>CMU_9</td>\n",
       "      <td>全部 木头 地板 ， 干净 。</td>\n",
       "      <td>All wooden floors, clean.</td>\n",
       "      <td>2</td>\n",
       "      <td>NaN</td>\n",
       "      <td>木头</td>\n",
       "      <td>NaN</td>\n",
       "      <td>wood</td>\n",
       "    </tr>\n",
       "  </tbody>\n",
       "</table>\n",
       "</div>"
      ],
      "text/plain": [
       "   Unnamed: 0        sent_type university  sent_id aligned_to  \\\n",
       "0           1  non-code-switch        CMU      296      CMU_2   \n",
       "1           3  non-code-switch        CMU     3006      CMU_4   \n",
       "2           5  non-code-switch        CMU       70      CMU_5   \n",
       "3           7  non-code-switch        CMU     6777      CMU_6   \n",
       "4           9  non-code-switch        CMU     4373      CMU_9   \n",
       "\n",
       "                                         translation  \\\n",
       "0  路上 一般 见到 都 是 学生 ， 很少 见到 游民 ， 公寓 对面 是 公园 和 一 个 ...   \n",
       "1               房子 的 照片 在 附件 中 ， 还有 好多 照片 放 不 上来 啦 。   \n",
       "2                                    房子 共 有 三 个 厕所 。   \n",
       "3                                    没有 找到 寄存 的 地方 。   \n",
       "4                                    全部 木头 地板 ， 干净 。   \n",
       "\n",
       "                                     eng_translation  word_id  preceding_zh  \\\n",
       "0  On the road, I usually see students and seldom...       12           NaN   \n",
       "1  The photos of the house are in the attachment,...        3           NaN   \n",
       "2              There are three toilets in the house.        1           NaN   \n",
       "3                           No depository was found.        5           NaN   \n",
       "4                          All wooden floors, clean.        2           NaN   \n",
       "\n",
       "  first_cs_word_translation  preceding_eng eng_first_cs_word_translation  \n",
       "0                        公寓            NaN                     apartment  \n",
       "1                        照片            NaN                         photo  \n",
       "2                        房子            NaN                         house  \n",
       "3                        地方            NaN                         place  \n",
       "4                        木头            NaN                          wood  "
      ]
     },
     "execution_count": 31,
     "metadata": {},
     "output_type": "execute_result"
    }
   ],
   "source": [
    "df = pd.read_csv('non_cs_sentences_updated.csv')\n",
    "df.head()"
   ]
  },
  {
   "cell_type": "code",
   "execution_count": 30,
   "metadata": {},
   "outputs": [
    {
     "data": {
      "text/plain": [
       "['房', '子', ' ', '共', ' ', '有', ' ', '三', ' ', '个', ' ', '厕', '所', ' ', '。']"
      ]
     },
     "execution_count": 30,
     "metadata": {},
     "output_type": "execute_result"
    }
   ],
   "source": [
    "list(df.loc[2]['translation'])"
   ]
  },
  {
   "cell_type": "code",
   "execution_count": 18,
   "metadata": {},
   "outputs": [],
   "source": [
    "import jieba"
   ]
  },
  {
   "cell_type": "code",
   "execution_count": 90,
   "metadata": {},
   "outputs": [],
   "source": [
    "res = jieba.lcut(df.loc[2]['translation'])"
   ]
  },
  {
   "cell_type": "code",
   "execution_count": 91,
   "metadata": {},
   "outputs": [
    {
     "name": "stdout",
     "output_type": "stream",
     "text": [
      "['房子', ' ', '共', ' ', '有', ' ', '三', ' ', '个', ' ', '厕所', ' ', '。']\n"
     ]
    }
   ],
   "source": [
    "print(res)"
   ]
  },
  {
   "cell_type": "code",
   "execution_count": 85,
   "metadata": {},
   "outputs": [
    {
     "name": "stdout",
     "output_type": "stream",
     "text": [
      "房子 共 有 三 个 厕所 。\n"
     ]
    }
   ],
   "source": [
    "str_cut=''.join(res)\n",
    "print(str_cut)"
   ]
  },
  {
   "cell_type": "code",
   "execution_count": 86,
   "metadata": {},
   "outputs": [
    {
     "name": "stdout",
     "output_type": "stream",
     "text": [
      "15\n"
     ]
    }
   ],
   "source": [
    "print(len(str_cut))"
   ]
  },
  {
   "cell_type": "code",
   "execution_count": 87,
   "metadata": {},
   "outputs": [
    {
     "name": "stdout",
     "output_type": "stream",
     "text": [
      "1476\n"
     ]
    }
   ],
   "source": [
    "print(len(df))"
   ]
  },
  {
   "cell_type": "code",
   "execution_count": 99,
   "metadata": {},
   "outputs": [
    {
     "data": {
      "text/plain": [
       "'房子 共 有 三 个 厕所 。'"
      ]
     },
     "execution_count": 99,
     "metadata": {},
     "output_type": "execute_result"
    }
   ],
   "source": []
  },
  {
   "cell_type": "code",
   "execution_count": 120,
   "metadata": {},
   "outputs": [
    {
     "name": "stdout",
     "output_type": "stream",
     "text": [
      "1476\n"
     ]
    }
   ],
   "source": [
    "preceding = []\n",
    "for index, row in df.iterrows():\n",
    "    og_sent = df.loc[index]['translation']\n",
    "    #og_sent.replace(' ', '')\n",
    "    sent_init = jieba.lcut(og_sent)\n",
    "    sent = [char for char in sent_init if char != ' ']\n",
    "    #print(sent)\n",
    "    try:\n",
    "        index = sent.index(df.loc[index]['first_cs_word_translation'])\n",
    "        if index > 0:\n",
    "            preceding.append(sent[index-1])\n",
    "        else: \n",
    "            preceding.append('</s>')\n",
    "    except:\n",
    "        preceding.append('ERR')\n",
    "    \n",
    "print(len(preceding))\n",
    "    "
   ]
  },
  {
   "cell_type": "code",
   "execution_count": 122,
   "metadata": {},
   "outputs": [
    {
     "name": "stdout",
     "output_type": "stream",
     "text": [
      "['，', '的', '</s>', '的', '全部', '，', '有', '房子', '安排', '间', '可以', '和', '有', '全', '空间', '全新', '独立', '包含', '在我看来', '有', '方便', '想', '公交', ':', '喜欢', '、', '，', '小', '有', '个', '不', '有', '还有', '空间', '周围', '近期', '是', '的', '一', '</s>', '，', '跟', '</s>', '非常', 'ERR', '，', '有', '的', '客厅', '共用', '其他', '过', '</s>', '，', '以及', '的', '均', '房东', '、', '带', '担心', '</s>', '有', '</s>', '年', '的', '一', '的', '租', '或者', '每', '个', '分钟', '，', '黄金', '整个', '没', '有', '</s>', '在', '房子', '</s>', '大理石', '</s>', '有', '、', '低价', '</s>', '是', '如果', '</s>', '走过', '靠近', '、', '而', '</s>', '可以', '起来', '：', '+', '种', '有', '张', '</s>', '以及', '个', '的', '所有', '做', '该', '购入', '段', '发', '通过', '有', '有', '</s>', '房间', '看', '空间', '有', '及', '的', '包括', '房子', '这些', '根据', '看', '是', '个', '个', '前', '可以', '此', '30', '持有', '是', '</s>', '个', '卧室', '此', '匹', '$', '有', '有', '个', '</s>', '</s>', '的', '和', '</s>', '好', '全新', '</s>', '给', '白色', '有', '所有', '是', '在', '</s>', '希望', '大学', '有', '，', '，', '车库', '卧室', '也', '帮', '问题', '</s>', '个', '个', '</s>', '的', '</s>', '，', '，', '</s>', '</s>', '没', '可以', '每', '层', '底', '是', '面', '</s>', '，', '请', '的', '降价', '的', '回到', '层', '</s>', '辆', '旁边', '非常', '毕业', '，', '件', '个', '</s>', '天', ':', '这个', '，', '，', '女生', '全新', '很', '地毯', '套', '通向', '很', '个', '</s>', '，', '</s>', '，', '出现', '请', '而且', '非常', '元', '，', '的', '</s>', '：', '找到', '耳机', '包', '卧室', '，', '，', '很', '这个', '每', '的', '</s>', '是', '钟点工', '个', '间', '</s>', '有', '的', '很', '其他', '的', '（', '便宜', '个', '</s>', '，', '是', '，', '一', '还有', '个', '任何', '注明', '是', '可', '买', '和', '的', '有', '不', '，', '是', '个', '个', '个', '，', '楼', '</s>', '</s>', '隔离', '松鼠', '教育', '</s>', '毗邻', '有点', '告知', '</s>', '</s>', '</s>', '超级', '橙色', '间', '主人', '白色', '这个', '</s>', '个', '一些', '的', '空气', '他', '明媚', '间', '附件', '开', '、', '</s>', '：', '，', '的', '祝', '大', '</s>', '或者', '一下', '</s>', '有', '</s>', '是', '</s>', '，', '</s>', '个', '</s>', '，', '见面', '</s>', '有', '比较', '个', '的', '</s>', '很', '扇', '，', '了', '，', '</s>', '</s>', '</s>', '入住', '，', '，', '的', '：', '大', '种', '见', '因为', '：', '</s>', '品味', '，', '，', '、', '的', '女生', '必须', '</s>', '的', '生活', '的', '个', '限', '个', '</s>', '接受', '放在', '学校', '</s>', '所以', '</s>', '托', '</s>', '的', '费', '的', '带', '木质', '这', '：', '一', '有', '</s>', '</s>', '</s>', '有', '、', '，', '间', '什么', '：', '快', '</s>', '个', '</s>', '</s>', '请', '吐血', '/', '有', '任', '的', '，', '个', '并且', '挺', '大部分', '附', '或', '做', '家里', '的', '所以', '，', '房间', '/', '的', '，', '一', '换', '高', '看', '是', '这个', '楼', '</s>', '用', '个', '</s>', '适合', '个', '拎包', '的', '为', '的', '有意', '出租', '个', '个', '的', '可以', '</s>', '</s>', '和', '帮', '间', '带', '</s>', '所有', '置办', '市场', '可不可以', '有', '地理', '</s>', '有', '或', '很', '很', '是', '所有', '和', '</s>', '个', '，', '很', '开', '的', '的', '出售', '的', '和', '的', '的', '价钱', '个', '的', '匹', '的', '另外', '，', '是', '来', '非常', '其实', '现在', '欢迎', '，', '，', '后面', '：', '个', '的', '个', '过', '所以', '+', '</s>', '包括', '新', '，', '，', '</s>', '除', '）', '厕所', '</s>', '“', '限', '看看', '原', '一千', '，', '是', '个', '</s>', '个', '，', '</s>', '为', '是', '，', '</s>', '楼', '的', '就', '</s>', '的', '可以', '</s>', '和', '、', '是', '当', '</s>', '离开', '免费', '打', '后门', '完美', '赠送', '~', '</s>', '全', '者', '查看', '</s>', '，', '和', '，', '个', '，', '的', '</s>', '那些', '的', '</s>', '男女', '</s>', '已', '节约', '的', '</s>', '是', '公寓', '但', '的', '介意', '请', '的', '要', '，', '男生', '人', '是', '是', '让', '去', '也', '联系', '靠近', '</s>', '：', '</s>', '主', '房间', '学校', '的', '等', '留下', '/', '道歉', '辨认', '的', '在', '买', '包括', '写', '发', '物业', '楼', '没有', '的', '没', '知道', '停车', '带', '我们', '，', '的', '顶', '放', '，', '是', '：', '个', '</s>', '无', '</s>', '在', '前往', '的', '，', '套', '租', '作为', '在', '已', '</s>', '需要', '内', '</s>', '从', '买', '房子', '在', '打', '是', '很', '费用', '三四', '皮质', '折扣', '请', '入住', '可是', '</s>', '厨具', '你', '，', '可以', '</s>', '开始', '跟', '当心', '</s>', '个', '能', '是', '有', '分', '的', '装', '</s>', '</s>', '英语', '的', '的', '想', '的', '是', '来', '你', '一', '是', '有', '根据', '</s>', '男生', '的', '有', '房屋', '</s>', '，', '死', '的', '自己', '更换', '，', '，', '支持', '感激', '注意', '，', '其他', '层', '你', '在', '</s>', '想', '很', '</s>', '来', '包', '可以', '求', '求', '符合', '</s>', '，', '从', '想', '拎包', '很', '充满', '，', '提供', '大', '是', '是', '个', '的', '分钟', '出', '是', '因为', '的', '基本', '在', '的', '</s>', '求', '我们', '家具', '请', '大', '八月', '个', '车辆', '种', '</s>', '为', '楼', '</s>', '请', '，', '</s>', '能', '很', '个', '的', '家', '上门', '小', '可以', '怎么', '（', '交换', '</s>', '任何', '</s>', '</s>', '：', '包含', '个', '</s>', '可以', '求', '在', '是否', '多种', '八', '</s>', '想', '</s>', '多次', '辅助', '欢迎', '）', '</s>', '篇', '，', '我', '</s>', '到', '拍摄', '</s>', '比较', '到', '个', '</s>', '，', 'ERR', '有', '求', '间', '/', '定期', '</s>', '只', '具体', '带', '</s>', '</s>', '方便', '邀请', '种', '求', '还', '向', '求', '更换', '需要', '全新', '什么', '要', '的', '</s>', '卧室', '</s>', '</s>', '是', '</s>', '这些', '个', '买', '是', '楼', '的', '很', '看', '车况', '联系', '这个', '给', '、', '网上', '有', '要', '是', '个', '天', '家', '需要', '厨房', '有无', '</s>', '打印机', '非常', '从', '是', '的', '的', '</s>', '个', '问', '是', '有', '没有', '一般', '是', '一些', '一', '或', '、', '有', '间', '</s>', '很', '看', '确定', '、', '</s>', '，', '，', '可', '晒', '洗浴', '的', '欢迎', '十', '</s>', '张', '的', '</s>', '站', '</s>', '的', '</s>', '该', '指点', '看', '房子', '可以', '寒假', '</s>', '有', '有', '邮件', '把', '打', '</s>', '</s>', '租房', '，', '大家', '的', '</s>', '</s>', '了解', ':', '个', '其他', '段', '个', '有', '</s>', '·', '养', '含', '于', '周边', '领域', '和', '个', '个', '个', '我', '项目', '感觉', '以及', '卫生间', '猫', '包括', '不用', 'ERR', '享受', '</s>', '非常', '你', '请问', '并', '</s>', '是', '为什么', '</s>', '了', '相信', '匹兹堡', '卧室', '接受', '是', '个', '，', '</s>', '或者', '市值', '是', '没有', '，', '</s>', '是', '个', '到', '并', '有', '考', '，', '，', '</s>', '在', '充满', '爱护', '</s>', '的', '短信', '什么', '好', '的', '的', '了', '两', '是', '实现', '个', '（', '更换', '，', '，', '本', '是', '，', '去', '请', 'ERR', '结果', '</s>', '其余', '制定', '剩', '，', '很', '去', '请', '，', '周围', '种', '适合', '可', '来', '只', '几乎', '考虑', '有', '</s>', '</s>', '打印机', '</s>', '</s>', '两', '的', '减少', '如', '</s>', '对', '是', '</s>', '楼', '</s>', '</s>', '在', '，', '看看', '任何', '因为', '给', '的', '的', '买', '办理', '</s>', '从', '约', '</s>', '</s>', '：', '或', '摊', '先', '想', '，', '到', '打开', '</s>', '</s>', '，', '有', '每', '有', '和', '个', '比', '没有', '很', '不良', '</s>', '插入', '及', '大概', '请', '我', '</s>', '的', '有', '实地', '联系', '的', '提供', '需要', '的', '找', '的', '</s>', '独立', '的', '租', '性价比', '因', '满足', '去', '个', '目前', '</s>', '交', '的', '很', '的', '</s>', '惠普', '随时', '出售', '公共', '是', '菜刀', 'ERR', '</s>', '中央', '</s>', '一下', '这个', '</s>', '求', '到', '的', '个', '可以', '寻找', '楼', '也', '</s>', '能够', '提供', '在', '针对', '100%', '有', '</s>', '点击', '现代', '，', '</s>', '</s>', '很', '，', '的', '要', '个', '注重', '付', '</s>', '是', '还有', '多少', '任何', '个', '请', '客厅', '厨具', '是', '一些', '帮助', '很', '有', '递交', '是', '所在', '菜单', '面对', '是', '要', '</s>', '客厅', '</s>', '</s>', '</s>', '了', '（', '既然', '到', '能', '</s>', '在', '可以', '什么', '每', '工作', '培养', '所有', '买', '</s>', '半', '房间', '功率', '的', '有', '的', '却', '的', '</s>', '，', '的', '</s>', '间', '楼', '所有', '性价比', '，', '公交', '拎包', '的', '个', '餐桌', '条', '</s>', '查看', '，', '，', '很', '的', '提供', '食物', '水电', ':', '请', '</s>', '需要', '用', '因为', '地理', '条', '：', '的', '/', '的', '的', '</s>', '添置', '</s>', '有', '款', '</s>', '</s>', '非常', '阻挡', '，', '</s>', '提供', 'ERR', '的', '，', '的', '，', '个', '</s>', '来', '新', '的', '450', '，', '发', '</s>', '，', '长期', '暖气', '是', '是', '不', '重新', '依然', '（', '全', '《', '~', '---------------------------------', '有', '每', '不少', '有', '房东', '在', '</s>', '个', '</s>', '发', 'ERR', '的', '就是', '公共', '个', '出门', '</s>', '</s>', '看', '个', '</s>', '：', '有', '个', '电路', '匹', '的', '个', '很', '落地窗', '有', '体重', '，', '，', '</s>', '配电', '的', '家具', '全', '烤肉', '后', '</s>', '采光', '还', '的', '按', '比较', '的', '很', '起', '水电', '，', '适合', '</s>', '个', '租', '散心', '</s>', '有', '：', '</s>', '</s>', '看', '有', '有', '【', '请', '个', '</s>', '，', '主要', '的', '地下', '单', '</s>', '房子', '户型', '可', '</s>', '、', '贴', '回复', '买', '本', '买', '（', '</s>', '不良', '车', '部', '</s>', '</s>', '共享', '全新', '</s>', '个', '两', '我', '</s>', '：', '是', '有', '两', '室内', '另外', '是', '</s>', '都', '带', '房东', '有', '隔音', '和', '有', '</s>', '方便', '，', '的', '</s>', '巴士', '</s>', '的', '</s>', '进门', '房产', '私聊', '十分', '情况', '，', '有', '</s>', '的', '：', '</s>', '非常', '蓝色', '</s>', '此', '的', '截止', '带', '的', '</s>', '个', '很', '用', '</s>', '，', '住', '盒', '也', '和', '*', '受', '的', '</s>', '，', '的', '想', '送', '的', '</s>', '非常', '清华', '以下', '</s>', '暑期', '</s>', '想', '还有', '个', '</s>', '个', '分钟', '的', '毕业', '的', '可', '种', '这个', '</s>', '买', '有', '享受', '发车', '部分', '片', '有', '有', '</s>', '大', '</s>', '有', '包括', '预约', '个', '</s>', '居家', '很', '同学', '需要', '有', '的', '</s>', '</s>', '看', '家具', '租房', '米饭', '，']\n"
     ]
    }
   ],
   "source": [
    "print(preceding)"
   ]
  },
  {
   "cell_type": "code",
   "execution_count": 112,
   "metadata": {},
   "outputs": [
    {
     "data": {
      "text/plain": [
       "['可以', ' ', '去', '看', ' ', '下', ' ', '房子', ' ', '吗', ' ', '？']"
      ]
     },
     "execution_count": 112,
     "metadata": {},
     "output_type": "execute_result"
    }
   ],
   "source": [
    "jieba.lcut(df.loc[996]['translation'])"
   ]
  },
  {
   "cell_type": "code",
   "execution_count": 105,
   "metadata": {},
   "outputs": [],
   "source": [
    "textfile = open(\"zh_preceding.txt\", \"w\")\n",
    "for element in preceding:\n",
    "    textfile. write(element + \"\\n\")\n",
    "textfile. close()"
   ]
  },
  {
   "cell_type": "code",
   "execution_count": 72,
   "metadata": {},
   "outputs": [],
   "source": [
    "res = jieba.cut(df.loc[1276]['translation'], cut_all = True)"
   ]
  },
  {
   "cell_type": "code",
   "execution_count": 73,
   "metadata": {},
   "outputs": [],
   "source": [
    "sent_str = ''.join(res)"
   ]
  },
  {
   "cell_type": "code",
   "execution_count": 75,
   "metadata": {},
   "outputs": [
    {
     "name": "stdout",
     "output_type": "stream",
     "text": [
      "房东 ： 美国国人 ， 很 友好\n"
     ]
    }
   ],
   "source": [
    "print(sent_str)"
   ]
  },
  {
   "cell_type": "code",
   "execution_count": 115,
   "metadata": {},
   "outputs": [
    {
     "data": {
      "text/plain": [
       "['Landlord:', 'American,', 'very', 'friendly']"
      ]
     },
     "execution_count": 115,
     "metadata": {},
     "output_type": "execute_result"
    }
   ],
   "source": [
    "df.loc[1276]['eng_translation'].split(' ')"
   ]
  },
  {
   "cell_type": "code",
   "execution_count": 129,
   "metadata": {},
   "outputs": [
    {
     "name": "stdout",
     "output_type": "stream",
     "text": [
      "1476\n"
     ]
    }
   ],
   "source": [
    "eng_preceding = []\n",
    "for index, row in df.iterrows():\n",
    "    sent = df.loc[index]['eng_translation'].lower().split(' ')\n",
    "    try:\n",
    "        index = sent.index(df.loc[index]['eng_first_cs_word_translation'].lower())\n",
    "        if index > 0:\n",
    "            eng_preceding.append(sent[index-1])\n",
    "        else: \n",
    "            eng_preceding.append('</s>')\n",
    "    except:\n",
    "        eng_preceding.append(' ')\n",
    "    \n",
    "print(len(eng_preceding))\n",
    "    "
   ]
  },
  {
   "cell_type": "code",
   "execution_count": 131,
   "metadata": {},
   "outputs": [
    {
     "name": "stdout",
     "output_type": "stream",
     "text": [
      "1096\n"
     ]
    }
   ],
   "source": [
    "print(eng_preceding.count(' '))"
   ]
  },
  {
   "cell_type": "code",
   "execution_count": 128,
   "metadata": {},
   "outputs": [],
   "source": [
    "textfile = open(\"eng_preceding.txt\", \"w\")\n",
    "for element in eng_preceding:\n",
    "    textfile. write(element + \"\\n\")\n",
    "textfile.close()"
   ]
  },
  {
   "cell_type": "code",
   "execution_count": null,
   "metadata": {},
   "outputs": [],
   "source": []
  }
 ],
 "metadata": {
  "kernelspec": {
   "display_name": "Python 3",
   "language": "python",
   "name": "python3"
  },
  "language_info": {
   "codemirror_mode": {
    "name": "ipython",
    "version": 3
   },
   "file_extension": ".py",
   "mimetype": "text/x-python",
   "name": "python",
   "nbconvert_exporter": "python",
   "pygments_lexer": "ipython3",
   "version": "3.7.6"
  }
 },
 "nbformat": 4,
 "nbformat_minor": 4
}
