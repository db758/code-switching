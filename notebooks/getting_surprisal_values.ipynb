{
 "cells": [
  {
   "cell_type": "code",
   "execution_count": 1,
   "metadata": {},
   "outputs": [],
   "source": [
    "file = open('redone_output.txt', 'r')\n",
    "eng_ngram = []\n",
    "for line in file.readlines(): \n",
    "    eng_ngram.append(line.split())"
   ]
  },
  {
   "cell_type": "code",
   "execution_count": 2,
   "metadata": {},
   "outputs": [],
   "source": [
    "cs_eng_ngram = []\n",
    "for x in eng_ngram[1:]:\n",
    "    if len(x) > 2:\n",
    "        cs_eng_ngram.append(x[2])\n",
    "    else:\n",
    "        cs_eng_ngram.append('NONE')"
   ]
  },
  {
   "cell_type": "code",
   "execution_count": 3,
   "metadata": {},
   "outputs": [],
   "source": [
    "with open('redone_cs_eng_ngram.txt', 'w') as filehandle:\n",
    "    for x in cs_eng_ngram:\n",
    "        filehandle.write('%s\\n' % x)"
   ]
  },
  {
   "cell_type": "code",
   "execution_count": 22,
   "metadata": {},
   "outputs": [],
   "source": [
    "file = open('non_cs_eng_output.txt', 'r')\n",
    "eng_ngram = []\n",
    "for line in file.readlines(): \n",
    "    eng_ngram.append(line.split())"
   ]
  },
  {
   "cell_type": "code",
   "execution_count": 23,
   "metadata": {},
   "outputs": [],
   "source": [
    "non_cs_eng_ngram = []\n",
    "for x in eng_ngram:\n",
    "    if len(x) > 2:\n",
    "        non_cs_eng_ngram.append(x[2])\n",
    "    else:\n",
    "        non_cs_eng_ngram.append('NONE')"
   ]
  },
  {
   "cell_type": "code",
   "execution_count": 24,
   "metadata": {},
   "outputs": [],
   "source": [
    "with open('non_cs_eng_ngram.txt', 'w') as filehandle:\n",
    "    for x in non_cs_eng_ngram:\n",
    "        filehandle.write('%s\\n' % x)"
   ]
  },
  {
   "cell_type": "code",
   "execution_count": 25,
   "metadata": {},
   "outputs": [],
   "source": [
    "file = open('non_cs_zh_output.txt', 'r')\n",
    "zh_ngram = []\n",
    "for line in file.readlines(): \n",
    "    zh_ngram.append(line.split())"
   ]
  },
  {
   "cell_type": "code",
   "execution_count": 26,
   "metadata": {},
   "outputs": [],
   "source": [
    "non_cs_zh_ngram = []\n",
    "for x in zh_ngram:\n",
    "    if len(x) > 2:\n",
    "        non_cs_zh_ngram.append(x[2])\n",
    "    else:\n",
    "        non_cs_zh_ngram.append('NONE')"
   ]
  },
  {
   "cell_type": "code",
   "execution_count": 27,
   "metadata": {},
   "outputs": [],
   "source": [
    "with open('non_cs_zh_ngram.txt', 'w') as filehandle:\n",
    "    for x in non_cs_zh_ngram:\n",
    "        filehandle.write('%s\\n' % x)"
   ]
  },
  {
   "cell_type": "code",
   "execution_count": 4,
   "metadata": {},
   "outputs": [],
   "source": [
    "file = open('redone_baidu_output.txt', 'r')\n",
    "zh_ngram = []\n",
    "for line in file.readlines():\n",
    "    zh_ngram.append(line.split())"
   ]
  },
  {
   "cell_type": "code",
   "execution_count": 5,
   "metadata": {},
   "outputs": [],
   "source": [
    "cs_zh_ngram = []\n",
    "for x in zh_ngram:\n",
    "    if len(x)>2:\n",
    "        cs_zh_ngram.append(x[2])\n",
    "    else:\n",
    "        cs_zh_ngram.append('NONE')"
   ]
  },
  {
   "cell_type": "code",
   "execution_count": 6,
   "metadata": {},
   "outputs": [],
   "source": [
    "with open('redone_cs_zh_ngram.txt', 'w') as filehandle:\n",
    "    for x in cs_zh_ngram:\n",
    "        filehandle.write('%s\\n' % x)"
   ]
  },
  {
   "cell_type": "code",
   "execution_count": 10,
   "metadata": {},
   "outputs": [],
   "source": [
    "file = open('redone_dep_output.txt', 'r')\n",
    "eng_dep_ngram = []\n",
    "for line in file.readlines():\n",
    "    eng_dep_ngram.append(line.split())"
   ]
  },
  {
   "cell_type": "code",
   "execution_count": 11,
   "metadata": {},
   "outputs": [],
   "source": [
    "cs_eng_dep_ngram = []\n",
    "for x in eng_dep_ngram:\n",
    "    if len(x) > 5:\n",
    "        cs_eng_dep_ngram.append(x[5])\n",
    "    else:\n",
    "        cs_eng_dep_ngram.append('NONE')"
   ]
  },
  {
   "cell_type": "code",
   "execution_count": 12,
   "metadata": {},
   "outputs": [],
   "source": [
    "with open('redone_cs_eng_dep.txt', 'w') as filehandle:\n",
    "    for x in cs_eng_dep_ngram:\n",
    "        filehandle.write('%s\\n' % x)"
   ]
  },
  {
   "cell_type": "code",
   "execution_count": 1,
   "metadata": {},
   "outputs": [],
   "source": [
    "file = open('non_cs_dep_eng_output.txt', 'r')\n",
    "eng_dep_ngram = []\n",
    "for line in file.readlines():\n",
    "    eng_dep_ngram.append(line.split())"
   ]
  },
  {
   "cell_type": "code",
   "execution_count": 2,
   "metadata": {},
   "outputs": [],
   "source": [
    "cs_eng_dep_ngram = []\n",
    "for x in eng_dep_ngram:\n",
    "    if len(x) > 5:\n",
    "        cs_eng_dep_ngram.append(x[5])\n",
    "    else:\n",
    "        cs_eng_dep_ngram.append('NONE')"
   ]
  },
  {
   "cell_type": "code",
   "execution_count": 3,
   "metadata": {},
   "outputs": [],
   "source": [
    "with open('non_cs_eng_dep_ngram.txt', 'w') as filehandle:\n",
    "    for x in cs_eng_dep_ngram:\n",
    "        filehandle.write('%s\\n' % x)"
   ]
  },
  {
   "cell_type": "code",
   "execution_count": 15,
   "metadata": {},
   "outputs": [],
   "source": [
    "file = open('redone_dep_output_zh.txt', 'r')\n",
    "zh_dep_ngram = []\n",
    "for line in file.readlines():\n",
    "    zh_dep_ngram.append(line.split())"
   ]
  },
  {
   "cell_type": "code",
   "execution_count": 16,
   "metadata": {},
   "outputs": [
    {
     "name": "stdout",
     "output_type": "stream",
     "text": [
      "1479\n"
     ]
    }
   ],
   "source": [
    "print(len(zh_dep_ngram))"
   ]
  },
  {
   "cell_type": "code",
   "execution_count": 17,
   "metadata": {},
   "outputs": [],
   "source": [
    "cs_zh_dep_ngram = []\n",
    "for x in zh_dep_ngram:\n",
    "    if len(x) > 5:\n",
    "        cs_zh_dep_ngram.append(x[5])\n",
    "    else:\n",
    "        cs_zh_dep_ngram.append('NONE')"
   ]
  },
  {
   "cell_type": "code",
   "execution_count": 18,
   "metadata": {},
   "outputs": [],
   "source": [
    "with open('redone_cs_zh_dep.txt', 'w') as filehandle:\n",
    "    for x in cs_zh_dep_ngram:\n",
    "        filehandle.write('%s\\n' % x)"
   ]
  },
  {
   "cell_type": "code",
   "execution_count": 4,
   "metadata": {},
   "outputs": [],
   "source": [
    "file = open('non_cs_dep_zh_output.txt', 'r')\n",
    "zh_dep_ngram = []\n",
    "for line in file.readlines():\n",
    "    zh_dep_ngram.append(line.split())"
   ]
  },
  {
   "cell_type": "code",
   "execution_count": 5,
   "metadata": {},
   "outputs": [],
   "source": [
    "cs_zh_dep_ngram = []\n",
    "for x in zh_dep_ngram:\n",
    "    if len(x) > 5:\n",
    "        cs_zh_dep_ngram.append(x[5])\n",
    "    else:\n",
    "        cs_zh_dep_ngram.append('NONE')"
   ]
  },
  {
   "cell_type": "code",
   "execution_count": 7,
   "metadata": {},
   "outputs": [],
   "source": [
    "with open('non_cs_zh_dep_ngram.txt', 'w') as filehandle:\n",
    "    for x in cs_zh_dep_ngram:\n",
    "        filehandle.write('%s\\n' % x)"
   ]
  },
  {
   "cell_type": "code",
   "execution_count": null,
   "metadata": {},
   "outputs": [],
   "source": []
  }
 ],
 "metadata": {
  "kernelspec": {
   "display_name": "Python 3",
   "language": "python",
   "name": "python3"
  },
  "language_info": {
   "codemirror_mode": {
    "name": "ipython",
    "version": 3
   },
   "file_extension": ".py",
   "mimetype": "text/x-python",
   "name": "python",
   "nbconvert_exporter": "python",
   "pygments_lexer": "ipython3",
   "version": "3.7.6"
  }
 },
 "nbformat": 4,
 "nbformat_minor": 4
}
