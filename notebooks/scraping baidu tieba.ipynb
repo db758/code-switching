{
 "cells": [
  {
   "cell_type": "code",
   "execution_count": 2,
   "metadata": {},
   "outputs": [],
   "source": [
    "from pymongo import MongoClient\n",
    " \n",
    "conn = MongoClient('127.0.0.1',27017)\n",
    "db_crawl = conn.mydb_crawl #Connect to mydb_test database, if not, it will be created automatically\n",
    "my_crawl = db_crawl.test_crawl #Use test_set collection, if not, it will be created automatically"
   ]
  },
  {
   "cell_type": "code",
   "execution_count": 3,
   "metadata": {},
   "outputs": [
    {
     "name": "stdout",
     "output_type": "stream",
     "text": [
      "Defaulting to user installation because normal site-packages is not writeable\n",
      "\u001b[31mERROR: Could not find a version that satisfies the requirement urllib2\u001b[0m\n",
      "\u001b[31mERROR: No matching distribution found for urllib2\u001b[0m\n"
     ]
    }
   ],
   "source": [
    "!pip install urllib2"
   ]
  },
  {
   "cell_type": "code",
   "execution_count": 5,
   "metadata": {},
   "outputs": [
    {
     "ename": "ModuleNotFoundError",
     "evalue": "No module named 'Crawl'",
     "output_type": "error",
     "traceback": [
      "\u001b[0;31m---------------------------------------------------------------------------\u001b[0m",
      "\u001b[0;31mModuleNotFoundError\u001b[0m                       Traceback (most recent call last)",
      "\u001b[0;32m<ipython-input-5-5fbd47f3bbdf>\u001b[0m in \u001b[0;36m<module>\u001b[0;34m\u001b[0m\n\u001b[1;32m      1\u001b[0m \u001b[0;31m# coding:utf8\u001b[0m\u001b[0;34m\u001b[0m\u001b[0;34m\u001b[0m\u001b[0;34m\u001b[0m\u001b[0m\n\u001b[1;32m      2\u001b[0m \u001b[0;32mfrom\u001b[0m \u001b[0mhtml\u001b[0m\u001b[0;34m.\u001b[0m\u001b[0mparser\u001b[0m \u001b[0;32mimport\u001b[0m \u001b[0mHTMLParser\u001b[0m\u001b[0;34m\u001b[0m\u001b[0;34m\u001b[0m\u001b[0m\n\u001b[0;32m----> 3\u001b[0;31m \u001b[0;32mfrom\u001b[0m \u001b[0mCrawl\u001b[0m \u001b[0;32mimport\u001b[0m \u001b[0mhtml_downloader\u001b[0m\u001b[0;34m\u001b[0m\u001b[0;34m\u001b[0m\u001b[0m\n\u001b[0m\u001b[1;32m      4\u001b[0m \u001b[0;32mimport\u001b[0m \u001b[0murl_manager\u001b[0m\u001b[0;34m\u001b[0m\u001b[0;34m\u001b[0m\u001b[0m\n\u001b[1;32m      5\u001b[0m \u001b[0;34m\u001b[0m\u001b[0m\n",
      "\u001b[0;31mModuleNotFoundError\u001b[0m: No module named 'Crawl'"
     ]
    }
   ],
   "source": [
    "# coding:utf8\n",
    "from html.parser import HTMLParser\n",
    "from Crawl import html_downloader\n",
    "import url_manager\n",
    " \n",
    "\n",
    " \n",
    " \n",
    "class SpiderMain(object):\n",
    "    def __init__(self):\n",
    "        self.urls = url_manager.UrlManager()\n",
    "        self.downloader = html_downloader.HtnlDownloader()\n",
    "        self.parser = html_parser.HtmlParser()\n",
    " \n",
    "    def craw(self, root_url):\n",
    "        count = 1\n",
    "        self.urls.add_new_url(root_url)\n",
    "        while self.urls.has_new_url():\n",
    "            try:\n",
    "                new_url = self.urls.get_new_url()\n",
    "                print ('craw %d :%s' % (count, new_url))\n",
    "                html_cont = self.downloader.download(new_url)\n",
    "                new_urls = self.parser.parse(new_url, html_cont)\n",
    "                self.urls.add_new_urls(new_urls)\n",
    "                # if count == 100:\n",
    "                #     break\n",
    "                count = count + 1\n",
    "            except:\n",
    "                print ('craw failed')\n",
    " \n",
    " \n",
    "if __name__ == \"__main__\":\n",
    "    root_url = \"http://tieba.baidu.com/f?kw=%E8%A5%BF%E5%AE%89%E4%BA%A4%E9%80%9A%E5%A4%A7%E5%AD%A6&traceid=\"\n",
    "    obj_spider = SpiderMain()\n",
    "    obj_spider.craw(root_url)"
   ]
  },
  {
   "cell_type": "code",
   "execution_count": null,
   "metadata": {},
   "outputs": [],
   "source": []
  }
 ],
 "metadata": {
  "kernelspec": {
   "display_name": "Python 3",
   "language": "python",
   "name": "python3"
  },
  "language_info": {
   "codemirror_mode": {
    "name": "ipython",
    "version": 3
   },
   "file_extension": ".py",
   "mimetype": "text/x-python",
   "name": "python",
   "nbconvert_exporter": "python",
   "pygments_lexer": "ipython3",
   "version": "3.7.6"
  }
 },
 "nbformat": 4,
 "nbformat_minor": 4
}
