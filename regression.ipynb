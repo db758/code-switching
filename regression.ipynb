{
 "cells": [
  {
   "cell_type": "code",
   "execution_count": 1,
   "metadata": {},
   "outputs": [],
   "source": [
    "import pandas as pd"
   ]
  },
  {
   "cell_type": "markdown",
   "metadata": {},
   "source": [
    "initial set up of missing info"
   ]
  },
  {
   "cell_type": "code",
   "execution_count": 2,
   "metadata": {},
   "outputs": [
    {
     "data": {
      "text/html": [
       "<div>\n",
       "<style scoped>\n",
       "    .dataframe tbody tr th:only-of-type {\n",
       "        vertical-align: middle;\n",
       "    }\n",
       "\n",
       "    .dataframe tbody tr th {\n",
       "        vertical-align: top;\n",
       "    }\n",
       "\n",
       "    .dataframe thead th {\n",
       "        text-align: right;\n",
       "    }\n",
       "</style>\n",
       "<table border=\"1\" class=\"dataframe\">\n",
       "  <thead>\n",
       "    <tr style=\"text-align: right;\">\n",
       "      <th></th>\n",
       "      <th>sent_type</th>\n",
       "      <th>university</th>\n",
       "      <th>sent_id</th>\n",
       "      <th>aligned_to</th>\n",
       "      <th>original_sentence</th>\n",
       "      <th>eng_translation</th>\n",
       "      <th>zh_translation</th>\n",
       "      <th>cs_word_id</th>\n",
       "      <th>first_cs_word_form</th>\n",
       "      <th>first_cs_word_translation</th>\n",
       "      <th>...</th>\n",
       "      <th>surprisal_values</th>\n",
       "      <th>average_surprisal</th>\n",
       "      <th>bilingual_corpus_frequency_negative_log_first_cs_word</th>\n",
       "      <th>bilingual_corpus_frequency_negative_log_first_cs_word_trans</th>\n",
       "      <th>length_first_cs_word_form</th>\n",
       "      <th>dependency_distance</th>\n",
       "      <th>if_it_is_root</th>\n",
       "      <th>if_previous_word_is_punctuation</th>\n",
       "      <th>surprisal_of_previous_word</th>\n",
       "      <th>surprisal_first_cs_word_trans</th>\n",
       "    </tr>\n",
       "  </thead>\n",
       "  <tbody>\n",
       "    <tr>\n",
       "      <th>0</th>\n",
       "      <td>code-switch</td>\n",
       "      <td>CMU</td>\n",
       "      <td>2.0</td>\n",
       "      <td>CMU_296</td>\n",
       "      <td>rich neighborhood ， 非常 安全 （ 这里 属于 富人 区 ） ， 旁边 ...</td>\n",
       "      <td>Rich neighborhood is very safe (it belongs to ...</td>\n",
       "      <td>富人 区 ， 非常 安全 （ 这里 属于 富人 区 ） ， 旁边 就 是 公园 ， 附近 还...</td>\n",
       "      <td>1.0</td>\n",
       "      <td>rich</td>\n",
       "      <td>富人</td>\n",
       "      <td>...</td>\n",
       "      <td>6.100998 1.320391 0.7630151 4.4722 3.20577 2.7...</td>\n",
       "      <td>3.144718</td>\n",
       "      <td>11.319098</td>\n",
       "      <td>10.402807</td>\n",
       "      <td>4.0</td>\n",
       "      <td>1.0</td>\n",
       "      <td>0.0</td>\n",
       "      <td>NaN</td>\n",
       "      <td>NaN</td>\n",
       "      <td>6.100998</td>\n",
       "    </tr>\n",
       "    <tr>\n",
       "      <th>1</th>\n",
       "      <td>code-switch</td>\n",
       "      <td>CMU</td>\n",
       "      <td>4.0</td>\n",
       "      <td>CMU_3006</td>\n",
       "      <td>lease 从 八月 开始 ， 具体 日期 可以 商量 。</td>\n",
       "      <td>Lease will begin in August and the date is neg...</td>\n",
       "      <td>租约 从 八月 开始 ， 具体 日期 可以 商量 。</td>\n",
       "      <td>1.0</td>\n",
       "      <td>lease</td>\n",
       "      <td>租约</td>\n",
       "      <td>...</td>\n",
       "      <td>6.527233 3.646975 4.193077 1.173965 0.5694761 ...</td>\n",
       "      <td>3.155464</td>\n",
       "      <td>7.348806</td>\n",
       "      <td>10.066335</td>\n",
       "      <td>5.0</td>\n",
       "      <td>8.0</td>\n",
       "      <td>0.0</td>\n",
       "      <td>NaN</td>\n",
       "      <td>NaN</td>\n",
       "      <td>6.527233</td>\n",
       "    </tr>\n",
       "    <tr>\n",
       "      <th>2</th>\n",
       "      <td>code-switch</td>\n",
       "      <td>CMU</td>\n",
       "      <td>5.0</td>\n",
       "      <td>CMU_70</td>\n",
       "      <td>house 一共 有 两 层 + 地下室 。</td>\n",
       "      <td>House has two floors plus basement.</td>\n",
       "      <td>房子 一共 有 两 层 + 地下室 。</td>\n",
       "      <td>1.0</td>\n",
       "      <td>house</td>\n",
       "      <td>房子</td>\n",
       "      <td>...</td>\n",
       "      <td>5.512905 5.228868 0.5955775 1.38895 2.136289 4...</td>\n",
       "      <td>3.268832</td>\n",
       "      <td>6.694125</td>\n",
       "      <td>7.084991</td>\n",
       "      <td>5.0</td>\n",
       "      <td>2.0</td>\n",
       "      <td>0.0</td>\n",
       "      <td>NaN</td>\n",
       "      <td>NaN</td>\n",
       "      <td>5.512905</td>\n",
       "    </tr>\n",
       "    <tr>\n",
       "      <th>3</th>\n",
       "      <td>code-switch</td>\n",
       "      <td>CMU</td>\n",
       "      <td>6.0</td>\n",
       "      <td>CMU_6777</td>\n",
       "      <td>一共 有 两 个 可以 洗澡 的 bathroom 。</td>\n",
       "      <td>There are two bathroom for bathing.</td>\n",
       "      <td>一共 有 两 个 可以 洗澡 的 浴室 。</td>\n",
       "      <td>8.0</td>\n",
       "      <td>bathroom</td>\n",
       "      <td>浴室</td>\n",
       "      <td>...</td>\n",
       "      <td>4.509301 0.2903937 1.38895 0.4321387 3.465795 ...</td>\n",
       "      <td>2.642274</td>\n",
       "      <td>8.611048</td>\n",
       "      <td>9.709660</td>\n",
       "      <td>8.0</td>\n",
       "      <td>6.0</td>\n",
       "      <td>0.0</td>\n",
       "      <td>0.0</td>\n",
       "      <td>0.895995</td>\n",
       "      <td>5.210801</td>\n",
       "    </tr>\n",
       "    <tr>\n",
       "      <th>4</th>\n",
       "      <td>code-switch</td>\n",
       "      <td>CMU</td>\n",
       "      <td>9.0</td>\n",
       "      <td>CMU_4373</td>\n",
       "      <td>整个 house 家具 齐全 。</td>\n",
       "      <td>The whole house is fully furnished.</td>\n",
       "      <td>整个 房子 家具 齐全 。</td>\n",
       "      <td>2.0</td>\n",
       "      <td>house</td>\n",
       "      <td>房子</td>\n",
       "      <td>...</td>\n",
       "      <td>3.732348 4.488641 5.760885 6.166569 0.8237057</td>\n",
       "      <td>4.194430</td>\n",
       "      <td>6.694125</td>\n",
       "      <td>7.084991</td>\n",
       "      <td>5.0</td>\n",
       "      <td>1.0</td>\n",
       "      <td>0.0</td>\n",
       "      <td>0.0</td>\n",
       "      <td>3.732348</td>\n",
       "      <td>4.488641</td>\n",
       "    </tr>\n",
       "  </tbody>\n",
       "</table>\n",
       "<p>5 rows × 35 columns</p>\n",
       "</div>"
      ],
      "text/plain": [
       "     sent_type university  sent_id aligned_to  \\\n",
       "0  code-switch        CMU      2.0    CMU_296   \n",
       "1  code-switch        CMU      4.0   CMU_3006   \n",
       "2  code-switch        CMU      5.0     CMU_70   \n",
       "3  code-switch        CMU      6.0   CMU_6777   \n",
       "4  code-switch        CMU      9.0   CMU_4373   \n",
       "\n",
       "                                   original_sentence  \\\n",
       "0  rich neighborhood ， 非常 安全 （ 这里 属于 富人 区 ） ， 旁边 ...   \n",
       "1                      lease 从 八月 开始 ， 具体 日期 可以 商量 。   \n",
       "2                             house 一共 有 两 层 + 地下室 。   \n",
       "3                        一共 有 两 个 可以 洗澡 的 bathroom 。   \n",
       "4                                   整个 house 家具 齐全 。   \n",
       "\n",
       "                                     eng_translation  \\\n",
       "0  Rich neighborhood is very safe (it belongs to ...   \n",
       "1  Lease will begin in August and the date is neg...   \n",
       "2                House has two floors plus basement.   \n",
       "3                There are two bathroom for bathing.   \n",
       "4                The whole house is fully furnished.   \n",
       "\n",
       "                                      zh_translation  cs_word_id  \\\n",
       "0  富人 区 ， 非常 安全 （ 这里 属于 富人 区 ） ， 旁边 就 是 公园 ， 附近 还...         1.0   \n",
       "1                         租约 从 八月 开始 ， 具体 日期 可以 商量 。         1.0   \n",
       "2                                房子 一共 有 两 层 + 地下室 。         1.0   \n",
       "3                              一共 有 两 个 可以 洗澡 的 浴室 。         8.0   \n",
       "4                                      整个 房子 家具 齐全 。         2.0   \n",
       "\n",
       "  first_cs_word_form first_cs_word_translation  ...  \\\n",
       "0               rich                        富人  ...   \n",
       "1              lease                        租约  ...   \n",
       "2              house                        房子  ...   \n",
       "3           bathroom                        浴室  ...   \n",
       "4              house                        房子  ...   \n",
       "\n",
       "                                    surprisal_values average_surprisal  \\\n",
       "0  6.100998 1.320391 0.7630151 4.4722 3.20577 2.7...          3.144718   \n",
       "1  6.527233 3.646975 4.193077 1.173965 0.5694761 ...          3.155464   \n",
       "2  5.512905 5.228868 0.5955775 1.38895 2.136289 4...          3.268832   \n",
       "3  4.509301 0.2903937 1.38895 0.4321387 3.465795 ...          2.642274   \n",
       "4      3.732348 4.488641 5.760885 6.166569 0.8237057          4.194430   \n",
       "\n",
       "  bilingual_corpus_frequency_negative_log_first_cs_word  \\\n",
       "0                                          11.319098      \n",
       "1                                           7.348806      \n",
       "2                                           6.694125      \n",
       "3                                           8.611048      \n",
       "4                                           6.694125      \n",
       "\n",
       "  bilingual_corpus_frequency_negative_log_first_cs_word_trans  \\\n",
       "0                                          10.402807            \n",
       "1                                          10.066335            \n",
       "2                                           7.084991            \n",
       "3                                           9.709660            \n",
       "4                                           7.084991            \n",
       "\n",
       "  length_first_cs_word_form dependency_distance  if_it_is_root  \\\n",
       "0                       4.0                 1.0            0.0   \n",
       "1                       5.0                 8.0            0.0   \n",
       "2                       5.0                 2.0            0.0   \n",
       "3                       8.0                 6.0            0.0   \n",
       "4                       5.0                 1.0            0.0   \n",
       "\n",
       "  if_previous_word_is_punctuation  surprisal_of_previous_word  \\\n",
       "0                             NaN                         NaN   \n",
       "1                             NaN                         NaN   \n",
       "2                             NaN                         NaN   \n",
       "3                             0.0                    0.895995   \n",
       "4                             0.0                    3.732348   \n",
       "\n",
       "   surprisal_first_cs_word_trans  \n",
       "0                       6.100998  \n",
       "1                       6.527233  \n",
       "2                       5.512905  \n",
       "3                       5.210801  \n",
       "4                       4.488641  \n",
       "\n",
       "[5 rows x 35 columns]"
      ]
     },
     "execution_count": 2,
     "metadata": {},
     "output_type": "execute_result"
    }
   ],
   "source": [
    "#cs_data = pd.read_csv('governer_and_preceding_words_extracted.csv')\n",
    "cs_data = pd.read_csv('redoing_cs_data.csv')\n",
    "cs_data.head()\n",
    "#print(cs_data.columns)"
   ]
  },
  {
   "cell_type": "code",
   "execution_count": 3,
   "metadata": {},
   "outputs": [],
   "source": [
    "# sent_length = []\n",
    "# for index, row in cs_data.iterrows():\n",
    "#     split = row['original_sentence'].split()\n",
    "#     #print(len(split))\n",
    "#     sent_length.append(len(split))\n",
    "#     #print(row['original_sentence'])"
   ]
  },
  {
   "cell_type": "code",
   "execution_count": 4,
   "metadata": {},
   "outputs": [],
   "source": [
    "# textfile = open(\"cs_sent_len.txt\", \"w\")\n",
    "# for element in sent_length:\n",
    "#     textfile.write(str(element) + \"\\n\")\n",
    "# textfile.close()"
   ]
  },
  {
   "cell_type": "code",
   "execution_count": 5,
   "metadata": {},
   "outputs": [],
   "source": [
    "# sent_length = []\n",
    "# for index, row in cs_data.iterrows():\n",
    "#     split = row['zh_translation'].split()\n",
    "#     #print(len(split))\n",
    "#     sent_length.append(len(split))\n",
    "#     #print(row['original_sentence'])"
   ]
  },
  {
   "cell_type": "code",
   "execution_count": 6,
   "metadata": {},
   "outputs": [],
   "source": [
    "# textfile = open(\"redone_cs_sent_len_zh.txt\", \"w\")\n",
    "# for element in sent_length:\n",
    "#     textfile.write(str(element) + \"\\n\")\n",
    "# textfile.close()"
   ]
  },
  {
   "cell_type": "code",
   "execution_count": null,
   "metadata": {},
   "outputs": [],
   "source": []
  },
  {
   "cell_type": "code",
   "execution_count": 7,
   "metadata": {},
   "outputs": [
    {
     "name": "stdout",
     "output_type": "stream",
     "text": [
      "Index(['Unnamed: 0', 'sent_type', 'university', 'sent_id', 'aligned_to',\n",
      "       'sentence', 'cs_word_id', 'preceding_zh', 'first_cs_word_zh',\n",
      "       'preceding_zh first_cs_word_zh', 'zh_deprel + word and governor ',\n",
      "       'zh_deprel', 'eng_translation', 'preceding_eng', 'first_cs_word_eng',\n",
      "       'preceding_eng first_cs_word_eng', 'eng_deprel + word and governor ',\n",
      "       'eng_deprel', 'word_freq_zh', 'cs_word_length_zh', 'cs_word_dep_dist',\n",
      "       'cs_word_pos_zh', 'sentence_length_zh', 'ngram_prob', 'ngram_prob_zh',\n",
      "       'dep_prob', 'dep_prob_zh', 'ngram_surp', 'ngram_surp_zh', 'dep_surp',\n",
      "       'dep_surp_zh'],\n",
      "      dtype='object')\n"
     ]
    }
   ],
   "source": [
    "non_cs_data = pd.read_csv('non_cs_sentences_full.csv')\n",
    "non_cs_data.head()\n",
    "print(non_cs_data.columns)"
   ]
  },
  {
   "cell_type": "code",
   "execution_count": 8,
   "metadata": {},
   "outputs": [],
   "source": [
    "# deprels = []\n",
    "# for index, row in non_cs_data.iterrows():\n",
    "#     full = row['eng_deprel + word and governor '].split()\n",
    "#     deprels.append(full[0])\n",
    "#     #print(full[0])\n",
    "#     #sent_length.append(len(split))\n",
    "#     #print(row['original_sentence'])"
   ]
  },
  {
   "cell_type": "code",
   "execution_count": 9,
   "metadata": {},
   "outputs": [],
   "source": [
    "# textfile = open(\"non_cs_deprel_eng.txt\", \"w\")\n",
    "# for element in deprels:\n",
    "#     textfile.write(str(element) + \"\\n\")\n",
    "# textfile.close()"
   ]
  },
  {
   "cell_type": "code",
   "execution_count": 10,
   "metadata": {},
   "outputs": [],
   "source": [
    "# deprels = []\n",
    "# for index, row in non_cs_data.iterrows():\n",
    "#     full = row['zh_deprel + word and governor '].split()\n",
    "#     deprels.append(full[0])\n",
    "#     #print(full[0])\n",
    "#     #sent_length.append(len(split))\n",
    "#     #print(row['original_sentence'])"
   ]
  },
  {
   "cell_type": "code",
   "execution_count": 11,
   "metadata": {},
   "outputs": [],
   "source": [
    "# textfile = open(\"non_cs_deprel_zh.txt\", \"w\")\n",
    "# for element in deprels:\n",
    "#     textfile.write(str(element) + \"\\n\")\n",
    "# textfile.close()"
   ]
  },
  {
   "cell_type": "code",
   "execution_count": 12,
   "metadata": {},
   "outputs": [],
   "source": [
    "# import jieba"
   ]
  },
  {
   "cell_type": "code",
   "execution_count": 13,
   "metadata": {},
   "outputs": [],
   "source": [
    "# res = jieba.lcut(non_cs_data.loc[2]['sentence'])"
   ]
  },
  {
   "cell_type": "code",
   "execution_count": 14,
   "metadata": {},
   "outputs": [],
   "source": [
    "# print(res)"
   ]
  },
  {
   "cell_type": "code",
   "execution_count": 15,
   "metadata": {},
   "outputs": [],
   "source": [
    "# res = [elt for elt in res if elt != ' ']"
   ]
  },
  {
   "cell_type": "code",
   "execution_count": 16,
   "metadata": {},
   "outputs": [],
   "source": [
    "# print(res)"
   ]
  },
  {
   "cell_type": "code",
   "execution_count": 17,
   "metadata": {},
   "outputs": [],
   "source": [
    "# print(len(res))"
   ]
  },
  {
   "cell_type": "code",
   "execution_count": 18,
   "metadata": {},
   "outputs": [],
   "source": [
    "# sent_length = []\n",
    "# for index, row in non_cs_data.iterrows():\n",
    "#     res = jieba.lcut(row['sentence'])\n",
    "#     res = [elt for elt in res if elt != ' ']\n",
    "#     #print(len(res))\n",
    "#     sent_length.append(len(res))\n",
    "#     #print(row['original_sentence'])"
   ]
  },
  {
   "cell_type": "code",
   "execution_count": 19,
   "metadata": {},
   "outputs": [],
   "source": [
    "# textfile = open(\"non_cs_sent_len_zh.txt\", \"w\")\n",
    "# for element in sent_length:\n",
    "#     textfile.write(str(element) + \"\\n\")\n",
    "# textfile.close()"
   ]
  },
  {
   "cell_type": "code",
   "execution_count": null,
   "metadata": {},
   "outputs": [],
   "source": []
  },
  {
   "cell_type": "code",
   "execution_count": 20,
   "metadata": {},
   "outputs": [],
   "source": [
    "cs_data_all = cs_data[['word_freq_zh', 'cs_word_pos_zh', 'cs_word_length_zh',\n",
    "       'sentence_length_zh', 'ngram_surp_zh', 'dep_surp_zh']]"
   ]
  },
  {
   "cell_type": "code",
   "execution_count": 21,
   "metadata": {},
   "outputs": [
    {
     "data": {
      "text/html": [
       "<div>\n",
       "<style scoped>\n",
       "    .dataframe tbody tr th:only-of-type {\n",
       "        vertical-align: middle;\n",
       "    }\n",
       "\n",
       "    .dataframe tbody tr th {\n",
       "        vertical-align: top;\n",
       "    }\n",
       "\n",
       "    .dataframe thead th {\n",
       "        text-align: right;\n",
       "    }\n",
       "</style>\n",
       "<table border=\"1\" class=\"dataframe\">\n",
       "  <thead>\n",
       "    <tr style=\"text-align: right;\">\n",
       "      <th></th>\n",
       "      <th>word_freq_zh</th>\n",
       "      <th>cs_word_pos_zh</th>\n",
       "      <th>cs_word_length_zh</th>\n",
       "      <th>sentence_length_zh</th>\n",
       "      <th>ngram_surp_zh</th>\n",
       "      <th>dep_surp_zh</th>\n",
       "    </tr>\n",
       "  </thead>\n",
       "  <tbody>\n",
       "    <tr>\n",
       "      <th>0</th>\n",
       "      <td>46.615353</td>\n",
       "      <td>NN</td>\n",
       "      <td>2.0</td>\n",
       "      <td>34.0</td>\n",
       "      <td>5.630717</td>\n",
       "      <td>6.469786</td>\n",
       "    </tr>\n",
       "    <tr>\n",
       "      <th>1</th>\n",
       "      <td>41.578729</td>\n",
       "      <td>NN</td>\n",
       "      <td>2.0</td>\n",
       "      <td>10.0</td>\n",
       "      <td>5.630717</td>\n",
       "      <td>6.199071</td>\n",
       "    </tr>\n",
       "    <tr>\n",
       "      <th>2</th>\n",
       "      <td>37.403903</td>\n",
       "      <td>NN</td>\n",
       "      <td>2.0</td>\n",
       "      <td>8.0</td>\n",
       "      <td>4.787219</td>\n",
       "      <td>5.202944</td>\n",
       "    </tr>\n",
       "    <tr>\n",
       "      <th>3</th>\n",
       "      <td>40.402814</td>\n",
       "      <td>NN</td>\n",
       "      <td>2.0</td>\n",
       "      <td>9.0</td>\n",
       "      <td>2.000932</td>\n",
       "      <td>1.262869</td>\n",
       "    </tr>\n",
       "    <tr>\n",
       "      <th>4</th>\n",
       "      <td>37.403903</td>\n",
       "      <td>NN</td>\n",
       "      <td>2.0</td>\n",
       "      <td>5.0</td>\n",
       "      <td>5.630717</td>\n",
       "      <td>2.760256</td>\n",
       "    </tr>\n",
       "  </tbody>\n",
       "</table>\n",
       "</div>"
      ],
      "text/plain": [
       "   word_freq_zh cs_word_pos_zh  cs_word_length_zh  sentence_length_zh  \\\n",
       "0     46.615353             NN                2.0                34.0   \n",
       "1     41.578729             NN                2.0                10.0   \n",
       "2     37.403903             NN                2.0                 8.0   \n",
       "3     40.402814             NN                2.0                 9.0   \n",
       "4     37.403903             NN                2.0                 5.0   \n",
       "\n",
       "   ngram_surp_zh  dep_surp_zh  \n",
       "0       5.630717     6.469786  \n",
       "1       5.630717     6.199071  \n",
       "2       4.787219     5.202944  \n",
       "3       2.000932     1.262869  \n",
       "4       5.630717     2.760256  "
      ]
     },
     "execution_count": 21,
     "metadata": {},
     "output_type": "execute_result"
    }
   ],
   "source": [
    "cs_data_all.head()"
   ]
  },
  {
   "cell_type": "code",
   "execution_count": null,
   "metadata": {},
   "outputs": [],
   "source": []
  },
  {
   "cell_type": "code",
   "execution_count": 22,
   "metadata": {},
   "outputs": [],
   "source": [
    "cs_without_surp = cs_data_all[['word_freq_zh', 'cs_word_pos_zh', 'cs_word_length_zh',\n",
    "       'sentence_length_zh']]"
   ]
  },
  {
   "cell_type": "code",
   "execution_count": 23,
   "metadata": {},
   "outputs": [],
   "source": [
    "#cs_without_surp = cs_without_surp.rename(columns={\"zh_translation\": \"sentence\", \"cs_word_annotated_zh\": \"zh_deprel\"})"
   ]
  },
  {
   "cell_type": "code",
   "execution_count": 24,
   "metadata": {},
   "outputs": [],
   "source": [
    "cs_ngram_surp = cs_data_all[['word_freq_zh', 'cs_word_pos_zh', 'cs_word_length_zh',\n",
    "       'sentence_length_zh', 'ngram_surp_zh']]"
   ]
  },
  {
   "cell_type": "code",
   "execution_count": 25,
   "metadata": {},
   "outputs": [],
   "source": [
    "#cs_ngram_surp = cs_ngram_surp.rename(columns={\"zh_translation\": \"sentence\", \"cs_word_annotated_zh\": \"zh_deprel\"})"
   ]
  },
  {
   "cell_type": "code",
   "execution_count": 26,
   "metadata": {},
   "outputs": [],
   "source": [
    "cs_dep_surp = cs_data_all[['word_freq_zh', 'cs_word_pos_zh', 'cs_word_length_zh',\n",
    "       'sentence_length_zh', 'dep_surp_zh']]"
   ]
  },
  {
   "cell_type": "code",
   "execution_count": 27,
   "metadata": {},
   "outputs": [],
   "source": [
    "#cs_dep_surp = cs_dep_surp.rename(columns={\"zh_translation\": \"sentence\", \"cs_word_annotated_zh\": \"zh_deprel\"})"
   ]
  },
  {
   "cell_type": "code",
   "execution_count": 28,
   "metadata": {},
   "outputs": [],
   "source": [
    "cs_all_surp = cs_data_all"
   ]
  },
  {
   "cell_type": "code",
   "execution_count": 29,
   "metadata": {},
   "outputs": [],
   "source": [
    "#cs_all_surp = cs_all_surp.rename(columns={\"zh_translation\": \"sentence\", \"cs_word_annotated_zh\": \"zh_deprel\"})"
   ]
  },
  {
   "cell_type": "code",
   "execution_count": null,
   "metadata": {},
   "outputs": [],
   "source": []
  },
  {
   "cell_type": "code",
   "execution_count": 30,
   "metadata": {},
   "outputs": [
    {
     "data": {
      "text/html": [
       "<div>\n",
       "<style scoped>\n",
       "    .dataframe tbody tr th:only-of-type {\n",
       "        vertical-align: middle;\n",
       "    }\n",
       "\n",
       "    .dataframe tbody tr th {\n",
       "        vertical-align: top;\n",
       "    }\n",
       "\n",
       "    .dataframe thead th {\n",
       "        text-align: right;\n",
       "    }\n",
       "</style>\n",
       "<table border=\"1\" class=\"dataframe\">\n",
       "  <thead>\n",
       "    <tr style=\"text-align: right;\">\n",
       "      <th></th>\n",
       "      <th>word_freq_zh</th>\n",
       "      <th>cs_word_pos_zh</th>\n",
       "      <th>cs_word_length_zh</th>\n",
       "      <th>sentence_length_zh</th>\n",
       "      <th>ngram_surp_zh</th>\n",
       "      <th>dep_surp_zh</th>\n",
       "    </tr>\n",
       "  </thead>\n",
       "  <tbody>\n",
       "    <tr>\n",
       "      <th>0</th>\n",
       "      <td>46.615353</td>\n",
       "      <td>NN</td>\n",
       "      <td>2.0</td>\n",
       "      <td>34.0</td>\n",
       "      <td>5.630717</td>\n",
       "      <td>6.469786</td>\n",
       "    </tr>\n",
       "    <tr>\n",
       "      <th>1</th>\n",
       "      <td>41.578729</td>\n",
       "      <td>NN</td>\n",
       "      <td>2.0</td>\n",
       "      <td>10.0</td>\n",
       "      <td>5.630717</td>\n",
       "      <td>6.199071</td>\n",
       "    </tr>\n",
       "    <tr>\n",
       "      <th>2</th>\n",
       "      <td>37.403903</td>\n",
       "      <td>NN</td>\n",
       "      <td>2.0</td>\n",
       "      <td>8.0</td>\n",
       "      <td>4.787219</td>\n",
       "      <td>5.202944</td>\n",
       "    </tr>\n",
       "    <tr>\n",
       "      <th>3</th>\n",
       "      <td>40.402814</td>\n",
       "      <td>NN</td>\n",
       "      <td>2.0</td>\n",
       "      <td>9.0</td>\n",
       "      <td>2.000932</td>\n",
       "      <td>1.262869</td>\n",
       "    </tr>\n",
       "    <tr>\n",
       "      <th>4</th>\n",
       "      <td>37.403903</td>\n",
       "      <td>NN</td>\n",
       "      <td>2.0</td>\n",
       "      <td>5.0</td>\n",
       "      <td>5.630717</td>\n",
       "      <td>2.760256</td>\n",
       "    </tr>\n",
       "  </tbody>\n",
       "</table>\n",
       "</div>"
      ],
      "text/plain": [
       "   word_freq_zh cs_word_pos_zh  cs_word_length_zh  sentence_length_zh  \\\n",
       "0     46.615353             NN                2.0                34.0   \n",
       "1     41.578729             NN                2.0                10.0   \n",
       "2     37.403903             NN                2.0                 8.0   \n",
       "3     40.402814             NN                2.0                 9.0   \n",
       "4     37.403903             NN                2.0                 5.0   \n",
       "\n",
       "   ngram_surp_zh  dep_surp_zh  \n",
       "0       5.630717     6.469786  \n",
       "1       5.630717     6.199071  \n",
       "2       4.787219     5.202944  \n",
       "3       2.000932     1.262869  \n",
       "4       5.630717     2.760256  "
      ]
     },
     "execution_count": 30,
     "metadata": {},
     "output_type": "execute_result"
    }
   ],
   "source": [
    "cs_all_surp.head()"
   ]
  },
  {
   "cell_type": "code",
   "execution_count": null,
   "metadata": {},
   "outputs": [],
   "source": []
  },
  {
   "cell_type": "code",
   "execution_count": 31,
   "metadata": {},
   "outputs": [],
   "source": [
    "non_cs_data_all = non_cs_data[['word_freq_zh', 'cs_word_pos_zh', 'cs_word_length_zh',\n",
    "       'sentence_length_zh', 'ngram_surp_zh', 'dep_surp_zh']]"
   ]
  },
  {
   "cell_type": "code",
   "execution_count": 32,
   "metadata": {},
   "outputs": [
    {
     "data": {
      "text/html": [
       "<div>\n",
       "<style scoped>\n",
       "    .dataframe tbody tr th:only-of-type {\n",
       "        vertical-align: middle;\n",
       "    }\n",
       "\n",
       "    .dataframe tbody tr th {\n",
       "        vertical-align: top;\n",
       "    }\n",
       "\n",
       "    .dataframe thead th {\n",
       "        text-align: right;\n",
       "    }\n",
       "</style>\n",
       "<table border=\"1\" class=\"dataframe\">\n",
       "  <thead>\n",
       "    <tr style=\"text-align: right;\">\n",
       "      <th></th>\n",
       "      <th>word_freq_zh</th>\n",
       "      <th>cs_word_pos_zh</th>\n",
       "      <th>cs_word_length_zh</th>\n",
       "      <th>sentence_length_zh</th>\n",
       "      <th>ngram_surp_zh</th>\n",
       "      <th>dep_surp_zh</th>\n",
       "    </tr>\n",
       "  </thead>\n",
       "  <tbody>\n",
       "    <tr>\n",
       "      <th>0</th>\n",
       "      <td>39.049880</td>\n",
       "      <td>NN</td>\n",
       "      <td>2</td>\n",
       "      <td>26</td>\n",
       "      <td>1.618957</td>\n",
       "      <td>4.308516</td>\n",
       "    </tr>\n",
       "    <tr>\n",
       "      <th>1</th>\n",
       "      <td>37.173947</td>\n",
       "      <td>NN</td>\n",
       "      <td>2</td>\n",
       "      <td>15</td>\n",
       "      <td>2.000932</td>\n",
       "      <td>4.218408</td>\n",
       "    </tr>\n",
       "    <tr>\n",
       "      <th>2</th>\n",
       "      <td>37.403903</td>\n",
       "      <td>NN</td>\n",
       "      <td>2</td>\n",
       "      <td>7</td>\n",
       "      <td>3.497618</td>\n",
       "      <td>5.202944</td>\n",
       "    </tr>\n",
       "    <tr>\n",
       "      <th>3</th>\n",
       "      <td>34.498460</td>\n",
       "      <td>NN</td>\n",
       "      <td>2</td>\n",
       "      <td>6</td>\n",
       "      <td>2.000932</td>\n",
       "      <td>3.755097</td>\n",
       "    </tr>\n",
       "    <tr>\n",
       "      <th>4</th>\n",
       "      <td>40.617086</td>\n",
       "      <td>NN</td>\n",
       "      <td>2</td>\n",
       "      <td>6</td>\n",
       "      <td>5.059609</td>\n",
       "      <td>4.466056</td>\n",
       "    </tr>\n",
       "  </tbody>\n",
       "</table>\n",
       "</div>"
      ],
      "text/plain": [
       "   word_freq_zh cs_word_pos_zh  cs_word_length_zh  sentence_length_zh  \\\n",
       "0     39.049880             NN                  2                  26   \n",
       "1     37.173947             NN                  2                  15   \n",
       "2     37.403903             NN                  2                   7   \n",
       "3     34.498460             NN                  2                   6   \n",
       "4     40.617086             NN                  2                   6   \n",
       "\n",
       "   ngram_surp_zh  dep_surp_zh  \n",
       "0       1.618957     4.308516  \n",
       "1       2.000932     4.218408  \n",
       "2       3.497618     5.202944  \n",
       "3       2.000932     3.755097  \n",
       "4       5.059609     4.466056  "
      ]
     },
     "execution_count": 32,
     "metadata": {},
     "output_type": "execute_result"
    }
   ],
   "source": [
    "non_cs_data_all.head()"
   ]
  },
  {
   "cell_type": "code",
   "execution_count": null,
   "metadata": {},
   "outputs": [],
   "source": []
  },
  {
   "cell_type": "code",
   "execution_count": 33,
   "metadata": {},
   "outputs": [],
   "source": [
    "non_cs_without_surp = non_cs_data_all[['word_freq_zh', 'cs_word_pos_zh', 'cs_word_length_zh',\n",
    "       'sentence_length_zh']]"
   ]
  },
  {
   "cell_type": "code",
   "execution_count": 34,
   "metadata": {},
   "outputs": [],
   "source": [
    "non_cs_ngram_surp = non_cs_data_all[['word_freq_zh', 'cs_word_pos_zh', 'cs_word_length_zh',\n",
    "       'sentence_length_zh', 'ngram_surp_zh']]"
   ]
  },
  {
   "cell_type": "code",
   "execution_count": 35,
   "metadata": {},
   "outputs": [],
   "source": [
    "non_cs_dep_surp = non_cs_data_all[['word_freq_zh', 'cs_word_pos_zh', 'cs_word_length_zh',\n",
    "       'sentence_length_zh', 'dep_surp_zh']]"
   ]
  },
  {
   "cell_type": "code",
   "execution_count": 36,
   "metadata": {},
   "outputs": [],
   "source": [
    "non_cs_all_surp = non_cs_data_all"
   ]
  },
  {
   "cell_type": "code",
   "execution_count": 37,
   "metadata": {},
   "outputs": [
    {
     "data": {
      "text/html": [
       "<div>\n",
       "<style scoped>\n",
       "    .dataframe tbody tr th:only-of-type {\n",
       "        vertical-align: middle;\n",
       "    }\n",
       "\n",
       "    .dataframe tbody tr th {\n",
       "        vertical-align: top;\n",
       "    }\n",
       "\n",
       "    .dataframe thead th {\n",
       "        text-align: right;\n",
       "    }\n",
       "</style>\n",
       "<table border=\"1\" class=\"dataframe\">\n",
       "  <thead>\n",
       "    <tr style=\"text-align: right;\">\n",
       "      <th></th>\n",
       "      <th>word_freq_zh</th>\n",
       "      <th>cs_word_pos_zh</th>\n",
       "      <th>cs_word_length_zh</th>\n",
       "      <th>sentence_length_zh</th>\n",
       "      <th>ngram_surp_zh</th>\n",
       "      <th>dep_surp_zh</th>\n",
       "    </tr>\n",
       "  </thead>\n",
       "  <tbody>\n",
       "    <tr>\n",
       "      <th>0</th>\n",
       "      <td>39.049880</td>\n",
       "      <td>NN</td>\n",
       "      <td>2</td>\n",
       "      <td>26</td>\n",
       "      <td>1.618957</td>\n",
       "      <td>4.308516</td>\n",
       "    </tr>\n",
       "    <tr>\n",
       "      <th>1</th>\n",
       "      <td>37.173947</td>\n",
       "      <td>NN</td>\n",
       "      <td>2</td>\n",
       "      <td>15</td>\n",
       "      <td>2.000932</td>\n",
       "      <td>4.218408</td>\n",
       "    </tr>\n",
       "    <tr>\n",
       "      <th>2</th>\n",
       "      <td>37.403903</td>\n",
       "      <td>NN</td>\n",
       "      <td>2</td>\n",
       "      <td>7</td>\n",
       "      <td>3.497618</td>\n",
       "      <td>5.202944</td>\n",
       "    </tr>\n",
       "    <tr>\n",
       "      <th>3</th>\n",
       "      <td>34.498460</td>\n",
       "      <td>NN</td>\n",
       "      <td>2</td>\n",
       "      <td>6</td>\n",
       "      <td>2.000932</td>\n",
       "      <td>3.755097</td>\n",
       "    </tr>\n",
       "    <tr>\n",
       "      <th>4</th>\n",
       "      <td>40.617086</td>\n",
       "      <td>NN</td>\n",
       "      <td>2</td>\n",
       "      <td>6</td>\n",
       "      <td>5.059609</td>\n",
       "      <td>4.466056</td>\n",
       "    </tr>\n",
       "  </tbody>\n",
       "</table>\n",
       "</div>"
      ],
      "text/plain": [
       "   word_freq_zh cs_word_pos_zh  cs_word_length_zh  sentence_length_zh  \\\n",
       "0     39.049880             NN                  2                  26   \n",
       "1     37.173947             NN                  2                  15   \n",
       "2     37.403903             NN                  2                   7   \n",
       "3     34.498460             NN                  2                   6   \n",
       "4     40.617086             NN                  2                   6   \n",
       "\n",
       "   ngram_surp_zh  dep_surp_zh  \n",
       "0       1.618957     4.308516  \n",
       "1       2.000932     4.218408  \n",
       "2       3.497618     5.202944  \n",
       "3       2.000932     3.755097  \n",
       "4       5.059609     4.466056  "
      ]
     },
     "execution_count": 37,
     "metadata": {},
     "output_type": "execute_result"
    }
   ],
   "source": [
    "non_cs_all_surp.head()"
   ]
  },
  {
   "cell_type": "code",
   "execution_count": null,
   "metadata": {},
   "outputs": [],
   "source": []
  },
  {
   "cell_type": "code",
   "execution_count": 38,
   "metadata": {},
   "outputs": [],
   "source": [
    "cs_all_surp = cs_all_surp.dropna()"
   ]
  },
  {
   "cell_type": "code",
   "execution_count": 39,
   "metadata": {},
   "outputs": [
    {
     "data": {
      "text/plain": [
       "1476"
      ]
     },
     "execution_count": 39,
     "metadata": {},
     "output_type": "execute_result"
    }
   ],
   "source": [
    "len(cs_all_surp)"
   ]
  },
  {
   "cell_type": "code",
   "execution_count": 40,
   "metadata": {},
   "outputs": [],
   "source": [
    "code_switched = [1]* len(cs_all_surp)"
   ]
  },
  {
   "cell_type": "code",
   "execution_count": 41,
   "metadata": {},
   "outputs": [
    {
     "name": "stderr",
     "output_type": "stream",
     "text": [
      "/Library/Frameworks/Python.framework/Versions/3.7/lib/python3.7/site-packages/ipykernel_launcher.py:1: SettingWithCopyWarning: \n",
      "A value is trying to be set on a copy of a slice from a DataFrame.\n",
      "Try using .loc[row_indexer,col_indexer] = value instead\n",
      "\n",
      "See the caveats in the documentation: https://pandas.pydata.org/pandas-docs/stable/user_guide/indexing.html#returning-a-view-versus-a-copy\n",
      "  \"\"\"Entry point for launching an IPython kernel.\n"
     ]
    }
   ],
   "source": [
    "cs_all_surp['code_switched'] = code_switched"
   ]
  },
  {
   "cell_type": "code",
   "execution_count": 42,
   "metadata": {},
   "outputs": [
    {
     "data": {
      "text/html": [
       "<div>\n",
       "<style scoped>\n",
       "    .dataframe tbody tr th:only-of-type {\n",
       "        vertical-align: middle;\n",
       "    }\n",
       "\n",
       "    .dataframe tbody tr th {\n",
       "        vertical-align: top;\n",
       "    }\n",
       "\n",
       "    .dataframe thead th {\n",
       "        text-align: right;\n",
       "    }\n",
       "</style>\n",
       "<table border=\"1\" class=\"dataframe\">\n",
       "  <thead>\n",
       "    <tr style=\"text-align: right;\">\n",
       "      <th></th>\n",
       "      <th>word_freq_zh</th>\n",
       "      <th>cs_word_pos_zh</th>\n",
       "      <th>cs_word_length_zh</th>\n",
       "      <th>sentence_length_zh</th>\n",
       "      <th>ngram_surp_zh</th>\n",
       "      <th>dep_surp_zh</th>\n",
       "      <th>code_switched</th>\n",
       "    </tr>\n",
       "  </thead>\n",
       "  <tbody>\n",
       "    <tr>\n",
       "      <th>0</th>\n",
       "      <td>46.615353</td>\n",
       "      <td>NN</td>\n",
       "      <td>2.0</td>\n",
       "      <td>34.0</td>\n",
       "      <td>5.630717</td>\n",
       "      <td>6.469786</td>\n",
       "      <td>1</td>\n",
       "    </tr>\n",
       "    <tr>\n",
       "      <th>1</th>\n",
       "      <td>41.578729</td>\n",
       "      <td>NN</td>\n",
       "      <td>2.0</td>\n",
       "      <td>10.0</td>\n",
       "      <td>5.630717</td>\n",
       "      <td>6.199071</td>\n",
       "      <td>1</td>\n",
       "    </tr>\n",
       "    <tr>\n",
       "      <th>2</th>\n",
       "      <td>37.403903</td>\n",
       "      <td>NN</td>\n",
       "      <td>2.0</td>\n",
       "      <td>8.0</td>\n",
       "      <td>4.787219</td>\n",
       "      <td>5.202944</td>\n",
       "      <td>1</td>\n",
       "    </tr>\n",
       "    <tr>\n",
       "      <th>3</th>\n",
       "      <td>40.402814</td>\n",
       "      <td>NN</td>\n",
       "      <td>2.0</td>\n",
       "      <td>9.0</td>\n",
       "      <td>2.000932</td>\n",
       "      <td>1.262869</td>\n",
       "      <td>1</td>\n",
       "    </tr>\n",
       "    <tr>\n",
       "      <th>4</th>\n",
       "      <td>37.403903</td>\n",
       "      <td>NN</td>\n",
       "      <td>2.0</td>\n",
       "      <td>5.0</td>\n",
       "      <td>5.630717</td>\n",
       "      <td>2.760256</td>\n",
       "      <td>1</td>\n",
       "    </tr>\n",
       "  </tbody>\n",
       "</table>\n",
       "</div>"
      ],
      "text/plain": [
       "   word_freq_zh cs_word_pos_zh  cs_word_length_zh  sentence_length_zh  \\\n",
       "0     46.615353             NN                2.0                34.0   \n",
       "1     41.578729             NN                2.0                10.0   \n",
       "2     37.403903             NN                2.0                 8.0   \n",
       "3     40.402814             NN                2.0                 9.0   \n",
       "4     37.403903             NN                2.0                 5.0   \n",
       "\n",
       "   ngram_surp_zh  dep_surp_zh  code_switched  \n",
       "0       5.630717     6.469786              1  \n",
       "1       5.630717     6.199071              1  \n",
       "2       4.787219     5.202944              1  \n",
       "3       2.000932     1.262869              1  \n",
       "4       5.630717     2.760256              1  "
      ]
     },
     "execution_count": 42,
     "metadata": {},
     "output_type": "execute_result"
    }
   ],
   "source": [
    "cs_all_surp.head()"
   ]
  },
  {
   "cell_type": "code",
   "execution_count": 43,
   "metadata": {},
   "outputs": [
    {
     "data": {
      "text/plain": [
       "1476"
      ]
     },
     "execution_count": 43,
     "metadata": {},
     "output_type": "execute_result"
    }
   ],
   "source": [
    "len(non_cs_all_surp)"
   ]
  },
  {
   "cell_type": "code",
   "execution_count": 44,
   "metadata": {},
   "outputs": [],
   "source": [
    "not_code_switched = [0] * len(non_cs_all_surp)"
   ]
  },
  {
   "cell_type": "code",
   "execution_count": 45,
   "metadata": {},
   "outputs": [
    {
     "name": "stderr",
     "output_type": "stream",
     "text": [
      "/Library/Frameworks/Python.framework/Versions/3.7/lib/python3.7/site-packages/ipykernel_launcher.py:1: SettingWithCopyWarning: \n",
      "A value is trying to be set on a copy of a slice from a DataFrame.\n",
      "Try using .loc[row_indexer,col_indexer] = value instead\n",
      "\n",
      "See the caveats in the documentation: https://pandas.pydata.org/pandas-docs/stable/user_guide/indexing.html#returning-a-view-versus-a-copy\n",
      "  \"\"\"Entry point for launching an IPython kernel.\n"
     ]
    }
   ],
   "source": [
    "non_cs_all_surp['code_switched'] = not_code_switched"
   ]
  },
  {
   "cell_type": "code",
   "execution_count": 46,
   "metadata": {},
   "outputs": [
    {
     "data": {
      "text/html": [
       "<div>\n",
       "<style scoped>\n",
       "    .dataframe tbody tr th:only-of-type {\n",
       "        vertical-align: middle;\n",
       "    }\n",
       "\n",
       "    .dataframe tbody tr th {\n",
       "        vertical-align: top;\n",
       "    }\n",
       "\n",
       "    .dataframe thead th {\n",
       "        text-align: right;\n",
       "    }\n",
       "</style>\n",
       "<table border=\"1\" class=\"dataframe\">\n",
       "  <thead>\n",
       "    <tr style=\"text-align: right;\">\n",
       "      <th></th>\n",
       "      <th>word_freq_zh</th>\n",
       "      <th>cs_word_pos_zh</th>\n",
       "      <th>cs_word_length_zh</th>\n",
       "      <th>sentence_length_zh</th>\n",
       "      <th>ngram_surp_zh</th>\n",
       "      <th>dep_surp_zh</th>\n",
       "      <th>code_switched</th>\n",
       "    </tr>\n",
       "  </thead>\n",
       "  <tbody>\n",
       "    <tr>\n",
       "      <th>0</th>\n",
       "      <td>39.049880</td>\n",
       "      <td>NN</td>\n",
       "      <td>2</td>\n",
       "      <td>26</td>\n",
       "      <td>1.618957</td>\n",
       "      <td>4.308516</td>\n",
       "      <td>0</td>\n",
       "    </tr>\n",
       "    <tr>\n",
       "      <th>1</th>\n",
       "      <td>37.173947</td>\n",
       "      <td>NN</td>\n",
       "      <td>2</td>\n",
       "      <td>15</td>\n",
       "      <td>2.000932</td>\n",
       "      <td>4.218408</td>\n",
       "      <td>0</td>\n",
       "    </tr>\n",
       "    <tr>\n",
       "      <th>2</th>\n",
       "      <td>37.403903</td>\n",
       "      <td>NN</td>\n",
       "      <td>2</td>\n",
       "      <td>7</td>\n",
       "      <td>3.497618</td>\n",
       "      <td>5.202944</td>\n",
       "      <td>0</td>\n",
       "    </tr>\n",
       "    <tr>\n",
       "      <th>3</th>\n",
       "      <td>34.498460</td>\n",
       "      <td>NN</td>\n",
       "      <td>2</td>\n",
       "      <td>6</td>\n",
       "      <td>2.000932</td>\n",
       "      <td>3.755097</td>\n",
       "      <td>0</td>\n",
       "    </tr>\n",
       "    <tr>\n",
       "      <th>4</th>\n",
       "      <td>40.617086</td>\n",
       "      <td>NN</td>\n",
       "      <td>2</td>\n",
       "      <td>6</td>\n",
       "      <td>5.059609</td>\n",
       "      <td>4.466056</td>\n",
       "      <td>0</td>\n",
       "    </tr>\n",
       "  </tbody>\n",
       "</table>\n",
       "</div>"
      ],
      "text/plain": [
       "   word_freq_zh cs_word_pos_zh  cs_word_length_zh  sentence_length_zh  \\\n",
       "0     39.049880             NN                  2                  26   \n",
       "1     37.173947             NN                  2                  15   \n",
       "2     37.403903             NN                  2                   7   \n",
       "3     34.498460             NN                  2                   6   \n",
       "4     40.617086             NN                  2                   6   \n",
       "\n",
       "   ngram_surp_zh  dep_surp_zh  code_switched  \n",
       "0       1.618957     4.308516              0  \n",
       "1       2.000932     4.218408              0  \n",
       "2       3.497618     5.202944              0  \n",
       "3       2.000932     3.755097              0  \n",
       "4       5.059609     4.466056              0  "
      ]
     },
     "execution_count": 46,
     "metadata": {},
     "output_type": "execute_result"
    }
   ],
   "source": [
    "non_cs_all_surp.head()"
   ]
  },
  {
   "cell_type": "markdown",
   "metadata": {},
   "source": [
    "set up done for both datasets"
   ]
  },
  {
   "cell_type": "code",
   "execution_count": null,
   "metadata": {},
   "outputs": [],
   "source": []
  },
  {
   "cell_type": "code",
   "execution_count": 47,
   "metadata": {},
   "outputs": [],
   "source": [
    "frames = [cs_all_surp, non_cs_all_surp]"
   ]
  },
  {
   "cell_type": "code",
   "execution_count": 48,
   "metadata": {},
   "outputs": [],
   "source": [
    "all_data = pd.concat(frames)"
   ]
  },
  {
   "cell_type": "code",
   "execution_count": 49,
   "metadata": {},
   "outputs": [
    {
     "data": {
      "text/html": [
       "<div>\n",
       "<style scoped>\n",
       "    .dataframe tbody tr th:only-of-type {\n",
       "        vertical-align: middle;\n",
       "    }\n",
       "\n",
       "    .dataframe tbody tr th {\n",
       "        vertical-align: top;\n",
       "    }\n",
       "\n",
       "    .dataframe thead th {\n",
       "        text-align: right;\n",
       "    }\n",
       "</style>\n",
       "<table border=\"1\" class=\"dataframe\">\n",
       "  <thead>\n",
       "    <tr style=\"text-align: right;\">\n",
       "      <th></th>\n",
       "      <th>word_freq_zh</th>\n",
       "      <th>cs_word_pos_zh</th>\n",
       "      <th>cs_word_length_zh</th>\n",
       "      <th>sentence_length_zh</th>\n",
       "      <th>ngram_surp_zh</th>\n",
       "      <th>dep_surp_zh</th>\n",
       "      <th>code_switched</th>\n",
       "    </tr>\n",
       "  </thead>\n",
       "  <tbody>\n",
       "    <tr>\n",
       "      <th>0</th>\n",
       "      <td>46.615353</td>\n",
       "      <td>NN</td>\n",
       "      <td>2.0</td>\n",
       "      <td>34.0</td>\n",
       "      <td>5.630717</td>\n",
       "      <td>6.469786</td>\n",
       "      <td>1</td>\n",
       "    </tr>\n",
       "    <tr>\n",
       "      <th>1</th>\n",
       "      <td>41.578729</td>\n",
       "      <td>NN</td>\n",
       "      <td>2.0</td>\n",
       "      <td>10.0</td>\n",
       "      <td>5.630717</td>\n",
       "      <td>6.199071</td>\n",
       "      <td>1</td>\n",
       "    </tr>\n",
       "    <tr>\n",
       "      <th>2</th>\n",
       "      <td>37.403903</td>\n",
       "      <td>NN</td>\n",
       "      <td>2.0</td>\n",
       "      <td>8.0</td>\n",
       "      <td>4.787219</td>\n",
       "      <td>5.202944</td>\n",
       "      <td>1</td>\n",
       "    </tr>\n",
       "    <tr>\n",
       "      <th>3</th>\n",
       "      <td>40.402814</td>\n",
       "      <td>NN</td>\n",
       "      <td>2.0</td>\n",
       "      <td>9.0</td>\n",
       "      <td>2.000932</td>\n",
       "      <td>1.262869</td>\n",
       "      <td>1</td>\n",
       "    </tr>\n",
       "    <tr>\n",
       "      <th>4</th>\n",
       "      <td>37.403903</td>\n",
       "      <td>NN</td>\n",
       "      <td>2.0</td>\n",
       "      <td>5.0</td>\n",
       "      <td>5.630717</td>\n",
       "      <td>2.760256</td>\n",
       "      <td>1</td>\n",
       "    </tr>\n",
       "  </tbody>\n",
       "</table>\n",
       "</div>"
      ],
      "text/plain": [
       "   word_freq_zh cs_word_pos_zh  cs_word_length_zh  sentence_length_zh  \\\n",
       "0     46.615353             NN                2.0                34.0   \n",
       "1     41.578729             NN                2.0                10.0   \n",
       "2     37.403903             NN                2.0                 8.0   \n",
       "3     40.402814             NN                2.0                 9.0   \n",
       "4     37.403903             NN                2.0                 5.0   \n",
       "\n",
       "   ngram_surp_zh  dep_surp_zh  code_switched  \n",
       "0       5.630717     6.469786              1  \n",
       "1       5.630717     6.199071              1  \n",
       "2       4.787219     5.202944              1  \n",
       "3       2.000932     1.262869              1  \n",
       "4       5.630717     2.760256              1  "
      ]
     },
     "execution_count": 49,
     "metadata": {},
     "output_type": "execute_result"
    }
   ],
   "source": [
    "all_data.head()"
   ]
  },
  {
   "cell_type": "code",
   "execution_count": 50,
   "metadata": {},
   "outputs": [
    {
     "data": {
      "text/html": [
       "<div>\n",
       "<style scoped>\n",
       "    .dataframe tbody tr th:only-of-type {\n",
       "        vertical-align: middle;\n",
       "    }\n",
       "\n",
       "    .dataframe tbody tr th {\n",
       "        vertical-align: top;\n",
       "    }\n",
       "\n",
       "    .dataframe thead th {\n",
       "        text-align: right;\n",
       "    }\n",
       "</style>\n",
       "<table border=\"1\" class=\"dataframe\">\n",
       "  <thead>\n",
       "    <tr style=\"text-align: right;\">\n",
       "      <th></th>\n",
       "      <th>word_freq_zh</th>\n",
       "      <th>cs_word_pos_zh</th>\n",
       "      <th>cs_word_length_zh</th>\n",
       "      <th>sentence_length_zh</th>\n",
       "      <th>ngram_surp_zh</th>\n",
       "      <th>dep_surp_zh</th>\n",
       "      <th>code_switched</th>\n",
       "    </tr>\n",
       "  </thead>\n",
       "  <tbody>\n",
       "    <tr>\n",
       "      <th>1471</th>\n",
       "      <td>42.806570</td>\n",
       "      <td>NN</td>\n",
       "      <td>2.0</td>\n",
       "      <td>14.0</td>\n",
       "      <td>3.192741</td>\n",
       "      <td>4.466056</td>\n",
       "      <td>0</td>\n",
       "    </tr>\n",
       "    <tr>\n",
       "      <th>1472</th>\n",
       "      <td>40.658134</td>\n",
       "      <td>VV</td>\n",
       "      <td>2.0</td>\n",
       "      <td>6.0</td>\n",
       "      <td>5.630717</td>\n",
       "      <td>5.934818</td>\n",
       "      <td>0</td>\n",
       "    </tr>\n",
       "    <tr>\n",
       "      <th>1473</th>\n",
       "      <td>34.939003</td>\n",
       "      <td>NN</td>\n",
       "      <td>2.0</td>\n",
       "      <td>6.0</td>\n",
       "      <td>4.860519</td>\n",
       "      <td>5.278906</td>\n",
       "      <td>0</td>\n",
       "    </tr>\n",
       "    <tr>\n",
       "      <th>1474</th>\n",
       "      <td>33.832341</td>\n",
       "      <td>NN</td>\n",
       "      <td>2.0</td>\n",
       "      <td>5.0</td>\n",
       "      <td>5.630717</td>\n",
       "      <td>4.947109</td>\n",
       "      <td>0</td>\n",
       "    </tr>\n",
       "    <tr>\n",
       "      <th>1475</th>\n",
       "      <td>38.845030</td>\n",
       "      <td>NN</td>\n",
       "      <td>1.0</td>\n",
       "      <td>25.0</td>\n",
       "      <td>1.618957</td>\n",
       "      <td>6.199071</td>\n",
       "      <td>0</td>\n",
       "    </tr>\n",
       "  </tbody>\n",
       "</table>\n",
       "</div>"
      ],
      "text/plain": [
       "      word_freq_zh cs_word_pos_zh  cs_word_length_zh  sentence_length_zh  \\\n",
       "1471     42.806570             NN                2.0                14.0   \n",
       "1472     40.658134             VV                2.0                 6.0   \n",
       "1473     34.939003             NN                2.0                 6.0   \n",
       "1474     33.832341             NN                2.0                 5.0   \n",
       "1475     38.845030             NN                1.0                25.0   \n",
       "\n",
       "      ngram_surp_zh  dep_surp_zh  code_switched  \n",
       "1471       3.192741     4.466056              0  \n",
       "1472       5.630717     5.934818              0  \n",
       "1473       4.860519     5.278906              0  \n",
       "1474       5.630717     4.947109              0  \n",
       "1475       1.618957     6.199071              0  "
      ]
     },
     "execution_count": 50,
     "metadata": {},
     "output_type": "execute_result"
    }
   ],
   "source": [
    "all_data.tail()"
   ]
  },
  {
   "cell_type": "code",
   "execution_count": 51,
   "metadata": {},
   "outputs": [
    {
     "data": {
      "text/plain": [
       "2952"
      ]
     },
     "execution_count": 51,
     "metadata": {},
     "output_type": "execute_result"
    }
   ],
   "source": [
    "len(all_data)"
   ]
  },
  {
   "cell_type": "code",
   "execution_count": 52,
   "metadata": {},
   "outputs": [
    {
     "data": {
      "text/plain": [
       "{'AD',\n",
       " 'CC',\n",
       " 'CD',\n",
       " 'DEG',\n",
       " 'DT',\n",
       " 'IJ',\n",
       " 'JJ',\n",
       " 'M',\n",
       " 'NN',\n",
       " 'NR',\n",
       " 'NT',\n",
       " 'OD',\n",
       " 'P',\n",
       " 'PN',\n",
       " 'VA',\n",
       " 'VC',\n",
       " 'VE',\n",
       " 'VV'}"
      ]
     },
     "execution_count": 52,
     "metadata": {},
     "output_type": "execute_result"
    }
   ],
   "source": [
    "set(all_data['cs_word_pos_zh'])"
   ]
  },
  {
   "cell_type": "code",
   "execution_count": 53,
   "metadata": {},
   "outputs": [],
   "source": [
    "as_ints = []\n",
    "for pos in all_data['cs_word_pos_zh']:\n",
    "    if pos == 'NN':\n",
    "        as_ints.append(0)\n",
    "    elif pos == 'NR':\n",
    "        as_ints.append(0)\n",
    "    elif pos == 'NT':\n",
    "        as_ints.append(0)\n",
    "    elif pos == 'VE':\n",
    "        as_ints.append(1)\n",
    "    elif pos == 'VV':\n",
    "        as_ints.append(1)\n",
    "    else:\n",
    "        as_ints.append(2)"
   ]
  },
  {
   "cell_type": "code",
   "execution_count": 54,
   "metadata": {},
   "outputs": [
    {
     "name": "stdout",
     "output_type": "stream",
     "text": [
      "2952\n"
     ]
    }
   ],
   "source": [
    "print(len(as_ints))"
   ]
  },
  {
   "cell_type": "code",
   "execution_count": null,
   "metadata": {},
   "outputs": [],
   "source": []
  },
  {
   "cell_type": "markdown",
   "metadata": {},
   "source": [
    "## Loop from here"
   ]
  },
  {
   "cell_type": "code",
   "execution_count": 55,
   "metadata": {},
   "outputs": [],
   "source": [
    "without_surp = all_data[['word_freq_zh', 'cs_word_pos_zh', 'cs_word_length_zh',\n",
    "       'sentence_length_zh', 'ngram_surp_zh', 'dep_surp_zh', 'code_switched']]\n",
    "without_surp['cs_word_pos_zh'] = as_ints"
   ]
  },
  {
   "cell_type": "code",
   "execution_count": 56,
   "metadata": {},
   "outputs": [
    {
     "data": {
      "text/html": [
       "<div>\n",
       "<style scoped>\n",
       "    .dataframe tbody tr th:only-of-type {\n",
       "        vertical-align: middle;\n",
       "    }\n",
       "\n",
       "    .dataframe tbody tr th {\n",
       "        vertical-align: top;\n",
       "    }\n",
       "\n",
       "    .dataframe thead th {\n",
       "        text-align: right;\n",
       "    }\n",
       "</style>\n",
       "<table border=\"1\" class=\"dataframe\">\n",
       "  <thead>\n",
       "    <tr style=\"text-align: right;\">\n",
       "      <th></th>\n",
       "      <th>word_freq_zh</th>\n",
       "      <th>cs_word_pos_zh</th>\n",
       "      <th>cs_word_length_zh</th>\n",
       "      <th>sentence_length_zh</th>\n",
       "      <th>ngram_surp_zh</th>\n",
       "      <th>dep_surp_zh</th>\n",
       "      <th>code_switched</th>\n",
       "    </tr>\n",
       "  </thead>\n",
       "  <tbody>\n",
       "    <tr>\n",
       "      <th>0</th>\n",
       "      <td>46.615353</td>\n",
       "      <td>0</td>\n",
       "      <td>2.0</td>\n",
       "      <td>34.0</td>\n",
       "      <td>5.630717</td>\n",
       "      <td>6.469786</td>\n",
       "      <td>1</td>\n",
       "    </tr>\n",
       "    <tr>\n",
       "      <th>1</th>\n",
       "      <td>41.578729</td>\n",
       "      <td>0</td>\n",
       "      <td>2.0</td>\n",
       "      <td>10.0</td>\n",
       "      <td>5.630717</td>\n",
       "      <td>6.199071</td>\n",
       "      <td>1</td>\n",
       "    </tr>\n",
       "    <tr>\n",
       "      <th>2</th>\n",
       "      <td>37.403903</td>\n",
       "      <td>0</td>\n",
       "      <td>2.0</td>\n",
       "      <td>8.0</td>\n",
       "      <td>4.787219</td>\n",
       "      <td>5.202944</td>\n",
       "      <td>1</td>\n",
       "    </tr>\n",
       "    <tr>\n",
       "      <th>3</th>\n",
       "      <td>40.402814</td>\n",
       "      <td>0</td>\n",
       "      <td>2.0</td>\n",
       "      <td>9.0</td>\n",
       "      <td>2.000932</td>\n",
       "      <td>1.262869</td>\n",
       "      <td>1</td>\n",
       "    </tr>\n",
       "    <tr>\n",
       "      <th>4</th>\n",
       "      <td>37.403903</td>\n",
       "      <td>0</td>\n",
       "      <td>2.0</td>\n",
       "      <td>5.0</td>\n",
       "      <td>5.630717</td>\n",
       "      <td>2.760256</td>\n",
       "      <td>1</td>\n",
       "    </tr>\n",
       "  </tbody>\n",
       "</table>\n",
       "</div>"
      ],
      "text/plain": [
       "   word_freq_zh  cs_word_pos_zh  cs_word_length_zh  sentence_length_zh  \\\n",
       "0     46.615353               0                2.0                34.0   \n",
       "1     41.578729               0                2.0                10.0   \n",
       "2     37.403903               0                2.0                 8.0   \n",
       "3     40.402814               0                2.0                 9.0   \n",
       "4     37.403903               0                2.0                 5.0   \n",
       "\n",
       "   ngram_surp_zh  dep_surp_zh  code_switched  \n",
       "0       5.630717     6.469786              1  \n",
       "1       5.630717     6.199071              1  \n",
       "2       4.787219     5.202944              1  \n",
       "3       2.000932     1.262869              1  \n",
       "4       5.630717     2.760256              1  "
      ]
     },
     "execution_count": 56,
     "metadata": {},
     "output_type": "execute_result"
    }
   ],
   "source": [
    "without_surp.head()"
   ]
  },
  {
   "cell_type": "code",
   "execution_count": 57,
   "metadata": {},
   "outputs": [
    {
     "data": {
      "text/html": [
       "<div>\n",
       "<style scoped>\n",
       "    .dataframe tbody tr th:only-of-type {\n",
       "        vertical-align: middle;\n",
       "    }\n",
       "\n",
       "    .dataframe tbody tr th {\n",
       "        vertical-align: top;\n",
       "    }\n",
       "\n",
       "    .dataframe thead th {\n",
       "        text-align: right;\n",
       "    }\n",
       "</style>\n",
       "<table border=\"1\" class=\"dataframe\">\n",
       "  <thead>\n",
       "    <tr style=\"text-align: right;\">\n",
       "      <th></th>\n",
       "      <th>word_freq_zh</th>\n",
       "      <th>cs_word_pos_zh</th>\n",
       "      <th>cs_word_length_zh</th>\n",
       "      <th>sentence_length_zh</th>\n",
       "      <th>ngram_surp_zh</th>\n",
       "      <th>dep_surp_zh</th>\n",
       "      <th>code_switched</th>\n",
       "    </tr>\n",
       "  </thead>\n",
       "  <tbody>\n",
       "    <tr>\n",
       "      <th>1471</th>\n",
       "      <td>42.806570</td>\n",
       "      <td>0</td>\n",
       "      <td>2.0</td>\n",
       "      <td>14.0</td>\n",
       "      <td>3.192741</td>\n",
       "      <td>4.466056</td>\n",
       "      <td>0</td>\n",
       "    </tr>\n",
       "    <tr>\n",
       "      <th>1472</th>\n",
       "      <td>40.658134</td>\n",
       "      <td>1</td>\n",
       "      <td>2.0</td>\n",
       "      <td>6.0</td>\n",
       "      <td>5.630717</td>\n",
       "      <td>5.934818</td>\n",
       "      <td>0</td>\n",
       "    </tr>\n",
       "    <tr>\n",
       "      <th>1473</th>\n",
       "      <td>34.939003</td>\n",
       "      <td>0</td>\n",
       "      <td>2.0</td>\n",
       "      <td>6.0</td>\n",
       "      <td>4.860519</td>\n",
       "      <td>5.278906</td>\n",
       "      <td>0</td>\n",
       "    </tr>\n",
       "    <tr>\n",
       "      <th>1474</th>\n",
       "      <td>33.832341</td>\n",
       "      <td>0</td>\n",
       "      <td>2.0</td>\n",
       "      <td>5.0</td>\n",
       "      <td>5.630717</td>\n",
       "      <td>4.947109</td>\n",
       "      <td>0</td>\n",
       "    </tr>\n",
       "    <tr>\n",
       "      <th>1475</th>\n",
       "      <td>38.845030</td>\n",
       "      <td>0</td>\n",
       "      <td>1.0</td>\n",
       "      <td>25.0</td>\n",
       "      <td>1.618957</td>\n",
       "      <td>6.199071</td>\n",
       "      <td>0</td>\n",
       "    </tr>\n",
       "  </tbody>\n",
       "</table>\n",
       "</div>"
      ],
      "text/plain": [
       "      word_freq_zh  cs_word_pos_zh  cs_word_length_zh  sentence_length_zh  \\\n",
       "1471     42.806570               0                2.0                14.0   \n",
       "1472     40.658134               1                2.0                 6.0   \n",
       "1473     34.939003               0                2.0                 6.0   \n",
       "1474     33.832341               0                2.0                 5.0   \n",
       "1475     38.845030               0                1.0                25.0   \n",
       "\n",
       "      ngram_surp_zh  dep_surp_zh  code_switched  \n",
       "1471       3.192741     4.466056              0  \n",
       "1472       5.630717     5.934818              0  \n",
       "1473       4.860519     5.278906              0  \n",
       "1474       5.630717     4.947109              0  \n",
       "1475       1.618957     6.199071              0  "
      ]
     },
     "execution_count": 57,
     "metadata": {},
     "output_type": "execute_result"
    }
   ],
   "source": [
    "without_surp.tail()"
   ]
  },
  {
   "cell_type": "code",
   "execution_count": 58,
   "metadata": {},
   "outputs": [
    {
     "data": {
      "text/plain": [
       "2952"
      ]
     },
     "execution_count": 58,
     "metadata": {},
     "output_type": "execute_result"
    }
   ],
   "source": [
    "len(without_surp)"
   ]
  },
  {
   "cell_type": "code",
   "execution_count": 59,
   "metadata": {},
   "outputs": [],
   "source": [
    "without_surp = without_surp.dropna()"
   ]
  },
  {
   "cell_type": "code",
   "execution_count": 60,
   "metadata": {},
   "outputs": [
    {
     "data": {
      "text/plain": [
       "2952"
      ]
     },
     "execution_count": 60,
     "metadata": {},
     "output_type": "execute_result"
    }
   ],
   "source": [
    "len(without_surp)"
   ]
  },
  {
   "cell_type": "code",
   "execution_count": 61,
   "metadata": {},
   "outputs": [],
   "source": [
    "without_surp_final = without_surp[['word_freq_zh', 'cs_word_pos_zh', 'cs_word_length_zh', 'sentence_length_zh' ]]"
   ]
  },
  {
   "cell_type": "code",
   "execution_count": 62,
   "metadata": {},
   "outputs": [
    {
     "data": {
      "text/html": [
       "<div>\n",
       "<style scoped>\n",
       "    .dataframe tbody tr th:only-of-type {\n",
       "        vertical-align: middle;\n",
       "    }\n",
       "\n",
       "    .dataframe tbody tr th {\n",
       "        vertical-align: top;\n",
       "    }\n",
       "\n",
       "    .dataframe thead th {\n",
       "        text-align: right;\n",
       "    }\n",
       "</style>\n",
       "<table border=\"1\" class=\"dataframe\">\n",
       "  <thead>\n",
       "    <tr style=\"text-align: right;\">\n",
       "      <th></th>\n",
       "      <th>word_freq_zh</th>\n",
       "      <th>cs_word_pos_zh</th>\n",
       "      <th>cs_word_length_zh</th>\n",
       "      <th>sentence_length_zh</th>\n",
       "    </tr>\n",
       "  </thead>\n",
       "  <tbody>\n",
       "    <tr>\n",
       "      <th>0</th>\n",
       "      <td>46.615353</td>\n",
       "      <td>0</td>\n",
       "      <td>2.0</td>\n",
       "      <td>34.0</td>\n",
       "    </tr>\n",
       "    <tr>\n",
       "      <th>1</th>\n",
       "      <td>41.578729</td>\n",
       "      <td>0</td>\n",
       "      <td>2.0</td>\n",
       "      <td>10.0</td>\n",
       "    </tr>\n",
       "    <tr>\n",
       "      <th>2</th>\n",
       "      <td>37.403903</td>\n",
       "      <td>0</td>\n",
       "      <td>2.0</td>\n",
       "      <td>8.0</td>\n",
       "    </tr>\n",
       "    <tr>\n",
       "      <th>3</th>\n",
       "      <td>40.402814</td>\n",
       "      <td>0</td>\n",
       "      <td>2.0</td>\n",
       "      <td>9.0</td>\n",
       "    </tr>\n",
       "    <tr>\n",
       "      <th>4</th>\n",
       "      <td>37.403903</td>\n",
       "      <td>0</td>\n",
       "      <td>2.0</td>\n",
       "      <td>5.0</td>\n",
       "    </tr>\n",
       "  </tbody>\n",
       "</table>\n",
       "</div>"
      ],
      "text/plain": [
       "   word_freq_zh  cs_word_pos_zh  cs_word_length_zh  sentence_length_zh\n",
       "0     46.615353               0                2.0                34.0\n",
       "1     41.578729               0                2.0                10.0\n",
       "2     37.403903               0                2.0                 8.0\n",
       "3     40.402814               0                2.0                 9.0\n",
       "4     37.403903               0                2.0                 5.0"
      ]
     },
     "execution_count": 62,
     "metadata": {},
     "output_type": "execute_result"
    }
   ],
   "source": [
    "without_surp_final.head()"
   ]
  },
  {
   "cell_type": "code",
   "execution_count": 63,
   "metadata": {},
   "outputs": [],
   "source": [
    "import numpy as np"
   ]
  },
  {
   "cell_type": "code",
   "execution_count": 64,
   "metadata": {},
   "outputs": [],
   "source": [
    "#𝑦𝑖=𝑚2+(𝑥𝑖−𝑚1)×𝑠2/𝑠1"
   ]
  },
  {
   "cell_type": "code",
   "execution_count": 65,
   "metadata": {},
   "outputs": [
    {
     "name": "stderr",
     "output_type": "stream",
     "text": [
      "/Library/Frameworks/Python.framework/Versions/3.7/lib/python3.7/site-packages/ipykernel_launcher.py:11: SettingWithCopyWarning: \n",
      "A value is trying to be set on a copy of a slice from a DataFrame.\n",
      "Try using .loc[row_indexer,col_indexer] = value instead\n",
      "\n",
      "See the caveats in the documentation: https://pandas.pydata.org/pandas-docs/stable/user_guide/indexing.html#returning-a-view-versus-a-copy\n",
      "  # This is added back by InteractiveShellApp.init_path()\n",
      "/Library/Frameworks/Python.framework/Versions/3.7/lib/python3.7/site-packages/ipykernel_launcher.py:12: SettingWithCopyWarning: \n",
      "A value is trying to be set on a copy of a slice from a DataFrame.\n",
      "Try using .loc[row_indexer,col_indexer] = value instead\n",
      "\n",
      "See the caveats in the documentation: https://pandas.pydata.org/pandas-docs/stable/user_guide/indexing.html#returning-a-view-versus-a-copy\n",
      "  if sys.path[0] == '':\n",
      "/Library/Frameworks/Python.framework/Versions/3.7/lib/python3.7/site-packages/ipykernel_launcher.py:13: SettingWithCopyWarning: \n",
      "A value is trying to be set on a copy of a slice from a DataFrame.\n",
      "Try using .loc[row_indexer,col_indexer] = value instead\n",
      "\n",
      "See the caveats in the documentation: https://pandas.pydata.org/pandas-docs/stable/user_guide/indexing.html#returning-a-view-versus-a-copy\n",
      "  del sys.path[0]\n"
     ]
    }
   ],
   "source": [
    "cs_word_frequency = np.array(without_surp_final['word_freq_zh'])\n",
    "cs_word_length = np.array(without_surp_final['cs_word_length_zh'])\n",
    "sentence_length = np.array(without_surp_final['sentence_length_zh'])\n",
    "#cs_word_pos = np.array(without_surp_final['cs_word_pos_zh'])\n",
    "\n",
    "cs_word_frequency_new = 0.5*(cs_word_frequency-np.mean(cs_word_frequency))/np.std(cs_word_frequency)\n",
    "cs_word_length_new = 0.5*(cs_word_length-np.mean(cs_word_length))/np.std(cs_word_length)\n",
    "sentence_length_new = 0.5*(sentence_length-np.mean(sentence_length))/np.std(sentence_length)\n",
    "#cs_word_pos_new = (cs_word_pos-np.mean(cs_word_pos))/np.std(cs_word_pos)\n",
    "\n",
    "without_surp_final['word_freq_zh'] = cs_word_frequency_new\n",
    "without_surp_final['cs_word_length_zh'] = cs_word_length_new\n",
    "without_surp_final['sentence_length_zh'] = sentence_length_new\n",
    "#without_surp_final['cs_word_pos_zh'] = cs_word_pos_new"
   ]
  },
  {
   "cell_type": "code",
   "execution_count": 66,
   "metadata": {},
   "outputs": [
    {
     "data": {
      "text/html": [
       "<div>\n",
       "<style scoped>\n",
       "    .dataframe tbody tr th:only-of-type {\n",
       "        vertical-align: middle;\n",
       "    }\n",
       "\n",
       "    .dataframe tbody tr th {\n",
       "        vertical-align: top;\n",
       "    }\n",
       "\n",
       "    .dataframe thead th {\n",
       "        text-align: right;\n",
       "    }\n",
       "</style>\n",
       "<table border=\"1\" class=\"dataframe\">\n",
       "  <thead>\n",
       "    <tr style=\"text-align: right;\">\n",
       "      <th></th>\n",
       "      <th>word_freq_zh</th>\n",
       "      <th>cs_word_pos_zh</th>\n",
       "      <th>cs_word_length_zh</th>\n",
       "      <th>sentence_length_zh</th>\n",
       "    </tr>\n",
       "  </thead>\n",
       "  <tbody>\n",
       "    <tr>\n",
       "      <th>0</th>\n",
       "      <td>1.410115</td>\n",
       "      <td>0</td>\n",
       "      <td>0.170111</td>\n",
       "      <td>1.876020</td>\n",
       "    </tr>\n",
       "    <tr>\n",
       "      <th>1</th>\n",
       "      <td>0.594916</td>\n",
       "      <td>0</td>\n",
       "      <td>0.170111</td>\n",
       "      <td>-0.096704</td>\n",
       "    </tr>\n",
       "    <tr>\n",
       "      <th>2</th>\n",
       "      <td>-0.080797</td>\n",
       "      <td>0</td>\n",
       "      <td>0.170111</td>\n",
       "      <td>-0.261097</td>\n",
       "    </tr>\n",
       "    <tr>\n",
       "      <th>3</th>\n",
       "      <td>0.404590</td>\n",
       "      <td>0</td>\n",
       "      <td>0.170111</td>\n",
       "      <td>-0.178901</td>\n",
       "    </tr>\n",
       "    <tr>\n",
       "      <th>4</th>\n",
       "      <td>-0.080797</td>\n",
       "      <td>0</td>\n",
       "      <td>0.170111</td>\n",
       "      <td>-0.507688</td>\n",
       "    </tr>\n",
       "  </tbody>\n",
       "</table>\n",
       "</div>"
      ],
      "text/plain": [
       "   word_freq_zh  cs_word_pos_zh  cs_word_length_zh  sentence_length_zh\n",
       "0      1.410115               0           0.170111            1.876020\n",
       "1      0.594916               0           0.170111           -0.096704\n",
       "2     -0.080797               0           0.170111           -0.261097\n",
       "3      0.404590               0           0.170111           -0.178901\n",
       "4     -0.080797               0           0.170111           -0.507688"
      ]
     },
     "execution_count": 66,
     "metadata": {},
     "output_type": "execute_result"
    }
   ],
   "source": [
    "without_surp_final.head()"
   ]
  },
  {
   "cell_type": "code",
   "execution_count": 67,
   "metadata": {},
   "outputs": [],
   "source": [
    "from sklearn.linear_model import LogisticRegression\n",
    "from sklearn.model_selection import train_test_split\n",
    "from sklearn.metrics import classification_report, mean_squared_error"
   ]
  },
  {
   "cell_type": "code",
   "execution_count": 72,
   "metadata": {},
   "outputs": [],
   "source": [
    "X = without_surp_final\n",
    "y = without_surp['code_switched']\n",
    "X_train, X_test, y_train, y_test = train_test_split(X, y, test_size=0.3, random_state=0)"
   ]
  },
  {
   "cell_type": "code",
   "execution_count": 73,
   "metadata": {},
   "outputs": [],
   "source": [
    "clf = LogisticRegression()\n",
    "clf.fit(X_train, y_train)\n",
    "y_pred = clf.predict(X_test)"
   ]
  },
  {
   "cell_type": "code",
   "execution_count": 74,
   "metadata": {},
   "outputs": [
    {
     "name": "stdout",
     "output_type": "stream",
     "text": [
      "              precision    recall  f1-score   support\n",
      "\n",
      "           0       0.54      0.65      0.59       419\n",
      "           1       0.62      0.51      0.56       467\n",
      "\n",
      "    accuracy                           0.57       886\n",
      "   macro avg       0.58      0.58      0.57       886\n",
      "weighted avg       0.58      0.57      0.57       886\n",
      "\n"
     ]
    }
   ],
   "source": [
    "print(classification_report(y_test, y_pred))"
   ]
  },
  {
   "cell_type": "code",
   "execution_count": 75,
   "metadata": {},
   "outputs": [
    {
     "name": "stdout",
     "output_type": "stream",
     "text": [
      "[[0.42659085 0.21967387 0.50192735 0.44609174]]\n",
      "[-0.18276921]\n"
     ]
    }
   ],
   "source": [
    "print(clf.coef_)\n",
    "print(clf.intercept_)"
   ]
  },
  {
   "cell_type": "code",
   "execution_count": 76,
   "metadata": {},
   "outputs": [],
   "source": [
    "without_surp_final_new = X.copy()\n",
    "without_surp_final_new['code_switched'] = y.copy()"
   ]
  },
  {
   "cell_type": "code",
   "execution_count": 77,
   "metadata": {},
   "outputs": [
    {
     "data": {
      "text/html": [
       "<table class=\"simpletable\">\n",
       "<caption>OLS Regression Results</caption>\n",
       "<tr>\n",
       "  <th>Dep. Variable:</th>      <td>code_switched</td>  <th>  R-squared:         </th> <td>   0.042</td>\n",
       "</tr>\n",
       "<tr>\n",
       "  <th>Model:</th>                   <td>OLS</td>       <th>  Adj. R-squared:    </th> <td>   0.040</td>\n",
       "</tr>\n",
       "<tr>\n",
       "  <th>Method:</th>             <td>Least Squares</td>  <th>  F-statistic:       </th> <td>   25.79</td>\n",
       "</tr>\n",
       "<tr>\n",
       "  <th>Date:</th>             <td>Wed, 15 Sep 2021</td> <th>  Prob (F-statistic):</th> <td>1.47e-25</td>\n",
       "</tr>\n",
       "<tr>\n",
       "  <th>Time:</th>                 <td>14:50:12</td>     <th>  Log-Likelihood:    </th> <td> -2079.3</td>\n",
       "</tr>\n",
       "<tr>\n",
       "  <th>No. Observations:</th>      <td>  2952</td>      <th>  AIC:               </th> <td>   4171.</td>\n",
       "</tr>\n",
       "<tr>\n",
       "  <th>Df Residuals:</th>          <td>  2946</td>      <th>  BIC:               </th> <td>   4207.</td>\n",
       "</tr>\n",
       "<tr>\n",
       "  <th>Df Model:</th>              <td>     5</td>      <th>                     </th>     <td> </td>   \n",
       "</tr>\n",
       "<tr>\n",
       "  <th>Covariance Type:</th>      <td>nonrobust</td>    <th>                     </th>     <td> </td>   \n",
       "</tr>\n",
       "</table>\n",
       "<table class=\"simpletable\">\n",
       "<tr>\n",
       "             <td></td>               <th>coef</th>     <th>std err</th>      <th>t</th>      <th>P>|t|</th>  <th>[0.025</th>    <th>0.975]</th>  \n",
       "</tr>\n",
       "<tr>\n",
       "  <th>Intercept</th>              <td>    0.4669</td> <td>    0.012</td> <td>   39.080</td> <td> 0.000</td> <td>    0.443</td> <td>    0.490</td>\n",
       "</tr>\n",
       "<tr>\n",
       "  <th>C(cs_word_pos_zh)[T.1]</th> <td>    0.0589</td> <td>    0.026</td> <td>    2.236</td> <td> 0.025</td> <td>    0.007</td> <td>    0.111</td>\n",
       "</tr>\n",
       "<tr>\n",
       "  <th>C(cs_word_pos_zh)[T.2]</th> <td>    0.1055</td> <td>    0.025</td> <td>    4.304</td> <td> 0.000</td> <td>    0.057</td> <td>    0.154</td>\n",
       "</tr>\n",
       "<tr>\n",
       "  <th>word_freq_zh</th>           <td>    0.0986</td> <td>    0.022</td> <td>    4.396</td> <td> 0.000</td> <td>    0.055</td> <td>    0.143</td>\n",
       "</tr>\n",
       "<tr>\n",
       "  <th>cs_word_length_zh</th>      <td>    0.1153</td> <td>    0.023</td> <td>    4.966</td> <td> 0.000</td> <td>    0.070</td> <td>    0.161</td>\n",
       "</tr>\n",
       "<tr>\n",
       "  <th>sentence_length_zh</th>     <td>    0.1182</td> <td>    0.018</td> <td>    6.525</td> <td> 0.000</td> <td>    0.083</td> <td>    0.154</td>\n",
       "</tr>\n",
       "</table>\n",
       "<table class=\"simpletable\">\n",
       "<tr>\n",
       "  <th>Omnibus:</th>       <td>11604.677</td> <th>  Durbin-Watson:     </th> <td>   0.085</td>\n",
       "</tr>\n",
       "<tr>\n",
       "  <th>Prob(Omnibus):</th>  <td> 0.000</td>   <th>  Jarque-Bera (JB):  </th> <td> 414.854</td>\n",
       "</tr>\n",
       "<tr>\n",
       "  <th>Skew:</th>           <td> 0.001</td>   <th>  Prob(JB):          </th> <td>8.24e-91</td>\n",
       "</tr>\n",
       "<tr>\n",
       "  <th>Kurtosis:</th>       <td> 1.163</td>   <th>  Cond. No.          </th> <td>    3.71</td>\n",
       "</tr>\n",
       "</table><br/><br/>Notes:<br/>[1] Standard Errors assume that the covariance matrix of the errors is correctly specified."
      ],
      "text/plain": [
       "<class 'statsmodels.iolib.summary.Summary'>\n",
       "\"\"\"\n",
       "                            OLS Regression Results                            \n",
       "==============================================================================\n",
       "Dep. Variable:          code_switched   R-squared:                       0.042\n",
       "Model:                            OLS   Adj. R-squared:                  0.040\n",
       "Method:                 Least Squares   F-statistic:                     25.79\n",
       "Date:                Wed, 15 Sep 2021   Prob (F-statistic):           1.47e-25\n",
       "Time:                        14:50:12   Log-Likelihood:                -2079.3\n",
       "No. Observations:                2952   AIC:                             4171.\n",
       "Df Residuals:                    2946   BIC:                             4207.\n",
       "Df Model:                           5                                         \n",
       "Covariance Type:            nonrobust                                         \n",
       "==========================================================================================\n",
       "                             coef    std err          t      P>|t|      [0.025      0.975]\n",
       "------------------------------------------------------------------------------------------\n",
       "Intercept                  0.4669      0.012     39.080      0.000       0.443       0.490\n",
       "C(cs_word_pos_zh)[T.1]     0.0589      0.026      2.236      0.025       0.007       0.111\n",
       "C(cs_word_pos_zh)[T.2]     0.1055      0.025      4.304      0.000       0.057       0.154\n",
       "word_freq_zh               0.0986      0.022      4.396      0.000       0.055       0.143\n",
       "cs_word_length_zh          0.1153      0.023      4.966      0.000       0.070       0.161\n",
       "sentence_length_zh         0.1182      0.018      6.525      0.000       0.083       0.154\n",
       "==============================================================================\n",
       "Omnibus:                    11604.677   Durbin-Watson:                   0.085\n",
       "Prob(Omnibus):                  0.000   Jarque-Bera (JB):              414.854\n",
       "Skew:                           0.001   Prob(JB):                     8.24e-91\n",
       "Kurtosis:                       1.163   Cond. No.                         3.71\n",
       "==============================================================================\n",
       "\n",
       "Notes:\n",
       "[1] Standard Errors assume that the covariance matrix of the errors is correctly specified.\n",
       "\"\"\""
      ]
     },
     "execution_count": 77,
     "metadata": {},
     "output_type": "execute_result"
    }
   ],
   "source": [
    "import statsmodels.api as sm \n",
    "import statsmodels.formula.api as smf\n",
    "model = smf.ols(formula=\"code_switched ~ word_freq_zh + C(cs_word_pos_zh) + cs_word_length_zh + sentence_length_zh\",data=without_surp_final_new).fit() \n",
    "model.summary()"
   ]
  },
  {
   "cell_type": "code",
   "execution_count": 78,
   "metadata": {},
   "outputs": [],
   "source": [
    "# from sklearn import linear_model\n",
    "# reg = linear_model.LassoLarsIC(criterion='aic')\n",
    "# reg.fit(X_train, y_train)\n",
    "# #LassoLarsIC(criterion='aic')\n",
    "# print(reg.criterion_)\n",
    "# print(\"mean: \" + str(np.mean(reg.criterion_)))\n",
    "# print(\"min: \" + str(np.amin(reg.criterion_)))"
   ]
  },
  {
   "cell_type": "code",
   "execution_count": 79,
   "metadata": {},
   "outputs": [],
   "source": [
    "# from sklearn import linear_model\n",
    "# reg = linear_model.LassoLarsIC(criterion='bic')\n",
    "# reg.fit(X_train, y_train)\n",
    "# #LassoLarsIC(criterion='aic')\n",
    "# print(reg.criterion_)\n",
    "# print(\"mean: \" + str(np.mean(reg.criterion_)))\n",
    "# print(\"min: \" + str(np.amin(reg.criterion_)))"
   ]
  },
  {
   "cell_type": "code",
   "execution_count": null,
   "metadata": {},
   "outputs": [],
   "source": []
  },
  {
   "cell_type": "code",
   "execution_count": 80,
   "metadata": {},
   "outputs": [],
   "source": [
    "# num_params = len(clf.coef_) + 1\n",
    "# print('Number of parameters: %d' % (num_params))\n",
    "\n",
    "# # calculate the error\n",
    "# #mse = mean_squared_error(y_test, y_pred)\n",
    "# #print('MSE: %.3f' % mse)\n",
    "\n",
    "# # https://www.reddit.com/r/statistics/comments/5h2rbw/does_python_have_a_package_for_aicbic/\n",
    "# #resid = y_test - y_pred\n",
    "# #sse = sum(resid**2)\n",
    "# #print('SSE: %.3f' % sse)\n",
    "\n",
    "# from sklearn.metrics import log_loss\n",
    "# ll = -log_loss(y_test, y_pred)*len(y_test)\n",
    "# print('log likelihood: %.3f' % ll)"
   ]
  },
  {
   "cell_type": "code",
   "execution_count": 177,
   "metadata": {},
   "outputs": [],
   "source": [
    "import math"
   ]
  },
  {
   "cell_type": "code",
   "execution_count": 178,
   "metadata": {},
   "outputs": [],
   "source": [
    "# # calculate aic for regression\n",
    "# def calculate_aic(n, ll, num_params):\n",
    "#     aic = 2*num_params - 2*ll\n",
    "#     return aic"
   ]
  },
  {
   "cell_type": "code",
   "execution_count": 179,
   "metadata": {},
   "outputs": [
    {
     "data": {
      "text/plain": [
       "26115.550036196953"
      ]
     },
     "execution_count": 179,
     "metadata": {},
     "output_type": "execute_result"
    }
   ],
   "source": [
    "# calculate_aic(len(y_train), ll, num_params)"
   ]
  },
  {
   "cell_type": "code",
   "execution_count": 180,
   "metadata": {},
   "outputs": [],
   "source": [
    "# # calculate bic for regression\n",
    "# def calculate_bic(n, ll, num_params):\n",
    "#     bic = num_params * math.log(n) - 2 * ll  #TODO: minus term ??\n",
    "#     return bic"
   ]
  },
  {
   "cell_type": "code",
   "execution_count": 181,
   "metadata": {},
   "outputs": [
    {
     "data": {
      "text/plain": [
       "26126.816775496314"
      ]
     },
     "execution_count": 181,
     "metadata": {},
     "output_type": "execute_result"
    }
   ],
   "source": [
    "# calculate_bic(len(y_train), ll, num_params)"
   ]
  },
  {
   "cell_type": "code",
   "execution_count": 81,
   "metadata": {},
   "outputs": [],
   "source": [
    "from sklearn.model_selection import cross_validate\n",
    "import numpy as np"
   ]
  },
  {
   "cell_type": "code",
   "execution_count": 82,
   "metadata": {},
   "outputs": [
    {
     "name": "stdout",
     "output_type": "stream",
     "text": [
      "mean test accuracy: 0.5806229958772332\n",
      "mean test f1: 0.5714710128775468\n",
      "mean test f1 macro: 0.5801547398849987\n",
      "mean test f1 micro: 0.5806229958772332\n"
     ]
    }
   ],
   "source": [
    "result = cross_validate( # perform cross-validation\n",
    "        clf, # classifier object\n",
    "        X, # feature matrix\n",
    "        y, # gold labels\n",
    "        cv=10, #number of folds\n",
    "        scoring=['accuracy', 'f1', 'f1_macro', 'f1_micro'] # scoring methods\n",
    "    )\n",
    "print('mean test accuracy: ' + str(np.mean(result['test_accuracy'])))\n",
    "print('mean test f1: ' + str(np.mean(result['test_f1'])))\n",
    "print('mean test f1 macro: ' + str(np.mean(result['test_f1_macro'])))\n",
    "print('mean test f1 micro: ' + str(np.mean(result['test_f1_micro'])))"
   ]
  },
  {
   "cell_type": "code",
   "execution_count": 83,
   "metadata": {},
   "outputs": [],
   "source": [
    "# # number of parameters\n",
    "# num_params = len(clf.coef_) + 1\n",
    "# print('Number of parameters: %d' % (num_params))\n",
    "# # predict the training set\n",
    "# yhat = clf.predict(X)\n",
    "# # calculate the error\n",
    "# ll = -log_loss(y_test, y_pred)*len(y_test)\n",
    "# print('LL: %.3f' % ll)\n",
    "# # calculate the aic\n",
    "# aic = calculate_aic(len(y), ll, num_params)\n",
    "# print('AIC: %.3f' % aic)\n",
    "# bic = calculate_bic(len(y), ll, num_params)\n",
    "# print('BIC: %.3f' % bic)"
   ]
  },
  {
   "cell_type": "code",
   "execution_count": null,
   "metadata": {},
   "outputs": [],
   "source": []
  },
  {
   "cell_type": "code",
   "execution_count": null,
   "metadata": {},
   "outputs": [],
   "source": []
  },
  {
   "cell_type": "code",
   "execution_count": 84,
   "metadata": {},
   "outputs": [],
   "source": [
    "calvillo_surp = all_data[['word_freq_zh', 'cs_word_length_zh', 'sentence_length_zh', 'ngram_surp_zh', 'dep_surp_zh', 'code_switched']]\n",
    "calvillo_surp['cs_word_pos_zh'] = as_ints\n",
    "cs_file = open(\"cs_surprisal_calvillo.txt\", \"r\")\n",
    "cs_list = cs_file.readlines()\n",
    "non_cs_file = open(\"non_cs_surprisal_calvillo.txt\", \"r\")\n",
    "non_cs_list = non_cs_file.readlines()\n",
    "cs_list.extend(non_cs_list)"
   ]
  },
  {
   "cell_type": "code",
   "execution_count": 85,
   "metadata": {},
   "outputs": [
    {
     "name": "stdout",
     "output_type": "stream",
     "text": [
      "['6.100998\\n', '6.527233\\n', '5.512905\\n', '5.210801\\n', '4.488641\\n', '5.750101\\n', '5.82538\\n', '5.42058\\n', '5.679813\\n', '4.276497\\n', '5.355831\\n', '3.668677\\n', '3.454723\\n', '5.015528\\n', '10.16642\\n', '4.612996\\n', '6.825455\\n', '4.537052\\n', '2.547122\\n', '5.679086\\n', '5.297529\\n', '6.251147\\n', '5.143289\\n', '5.886802\\n', '5.668503\\n', '4.854201\\n', '4.489005\\n', '5.512905\\n', '5.924223\\n', '5.26434\\n', '6.455507\\n', '5.869847\\n', '2.791026\\n', '10.16642\\n', '4.005742\\n', '5.853029\\n', '2.684045\\n', '3.890894\\n', '2.08277\\n', '5.637844\\n', '5.390434\\n', '4.955325\\n', '6.527233\\n', '3.559633\\n', '4.866854\\n', '4.384405\\n', '4.671109\\n', '3.864295\\n', '10.16642\\n', '6.825455\\n', '3.005598\\n', '6.517437\\n', '8.677697\\n', '8.976678\\n', '5.55037\\n', '5.249349\\n', '2.768356\\n', '4.39348\\n', '3.673991\\n', '2.93414\\n', '3.011078\\n', '5.688997\\n', '4.538711\\n', '3.760217\\n', '1.578519\\n', '3.264341\\n', '4.118957\\n', '3.864295\\n', '10.16642\\n', '4.121259\\n', '4.421189\\n', '3.223251\\n', '3.227555\\n', '3.119623\\n', '6.527233\\n', '3.927536\\n', '4.834916\\n', '3.934701\\n', '6.100998\\n', '4.429139\\n', '4.992622\\n', '5.415995\\n', '5.359092\\n', '4.337596\\n', '4.358755\\n', '6.138847\\n', '6.147059\\n', '5.512905\\n', '5.272995\\n', '4.937533\\n', '3.59865\\n', '3.065036\\n', '5.269963\\n', '5.578571\\n', '3.606416\\n', '4.876083\\n', '4.436532\\n', '4.404717\\n', '6.380635\\n', '2.530956\\n', '4.281219\\n', '5.903054\\n', '5.305063\\n', '3.810331\\n', '4.450145\\n', '5.326414\\n', '4.263064\\n', '4.488641\\n', '4.131502\\n', '4.488641\\n', '4.537464\\n', '1.554753\\n', '3.301296\\n', '6.2687\\n', '7.021648\\n', '5.961693\\n', '5.512905\\n', '5.512905\\n', '2.986791\\n', '10.16642\\n', '4.996511\\n', '4.659988\\n', '5.15765\\n', '3.145452\\n', '3.133021\\n', '5.075267\\n', '4.221861\\n', '5.702331\\n', '3.845299\\n', '4.683982\\n', '6.088486\\n', '5.174943\\n', '3.03625\\n', '4.488641\\n', '1.397776\\n', '4.719745\\n', '5.081351\\n', '4.088296\\n', '5.326414\\n', '3.590099\\n', '4.488641\\n', '6.358877\\n', '3.483315\\n', '5.914914\\n', '4.671109\\n', '6.088486\\n', '6.527233\\n', '4.876083\\n', '5.080124\\n', '4.181838\\n', '4.084231\\n', '7.403087\\n', '4.946085\\n', '5.512905\\n', '5.594873\\n', '5.144928\\n', '5.77\\n', '3.404197\\n', '5.538621\\n', '3.864064\\n', '5.415995\\n', '4.220435\\n', '7.301135\\n', '5.888831\\n', '6.178854\\n', '4.876083\\n', '6.094264\\n', '10.16642\\n', '3.800305\\n', '4.537464\\n', '3.420506\\n', '5.512905\\n', '3.343758\\n', '3.343758\\n', '2.62365\\n', '5.423412\\n', '5.177113\\n', '4.297133\\n', '5.495746\\n', '4.587765\\n', '6.115328\\n', '3.914751\\n', '4.206208\\n', '4.228421\\n', '5.57337\\n', '3.563777\\n', '4.772542\\n', '4.724356\\n', '3.626885\\n', '3.658574\\n', '5.909695\\n', '5.033697\\n', '7.100443\\n', '4.139124\\n', '3.830845\\n', '5.512905\\n', '4.002137\\n', '5.455238\\n', '3.733549\\n', '3.559633\\n', '5.110065\\n', '6.264979\\n', '4.206861\\n', '4.601481\\n', '3.587335\\n', '5.659501\\n', '2.467901\\n', '5.14314\\n', '4.410786\\n', '4.209426\\n', '10.16642\\n', '2.981155\\n', '3.559633\\n', '3.604453\\n', '4.496676\\n', '5.665248\\n', '4.512905\\n', '4.496676\\n', '5.512905\\n', '6.50072\\n', '5.512905\\n', '5.716825\\n', '5.678431\\n', '3.269186\\n', '10.16642\\n', '1.861383\\n', '4.638225\\n', '2.467901\\n', '3.576472\\n', '5.512905\\n', '10.16642\\n', '4.161059\\n', '4.876083\\n', '4.383199\\n', '10.16642\\n', '5.532593\\n', '5.222178\\n', '3.349567\\n', '5.14314\\n', '4.421189\\n', '4.484969\\n', '4.302052\\n', '3.81869\\n', '5.427289\\n', '4.601481\\n', '6.088486\\n', '4.843898\\n', '5.148231\\n', '5.158843\\n', '3.559633\\n', '5.385402\\n', '3.297745\\n', '2.98363\\n', '5.553582\\n', '5.512905\\n', '5.512905\\n', '1.888901\\n', '5.30969\\n', '4.472295\\n', '2.674586\\n', '6.277512\\n', '4.638225\\n', '5.313343\\n', '5.526434\\n', '6.764964\\n', '5.831292\\n', '2.506136\\n', '4.046533\\n', '6.527233\\n', '4.876666\\n', '4.011328\\n', '4.962552\\n', '5.178407\\n', '4.638225\\n', '4.662992\\n', '4.438001\\n', '5.681326\\n', '3.223251\\n', '3.959629\\n', '6.258925\\n', '6.842975\\n', '5.154819\\n', '5.876655\\n', '5.512905\\n', '5.980581\\n', '3.589139\\n', '3.534657\\n', '4.876083\\n', '4.876083\\n', '4.876083\\n', '4.199262\\n', '6.264486\\n', '2.561573\\n', '5.11659\\n', '5.823377\\n', '4.577792\\n', '5.512905\\n', '2.931971\\n', '2.284431\\n', '4.465277\\n', '5.612399\\n', '6.102458\\n', '5.020321\\n', '2.081272\\n', '5.249664\\n', '4.338129\\n', '5.913692\\n', '6.326181\\n', '5.913692\\n', '5.371221\\n', '3.863244\\n', '5.304675\\n', '6.181467\\n', '7.042348\\n', '4.638316\\n', '5.518126\\n', '5.445959\\n', '7.141381\\n', '5.512905\\n', '5.192371\\n', '4.638225\\n', '3.640095\\n', '4.772542\\n', '4.638225\\n', '6.100998\\n', '5.910038\\n', '5.067971\\n', '4.404566\\n', '4.508268\\n', '3.930708\\n', '1.518245\\n', '2.891236\\n', '5.445959\\n', '4.24185\\n', '4.206861\\n', '6.293819\\n', '5.336593\\n', '6.697114\\n', '6.482378\\n', '5.53607\\n', '5.415995\\n', '2.913393\\n', '5.46365\\n', '6.659365\\n', '5.050276\\n', '4.088296\\n', '5.638717\\n', '2.995391\\n', '5.887334\\n', '4.864025\\n', '5.845643\\n', '5.637844\\n', '5.887334\\n', '4.368162\\n', '5.481262\\n', '5.512905\\n', '5.298928\\n', '3.308426\\n', '5.980581\\n', '6.482378\\n', '4.83101\\n', '4.047126\\n', '3.576472\\n', '4.559043\\n', '5.518568\\n', '2.931971\\n', '6.527233\\n', '3.685026\\n', '5.462672\\n', '3.640472\\n', '4.876083\\n', '5.822628\\n', '5.073573\\n', '3.604091\\n', '6.527233\\n', '3.576472\\n', '6.258925\\n', '2.866686\\n', '2.255724\\n', '5.714447\\n', '3.982061\\n', '5.253285\\n', '5.512905\\n', '4.882114\\n', '5.512905\\n', '5.512905\\n', '5.512905\\n', '3.904228\\n', '2.538382\\n', '5.837269\\n', '1.554753\\n', '6.806502\\n', '6.273599\\n', '7.268284\\n', '5.637844\\n', '1.930035\\n', '4.449072\\n', '5.023885\\n', '4.23925\\n', '6.23336\\n', '3.459783\\n', '7.032408\\n', '2.031844\\n', '5.423822\\n', '3.082978\\n', '3.977373\\n', '6.185282\\n', '1.785817\\n', '4.338941\\n', '6.833385\\n', '2.335333\\n', '6.263335\\n', '4.082415\\n', '2.866686\\n', '5.80553\\n', '6.352384\\n', '4.686942\\n', '3.459783\\n', '4.03784\\n', '3.706159\\n', '7.923953\\n', '3.760455\\n', '3.897949\\n', '5.854165\\n', '3.647154\\n', '4.220335\\n', '6.088486\\n', '5.512905\\n', '5.22726\\n', '4.638225\\n', '5.177113\\n', '4.398561\\n', '4.496676\\n', '6.039266\\n', '5.043941\\n', '4.74785\\n', '3.444907\\n', '5.735576\\n', '5.938936\\n', '5.26434\\n', '3.134434\\n', '2.866686\\n', '6.181126\\n', '5.291057\\n', '5.512905\\n', '5.488832\\n', '2.963633\\n', '3.375618\\n', '5.706994\\n', '3.119623\\n', '4.220335\\n', '5.883157\\n', '5.767606\\n', '4.740093\\n', '4.165446\\n', '6.17388\\n', '6.258925\\n', '4.508268\\n', '4.023911\\n', '1.405403\\n', '3.525658\\n', '5.192371\\n', '5.133173\\n', '7.578407\\n', '6.527233\\n', '2.529841\\n', '3.53619\\n', '3.525658\\n', '3.731112\\n', '4.836417\\n', '4.751098\\n', '4.267184\\n', '3.881699\\n', '4.023911\\n', '5.068586\\n', '5.114319\\n', '5.437181\\n', '4.462133\\n', '5.183459\\n', '6.711291\\n', '4.315778\\n', '5.648571\\n', '6.91403\\n', '1.672098\\n', '4.984299\\n', '3.559633\\n', '4.964067\\n', '5.614219\\n', '3.215541\\n', '4.547481\\n', '3.616543\\n', '3.960525\\n', '3.61606\\n', '6.435623\\n', '3.952648\\n', '6.939352\\n', '5.72283\\n', '6.942991\\n', '5.034184\\n', '5.144928\\n', '5.979373\\n', '6.237377\\n', '4.881539\\n', '6.181999\\n', '5.550694\\n', '6.236118\\n', '3.552248\\n', '6.505155\\n', '3.563109\\n', '10.16642\\n', '5.894077\\n', '4.958834\\n', '4.872859\\n', '4.625486\\n', '4.618998\\n', '3.795014\\n', '6.457283\\n', '6.527233\\n', '5.455238\\n', '4.551347\\n', '4.828659\\n', '3.407544\\n', '3.334486\\n', '3.685662\\n', '4.512905\\n', '3.655953\\n', '3.197179\\n', '6.592432\\n', '5.688997\\n', '5.384851\\n', '3.989332\\n', '3.563109\\n', '6.025938\\n', '5.942708\\n', '6.833802\\n', '6.934647\\n', '3.563109\\n', '6.215405\\n', '6.274471\\n', '4.340703\\n', '4.821919\\n', '6.930725\\n', '4.826491\\n', '5.995005\\n', '2.679652\\n', '4.512905\\n', '3.837258\\n', '5.512905\\n', '3.685662\\n', '3.942154\\n', '5.060042\\n', '5.450413\\n', '3.655953\\n', '4.386018\\n', '6.137432\\n', '4.772542\\n', '5.255599\\n', '6.497606\\n', '4.772542\\n', '10.16642\\n', '4.772542\\n', '3.832696\\n', '3.774104\\n', '3.474481\\n', '4.772542\\n', '3.90725\\n', '4.228883\\n', '5.673716\\n', '4.390639\\n', '4.00363\\n', '4.488283\\n', '5.242066\\n', '6.223718\\n', '6.326893\\n', '5.79179\\n', '4.502046\\n', '4.095774\\n', '5.722567\\n', '4.501452\\n', '3.556999\\n', '3.318257\\n', '5.553385\\n', '4.638446\\n', '4.683601\\n', '2.126294\\n', '4.910845\\n', '4.968927\\n', '3.794274\\n', '6.857709\\n', '5.001022\\n', '4.782952\\n', '7.012242\\n', '3.459783\\n', '6.46239\\n', '2.913393\\n', '4.642157\\n', '5.313958\\n', '3.243527\\n', '7.253771\\n', '4.376752\\n', '5.146537\\n', '5.675975\\n', '7.234301\\n', '6.326181\\n', '3.940942\\n', '4.294359\\n', '3.459267\\n', '1.903363\\n', '6.165354\\n', '2.608369\\n', '4.586547\\n', '5.43104\\n', '6.583177\\n', '6.775237\\n', '4.769732\\n', '5.779892\\n', '2.585954\\n', '4.724356\\n', '4.583487\\n', '4.778935\\n', '3.991114\\n', '5.027526\\n', '7.253771\\n', '2.891236\\n', '2.919932\\n', '4.100225\\n', '4.404566\\n', '4.662291\\n', '6.186459\\n', '6.304888\\n', '7.042348\\n', '2.184703\\n', '5.211875\\n', '3.75513\\n', '4.086764\\n', '10.16642\\n', '7.042348\\n', '5.256328\\n', '6.730993\\n', '1.99802\\n', '3.600628\\n', '2.737488\\n', '2.366728\\n', '5.742532\\n', '6.156917\\n', '6.744349\\n', '4.366563\\n', '5.905314\\n', '2.831261\\n', '3.634527\\n', '3.136046\\n', '4.525074\\n', '7.144316\\n', '6.100998\\n', '6.521814\\n', '5.341364\\n', '6.522281\\n', '2.715695\\n', '5.685495\\n', '6.77676\\n', '5.162904\\n', '5.523874\\n', '4.974645\\n', '4.394922\\n', '3.318794\\n', '5.804013\\n', '4.919989\\n', '4.84448\\n', '4.401576\\n', '4.739743\\n', '5.546258\\n', '3.40857\\n', '5.424779\\n', '5.047544\\n', '4.814597\\n', '4.674323\\n', '2.95925\\n', '2.924527\\n', '5.341364\\n', '4.512905\\n', '10.16642\\n', '5.525162\\n', '4.688188\\n', '2.349645\\n', '3.23301\\n', '6.107941\\n', '4.968927\\n', '7.008328\\n', '5.930875\\n', '2.913393\\n', '4.282973\\n', '4.377647\\n', '4.728459\\n', '5.413785\\n', '6.798115\\n', '6.910913\\n', '2.901312\\n', '5.147136\\n', '5.173761\\n', '4.429139\\n', '5.445959\\n', '6.540022\\n', '3.493844\\n', '5.804013\\n', '6.172625\\n', '7.413614\\n', '6.730993\\n', '6.522281\\n', '6.522281\\n', '3.405262\\n', '4.938874\\n', '4.269867\\n', '4.47856\\n', '6.41356\\n', '6.41356\\n', '3.261233\\n', '2.913393\\n', '4.297107\\n', '5.787686\\n', '4.3988\\n', '5.551439\\n', '5.249036\\n', '5.728327\\n', '3.831143\\n', '7.881351\\n', '3.34985\\n', '6.595922\\n', '3.283139\\n', '1.664642\\n', '7.393037\\n', '4.039402\\n', '7.15048\\n', '6.326181\\n', '4.932557\\n', '4.778432\\n', '5.060607\\n', '5.550694\\n', '4.252982\\n', '4.836212\\n', '4.559043\\n', '4.924175\\n', '3.97076\\n', '5.445959\\n', '6.249847\\n', '6.137981\\n', '5.387967\\n', '3.570026\\n', '4.821677\\n', '5.550694\\n', '5.267843\\n', '3.348191\\n', '3.43361\\n', '6.275635\\n', '4.89036\\n', '6.41356\\n', '7.154893\\n', '3.753317\\n', '8.374655\\n', '6.416388\\n', '3.685213\\n', '6.326181\\n', '6.867701\\n', '6.326181\\n', '1.680497\\n', '2.701857\\n', '3.619533\\n', '4.07143\\n', '7.042348\\n', '3.38471\\n', '6.644884\\n', '5.932368\\n', '7.24689\\n', '4.726901\\n', '4.625486\\n', '5.512905\\n', '6.41356\\n', '6.522281\\n', '6.960788\\n', '6.559615\\n', '6.41356\\n', '3.105886\\n', '5.445959\\n', '4.601481\\n', '5.659522\\n', '3.577481\\n', '3.674056\\n', '3.330224\\n', '4.55552\\n', '5.886802\\n', '1.861383\\n', '5.497938\\n', '2.7194\\n', '7.042348\\n', '4.91984\\n', '4.512905\\n', '4.653872\\n', '6.694888\\n', '4.900131\\n', '3.459783\\n', '3.695133\\n', '6.914603\\n', '5.293946\\n', '5.133284\\n', '2.913393\\n', '5.249664\\n', '2.791026\\n', '2.913393\\n', '5.455836\\n', '4.807052\\n', '6.53379\\n', '3.072015\\n', '4.071788\\n', '6.787073\\n', '2.913393\\n', '6.522281\\n', '7.094513\\n', '7.000842\\n', '6.157804\\n', '4.901193\\n', '5.512905\\n', '4.116708\\n', '4.442867\\n', '5.512905\\n', '6.040668\\n', '4.512905\\n', '4.424253\\n', '1.827289\\n', '4.582272\\n', '1.201702\\n', '10.16642\\n', '6.568513\\n', '3.122931\\n', '3.817411\\n', '3.817411\\n', '5.509313\\n', '7.000842\\n', '6.609499\\n', '5.264395\\n', '5.999271\\n', '10.16642\\n', '2.10583\\n', '2.061789\\n', '3.740597\\n', '2.982126\\n', '2.419952\\n', '1.766036\\n', '5.252024\\n', '7.254111\\n', '5.445959\\n', '4.81931\\n', '3.525658\\n', '6.166206\\n', '3.571846\\n', '6.593941\\n', '5.327549\\n', '4.876083\\n', '4.357051\\n', '5.488703\\n', '3.205886\\n', '5.667637\\n', '4.267264\\n', '5.974068\\n', '4.036667\\n', '5.861766\\n', '3.465894\\n', '2.218398\\n', '5.334851\\n', '6.74462\\n', '4.559043\\n', '3.685662\\n', '3.634527\\n', '5.349454\\n', '6.038034\\n', '5.739829\\n', '4.813935\\n', '4.9681\\n', '4.767524\\n', '3.68823\\n', '4.577203\\n', '3.23301\\n', '4.211319\\n', '6.522281\\n', '4.036286\\n', '3.563109\\n', '2.817367\\n', '6.593941\\n', '5.100725\\n', '10.16642\\n', '3.327741\\n', '4.880446\\n', '3.266571\\n', '4.220335\\n', '6.184818\\n', '2.913393\\n', '6.812957\\n', '6.522281\\n', '7.042348\\n', '7.042348\\n', '4.484496\\n', '5.008875\\n', '6.175538\\n', '4.939817\\n', '6.472453\\n', '5.194147\\n', '4.876083\\n', '5.05502\\n', '5.755764\\n', '4.991653\\n', '4.477268\\n', '3.266571\\n', '3.266571\\n', '6.340226\\n', '4.731552\\n', '3.350423\\n', '5.140481\\n', '4.363745\\n', '5.305063\\n', '4.294359\\n', '5.886802\\n', '6.066429\\n', '2.913393\\n', '3.897037\\n', '5.204655\\n', '4.759578\\n', '5.285901\\n', '6.769166\\n', '2.567153\\n', '5.022952\\n', '5.022952\\n', '6.199104\\n', '0.1383027\\n', '3.960525\\n', '4.40308\\n', '7.042348\\n', '5.506336\\n', '3.071047\\n', '4.911763\\n', '5.352758\\n', '6.085593\\n', '3.991114\\n', '3.537532\\n', '4.957821\\n', '5.605388\\n', '5.739749\\n', '3.991114\\n', '5.513812\\n', '4.504417\\n', '3.991114\\n', '4.121373\\n', '4.336275\\n', '2.743838\\n', '3.981673\\n', '5.655212\\n', '3.964624\\n', '4.496676\\n', '4.682935\\n', '4.141838\\n', '3.552491\\n', '5.076964\\n', '4.1294\\n', '4.530268\\n', '6.066429\\n', '3.991114\\n', '4.410765\\n', '3.453533\\n', '5.440218\\n', '3.661933\\n', '4.509191\\n', '5.739749\\n', '3.746648\\n', '4.461753\\n', '5.445959\\n', '4.932808\\n', '5.108314\\n', '6.251869\\n', '3.991114\\n', '4.260996\\n', '5.319911\\n', '4.185112\\n', '6.142672\\n', '3.645361\\n', '1.373926\\n', '4.729196\\n', '5.130783\\n', '5.116127\\n', '5.480459\\n', '6.08797\\n', '3.94647\\n', '4.613794\\n', '5.61336\\n', '5.243535\\n', '4.094051\\n', '4.776312\\n', '5.794796\\n', '5.671927\\n', '2.913393\\n', '3.530878\\n', '3.578778\\n', '7.042348\\n', '3.121864\\n', '5.324547\\n', '4.96504\\n', '3.392837\\n', '3.314783\\n', '5.683458\\n', '2.304299\\n', '3.231696\\n', '5.550694\\n', '6.722824\\n', '4.264419\\n', '5.518739\\n', '5.553385\\n', '5.498588\\n', '3.559633\\n', '5.598973\\n', '5.528428\\n', '5.637844\\n', '3.991114\\n', '0.9617177\\n', '5.550694\\n', '7.042348\\n', '5.230359\\n', '4.013315\\n', '2.932171\\n', '1.333217\\n', '5.976814\\n', '4.724013\\n', '6.299532\\n', '4.512905\\n', '5.391437\\n', '5.550694\\n', '5.550694\\n', '4.457101\\n', '5.976814\\n', '2.913393\\n', '3.007144\\n', '5.856031\\n', '5.971229\\n', '4.80855\\n', '3.178562\\n', '5.628761\\n', '4.837895\\n', '5.637844\\n', '4.166722\\n', '6.421391\\n', '7.042348\\n', '6.527233\\n', '2.063365\\n', '3.726925\\n', '6.166699\\n', '4.785952\\n', '4.376154\\n', '5.23974\\n', '5.605388\\n', '4.227435\\n', '2.677585\\n', '4.141838\\n', '4.494762\\n', '4.588415\\n', '6.088022\\n', '4.862995\\n', '4.779968\\n', '3.525944\\n', '4.348742\\n', '5.170699\\n', '3.634527\\n', '6.950929\\n', '3.213507\\n', '5.177113\\n', '3.726925\\n', '4.56374\\n', '4.974582\\n', '4.41043\\n', '3.991114\\n', '2.470317\\n', '5.170699\\n', '4.435731\\n', '5.42048\\n', '5.82591\\n', '4.663702\\n', '5.478792\\n', '2.162059\\n', '6.042623\\n', '4.413593\\n', '4.008888\\n', '5.858348\\n', '6.112878\\n', '3.409625\\n', '5.37397\\n', '5.564179\\n', '3.340613\\n', '5.553385\\n', '4.531228\\n', '6.063563\\n', '5.550694\\n', '3.924148\\n', '4.769631\\n', '5.683368\\n', '3.040295\\n', '3.623505\\n', '5.598848\\n', '6.85677\\n', '3.403617\\n', '4.32744\\n', '5.431099\\n', '4.472299\\n', '6.258925\\n', '5.012303\\n', '4.740093\\n', '5.688997\\n', '6.213409\\n', '5.041033\\n', '5.336814\\n', '5.454835\\n', '4.733068\\n', '4.102811\\n', '5.391193\\n', '3.225849\\n', '4.914045\\n', '5.976814\\n', '3.173045\\n', '4.141838\\n', '3.225849\\n', '5.91029\\n', '3.805676\\n', '4.467173\\n', '3.961718\\n', '3.882291\\n', '4.455366\\n', '3.786955\\n', '4.516351\\n', '4.938874\\n', '5.611223\\n', '3.991114\\n', '1.351109\\n', '3.617099\\n', '5.233401\\n', '4.095601\\n', '3.608845\\n', '4.609099\\n', '3.510118\\n', '3.527254\\n', '4.617417\\n', '3.960525\\n', '1.592732\\n', '4.293479\\n', '3.441834\\n', '4.64506\\n', '4.695585\\n', '3.559633\\n', '4.581965\\n', '5.513984\\n', '3.823509\\n', '1.782907\\n', '4.864564\\n', '3.070822\\n', '4.912446\\n', '5.510527\\n', '8.638811\\n', '4.527647\\n', '4.727805\\n', '5.365424\\n', '3.991114\\n', '3.136307\\n', '3.991114\\n', '5.361638\\n', '3.991114\\n', '5.750447\\n', '2.293972\\n', '3.303072\\n', '5.644895\\n', '5.249633\\n', '4.141838\\n', '3.665061\\n', '3.724456\\n', '5.007592\\n', '4.162316\\n', '6.251046\\n', '2.236027\\n', '3.213737\\n', '6.076741\\n', '6.527233\\n', '4.123935\\n', '4.584168\\n', '6.876338\\n', '4.209389\\n', '6.056702\\n', '5.037021\\n', '2.793817\\n', '4.992573\\n', '4.141838\\n', '3.272323\\n', '4.353259\\n', '5.512905\\n', '4.601481\\n', '3.608845\\n', '3.406417\\n', '4.98858\\n', '6.132369\\n', '6.224116\\n', '3.928151\\n', '3.782192\\n', '3.002454\\n', '3.61781\\n', '6.142554\\n', '7.042348\\n', '4.376154\\n', '5.987764\\n', '5.871642\\n', '3.005411\\n', '3.479455\\n', '6.100998\\n', '5.228036\\n', '4.621907\\n', '6.066429\\n', '5.108074\\n', '3.991114\\n', '6.462592\\n', '6.150895\\n', '4.735093\\n', '4.227761\\n', '5.987721\\n', '4.673008\\n', '3.470431\\n', '4.875108\\n', '4.176259\\n', '3.717324\\n', '3.98786\\n', '4.528366\\n', '5.512905\\n', '6.100998\\n', '4.908605\\n', '5.230359\\n', '5.445959\\n', '6.193977\\n', '4.498831\\n', '4.576115\\n', '5.637844\\n', '3.092003\\n', '5.034184\\n', '3.196169\\n', '4.514929\\n', '4.431534\\n', '4.881539\\n', '6.227233\\n', '3.413973\\n', '4.287075\\n', '6.272628\\n', '5.052323\\n', '3.294987\\n', '5.109433\\n', '5.478792\\n', '4.512905\\n', '4.964939\\n', '2.390614\\n', '3.136307\\n', '5.440048\\n', '5.127452\\n', '5.462672\\n', '3.736986\\n', '4.417162\\n', '4.491409\\n', '5.015528\\n', '3.395068\\n', '3.281963\\n', '5.242048\\n', '4.538711\\n', '4.717025\\n', '3.890857\\n', '5.679086\\n', '5.242048\\n', '3.18133\\n', '4.717025\\n', '6.088486\\n', '4.717025\\n', '1.681049\\n', '6.416388\\n', '6.136152\\n', '6.098844\\n', '6.825455\\n', '3.482888\\n', '4.564699\\n', '5.415995\\n', '4.512905\\n', '5.506878\\n', '3.453533\\n', '4.0924\\n', '5.197378\\n', '5.869847\\n', '3.149674\\n', '5.557152\\n', '3.453533\\n', '4.335979\\n', '2.988035\\n', '1.782907\\n', '2.905676\\n', '4.789209\\n', '6.242901\\n', '6.239007\\n', '4.234934\\n', '5.144928\\n', '3.455499\\n', '6.136152\\n', '10.16642\\n', '6.100998\\n', '5.7816\\n', '4.876083\\n', '5.086936\\n', '4.581378\\n', '3.092391\\n', '3.864295\\n', '4.591915\\n', '3.652972\\n', '4.823924\\n', '1.861383\\n', '3.227555\\n', '5.29259\\n', '4.64023\\n', '6.211772\\n', '5.144928\\n', '5.222569\\n', '6.53482\\n', '6.534501\\n', '5.249664\\n', '4.538711\\n', '6.416388\\n', '10.16642\\n', '6.754584\\n', '6.59303\\n', '4.320126\\n', '4.572973\\n', '6.697114\\n', '3.900547\\n', '2.988035\\n', '4.876083\\n', '4.575308\\n', '7.275246\\n', '4.069786\\n', '5.69368\\n', '2.875746\\n', '4.141838\\n', '3.453853\\n', '4.584012\\n', '5.104862\\n', '4.728764\\n', '4.859866\\n', '5.462672\\n', '5.249664\\n', '5.614315\\n', '5.071644\\n', '5.48145\\n', '5.6266\\n', '3.014365\\n', '6.158363\\n', '5.804013\\n', '5.57337\\n', '4.876083\\n', '4.876083\\n', '2.984932\\n', '5.050814\\n', '4.876083\\n', '5.003258\\n', '6.288294\\n', '4.79545\\n', '5.001022\\n', '5.603719\\n', '4.178074\\n', '4.996511\\n', '3.890857\\n', '2.715695\\n', '5.605337\\n', '6.2687\\n', '5.249664\\n', '5.535163\\n', '4.184821\\n', '6.17726\\n', '4.996511\\n', '2.214314\\n', '4.015134\\n', '5.210648\\n', '4.876083\\n', '5.79159\\n', '4.899632\\n', '4.101469\\n', '5.249664\\n', '5.249664\\n', '5.976814\\n', '4.512905\\n', '5.001022\\n', '4.631196\\n', '4.166455\\n', '3.03625\\n', '2.427818\\n', '6.850978\\n', '5.6266\\n', '5.001022\\n', '5.336814\\n', '4.186791\\n', '3.533635\\n', '6.100998\\n', '3.559633\\n', '4.890604\\n', '4.876083\\n', '4.031903\\n', '4.288312\\n', '5.984516\\n', '5.249664\\n', '4.02017\\n', '5.211875\\n', '3.666576\\n', '1.956393\\n', '5.136436\\n', '5.592087\\n', '5.78516\\n', '4.756492\\n', '2.988035\\n', '4.988169\\n', '4.606777\\n', '4.161664\\n', '6.640615\\n', '2.485252\\n', '4.876083\\n', '4.843208\\n', '5.033697\\n', '5.52434\\n', '6.326488\\n', '4.139124\\n', '4.505727\\n', '6.499616\\n', '5.44923\\n', '3.733549\\n', '4.002137\\n', '6.632114\\n', '5.249664\\n', '5.516693\\n', '4.65209\\n', '4.601481\\n', '3.587335\\n', '4.191067\\n', '6.800843\\n', '3.094163\\n', '3.653005\\n', '5.67375\\n', '4.693419\\n', '4.240284\\n', '5.14314\\n', '5.336814\\n', '4.526051\\n', '4.36452\\n', '5.0681\\n', '5.242048\\n', '3.878581\\n', '3.343758\\n', '4.564454\\n', '4.294359\\n', '5.336814\\n', '5.050814\\n', '5.976814\\n', '5.252966\\n', '4.143856\\n', '3.733095\\n', '5.081346\\n', '4.502182\\n', '3.45393\\n', '3.559633\\n', '4.411011\\n', '6.225535\\n', '5.252966\\n', '2.586953\\n', '5.073573\\n', '5.637844\\n', '4.135501\\n', '7.126464\\n', '5.155276\\n', '5.688997\\n', '4.349049', '5.150792\\n', '3.542832\\n', '5.512905\\n', '2.670942\\n', '6.139354\\n', '5.315138\\n', '5.286911\\n', '5.968187\\n', '4.676288\\n', '2.529841\\n', '4.206208\\n', '3.603207\\n', '1.797673\\n', '5.015528\\n', '3.569699\\n', '4.957035\\n', '4.359614\\n', '3.60461\\n', '5.091503\\n', '4.54617\\n', '4.138174\\n', '5.593042\\n', '4.197186\\n', '6.021914\\n', '3.467395\\n', '4.714108\\n', '6.276776\\n', '4.555141\\n', '4.139023\\n', '2.318286\\n', '0.7359536\\n', '4.202307\\n', '0.7193732\\n', '3.319821\\n', '3.498111\\n', '5.275565\\n', '4.825441\\n', '9.239466\\n', '5.314822\\n', '4.415995\\n', '4.453309\\n', '6.117574\\n', '5.269867\\n', '1.782907\\n', '10.16642\\n', '5.730052\\n', '5.090239\\n', '3.851872\\n', '6.321009\\n', '5.57867\\n', '3.530547\\n', '3.683476\\n', '5.336814\\n', '5.295212\\n', '5.212647\\n', '3.472625\\n', '3.177355\\n', '3.682665\\n', '5.974737\\n', '7.191186\\n', '3.891725\\n', '4.938874\\n', '4.139023\\n', '4.455366\\n', '0.9528666\\n', '4.908241\\n', '2.970476\\n', '4.150235\\n', '3.815936\\n', '4.965261\\n', '3.368194\\n', '4.601481\\n', '5.011079\\n', '4.112467\\n', '5.917243\\n', '3.601289\\n', '5.216013\\n', '3.935022\\n', '5.804013\\n', '3.713529\\n', '5.216425\\n', '7.042348\\n', '6.336519\\n', '5.266129\\n', '2.882913\\n', '4.407538\\n', '6.987455\\n', '5.415995\\n', '5.052742\\n', '2.387489\\n', '3.152754\\n', '5.797643\\n', '3.508206\\n', '5.057083\\n', '0.2787536\\n', '5.512905\\n', '4.436532\\n', '3.018765\\n', '5.749864\\n', '3.242331\\n', '5.368304\\n', '5.903054\\n', '6.342225\\n', '5.001022\\n', '3.171262\\n', '5.147136\\n', '6.730547\\n', '4.031432\\n', '4.319887\\n', '3.602391\\n', '2.007197\\n', '2.166815\\n', '5.388356\\n', '3.637847\\n', '4.342591\\n', '4.84882\\n', '5.886802\\n', '3.491162\\n', '3.786975\\n', '3.503337\\n', '6.432466\\n', '4.324008\\n', '5.449194\\n', '3.650755\\n', '3.009724\\n', '4.673843\\n', '3.282962\\n', '4.085718\\n', '10.16642\\n', '3.839375\\n', '2.875227\\n', '4.231148\\n', '3.413295\\n', '4.727766\\n', '1.397776\\n', '2.508555\\n', '6.035301\\n', '4.893116\\n', '4.559043\\n', '3.712234\\n', '4.727766\\n', '1.027837\\n', '3.483315\\n', '5.286911\\n', '6.521395\\n', '4.93294\\n', '5.177113\\n', '5.177113\\n', '3.992095\\n', '4.103456\\n', '5.336814\\n', '2.350056\\n', '4.242445\\n', '5.023885\\n', '3.839281\\n', '3.636162\\n', '3.086785\\n', '7.023388\\n', '5.360936\\n', '5.088325\\n', '5.114965\\n', '3.196478\\n', '5.316426\\n', '4.978076\\n', '4.99228\\n', '5.009804\\n', '5.737589\\n', '6.286405\\n', '4.422921\\n', '3.363507\\n', '2.471843\\n', '6.258925\\n', '1.862088\\n', '3.375618\\n', '4.172131\\n', '3.269134\\n', '6.482378\\n', '5.87194\\n', '5.926426\\n', '2.328403\\n', '4.623604\\n', '2.786988\\n', '4.513331\\n', '3.653591\\n', '4.764984\\n', '3.858803\\n', '4.809097\\n', '4.921245\\n', '3.75513\\n', '3.38338\\n', '5.149515\\n', '2.660233\\n', '4.877837\\n', '2.866686\\n', '1.910664\\n', '3.828978\\n', '5.512905\\n', '2.672611\\n', '1.725711\\n', '3.527501\\n', '7.477503\\n', '1.281343\\n', '3.145999\\n', '4.714\\n', '3.587335\\n', '4.487624\\n', '4.021057\\n', '2.922437\\n', '2.559916\\n', '5.863434\\n', '10.16642\\n', '6.232826\\n', '3.559633\\n', '5.298121\\n', '7.312246\\n', '5.643639\\n', '3.744676\\n', '3.59981\\n', '7.042348\\n', '4.910261\\n', '4.374603\\n', '5.441994\\n', '2.263747\\n', '3.677845\\n', '4.513152\\n', '3.527501\\n', '4.324809\\n', '2.684973\\n', '5.132039\\n', '5.512905\\n', '4.874402\\n', '3.504661\\n', '5.375941\\n', '4.531502\\n', '10.16642\\n', '3.908418\\n', '5.056071\\n', '3.751953\\n', '4.094051\\n', '3.462059\\n', '2.641584\\n', '4.876083\\n', '5.621417\\n', '6.090634\\n', '4.714\\n', '3.379827\\n', '3.990026\\n', '4.681575\\n', '3.483539\\n', '3.892704\\n', '3.420006\\n', '4.957655\\n', '3.026197\\n', '6.922195\\n', '1.958433\\n', '5.688997\\n', '1.864172\\n', '5.372682\\n', '2.8048\\n', '2.22763\\n', '1.726108\\n', '3.625495\\n', '3.567245\\n', '5.359474\\n', '4.864304\\n', '4.230927\\n', '2.065264\\n', '5.312498\\n', '5.050341\\n', '4.299169\\n', '3.740597\\n', '4.962552\\n', '3.555357\\n', '3.839375\\n', '4.601481\\n', '4.638225\\n', '6.385704\\n', '4.291936\\n', '5.512905\\n', '5.361638\\n', '7.375697\\n', '3.413104\\n', '5.369708\\n', '6.258925\\n', '4.473763\\n', '4.987065\\n', '3.557981\\n', '5.336814\\n', '5.177113\\n', '5.512905\\n', '4.24185\\n', '4.291669\\n', '2.529841\\n', '2.323381\\n', '6.283368\\n', '4.874833\\n', '6.100998\\n', '1.958433\\n', '3.396966\\n', '2.464\\n', '5.008214\\n', '5.300707\\n', '3.425148\\n', '3.260066\\n', '3.460137\\n', '3.472702\\n', '5.192529\\n', '5.211875\\n', '5.749864\\n', '4.672785\\n', '4.171039\\n', '5.192707\\n', '2.960311\\n', '2.791026\\n', '4.235178\\n', '5.103251\\n', '5.415995\\n', '5.021288\\n', '6.258925\\n', '5.30969\\n', '4.559043\\n', '3.843523\\n', '3.13938\\n', '4.93294\\n', '5.361638\\n', '5.474942\\n', '3.893368\\n', '4.478143\\n', '5.12835\\n', '1.758429\\n', '6.088486\\n', '4.271197\\n', '4.667807\\n', '4.090488\\n', '1.898269\\n', '5.19482\\n', '5.025593\\n', '5.517439\\n', '5.177113\\n', '6.101656\\n', '6.258925\\n', '4.934442\\n', '5.870231\\n', '6.870872\\n', '6.160491\\n', '6.264979\\n', '6.662772\\n', '3.708882\\n', '3.950738\\n', '5.017592\\n', '6.024314\\n', '6.258925\\n', '5.837965\\n', '1.576655\\n', '5.366072\\n', '3.982624\\n', '5.048492\\n', '5.907381\\n', '6.033879\\n', '5.688997\\n', '5.697905\\n', '3.802747\\n', '2.027837\\n', '1.819692\\n', '5.493213\\n', '1.424706\\n', '5.512905\\n', '4.213949\\n', '2.708676\\n', '3.045818\\n', '5.415995\\n', '5.577502\\n', '5.160723\\n', '2.968479\\n', '5.177113\\n', '2.027837\\n', '7.556441\\n', '3.616218\\n', '6.55762\\n', '1.947897\\n', '6.816213\\n', '6.265564\\n', '0.2688453\\n', '4.831961\\n', '5.804013\\n', '6.258925\\n', '5.336814\\n', '2.922148\\n', '4.349843\\n', '4.407309\\n', '2.932852\\n', '5.928325\\n', '6.265564\\n', '5.18769\\n', '6.258925\\n', '3.839375\\n', '5.886802\\n', '5.387967\\n', '3.53085\\n', '4.642884\\n', '3.459783\\n', '4.115567\\n', '5.780403\\n', '4.666039\\n', '10.16642\\n', '3.309845\\n', '5.476017\\n', '2.751204\\n', '3.605235\\n', '5.778859\\n', '0.8293038\\n', '5.10331\\n', '5.709723\\n', '5.32578\\n', '3.271806\\n', '5.754225\\n', '5.581821\\n', '4.576904\\n', '4.33548\\n', '10.16642\\n', '7.23572\\n', '3.160867\\n', '5.911765\\n', '4.600833\\n', '2.843912\\n', '4.007445\\n', '4.023629\\n', '5.512905\\n', '4.587482\\n', '4.714\\n', '5.144928\\n', '4.559682\\n', '4.93294\\n', '5.243498\\n', '4.041974\\n', '2.244241\\n', '3.80764\\n', '3.560552\\n', '6.176804\\n', '3.740597\\n', '4.908605\\n', '6.497606\\n', '5.816824\\n', '4.876083\\n', '4.02506\\n', '4.812099\\n', '6.383649\\n', '3.260066\\n', '5.044829\\n', '4.36937\\n', '4.031432\\n', '2.269805\\n', '5.092274\\n', '5.727164\\n', '4.165446\\n', '4.802315\\n', '5.512905\\n', '4.249573\\n', '4.428237\\n', '4.119545\\n', '3.896009\\n', '4.631747\\n', '3.847038\\n', '4.830349\\n', '4.678273\\n', '3.14846\\n', '1.336746\\n', '3.349567\\n', '6.008315\\n', '5.646014\\n', '4.186791\\n', '6.569965\\n', '4.62573\\n', '4.827569\\n', '3.16782\\n', '3.059669\\n', '4.08089\\n', '5.57337\\n', '4.02017\\n', '4.593196\\n', '3.206672\\n', '5.867042\\n', '5.730052\\n', '5.68988\\n', '4.023952\\n', '1.591452\\n', '5.533184\\n', '6.285533\\n', '5.499402\\n', '6.138847\\n', '2.332879\\n', '5.195367\\n', '3.078321\\n', '6.357095\\n', '3.774483\\n', '1.862088\\n', '6.132999\\n', '3.300632\\n', '4.325984\\n', '3.806757\\n', '4.738209\\n', '3.943918\\n', '2.07316\\n', '7.089008\\n', '5.550694\\n', '3.074245\\n', '2.541025\\n', '7.369845\\n', '2.715695\\n', '6.224311\\n', '5.567707\\n', '5.360633\\n', '4.87893\\n', '5.718851\\n', '3.152881\\n', '6.021773\\n', '4.93294\\n', '3.007416\\n', '2.297569\\n', '4.743929\\n', '6.258925\\n', '2.804218\\n', '4.010109\\n', '2.594807\\n', '4.495176\\n', '4.385015\\n', '4.034759\\n', '4.256775\\n', '5.177113\\n', '4.026357\\n', '4.436532\\n', '2.715695\\n', '1.44281\\n', '2.636363\\n', '6.776963\\n', '6.662246\\n', '3.923701\\n', '3.568832\\n', '7.384281\\n', '3.741679\\n', '3.231828\\n', '4.059626\\n', '5.395307\\n', '7.650272\\n', '2.988942\\n', '5.207676\\n', '4.181509\\n', '5.834678\\n', '1.827178\\n', '3.982136\\n', '1.58121\\n', '2.989478\\n', '2.581921\\n', '5.837241\\n', '4.298884\\n', '4.269867\\n', '3.705356\\n', '2.765824\\n', '5.023885\\n', '4.671128\\n', '4.317929\\n', '3.598791\\n', '6.200817\\n', '4.071715\\n', '7.042348\\n', '5.711429\\n', '5.544951\\n', '5.9717\\n', '1.572934\\n', '4.901608\\n', '4.6344\\n', '3.174659\\n', '5.919827\\n', '6.098178\\n', '5.56953\\n', '5.242862\\n', '5.402645\\n', '2.173965\\n', '7.233361\\n', '2.806824\\n', '7.600296\\n', '5.064209\\n', '2.604009\\n', '3.991114\\n', '4.667363\\n', '2.62365\\n', '5.500844\\n', '6.878836\\n', '3.329786\\n', '3.963934\\n', '3.732946\\n', '4.871182\\n', '3.459783\\n', '5.310722\\n', '5.471765\\n', '4.462481\\n', '4.931167\\n', '3.898927\\n', '5.288628\\n', '4.758442\\n', '5.67024\\n', '3.169028\\n', '3.865702\\n', '6.049763\\n', '2.236267\\n', '5.72083\\n', '6.537361\\n', '2.824252\\n', '4.719843\\n', '1.490694\\n', '2.467865\\n', '4.393182\\n', '4.726816\\n', '6.32341\\n', '4.382343\\n', '4.975889\\n', '2.137354\\n', '3.868257\\n', '2.823226\\n', '4.812341\\n', '3.991114\\n', '3.756382\\n', '3.673598\\n', '5.194149\\n', '6.700087\\n', '5.51093\\n', '5.680874\\n', '2.939512\\n', '3.08328\\n', '6.304888\\n', '5.976814\\n', '4.145401\\n', '5.54895\\n', '2.328403\\n', '3.282496\\n', '5.62763\\n', '2.624997\\n', '3.010141\\n', '4.878054\\n', '3.698313\\n', '3.664368\\n', '3.228458\\n', '3.513407\\n', '3.199998\\n', '4.239007\\n', '5.366252\\n', '4.938469\\n', '4.269936\\n', '6.939217\\n', '5.850079\\n', '2.119776\\n', '4.078532\\n', '5.286876\\n', '4.103536\\n', '5.108757\\n', '5.010684\\n', '6.466132\\n', '2.715695\\n', '1.436832\\n', '6.554926\\n', '4.980191\\n', '5.857466\\n', '5.654605\\n', '4.968598\\n', '4.5279\\n', '2.677585\\n', '5.387967\\n', '4.81336\\n', '4.059909\\n', '4.711652\\n', '3.080531\\n', '3.730716\\n', '5.047097\\n', '3.710929\\n', '3.749398\\n', '4.007273\\n', '2.95925\\n', '3.407142\\n', '4.954754\\n', '5.048018\\n', '10.16642\\n', '3.807642\\n', '5.397877\\n', '4.631102\\n', '4.080203\\n', '6.54336\\n', '4.834363\\n', '5.56722\\n', '5.443449\\n', '2.975052\\n', '4.841559\\n', '3.511709\\n', '5.639718\\n', '6.22302\\n', '3.647478\\n', '5.423903\\n', '4.578715\\n', '2.91076\\n', '3.444855\\n', '3.206016\\n', '5.336814\\n', '4.76313\\n', '3.048021\\n', '4.512905\\n', '4.058714\\n', '5.32788\\n', '5.37317\\n', '5.448643\\n', '4.293542\\n', '3.203472\\n', '4.103536\\n', '5.967913\\n', '5.006043\\n', '5.894908\\n', '5.243498\\n', '3.559633\\n', '1.801485\\n', '3.747625\\n', '6.102718\\n', '4.091987\\n', '6.649858\\n', '4.937639\\n', '3.284116\\n', '3.934163\\n', '2.483603\\n', '1.564991\\n', '4.956994\\n', '2.082347\\n', '3.241539\\n', '2.431823\\n', '4.870756\\n', '4.39627\\n', '5.249664\\n', '5.853106\\n', '3.206824\\n', '6.959419\\n', '4.6344\\n', '3.635656\\n', '5.807611\\n', '1.215996\\n', '2.954801\\n', '3.464675\\n', '6.258925\\n', '4.381517\\n', '3.815057\\n', '5.976814\\n', '3.495134\\n', '6.538589\\n', '5.387967\\n', '5.504305\\n', '3.348191\\n', '5.769597\\n', '3.807642\\n', '5.121713\\n', '5.627297\\n', '7.169563\\n', '5.159498\\n', '3.823725\\n', '5.617281\\n', '4.837259\\n', '3.535944\\n', '3.873029\\n', '5.387967\\n', '1.958263\\n', '2.337307\\n', '3.814234\\n', '6.965437\\n', '4.512905\\n', '2.368223\\n', '4.561074\\n', '5.289406\\n', '5.414315\\n', '2.028761\\n', '2.787659\\n', '5.035784\\n', '5.710355\\n', '5.385082\\n', '3.060609\\n', '2.833628\\n', '3.590351\\n', '7.568279\\n', '4.278219\\n', '4.801085\\n', '5.797432\\n', '3.722759\\n', '4.512905\\n', '5.090126\\n', '4.958656\\n', '5.886802\\n', '2.640898\\n', '3.933559\\n', '4.683982\\n', '4.705596\\n', '5.451374\\n', '10.16642\\n', '4.482876\\n', '4.481039\\n', '3.335339\\n', '3.459783\\n', '5.455143\\n', '2.296299\\n', '3.874692\\n', '5.330034\\n', '7.827159\\n', '4.404566\\n', '3.065489\\n', '6.334107\\n', '2.90506\\n', '5.368304\\n', '5.17567\\n', '2.315639\\n', '4.747086\\n', '6.842617\\n', '2.861468\\n', '3.956872\\n', '6.43881\\n', '2.843575\\n', '3.35005\\n', '4.205171\\n', '4.705596\\n', '4.493484\\n', '2.739851\\n', '7.042348\\n', '4.975889\\n', '5.637844\\n', '4.6974\\n', '1.215996\\n', '5.094895\\n', '1.300497\\n', '3.39245\\n', '5.415993\\n', '3.187247\\n', '3.944903\\n', '3.446329\\n', '6.037158\\n', '5.692889\\n', '4.153719\\n', '5.285302\\n', '2.799034\\n', '4.419669\\n', '8.909393\\n', '1.300497\\n', '4.908605\\n', '2.828869\\n', '3.529869\\n', '2.017354\\n', '4.616936\\n', '6.061111\\n', '5.886802\\n', '1.859339\\n', '0.763428\\n', '5.09566\\n', '3.687045\\n', '2.558302\\n', '4.02017\\n', '5.688997\\n', '1.893947\\n', '4.952722\\n', '3.366707\\n', '5.540351\\n', '5.849595\\n', '3.332541\\n', '4.795223\\n', '6.070632\\n', '2.358143\\n', '5.409674\\n', '4.226429\\n', '4.546859\\n', '3.666576\\n', '3.167125\\n', '3.559633\\n', '2.899895\\n', '5.366212\\n', '0.8906807\\n', '3.007416\\n', '4.486774\\n', '4.846991\\n', '5.594633\\n', '6.654813\\n', '1.632763\\n', '5.624542\\n', '6.812707\\n', '5.492324\\n', '2.715695\\n', '4.811299\\n', '5.319676\\n', '5.637844\\n', '5.657497\\n', '5.550694\\n', '4.391889\\n', '6.527233\\n', '4.769677\\n', '7.516955\\n', '4.473965\\n', '4.588761\\n', '3.18874\\n', '0.9513947\\n', '4.623604\\n', '4.855921\\n', '2.957097\\n', '3.734015\\n', '3.238657\\n', '4.315737\\n', '7.042348\\n', '6.527233\\n', '5.706023\\n', '5.339393\\n', '2.369944\\n', '2.030877\\n', '5.637844\\n', '4.461753\\n', '3.230293\\n', '5.471318\\n', '2.705751\\n', '5.736053\\n', '3.108125\\n', '1.215996\\n', '4.35484\\n', '5.512905\\n', '5.595847\\n', '2.552417\\n', '3.635602\\n', '3.834186\\n', '4.707379\\n', '5.001786\\n', '4.969377\\n', '0.8894775\\n', '1.215996\\n', '4.996357\\n', '4.29385\\n', '3.696367\\n', '5.989691\\n', '5.778605\\n', '2.954052\\n', '5.776873\\n', '4.488381\\n', '4.88266\\n', '10.16642\\n', '6.784038\\n', '5.160723\\n', '1.782907\\n', '2.503902\\n', '5.330644\\n', '6.309096\\n', '3.527254\\n', '6.180649\\n', '9.244851\\n', '3.991114\\n', '6.7877\\n', '4.465322\\n', '5.349587\\n', '3.423842\\n', '5.248631\\n', '5.363608\\n', '1.09466\\n', '3.68503\\n', '3.370151\\n', '7.895339\\n', '1.442318\\n', '4.092047\\n', '4.053398\\n', '5.738514\\n', '5.160723\\n', '5.165136\\n', '1.893947\\n', '3.656384\\n', '4.788839\\n', '5.06391\\n', '3.193218\\n', '2.287566\\n', '4.825929\\n', '4.813935\\n', '3.146612\\n', '4.475477\\n', '4.443304\\n', '3.991114\\n', '4.095411\\n', '2.981251\\n', '4.160962\\n', '6.080587\\n', '1.872884\\n', '5.665721\\n', '4.424233\\n', '2.415349\\n', '5.85985\\n', '3.038092\\n', '4.93294\\n', '2.572267\\n', '6.673646\\n', '5.450413\\n', '5.424819\\n', '3.778408\\n', '4.887163\\n', '3.477648\\n', '3.201342\\n', '6.192479\\n', '10.16642\\n', '5.1604\\n', '5.357115\\n', '3.812754\\n', '4.004359\\n', '5.215138\\n', '6.84291\\n', '4.308012\\n', '5.752383\\n', '5.577952\\n', '5.077458\\n', '3.589326\\n', '3.104778\\n', '5.498788\\n', '5.079518\\n', '3.051535\\n', '5.291938\\n', '4.834284\\n', '6.180668\\n', '4.820418\\n', '5.512905\\n', '3.991114\\n', '4.802516\\n', '5.012303\\n', '7.042348\\n', '6.973684\\n', '5.891401\\n', '6.558422\\n', '2.729771\\n', '5.249664\\n', '3.92809\\n', '3.810636\\n', '3.535944\\n', '3.39245\\n', '6.100998\\n', '5.637844\\n', '2.857784\\n', '5.050307\\n', '4.554679\\n', '2.215498\\n', '5.498046\\n', '4.126554\\n', '3.506074\\n', '3.807642\\n', '4.38795\\n', '3.968941\\n', '5.512905\\n', '3.282496\\n', '5.059582\\n', '5.211875\\n', '7.042348\\n', '6.024314\\n', '4.364404\\n', '4.90001\\n', '5.882037\\n', '5.839913\\n', '6.135005\\n', '5.88062\\n', '5.243552\\n', '3.23301\\n', '4.245734\\n', '6.567756\\n', '3.175941\\n', '3.791489\\n', '5.148231\\n', '5.036324\\n', '1.215996\\n', '6.141644\\n', '4.089425\\n', '3.62658\\n', '6.578857\\n', '4.332015\\n', '2.84047\\n', '3.95551\\n', '7.128324\\n', '3.59882\\n', '2.233733\\n', '3.991114\\n', '2.070961\\n', '3.876105\\n', '1.855519\\n', '4.694092\\n', '4.285534\\n', '3.927713\\n', '4.181208\\n', '2.416195\\n', '3.295206\\n', '2.706021\\n', '5.445959\\n', '3.532983\\n', '4.045928\\n', '2.642889\\n', '1.336922\\n', '5.161328\\n', '4.674986\\n', '4.218825\\n', '1.424706\\n', '4.310528\\n', '5.211875\\n', '2.499753\\n', '2.096447\\n', '3.52214\\n', '2.189631\\n', '2.229612\\n', '3.069355\\n', '4.984121\\n', '3.373586\\n', '6.783247\\n', '5.188261\\n', '4.784301\\n', '10.16642\\n', '3.007416\\n', '5.62523\\n', '5.114965\\n', '4.882011\\n', '2.653826\\n', '5.177113\\n', '5.375817\\n', '5.090126\\n', '3.489269\\n', '4.93294\\n', '4.162443\\n', '2.168397\\n', '3.39245\\n', '2.556168\\n', '4.390689\\n', '5.489405\\n', '3.244568\\n', '3.041535\\n', '1.811575\\n', '4.491746\\n', '5.118267\\n', '7.042348\\n', '5.116188\\n', '5.000535\\n', '4.73655\\n', '5.688997\\n', '3.991114\\n', '3.559633\\n', '1.874156\\n', '1.876958\\n', '5.710758\\n', '1.958433\\n', '5.354886\\n', '2.298853\\n', '3.527254\\n', '5.397934\\n', '4.994474\\n', '1.592732\\n', '5.220484\\n', '2.390052\\n', '4.861546\\n', '2.439893\\n', '5.850079\\n', '5.069696\\n', '3.736234\\n', '2.437647\\n', '3.258603\\n', '3.597105\\n', '2.609519\\n', '4.191337\\n', '4.456256\\n', '6.602502\\n', '4.085226\\n', '5.621417\\n', '5.833393\\n', '3.991114\\n', '3.223316\\n', '5.415995\\n', '5.804013\\n', '3.991114\\n', '8.933909\\n', '2.371021\\n', '5.354437\\n', '6.43939\\n', '2.97997\\n', '2.903667\\n', '3.571592\\n', '7.606293\\n', '1.425885\\n', '3.741033\\n', '4.483819\\n', '0.8893017\\n', '3.847038\\n', '3.485374\\n', '4.813935\\n', '1.386777\\n', '5.441453\\n', '7.59666\\n', '4.690016\\n', '4.867393\\n', '4.88372\\n', '3.411382\\n', '5.195172\\n', '4.592087\\n', '4.002871\\n', '3.231785\\n', '6.258925\\n', '3.379827\\n', '4.807052\\n', '3.038731\\n', '1.294716\\n', '4.952102\\n', '4.197186\\n', '5.243498\\n', '5.613821\\n', '3.309845\\n', '3.579035\\n', '2.245307\\n', '6.258925\\n', '5.662602\\n', '2.771045\\n', '4.047382\\n', '3.383542\\n', '4.676716\\n', '3.00123\\n', '6.318017\\n', '2.780244\\n', '5.689036\\n', '6.006706\\n', '3.991114\\n', '5.421134\\n', '4.051313\\n', '5.532707\\n', '4.980064\\n', '7.29757\\n', '6.312015\\n', '4.745053\\n', '4.859015\\n', '6.730547\\n', '3.454681\\n', '7.042348\\n', '4.504014\\n', '2.780981\\n', '4.584282\\n', '5.653597\\n', '4.876083\\n', '5.060607\\n', '3.362691\\n', '3.002697\\n', '4.385107\\n', '4.366777\\n', '4.087414\\n', '10.16642\\n', '4.273105\\n', '5.112469\\n', '4.034759\\n', '5.33323\\n', '1.215996\\n', '3.103395\\n', '4.181886\\n', '6.025728\\n', '3.923754\\n', '3.909417\\n', '3.476438\\n', '5.296191\\n', '4.495176\\n', '5.992186\\n', '5.056134\\n', '4.878173\\n', '6.782935\\n', '2.447441\\n', '4.312034\\n', '2.313351\\n', '2.534305\\n', '3.532633\\n', '5.015528\\n', '7.328381\\n', '5.419643\\n', '4.412605\\n', '4.139023\\n', '3.791489\\n', '2.449357\\n', '4.139023\\n', '1.17448\\n', '5.503773\\n', '5.211875\\n', '6.009189\\n', '4.876083\\n', '5.978599\\n', '4.909681\\n', '3.104099\\n', '4.641072\\n', '2.388865\\n', '2.297569\\n', '1.783384\\n', '7.042348\\n', '10.16642\\n', '4.600833\\n', '2.50873\\n', '3.007416\\n', '6.324916\\n', '4.926255\\n', '1.215996\\n', '5.014166\\n', '1.027837\\n', '3.565118\\n', '4.290257\\n', '3.559633\\n', '2.643518\\n', '3.637303\\n', '6.86123\\n', '6.091555\\n', '2.966612\\n', '5.512905\\n', '4.833142\\n', '4.592721\\n', '3.821517\\n', '4.142141\\n', '6.116401\\n', '4.477502\\n', '6.527233\\n', '4.395612\\n', '1.13234\\n', '4.24148\\n', '3.736707\\n', '3.72932\\n', '2.923896\\n', '3.348191\\n', '5.13382\\n', '2.916044\\n', '3.695387\\n', '5.21497\\n', '4.251642\\n', '4.295802\\n', '3.991039\\n', '6.32283\\n', '5.291057\\n', '4.139023\\n', '3.735536\\n', '6.527233\\n', '5.552943\\n', '4.600833\\n', '4.292982\\n', '3.266111\\n', '5.110075\\n', '4.083981\\n', '1.215996\\n', '5.445959\\n', '3.97816\\n', '4.195789\\n', '3.065194\\n', '2.812119\\n', '5.602846\\n', '4.361638\\n', '2.723898\\n', '4.256519\\n', '3.913923\\n', '4.728764\\n', '1.623803\\n', '6.58732\\n', '4.666342\\n', '1.647138\\n', '8.252538\\n', '3.639224\\n', '6.509985\\n', '4.859693\\n', '6.578857\\n', '3.490433\\n', '2.477455\\n', '6.482378\\n', '7.042348\\n', '2.550273\\n', '5.817555\\n', '5.415995\\n', '3.309845\\n', '3.309841\\n', '6.016404\\n', '7.042348\\n', '3.735536\\n', '3.334486\\n', '4.052651\\n', '2.664702\\n', '1.964248\\n', '6.262909\\n', '4.618186\\n', '4.008888\\n', '1.791265\\n', '4.778965\\n', '4.37211\\n', '5.051419\\n', '4.551036\\n', '1.212075\\n', '5.364155\\n', '3.847012\\n', '3.508568\\n', '3.649488\\n', '3.257329\\n', '4.55466\\n', '1.866841\\n', '3.881124\\n', '3.61248\\n', '6.527233\\n', '5.339626\\n', '4.916915\\n', '4.132297\\n', '2.421438\\n', '3.685819\\n', '5.483773\\n', '4.294359\\n', '5.592087\\n', '5.506791\\n', '6.037406\\n', '4.618958\\n', '3.362691\\n', '6.046133\\n', '4.583487\\n', '5.02475\\n', '1.322804\\n', '2.450604\\n', '5.86964\\n', '5.143538\\n', '4.461753\\n', '4.601481\\n', '3.747715\\n', '5.870231\\n', '5.432813\\n', '10.16642\\n', '6.088745\\n', '6.140035\\n', '1.790572\\n', '4.660875\\n', '5.527452\\n', '5.22023\\n', '5.435423\\n', '5.249664\\n', '4.290497\\n', '4.408037\\n', '2.306174\\n', '5.600069\\n', '4.116363\\n', '4.385261\\n', '2.7194\\n', '3.921674\\n', '0.6521524\\n', '5.177113\\n', '5.479183\\n', '4.785907\\n', '1.120384\\n', '5.786655\\n', '4.714\\n', '3.169497\\n', '4.601481\\n', '2.483603\\n', '2.954514\\n', '4.612644\\n', '3.447551\\n', '4.241282\\n', '5.099996\\n', '4.874833\\n', '7.042348\\n', '6.500275\\n', '2.934492\\n', '3.581041\\n', '2.846885\\n', '4.349954\\n', '2.830418\\n', '6.447871\\n', '2.899312\\n', '6.100998\\n', '4.784261\\n', '4.633045\\n', '5.15661\\n', '4.615265\\n', '4.612622\\n', '6.965437\\n', '8.677697\\n', '4.163704\\n', '5.309216\\n', '5.563706\\n', '6.318608\\n', '3.98079\\n', '9.272511\\n', '4.876083\\n', '5.637844\\n', '7.115524\\n', '7.057465\\n', '4.634985\\n', '3.604964\\n', '4.738753']\n"
     ]
    }
   ],
   "source": [
    "print(cs_list)"
   ]
  },
  {
   "cell_type": "code",
   "execution_count": 86,
   "metadata": {},
   "outputs": [
    {
     "name": "stdout",
     "output_type": "stream",
     "text": [
      "[6.100998, 6.527233, 5.512905, 5.210801, 4.488641, 5.750101, 5.82538, 5.42058, 5.679813, 4.276497, 5.355831, 3.668677, 3.454723, 5.015528, 10.16642, 4.612996, 6.825455, 4.537052, 2.547122, 5.679086, 5.297529, 6.251147, 5.143289, 5.886802, 5.668503, 4.854201, 4.489005, 5.512905, 5.924223, 5.26434, 6.455507, 5.869847, 2.791026, 10.16642, 4.005742, 5.853029, 2.684045, 3.890894, 2.08277, 5.637844, 5.390434, 4.955325, 6.527233, 3.559633, 4.866854, 4.384405, 4.671109, 3.864295, 10.16642, 6.825455, 3.005598, 6.517437, 8.677697, 8.976678, 5.55037, 5.249349, 2.768356, 4.39348, 3.673991, 2.93414, 3.011078, 5.688997, 4.538711, 3.760217, 1.578519, 3.264341, 4.118957, 3.864295, 10.16642, 4.121259, 4.421189, 3.223251, 3.227555, 3.119623, 6.527233, 3.927536, 4.834916, 3.934701, 6.100998, 4.429139, 4.992622, 5.415995, 5.359092, 4.337596, 4.358755, 6.138847, 6.147059, 5.512905, 5.272995, 4.937533, 3.59865, 3.065036, 5.269963, 5.578571, 3.606416, 4.876083, 4.436532, 4.404717, 6.380635, 2.530956, 4.281219, 5.903054, 5.305063, 3.810331, 4.450145, 5.326414, 4.263064, 4.488641, 4.131502, 4.488641, 4.537464, 1.554753, 3.301296, 6.2687, 7.021648, 5.961693, 5.512905, 5.512905, 2.986791, 10.16642, 4.996511, 4.659988, 5.15765, 3.145452, 3.133021, 5.075267, 4.221861, 5.702331, 3.845299, 4.683982, 6.088486, 5.174943, 3.03625, 4.488641, 1.397776, 4.719745, 5.081351, 4.088296, 5.326414, 3.590099, 4.488641, 6.358877, 3.483315, 5.914914, 4.671109, 6.088486, 6.527233, 4.876083, 5.080124, 4.181838, 4.084231, 7.403087, 4.946085, 5.512905, 5.594873, 5.144928, 5.77, 3.404197, 5.538621, 3.864064, 5.415995, 4.220435, 7.301135, 5.888831, 6.178854, 4.876083, 6.094264, 10.16642, 3.800305, 4.537464, 3.420506, 5.512905, 3.343758, 3.343758, 2.62365, 5.423412, 5.177113, 4.297133, 5.495746, 4.587765, 6.115328, 3.914751, 4.206208, 4.228421, 5.57337, 3.563777, 4.772542, 4.724356, 3.626885, 3.658574, 5.909695, 5.033697, 7.100443, 4.139124, 3.830845, 5.512905, 4.002137, 5.455238, 3.733549, 3.559633, 5.110065, 6.264979, 4.206861, 4.601481, 3.587335, 5.659501, 2.467901, 5.14314, 4.410786, 4.209426, 10.16642, 2.981155, 3.559633, 3.604453, 4.496676, 5.665248, 4.512905, 4.496676, 5.512905, 6.50072, 5.512905, 5.716825, 5.678431, 3.269186, 10.16642, 1.861383, 4.638225, 2.467901, 3.576472, 5.512905, 10.16642, 4.161059, 4.876083, 4.383199, 10.16642, 5.532593, 5.222178, 3.349567, 5.14314, 4.421189, 4.484969, 4.302052, 3.81869, 5.427289, 4.601481, 6.088486, 4.843898, 5.148231, 5.158843, 3.559633, 5.385402, 3.297745, 2.98363, 5.553582, 5.512905, 5.512905, 1.888901, 5.30969, 4.472295, 2.674586, 6.277512, 4.638225, 5.313343, 5.526434, 6.764964, 5.831292, 2.506136, 4.046533, 6.527233, 4.876666, 4.011328, 4.962552, 5.178407, 4.638225, 4.662992, 4.438001, 5.681326, 3.223251, 3.959629, 6.258925, 6.842975, 5.154819, 5.876655, 5.512905, 5.980581, 3.589139, 3.534657, 4.876083, 4.876083, 4.876083, 4.199262, 6.264486, 2.561573, 5.11659, 5.823377, 4.577792, 5.512905, 2.931971, 2.284431, 4.465277, 5.612399, 6.102458, 5.020321, 2.081272, 5.249664, 4.338129, 5.913692, 6.326181, 5.913692, 5.371221, 3.863244, 5.304675, 6.181467, 7.042348, 4.638316, 5.518126, 5.445959, 7.141381, 5.512905, 5.192371, 4.638225, 3.640095, 4.772542, 4.638225, 6.100998, 5.910038, 5.067971, 4.404566, 4.508268, 3.930708, 1.518245, 2.891236, 5.445959, 4.24185, 4.206861, 6.293819, 5.336593, 6.697114, 6.482378, 5.53607, 5.415995, 2.913393, 5.46365, 6.659365, 5.050276, 4.088296, 5.638717, 2.995391, 5.887334, 4.864025, 5.845643, 5.637844, 5.887334, 4.368162, 5.481262, 5.512905, 5.298928, 3.308426, 5.980581, 6.482378, 4.83101, 4.047126, 3.576472, 4.559043, 5.518568, 2.931971, 6.527233, 3.685026, 5.462672, 3.640472, 4.876083, 5.822628, 5.073573, 3.604091, 6.527233, 3.576472, 6.258925, 2.866686, 2.255724, 5.714447, 3.982061, 5.253285, 5.512905, 4.882114, 5.512905, 5.512905, 5.512905, 3.904228, 2.538382, 5.837269, 1.554753, 6.806502, 6.273599, 7.268284, 5.637844, 1.930035, 4.449072, 5.023885, 4.23925, 6.23336, 3.459783, 7.032408, 2.031844, 5.423822, 3.082978, 3.977373, 6.185282, 1.785817, 4.338941, 6.833385, 2.335333, 6.263335, 4.082415, 2.866686, 5.80553, 6.352384, 4.686942, 3.459783, 4.03784, 3.706159, 7.923953, 3.760455, 3.897949, 5.854165, 3.647154, 4.220335, 6.088486, 5.512905, 5.22726, 4.638225, 5.177113, 4.398561, 4.496676, 6.039266, 5.043941, 4.74785, 3.444907, 5.735576, 5.938936, 5.26434, 3.134434, 2.866686, 6.181126, 5.291057, 5.512905, 5.488832, 2.963633, 3.375618, 5.706994, 3.119623, 4.220335, 5.883157, 5.767606, 4.740093, 4.165446, 6.17388, 6.258925, 4.508268, 4.023911, 1.405403, 3.525658, 5.192371, 5.133173, 7.578407, 6.527233, 2.529841, 3.53619, 3.525658, 3.731112, 4.836417, 4.751098, 4.267184, 3.881699, 4.023911, 5.068586, 5.114319, 5.437181, 4.462133, 5.183459, 6.711291, 4.315778, 5.648571, 6.91403, 1.672098, 4.984299, 3.559633, 4.964067, 5.614219, 3.215541, 4.547481, 3.616543, 3.960525, 3.61606, 6.435623, 3.952648, 6.939352, 5.72283, 6.942991, 5.034184, 5.144928, 5.979373, 6.237377, 4.881539, 6.181999, 5.550694, 6.236118, 3.552248, 6.505155, 3.563109, 10.16642, 5.894077, 4.958834, 4.872859, 4.625486, 4.618998, 3.795014, 6.457283, 6.527233, 5.455238, 4.551347, 4.828659, 3.407544, 3.334486, 3.685662, 4.512905, 3.655953, 3.197179, 6.592432, 5.688997, 5.384851, 3.989332, 3.563109, 6.025938, 5.942708, 6.833802, 6.934647, 3.563109, 6.215405, 6.274471, 4.340703, 4.821919, 6.930725, 4.826491, 5.995005, 2.679652, 4.512905, 3.837258, 5.512905, 3.685662, 3.942154, 5.060042, 5.450413, 3.655953, 4.386018, 6.137432, 4.772542, 5.255599, 6.497606, 4.772542, 10.16642, 4.772542, 3.832696, 3.774104, 3.474481, 4.772542, 3.90725, 4.228883, 5.673716, 4.390639, 4.00363, 4.488283, 5.242066, 6.223718, 6.326893, 5.79179, 4.502046, 4.095774, 5.722567, 4.501452, 3.556999, 3.318257, 5.553385, 4.638446, 4.683601, 2.126294, 4.910845, 4.968927, 3.794274, 6.857709, 5.001022, 4.782952, 7.012242, 3.459783, 6.46239, 2.913393, 4.642157, 5.313958, 3.243527, 7.253771, 4.376752, 5.146537, 5.675975, 7.234301, 6.326181, 3.940942, 4.294359, 3.459267, 1.903363, 6.165354, 2.608369, 4.586547, 5.43104, 6.583177, 6.775237, 4.769732, 5.779892, 2.585954, 4.724356, 4.583487, 4.778935, 3.991114, 5.027526, 7.253771, 2.891236, 2.919932, 4.100225, 4.404566, 4.662291, 6.186459, 6.304888, 7.042348, 2.184703, 5.211875, 3.75513, 4.086764, 10.16642, 7.042348, 5.256328, 6.730993, 1.99802, 3.600628, 2.737488, 2.366728, 5.742532, 6.156917, 6.744349, 4.366563, 5.905314, 2.831261, 3.634527, 3.136046, 4.525074, 7.144316, 6.100998, 6.521814, 5.341364, 6.522281, 2.715695, 5.685495, 6.77676, 5.162904, 5.523874, 4.974645, 4.394922, 3.318794, 5.804013, 4.919989, 4.84448, 4.401576, 4.739743, 5.546258, 3.40857, 5.424779, 5.047544, 4.814597, 4.674323, 2.95925, 2.924527, 5.341364, 4.512905, 10.16642, 5.525162, 4.688188, 2.349645, 3.23301, 6.107941, 4.968927, 7.008328, 5.930875, 2.913393, 4.282973, 4.377647, 4.728459, 5.413785, 6.798115, 6.910913, 2.901312, 5.147136, 5.173761, 4.429139, 5.445959, 6.540022, 3.493844, 5.804013, 6.172625, 7.413614, 6.730993, 6.522281, 6.522281, 3.405262, 4.938874, 4.269867, 4.47856, 6.41356, 6.41356, 3.261233, 2.913393, 4.297107, 5.787686, 4.3988, 5.551439, 5.249036, 5.728327, 3.831143, 7.881351, 3.34985, 6.595922, 3.283139, 1.664642, 7.393037, 4.039402, 7.15048, 6.326181, 4.932557, 4.778432, 5.060607, 5.550694, 4.252982, 4.836212, 4.559043, 4.924175, 3.97076, 5.445959, 6.249847, 6.137981, 5.387967, 3.570026, 4.821677, 5.550694, 5.267843, 3.348191, 3.43361, 6.275635, 4.89036, 6.41356, 7.154893, 3.753317, 8.374655, 6.416388, 3.685213, 6.326181, 6.867701, 6.326181, 1.680497, 2.701857, 3.619533, 4.07143, 7.042348, 3.38471, 6.644884, 5.932368, 7.24689, 4.726901, 4.625486, 5.512905, 6.41356, 6.522281, 6.960788, 6.559615, 6.41356, 3.105886, 5.445959, 4.601481, 5.659522, 3.577481, 3.674056, 3.330224, 4.55552, 5.886802, 1.861383, 5.497938, 2.7194, 7.042348, 4.91984, 4.512905, 4.653872, 6.694888, 4.900131, 3.459783, 3.695133, 6.914603, 5.293946, 5.133284, 2.913393, 5.249664, 2.791026, 2.913393, 5.455836, 4.807052, 6.53379, 3.072015, 4.071788, 6.787073, 2.913393, 6.522281, 7.094513, 7.000842, 6.157804, 4.901193, 5.512905, 4.116708, 4.442867, 5.512905, 6.040668, 4.512905, 4.424253, 1.827289, 4.582272, 1.201702, 10.16642, 6.568513, 3.122931, 3.817411, 3.817411, 5.509313, 7.000842, 6.609499, 5.264395, 5.999271, 10.16642, 2.10583, 2.061789, 3.740597, 2.982126, 2.419952, 1.766036, 5.252024, 7.254111, 5.445959, 4.81931, 3.525658, 6.166206, 3.571846, 6.593941, 5.327549, 4.876083, 4.357051, 5.488703, 3.205886, 5.667637, 4.267264, 5.974068, 4.036667, 5.861766, 3.465894, 2.218398, 5.334851, 6.74462, 4.559043, 3.685662, 3.634527, 5.349454, 6.038034, 5.739829, 4.813935, 4.9681, 4.767524, 3.68823, 4.577203, 3.23301, 4.211319, 6.522281, 4.036286, 3.563109, 2.817367, 6.593941, 5.100725, 10.16642, 3.327741, 4.880446, 3.266571, 4.220335, 6.184818, 2.913393, 6.812957, 6.522281, 7.042348, 7.042348, 4.484496, 5.008875, 6.175538, 4.939817, 6.472453, 5.194147, 4.876083, 5.05502, 5.755764, 4.991653, 4.477268, 3.266571, 3.266571, 6.340226, 4.731552, 3.350423, 5.140481, 4.363745, 5.305063, 4.294359, 5.886802, 6.066429, 2.913393, 3.897037, 5.204655, 4.759578, 5.285901, 6.769166, 2.567153, 5.022952, 5.022952, 6.199104, 0.1383027, 3.960525, 4.40308, 7.042348, 5.506336, 3.071047, 4.911763, 5.352758, 6.085593, 3.991114, 3.537532, 4.957821, 5.605388, 5.739749, 3.991114, 5.513812, 4.504417, 3.991114, 4.121373, 4.336275, 2.743838, 3.981673, 5.655212, 3.964624, 4.496676, 4.682935, 4.141838, 3.552491, 5.076964, 4.1294, 4.530268, 6.066429, 3.991114, 4.410765, 3.453533, 5.440218, 3.661933, 4.509191, 5.739749, 3.746648, 4.461753, 5.445959, 4.932808, 5.108314, 6.251869, 3.991114, 4.260996, 5.319911, 4.185112, 6.142672, 3.645361, 1.373926, 4.729196, 5.130783, 5.116127, 5.480459, 6.08797, 3.94647, 4.613794, 5.61336, 5.243535, 4.094051, 4.776312, 5.794796, 5.671927, 2.913393, 3.530878, 3.578778, 7.042348, 3.121864, 5.324547, 4.96504, 3.392837, 3.314783, 5.683458, 2.304299, 3.231696, 5.550694, 6.722824, 4.264419, 5.518739, 5.553385, 5.498588, 3.559633, 5.598973, 5.528428, 5.637844, 3.991114, 0.9617177, 5.550694, 7.042348, 5.230359, 4.013315, 2.932171, 1.333217, 5.976814, 4.724013, 6.299532, 4.512905, 5.391437, 5.550694, 5.550694, 4.457101, 5.976814, 2.913393, 3.007144, 5.856031, 5.971229, 4.80855, 3.178562, 5.628761, 4.837895, 5.637844, 4.166722, 6.421391, 7.042348, 6.527233, 2.063365, 3.726925, 6.166699, 4.785952, 4.376154, 5.23974, 5.605388, 4.227435, 2.677585, 4.141838, 4.494762, 4.588415, 6.088022, 4.862995, 4.779968, 3.525944, 4.348742, 5.170699, 3.634527, 6.950929, 3.213507, 5.177113, 3.726925, 4.56374, 4.974582, 4.41043, 3.991114, 2.470317, 5.170699, 4.435731, 5.42048, 5.82591, 4.663702, 5.478792, 2.162059, 6.042623, 4.413593, 4.008888, 5.858348, 6.112878, 3.409625, 5.37397, 5.564179, 3.340613, 5.553385, 4.531228, 6.063563, 5.550694, 3.924148, 4.769631, 5.683368, 3.040295, 3.623505, 5.598848, 6.85677, 3.403617, 4.32744, 5.431099, 4.472299, 6.258925, 5.012303, 4.740093, 5.688997, 6.213409, 5.041033, 5.336814, 5.454835, 4.733068, 4.102811, 5.391193, 3.225849, 4.914045, 5.976814, 3.173045, 4.141838, 3.225849, 5.91029, 3.805676, 4.467173, 3.961718, 3.882291, 4.455366, 3.786955, 4.516351, 4.938874, 5.611223, 3.991114, 1.351109, 3.617099, 5.233401, 4.095601, 3.608845, 4.609099, 3.510118, 3.527254, 4.617417, 3.960525, 1.592732, 4.293479, 3.441834, 4.64506, 4.695585, 3.559633, 4.581965, 5.513984, 3.823509, 1.782907, 4.864564, 3.070822, 4.912446, 5.510527, 8.638811, 4.527647, 4.727805, 5.365424, 3.991114, 3.136307, 3.991114, 5.361638, 3.991114, 5.750447, 2.293972, 3.303072, 5.644895, 5.249633, 4.141838, 3.665061, 3.724456, 5.007592, 4.162316, 6.251046, 2.236027, 3.213737, 6.076741, 6.527233, 4.123935, 4.584168, 6.876338, 4.209389, 6.056702, 5.037021, 2.793817, 4.992573, 4.141838, 3.272323, 4.353259, 5.512905, 4.601481, 3.608845, 3.406417, 4.98858, 6.132369, 6.224116, 3.928151, 3.782192, 3.002454, 3.61781, 6.142554, 7.042348, 4.376154, 5.987764, 5.871642, 3.005411, 3.479455, 6.100998, 5.228036, 4.621907, 6.066429, 5.108074, 3.991114, 6.462592, 6.150895, 4.735093, 4.227761, 5.987721, 4.673008, 3.470431, 4.875108, 4.176259, 3.717324, 3.98786, 4.528366, 5.512905, 6.100998, 4.908605, 5.230359, 5.445959, 6.193977, 4.498831, 4.576115, 5.637844, 3.092003, 5.034184, 3.196169, 4.514929, 4.431534, 4.881539, 6.227233, 3.413973, 4.287075, 6.272628, 5.052323, 3.294987, 5.109433, 5.478792, 4.512905, 4.964939, 2.390614, 3.136307, 5.440048, 5.127452, 5.462672, 3.736986, 4.417162, 4.491409, 5.015528, 3.395068, 3.281963, 5.242048, 4.538711, 4.717025, 3.890857, 5.679086, 5.242048, 3.18133, 4.717025, 6.088486, 4.717025, 1.681049, 6.416388, 6.136152, 6.098844, 6.825455, 3.482888, 4.564699, 5.415995, 4.512905, 5.506878, 3.453533, 4.0924, 5.197378, 5.869847, 3.149674, 5.557152, 3.453533, 4.335979, 2.988035, 1.782907, 2.905676, 4.789209, 6.242901, 6.239007, 4.234934, 5.144928, 3.455499, 6.136152, 10.16642, 6.100998, 5.7816, 4.876083, 5.086936, 4.581378, 3.092391, 3.864295, 4.591915, 3.652972, 4.823924, 1.861383, 3.227555, 5.29259, 4.64023, 6.211772, 5.144928, 5.222569, 6.53482, 6.534501, 5.249664, 4.538711, 6.416388, 10.16642, 6.754584, 6.59303, 4.320126, 4.572973, 6.697114, 3.900547, 2.988035, 4.876083, 4.575308, 7.275246, 4.069786, 5.69368, 2.875746, 4.141838, 3.453853, 4.584012, 5.104862, 4.728764, 4.859866, 5.462672, 5.249664, 5.614315, 5.071644, 5.48145, 5.6266, 3.014365, 6.158363, 5.804013, 5.57337, 4.876083, 4.876083, 2.984932, 5.050814, 4.876083, 5.003258, 6.288294, 4.79545, 5.001022, 5.603719, 4.178074, 4.996511, 3.890857, 2.715695, 5.605337, 6.2687, 5.249664, 5.535163, 4.184821, 6.17726, 4.996511, 2.214314, 4.015134, 5.210648, 4.876083, 5.79159, 4.899632, 4.101469, 5.249664, 5.249664, 5.976814, 4.512905, 5.001022, 4.631196, 4.166455, 3.03625, 2.427818, 6.850978, 5.6266, 5.001022, 5.336814, 4.186791, 3.533635, 6.100998, 3.559633, 4.890604, 4.876083, 4.031903, 4.288312, 5.984516, 5.249664, 4.02017, 5.211875, 3.666576, 1.956393, 5.136436, 5.592087, 5.78516, 4.756492, 2.988035, 4.988169, 4.606777, 4.161664, 6.640615, 2.485252, 4.876083, 4.843208, 5.033697, 5.52434, 6.326488, 4.139124, 4.505727, 6.499616, 5.44923, 3.733549, 4.002137, 6.632114, 5.249664, 5.516693, 4.65209, 4.601481, 3.587335, 4.191067, 6.800843, 3.094163, 3.653005, 5.67375, 4.693419, 4.240284, 5.14314, 5.336814, 4.526051, 4.36452, 5.0681, 5.242048, 3.878581, 3.343758, 4.564454, 4.294359, 5.336814, 5.050814, 5.976814, 5.252966, 4.143856, 3.733095, 5.081346, 4.502182, 3.45393, 3.559633, 4.411011, 6.225535, 5.252966, 2.586953, 5.073573, 5.637844, 4.135501, 7.126464, 5.155276, 5.688997, 4.34904, 5.150792, 3.542832, 5.512905, 2.670942, 6.139354, 5.315138, 5.286911, 5.968187, 4.676288, 2.529841, 4.206208, 3.603207, 1.797673, 5.015528, 3.569699, 4.957035, 4.359614, 3.60461, 5.091503, 4.54617, 4.138174, 5.593042, 4.197186, 6.021914, 3.467395, 4.714108, 6.276776, 4.555141, 4.139023, 2.318286, 0.7359536, 4.202307, 0.7193732, 3.319821, 3.498111, 5.275565, 4.825441, 9.239466, 5.314822, 4.415995, 4.453309, 6.117574, 5.269867, 1.782907, 10.16642, 5.730052, 5.090239, 3.851872, 6.321009, 5.57867, 3.530547, 3.683476, 5.336814, 5.295212, 5.212647, 3.472625, 3.177355, 3.682665, 5.974737, 7.191186, 3.891725, 4.938874, 4.139023, 4.455366, 0.9528666, 4.908241, 2.970476, 4.150235, 3.815936, 4.965261, 3.368194, 4.601481, 5.011079, 4.112467, 5.917243, 3.601289, 5.216013, 3.935022, 5.804013, 3.713529, 5.216425, 7.042348, 6.336519, 5.266129, 2.882913, 4.407538, 6.987455, 5.415995, 5.052742, 2.387489, 3.152754, 5.797643, 3.508206, 5.057083, 0.2787536, 5.512905, 4.436532, 3.018765, 5.749864, 3.242331, 5.368304, 5.903054, 6.342225, 5.001022, 3.171262, 5.147136, 6.730547, 4.031432, 4.319887, 3.602391, 2.007197, 2.166815, 5.388356, 3.637847, 4.342591, 4.84882, 5.886802, 3.491162, 3.786975, 3.503337, 6.432466, 4.324008, 5.449194, 3.650755, 3.009724, 4.673843, 3.282962, 4.085718, 10.16642, 3.839375, 2.875227, 4.231148, 3.413295, 4.727766, 1.397776, 2.508555, 6.035301, 4.893116, 4.559043, 3.712234, 4.727766, 1.027837, 3.483315, 5.286911, 6.521395, 4.93294, 5.177113, 5.177113, 3.992095, 4.103456, 5.336814, 2.350056, 4.242445, 5.023885, 3.839281, 3.636162, 3.086785, 7.023388, 5.360936, 5.088325, 5.114965, 3.196478, 5.316426, 4.978076, 4.99228, 5.009804, 5.737589, 6.286405, 4.422921, 3.363507, 2.471843, 6.258925, 1.862088, 3.375618, 4.172131, 3.269134, 6.482378, 5.87194, 5.926426, 2.328403, 4.623604, 2.786988, 4.513331, 3.653591, 4.764984, 3.858803, 4.809097, 4.921245, 3.75513, 3.38338, 5.149515, 2.660233, 4.877837, 2.866686, 1.910664, 3.828978, 5.512905, 2.672611, 1.725711, 3.527501, 7.477503, 1.281343, 3.145999, 4.714, 3.587335, 4.487624, 4.021057, 2.922437, 2.559916, 5.863434, 10.16642, 6.232826, 3.559633, 5.298121, 7.312246, 5.643639, 3.744676, 3.59981, 7.042348, 4.910261, 4.374603, 5.441994, 2.263747, 3.677845, 4.513152, 3.527501, 4.324809, 2.684973, 5.132039, 5.512905, 4.874402, 3.504661, 5.375941, 4.531502, 10.16642, 3.908418, 5.056071, 3.751953, 4.094051, 3.462059, 2.641584, 4.876083, 5.621417, 6.090634, 4.714, 3.379827, 3.990026, 4.681575, 3.483539, 3.892704, 3.420006, 4.957655, 3.026197, 6.922195, 1.958433, 5.688997, 1.864172, 5.372682, 2.8048, 2.22763, 1.726108, 3.625495, 3.567245, 5.359474, 4.864304, 4.230927, 2.065264, 5.312498, 5.050341, 4.299169, 3.740597, 4.962552, 3.555357, 3.839375, 4.601481, 4.638225, 6.385704, 4.291936, 5.512905, 5.361638, 7.375697, 3.413104, 5.369708, 6.258925, 4.473763, 4.987065, 3.557981, 5.336814, 5.177113, 5.512905, 4.24185, 4.291669, 2.529841, 2.323381, 6.283368, 4.874833, 6.100998, 1.958433, 3.396966, 2.464, 5.008214, 5.300707, 3.425148, 3.260066, 3.460137, 3.472702, 5.192529, 5.211875, 5.749864, 4.672785, 4.171039, 5.192707, 2.960311, 2.791026, 4.235178, 5.103251, 5.415995, 5.021288, 6.258925, 5.30969, 4.559043, 3.843523, 3.13938, 4.93294, 5.361638, 5.474942, 3.893368, 4.478143, 5.12835, 1.758429, 6.088486, 4.271197, 4.667807, 4.090488, 1.898269, 5.19482, 5.025593, 5.517439, 5.177113, 6.101656, 6.258925, 4.934442, 5.870231, 6.870872, 6.160491, 6.264979, 6.662772, 3.708882, 3.950738, 5.017592, 6.024314, 6.258925, 5.837965, 1.576655, 5.366072, 3.982624, 5.048492, 5.907381, 6.033879, 5.688997, 5.697905, 3.802747, 2.027837, 1.819692, 5.493213, 1.424706, 5.512905, 4.213949, 2.708676, 3.045818, 5.415995, 5.577502, 5.160723, 2.968479, 5.177113, 2.027837, 7.556441, 3.616218, 6.55762, 1.947897, 6.816213, 6.265564, 0.2688453, 4.831961, 5.804013, 6.258925, 5.336814, 2.922148, 4.349843, 4.407309, 2.932852, 5.928325, 6.265564, 5.18769, 6.258925, 3.839375, 5.886802, 5.387967, 3.53085, 4.642884, 3.459783, 4.115567, 5.780403, 4.666039, 10.16642, 3.309845, 5.476017, 2.751204, 3.605235, 5.778859, 0.8293038, 5.10331, 5.709723, 5.32578, 3.271806, 5.754225, 5.581821, 4.576904, 4.33548, 10.16642, 7.23572, 3.160867, 5.911765, 4.600833, 2.843912, 4.007445, 4.023629, 5.512905, 4.587482, 4.714, 5.144928, 4.559682, 4.93294, 5.243498, 4.041974, 2.244241, 3.80764, 3.560552, 6.176804, 3.740597, 4.908605, 6.497606, 5.816824, 4.876083, 4.02506, 4.812099, 6.383649, 3.260066, 5.044829, 4.36937, 4.031432, 2.269805, 5.092274, 5.727164, 4.165446, 4.802315, 5.512905, 4.249573, 4.428237, 4.119545, 3.896009, 4.631747, 3.847038, 4.830349, 4.678273, 3.14846, 1.336746, 3.349567, 6.008315, 5.646014, 4.186791, 6.569965, 4.62573, 4.827569, 3.16782, 3.059669, 4.08089, 5.57337, 4.02017, 4.593196, 3.206672, 5.867042, 5.730052, 5.68988, 4.023952, 1.591452, 5.533184, 6.285533, 5.499402, 6.138847, 2.332879, 5.195367, 3.078321, 6.357095, 3.774483, 1.862088, 6.132999, 3.300632, 4.325984, 3.806757, 4.738209, 3.943918, 2.07316, 7.089008, 5.550694, 3.074245, 2.541025, 7.369845, 2.715695, 6.224311, 5.567707, 5.360633, 4.87893, 5.718851, 3.152881, 6.021773, 4.93294, 3.007416, 2.297569, 4.743929, 6.258925, 2.804218, 4.010109, 2.594807, 4.495176, 4.385015, 4.034759, 4.256775, 5.177113, 4.026357, 4.436532, 2.715695, 1.44281, 2.636363, 6.776963, 6.662246, 3.923701, 3.568832, 7.384281, 3.741679, 3.231828, 4.059626, 5.395307, 7.650272, 2.988942, 5.207676, 4.181509, 5.834678, 1.827178, 3.982136, 1.58121, 2.989478, 2.581921, 5.837241, 4.298884, 4.269867, 3.705356, 2.765824, 5.023885, 4.671128, 4.317929, 3.598791, 6.200817, 4.071715, 7.042348, 5.711429, 5.544951, 5.9717, 1.572934, 4.901608, 4.6344, 3.174659, 5.919827, 6.098178, 5.56953, 5.242862, 5.402645, 2.173965, 7.233361, 2.806824, 7.600296, 5.064209, 2.604009, 3.991114, 4.667363, 2.62365, 5.500844, 6.878836, 3.329786, 3.963934, 3.732946, 4.871182, 3.459783, 5.310722, 5.471765, 4.462481, 4.931167, 3.898927, 5.288628, 4.758442, 5.67024, 3.169028, 3.865702, 6.049763, 2.236267, 5.72083, 6.537361, 2.824252, 4.719843, 1.490694, 2.467865, 4.393182, 4.726816, 6.32341, 4.382343, 4.975889, 2.137354, 3.868257, 2.823226, 4.812341, 3.991114, 3.756382, 3.673598, 5.194149, 6.700087, 5.51093, 5.680874, 2.939512, 3.08328, 6.304888, 5.976814, 4.145401, 5.54895, 2.328403, 3.282496, 5.62763, 2.624997, 3.010141, 4.878054, 3.698313, 3.664368, 3.228458, 3.513407, 3.199998, 4.239007, 5.366252, 4.938469, 4.269936, 6.939217, 5.850079, 2.119776, 4.078532, 5.286876, 4.103536, 5.108757, 5.010684, 6.466132, 2.715695, 1.436832, 6.554926, 4.980191, 5.857466, 5.654605, 4.968598, 4.5279, 2.677585, 5.387967, 4.81336, 4.059909, 4.711652, 3.080531, 3.730716, 5.047097, 3.710929, 3.749398, 4.007273, 2.95925, 3.407142, 4.954754, 5.048018, 10.16642, 3.807642, 5.397877, 4.631102, 4.080203, 6.54336, 4.834363, 5.56722, 5.443449, 2.975052, 4.841559, 3.511709, 5.639718, 6.22302, 3.647478, 5.423903, 4.578715, 2.91076, 3.444855, 3.206016, 5.336814, 4.76313, 3.048021, 4.512905, 4.058714, 5.32788, 5.37317, 5.448643, 4.293542, 3.203472, 4.103536, 5.967913, 5.006043, 5.894908, 5.243498, 3.559633, 1.801485, 3.747625, 6.102718, 4.091987, 6.649858, 4.937639, 3.284116, 3.934163, 2.483603, 1.564991, 4.956994, 2.082347, 3.241539, 2.431823, 4.870756, 4.39627, 5.249664, 5.853106, 3.206824, 6.959419, 4.6344, 3.635656, 5.807611, 1.215996, 2.954801, 3.464675, 6.258925, 4.381517, 3.815057, 5.976814, 3.495134, 6.538589, 5.387967, 5.504305, 3.348191, 5.769597, 3.807642, 5.121713, 5.627297, 7.169563, 5.159498, 3.823725, 5.617281, 4.837259, 3.535944, 3.873029, 5.387967, 1.958263, 2.337307, 3.814234, 6.965437, 4.512905, 2.368223, 4.561074, 5.289406, 5.414315, 2.028761, 2.787659, 5.035784, 5.710355, 5.385082, 3.060609, 2.833628, 3.590351, 7.568279, 4.278219, 4.801085, 5.797432, 3.722759, 4.512905, 5.090126, 4.958656, 5.886802, 2.640898, 3.933559, 4.683982, 4.705596, 5.451374, 10.16642, 4.482876, 4.481039, 3.335339, 3.459783, 5.455143, 2.296299, 3.874692, 5.330034, 7.827159, 4.404566, 3.065489, 6.334107, 2.90506, 5.368304, 5.17567, 2.315639, 4.747086, 6.842617, 2.861468, 3.956872, 6.43881, 2.843575, 3.35005, 4.205171, 4.705596, 4.493484, 2.739851, 7.042348, 4.975889, 5.637844, 4.6974, 1.215996, 5.094895, 1.300497, 3.39245, 5.415993, 3.187247, 3.944903, 3.446329, 6.037158, 5.692889, 4.153719, 5.285302, 2.799034, 4.419669, 8.909393, 1.300497, 4.908605, 2.828869, 3.529869, 2.017354, 4.616936, 6.061111, 5.886802, 1.859339, 0.763428, 5.09566, 3.687045, 2.558302, 4.02017, 5.688997, 1.893947, 4.952722, 3.366707, 5.540351, 5.849595, 3.332541, 4.795223, 6.070632, 2.358143, 5.409674, 4.226429, 4.546859, 3.666576, 3.167125, 3.559633, 2.899895, 5.366212, 0.8906807, 3.007416, 4.486774, 4.846991, 5.594633, 6.654813, 1.632763, 5.624542, 6.812707, 5.492324, 2.715695, 4.811299, 5.319676, 5.637844, 5.657497, 5.550694, 4.391889, 6.527233, 4.769677, 7.516955, 4.473965, 4.588761, 3.18874, 0.9513947, 4.623604, 4.855921, 2.957097, 3.734015, 3.238657, 4.315737, 7.042348, 6.527233, 5.706023, 5.339393, 2.369944, 2.030877, 5.637844, 4.461753, 3.230293, 5.471318, 2.705751, 5.736053, 3.108125, 1.215996, 4.35484, 5.512905, 5.595847, 2.552417, 3.635602, 3.834186, 4.707379, 5.001786, 4.969377, 0.8894775, 1.215996, 4.996357, 4.29385, 3.696367, 5.989691, 5.778605, 2.954052, 5.776873, 4.488381, 4.88266, 10.16642, 6.784038, 5.160723, 1.782907, 2.503902, 5.330644, 6.309096, 3.527254, 6.180649, 9.244851, 3.991114, 6.7877, 4.465322, 5.349587, 3.423842, 5.248631, 5.363608, 1.09466, 3.68503, 3.370151, 7.895339, 1.442318, 4.092047, 4.053398, 5.738514, 5.160723, 5.165136, 1.893947, 3.656384, 4.788839, 5.06391, 3.193218, 2.287566, 4.825929, 4.813935, 3.146612, 4.475477, 4.443304, 3.991114, 4.095411, 2.981251, 4.160962, 6.080587, 1.872884, 5.665721, 4.424233, 2.415349, 5.85985, 3.038092, 4.93294, 2.572267, 6.673646, 5.450413, 5.424819, 3.778408, 4.887163, 3.477648, 3.201342, 6.192479, 10.16642, 5.1604, 5.357115, 3.812754, 4.004359, 5.215138, 6.84291, 4.308012, 5.752383, 5.577952, 5.077458, 3.589326, 3.104778, 5.498788, 5.079518, 3.051535, 5.291938, 4.834284, 6.180668, 4.820418, 5.512905, 3.991114, 4.802516, 5.012303, 7.042348, 6.973684, 5.891401, 6.558422, 2.729771, 5.249664, 3.92809, 3.810636, 3.535944, 3.39245, 6.100998, 5.637844, 2.857784, 5.050307, 4.554679, 2.215498, 5.498046, 4.126554, 3.506074, 3.807642, 4.38795, 3.968941, 5.512905, 3.282496, 5.059582, 5.211875, 7.042348, 6.024314, 4.364404, 4.90001, 5.882037, 5.839913, 6.135005, 5.88062, 5.243552, 3.23301, 4.245734, 6.567756, 3.175941, 3.791489, 5.148231, 5.036324, 1.215996, 6.141644, 4.089425, 3.62658, 6.578857, 4.332015, 2.84047, 3.95551, 7.128324, 3.59882, 2.233733, 3.991114, 2.070961, 3.876105, 1.855519, 4.694092, 4.285534, 3.927713, 4.181208, 2.416195, 3.295206, 2.706021, 5.445959, 3.532983, 4.045928, 2.642889, 1.336922, 5.161328, 4.674986, 4.218825, 1.424706, 4.310528, 5.211875, 2.499753, 2.096447, 3.52214, 2.189631, 2.229612, 3.069355, 4.984121, 3.373586, 6.783247, 5.188261, 4.784301, 10.16642, 3.007416, 5.62523, 5.114965, 4.882011, 2.653826, 5.177113, 5.375817, 5.090126, 3.489269, 4.93294, 4.162443, 2.168397, 3.39245, 2.556168, 4.390689, 5.489405, 3.244568, 3.041535, 1.811575, 4.491746, 5.118267, 7.042348, 5.116188, 5.000535, 4.73655, 5.688997, 3.991114, 3.559633, 1.874156, 1.876958, 5.710758, 1.958433, 5.354886, 2.298853, 3.527254, 5.397934, 4.994474, 1.592732, 5.220484, 2.390052, 4.861546, 2.439893, 5.850079, 5.069696, 3.736234, 2.437647, 3.258603, 3.597105, 2.609519, 4.191337, 4.456256, 6.602502, 4.085226, 5.621417, 5.833393, 3.991114, 3.223316, 5.415995, 5.804013, 3.991114, 8.933909, 2.371021, 5.354437, 6.43939, 2.97997, 2.903667, 3.571592, 7.606293, 1.425885, 3.741033, 4.483819, 0.8893017, 3.847038, 3.485374, 4.813935, 1.386777, 5.441453, 7.59666, 4.690016, 4.867393, 4.88372, 3.411382, 5.195172, 4.592087, 4.002871, 3.231785, 6.258925, 3.379827, 4.807052, 3.038731, 1.294716, 4.952102, 4.197186, 5.243498, 5.613821, 3.309845, 3.579035, 2.245307, 6.258925, 5.662602, 2.771045, 4.047382, 3.383542, 4.676716, 3.00123, 6.318017, 2.780244, 5.689036, 6.006706, 3.991114, 5.421134, 4.051313, 5.532707, 4.980064, 7.29757, 6.312015, 4.745053, 4.859015, 6.730547, 3.454681, 7.042348, 4.504014, 2.780981, 4.584282, 5.653597, 4.876083, 5.060607, 3.362691, 3.002697, 4.385107, 4.366777, 4.087414, 10.16642, 4.273105, 5.112469, 4.034759, 5.33323, 1.215996, 3.103395, 4.181886, 6.025728, 3.923754, 3.909417, 3.476438, 5.296191, 4.495176, 5.992186, 5.056134, 4.878173, 6.782935, 2.447441, 4.312034, 2.313351, 2.534305, 3.532633, 5.015528, 7.328381, 5.419643, 4.412605, 4.139023, 3.791489, 2.449357, 4.139023, 1.17448, 5.503773, 5.211875, 6.009189, 4.876083, 5.978599, 4.909681, 3.104099, 4.641072, 2.388865, 2.297569, 1.783384, 7.042348, 10.16642, 4.600833, 2.50873, 3.007416, 6.324916, 4.926255, 1.215996, 5.014166, 1.027837, 3.565118, 4.290257, 3.559633, 2.643518, 3.637303, 6.86123, 6.091555, 2.966612, 5.512905, 4.833142, 4.592721, 3.821517, 4.142141, 6.116401, 4.477502, 6.527233, 4.395612, 1.13234, 4.24148, 3.736707, 3.72932, 2.923896, 3.348191, 5.13382, 2.916044, 3.695387, 5.21497, 4.251642, 4.295802, 3.991039, 6.32283, 5.291057, 4.139023, 3.735536, 6.527233, 5.552943, 4.600833, 4.292982, 3.266111, 5.110075, 4.083981, 1.215996, 5.445959, 3.97816, 4.195789, 3.065194, 2.812119, 5.602846, 4.361638, 2.723898, 4.256519, 3.913923, 4.728764, 1.623803, 6.58732, 4.666342, 1.647138, 8.252538, 3.639224, 6.509985, 4.859693, 6.578857, 3.490433, 2.477455, 6.482378, 7.042348, 2.550273, 5.817555, 5.415995, 3.309845, 3.309841, 6.016404, 7.042348, 3.735536, 3.334486, 4.052651, 2.664702, 1.964248, 6.262909, 4.618186, 4.008888, 1.791265, 4.778965, 4.37211, 5.051419, 4.551036, 1.212075, 5.364155, 3.847012, 3.508568, 3.649488, 3.257329, 4.55466, 1.866841, 3.881124, 3.61248, 6.527233, 5.339626, 4.916915, 4.132297, 2.421438, 3.685819, 5.483773, 4.294359, 5.592087, 5.506791, 6.037406, 4.618958, 3.362691, 6.046133, 4.583487, 5.02475, 1.322804, 2.450604, 5.86964, 5.143538, 4.461753, 4.601481, 3.747715, 5.870231, 5.432813, 10.16642, 6.088745, 6.140035, 1.790572, 4.660875, 5.527452, 5.22023, 5.435423, 5.249664, 4.290497, 4.408037, 2.306174, 5.600069, 4.116363, 4.385261, 2.7194, 3.921674, 0.6521524, 5.177113, 5.479183, 4.785907, 1.120384, 5.786655, 4.714, 3.169497, 4.601481, 2.483603, 2.954514, 4.612644, 3.447551, 4.241282, 5.099996, 4.874833, 7.042348, 6.500275, 2.934492, 3.581041, 2.846885, 4.349954, 2.830418, 6.447871, 2.899312, 6.100998, 4.784261, 4.633045, 5.15661, 4.615265, 4.612622, 6.965437, 8.677697, 4.163704, 5.309216, 5.563706, 6.318608, 3.98079, 9.272511, 4.876083, 5.637844, 7.115524, 7.057465, 4.634985, 3.604964, 4.73875]\n"
     ]
    }
   ],
   "source": [
    "fixed = []\n",
    "for elt in cs_list:\n",
    "    fixed.append(float(elt[:len(elt)-1]))\n",
    "print(fixed)"
   ]
  },
  {
   "cell_type": "code",
   "execution_count": 87,
   "metadata": {},
   "outputs": [],
   "source": [
    "calvillo_surp['calvillo_surp'] = fixed"
   ]
  },
  {
   "cell_type": "code",
   "execution_count": 88,
   "metadata": {},
   "outputs": [
    {
     "data": {
      "text/html": [
       "<div>\n",
       "<style scoped>\n",
       "    .dataframe tbody tr th:only-of-type {\n",
       "        vertical-align: middle;\n",
       "    }\n",
       "\n",
       "    .dataframe tbody tr th {\n",
       "        vertical-align: top;\n",
       "    }\n",
       "\n",
       "    .dataframe thead th {\n",
       "        text-align: right;\n",
       "    }\n",
       "</style>\n",
       "<table border=\"1\" class=\"dataframe\">\n",
       "  <thead>\n",
       "    <tr style=\"text-align: right;\">\n",
       "      <th></th>\n",
       "      <th>word_freq_zh</th>\n",
       "      <th>cs_word_length_zh</th>\n",
       "      <th>sentence_length_zh</th>\n",
       "      <th>ngram_surp_zh</th>\n",
       "      <th>dep_surp_zh</th>\n",
       "      <th>code_switched</th>\n",
       "      <th>cs_word_pos_zh</th>\n",
       "      <th>calvillo_surp</th>\n",
       "    </tr>\n",
       "  </thead>\n",
       "  <tbody>\n",
       "    <tr>\n",
       "      <th>0</th>\n",
       "      <td>46.615353</td>\n",
       "      <td>2.0</td>\n",
       "      <td>34.0</td>\n",
       "      <td>5.630717</td>\n",
       "      <td>6.469786</td>\n",
       "      <td>1</td>\n",
       "      <td>0</td>\n",
       "      <td>6.100998</td>\n",
       "    </tr>\n",
       "    <tr>\n",
       "      <th>1</th>\n",
       "      <td>41.578729</td>\n",
       "      <td>2.0</td>\n",
       "      <td>10.0</td>\n",
       "      <td>5.630717</td>\n",
       "      <td>6.199071</td>\n",
       "      <td>1</td>\n",
       "      <td>0</td>\n",
       "      <td>6.527233</td>\n",
       "    </tr>\n",
       "    <tr>\n",
       "      <th>2</th>\n",
       "      <td>37.403903</td>\n",
       "      <td>2.0</td>\n",
       "      <td>8.0</td>\n",
       "      <td>4.787219</td>\n",
       "      <td>5.202944</td>\n",
       "      <td>1</td>\n",
       "      <td>0</td>\n",
       "      <td>5.512905</td>\n",
       "    </tr>\n",
       "    <tr>\n",
       "      <th>3</th>\n",
       "      <td>40.402814</td>\n",
       "      <td>2.0</td>\n",
       "      <td>9.0</td>\n",
       "      <td>2.000932</td>\n",
       "      <td>1.262869</td>\n",
       "      <td>1</td>\n",
       "      <td>0</td>\n",
       "      <td>5.210801</td>\n",
       "    </tr>\n",
       "    <tr>\n",
       "      <th>4</th>\n",
       "      <td>37.403903</td>\n",
       "      <td>2.0</td>\n",
       "      <td>5.0</td>\n",
       "      <td>5.630717</td>\n",
       "      <td>2.760256</td>\n",
       "      <td>1</td>\n",
       "      <td>0</td>\n",
       "      <td>4.488641</td>\n",
       "    </tr>\n",
       "  </tbody>\n",
       "</table>\n",
       "</div>"
      ],
      "text/plain": [
       "   word_freq_zh  cs_word_length_zh  sentence_length_zh  ngram_surp_zh  \\\n",
       "0     46.615353                2.0                34.0       5.630717   \n",
       "1     41.578729                2.0                10.0       5.630717   \n",
       "2     37.403903                2.0                 8.0       4.787219   \n",
       "3     40.402814                2.0                 9.0       2.000932   \n",
       "4     37.403903                2.0                 5.0       5.630717   \n",
       "\n",
       "   dep_surp_zh  code_switched  cs_word_pos_zh  calvillo_surp  \n",
       "0     6.469786              1               0       6.100998  \n",
       "1     6.199071              1               0       6.527233  \n",
       "2     5.202944              1               0       5.512905  \n",
       "3     1.262869              1               0       5.210801  \n",
       "4     2.760256              1               0       4.488641  "
      ]
     },
     "execution_count": 88,
     "metadata": {},
     "output_type": "execute_result"
    }
   ],
   "source": [
    "calvillo_surp.head()"
   ]
  },
  {
   "cell_type": "code",
   "execution_count": 89,
   "metadata": {},
   "outputs": [],
   "source": [
    "calvillo_surp = calvillo_surp.dropna()"
   ]
  },
  {
   "cell_type": "code",
   "execution_count": 90,
   "metadata": {},
   "outputs": [
    {
     "data": {
      "text/plain": [
       "2952"
      ]
     },
     "execution_count": 90,
     "metadata": {},
     "output_type": "execute_result"
    }
   ],
   "source": [
    "len(calvillo_surp)"
   ]
  },
  {
   "cell_type": "code",
   "execution_count": 91,
   "metadata": {},
   "outputs": [],
   "source": [
    "calvillo_surp_final = calvillo_surp[['word_freq_zh', 'cs_word_pos_zh', 'cs_word_length_zh', 'sentence_length_zh', 'calvillo_surp']]"
   ]
  },
  {
   "cell_type": "code",
   "execution_count": 92,
   "metadata": {},
   "outputs": [
    {
     "data": {
      "text/html": [
       "<div>\n",
       "<style scoped>\n",
       "    .dataframe tbody tr th:only-of-type {\n",
       "        vertical-align: middle;\n",
       "    }\n",
       "\n",
       "    .dataframe tbody tr th {\n",
       "        vertical-align: top;\n",
       "    }\n",
       "\n",
       "    .dataframe thead th {\n",
       "        text-align: right;\n",
       "    }\n",
       "</style>\n",
       "<table border=\"1\" class=\"dataframe\">\n",
       "  <thead>\n",
       "    <tr style=\"text-align: right;\">\n",
       "      <th></th>\n",
       "      <th>word_freq_zh</th>\n",
       "      <th>cs_word_pos_zh</th>\n",
       "      <th>cs_word_length_zh</th>\n",
       "      <th>sentence_length_zh</th>\n",
       "      <th>calvillo_surp</th>\n",
       "    </tr>\n",
       "  </thead>\n",
       "  <tbody>\n",
       "    <tr>\n",
       "      <th>0</th>\n",
       "      <td>46.615353</td>\n",
       "      <td>0</td>\n",
       "      <td>2.0</td>\n",
       "      <td>34.0</td>\n",
       "      <td>6.100998</td>\n",
       "    </tr>\n",
       "    <tr>\n",
       "      <th>1</th>\n",
       "      <td>41.578729</td>\n",
       "      <td>0</td>\n",
       "      <td>2.0</td>\n",
       "      <td>10.0</td>\n",
       "      <td>6.527233</td>\n",
       "    </tr>\n",
       "    <tr>\n",
       "      <th>2</th>\n",
       "      <td>37.403903</td>\n",
       "      <td>0</td>\n",
       "      <td>2.0</td>\n",
       "      <td>8.0</td>\n",
       "      <td>5.512905</td>\n",
       "    </tr>\n",
       "    <tr>\n",
       "      <th>3</th>\n",
       "      <td>40.402814</td>\n",
       "      <td>0</td>\n",
       "      <td>2.0</td>\n",
       "      <td>9.0</td>\n",
       "      <td>5.210801</td>\n",
       "    </tr>\n",
       "    <tr>\n",
       "      <th>4</th>\n",
       "      <td>37.403903</td>\n",
       "      <td>0</td>\n",
       "      <td>2.0</td>\n",
       "      <td>5.0</td>\n",
       "      <td>4.488641</td>\n",
       "    </tr>\n",
       "  </tbody>\n",
       "</table>\n",
       "</div>"
      ],
      "text/plain": [
       "   word_freq_zh  cs_word_pos_zh  cs_word_length_zh  sentence_length_zh  \\\n",
       "0     46.615353               0                2.0                34.0   \n",
       "1     41.578729               0                2.0                10.0   \n",
       "2     37.403903               0                2.0                 8.0   \n",
       "3     40.402814               0                2.0                 9.0   \n",
       "4     37.403903               0                2.0                 5.0   \n",
       "\n",
       "   calvillo_surp  \n",
       "0       6.100998  \n",
       "1       6.527233  \n",
       "2       5.512905  \n",
       "3       5.210801  \n",
       "4       4.488641  "
      ]
     },
     "execution_count": 92,
     "metadata": {},
     "output_type": "execute_result"
    }
   ],
   "source": [
    "calvillo_surp_final.head()"
   ]
  },
  {
   "cell_type": "code",
   "execution_count": 93,
   "metadata": {},
   "outputs": [
    {
     "name": "stderr",
     "output_type": "stream",
     "text": [
      "/Library/Frameworks/Python.framework/Versions/3.7/lib/python3.7/site-packages/ipykernel_launcher.py:13: SettingWithCopyWarning: \n",
      "A value is trying to be set on a copy of a slice from a DataFrame.\n",
      "Try using .loc[row_indexer,col_indexer] = value instead\n",
      "\n",
      "See the caveats in the documentation: https://pandas.pydata.org/pandas-docs/stable/user_guide/indexing.html#returning-a-view-versus-a-copy\n",
      "  del sys.path[0]\n",
      "/Library/Frameworks/Python.framework/Versions/3.7/lib/python3.7/site-packages/ipykernel_launcher.py:14: SettingWithCopyWarning: \n",
      "A value is trying to be set on a copy of a slice from a DataFrame.\n",
      "Try using .loc[row_indexer,col_indexer] = value instead\n",
      "\n",
      "See the caveats in the documentation: https://pandas.pydata.org/pandas-docs/stable/user_guide/indexing.html#returning-a-view-versus-a-copy\n",
      "  \n",
      "/Library/Frameworks/Python.framework/Versions/3.7/lib/python3.7/site-packages/ipykernel_launcher.py:15: SettingWithCopyWarning: \n",
      "A value is trying to be set on a copy of a slice from a DataFrame.\n",
      "Try using .loc[row_indexer,col_indexer] = value instead\n",
      "\n",
      "See the caveats in the documentation: https://pandas.pydata.org/pandas-docs/stable/user_guide/indexing.html#returning-a-view-versus-a-copy\n",
      "  from ipykernel import kernelapp as app\n",
      "/Library/Frameworks/Python.framework/Versions/3.7/lib/python3.7/site-packages/ipykernel_launcher.py:17: SettingWithCopyWarning: \n",
      "A value is trying to be set on a copy of a slice from a DataFrame.\n",
      "Try using .loc[row_indexer,col_indexer] = value instead\n",
      "\n",
      "See the caveats in the documentation: https://pandas.pydata.org/pandas-docs/stable/user_guide/indexing.html#returning-a-view-versus-a-copy\n"
     ]
    }
   ],
   "source": [
    "cs_word_frequency = np.array(calvillo_surp_final['word_freq_zh'])\n",
    "cs_word_length = np.array(calvillo_surp_final['cs_word_length_zh'])\n",
    "sentence_length = np.array(calvillo_surp_final['sentence_length_zh'])\n",
    "#cs_word_pos = np.array(calvillo_surp_final['cs_word_pos_zh'])\n",
    "calvillo_surp_val = np.array(calvillo_surp_final['calvillo_surp'])\n",
    "\n",
    "cs_word_frequency_new = 0.5*(cs_word_frequency-np.mean(cs_word_frequency))/np.std(cs_word_frequency)\n",
    "cs_word_length_new = 0.5*(cs_word_length-np.mean(cs_word_length))/np.std(cs_word_length)\n",
    "sentence_length_new = 0.5*(sentence_length-np.mean(sentence_length))/np.std(sentence_length)\n",
    "#cs_word_pos_new = (cs_word_pos-np.mean(cs_word_pos))/np.std(cs_word_pos)\n",
    "calvillo_surp_new = 0.5*(calvillo_surp_val-np.mean(calvillo_surp_val))/np.std(calvillo_surp_val)\n",
    "\n",
    "calvillo_surp_final['word_freq_zh'] = cs_word_frequency_new\n",
    "calvillo_surp_final['cs_word_length_zh'] = cs_word_length_new\n",
    "calvillo_surp_final['sentence_length_zh'] = sentence_length_new\n",
    "#calvillo_surp_final['cs_word_pos_zh'] = cs_word_pos_new\n",
    "calvillo_surp_final['calvillo_surp'] = calvillo_surp_new"
   ]
  },
  {
   "cell_type": "code",
   "execution_count": 94,
   "metadata": {},
   "outputs": [
    {
     "data": {
      "text/html": [
       "<div>\n",
       "<style scoped>\n",
       "    .dataframe tbody tr th:only-of-type {\n",
       "        vertical-align: middle;\n",
       "    }\n",
       "\n",
       "    .dataframe tbody tr th {\n",
       "        vertical-align: top;\n",
       "    }\n",
       "\n",
       "    .dataframe thead th {\n",
       "        text-align: right;\n",
       "    }\n",
       "</style>\n",
       "<table border=\"1\" class=\"dataframe\">\n",
       "  <thead>\n",
       "    <tr style=\"text-align: right;\">\n",
       "      <th></th>\n",
       "      <th>word_freq_zh</th>\n",
       "      <th>cs_word_pos_zh</th>\n",
       "      <th>cs_word_length_zh</th>\n",
       "      <th>sentence_length_zh</th>\n",
       "      <th>calvillo_surp</th>\n",
       "    </tr>\n",
       "  </thead>\n",
       "  <tbody>\n",
       "    <tr>\n",
       "      <th>0</th>\n",
       "      <td>1.410115</td>\n",
       "      <td>0</td>\n",
       "      <td>0.170111</td>\n",
       "      <td>1.876020</td>\n",
       "      <td>0.492252</td>\n",
       "    </tr>\n",
       "    <tr>\n",
       "      <th>1</th>\n",
       "      <td>0.594916</td>\n",
       "      <td>0</td>\n",
       "      <td>0.170111</td>\n",
       "      <td>-0.096704</td>\n",
       "      <td>0.637375</td>\n",
       "    </tr>\n",
       "    <tr>\n",
       "      <th>2</th>\n",
       "      <td>-0.080797</td>\n",
       "      <td>0</td>\n",
       "      <td>0.170111</td>\n",
       "      <td>-0.261097</td>\n",
       "      <td>0.292019</td>\n",
       "    </tr>\n",
       "    <tr>\n",
       "      <th>3</th>\n",
       "      <td>0.404590</td>\n",
       "      <td>0</td>\n",
       "      <td>0.170111</td>\n",
       "      <td>-0.178901</td>\n",
       "      <td>0.189159</td>\n",
       "    </tr>\n",
       "    <tr>\n",
       "      <th>4</th>\n",
       "      <td>-0.080797</td>\n",
       "      <td>0</td>\n",
       "      <td>0.170111</td>\n",
       "      <td>-0.507688</td>\n",
       "      <td>-0.056720</td>\n",
       "    </tr>\n",
       "  </tbody>\n",
       "</table>\n",
       "</div>"
      ],
      "text/plain": [
       "   word_freq_zh  cs_word_pos_zh  cs_word_length_zh  sentence_length_zh  \\\n",
       "0      1.410115               0           0.170111            1.876020   \n",
       "1      0.594916               0           0.170111           -0.096704   \n",
       "2     -0.080797               0           0.170111           -0.261097   \n",
       "3      0.404590               0           0.170111           -0.178901   \n",
       "4     -0.080797               0           0.170111           -0.507688   \n",
       "\n",
       "   calvillo_surp  \n",
       "0       0.492252  \n",
       "1       0.637375  \n",
       "2       0.292019  \n",
       "3       0.189159  \n",
       "4      -0.056720  "
      ]
     },
     "execution_count": 94,
     "metadata": {},
     "output_type": "execute_result"
    }
   ],
   "source": [
    "calvillo_surp_final.head()"
   ]
  },
  {
   "cell_type": "code",
   "execution_count": 95,
   "metadata": {},
   "outputs": [],
   "source": [
    "X = calvillo_surp_final\n",
    "y = calvillo_surp['code_switched']\n",
    "X_train, X_test, y_train, y_test = train_test_split(X, y, test_size=0.3, random_state=0)"
   ]
  },
  {
   "cell_type": "code",
   "execution_count": 96,
   "metadata": {},
   "outputs": [],
   "source": [
    "calvillo_surp_final_new = X.copy()\n",
    "calvillo_surp_final_new['code_switched'] = y.copy()"
   ]
  },
  {
   "cell_type": "code",
   "execution_count": 97,
   "metadata": {},
   "outputs": [
    {
     "data": {
      "text/html": [
       "<div>\n",
       "<style scoped>\n",
       "    .dataframe tbody tr th:only-of-type {\n",
       "        vertical-align: middle;\n",
       "    }\n",
       "\n",
       "    .dataframe tbody tr th {\n",
       "        vertical-align: top;\n",
       "    }\n",
       "\n",
       "    .dataframe thead th {\n",
       "        text-align: right;\n",
       "    }\n",
       "</style>\n",
       "<table border=\"1\" class=\"dataframe\">\n",
       "  <thead>\n",
       "    <tr style=\"text-align: right;\">\n",
       "      <th></th>\n",
       "      <th>word_freq_zh</th>\n",
       "      <th>cs_word_pos_zh</th>\n",
       "      <th>cs_word_length_zh</th>\n",
       "      <th>sentence_length_zh</th>\n",
       "      <th>calvillo_surp</th>\n",
       "      <th>code_switched</th>\n",
       "    </tr>\n",
       "  </thead>\n",
       "  <tbody>\n",
       "    <tr>\n",
       "      <th>1471</th>\n",
       "      <td>0.793648</td>\n",
       "      <td>0</td>\n",
       "      <td>0.170111</td>\n",
       "      <td>0.232084</td>\n",
       "      <td>0.837675</td>\n",
       "      <td>0</td>\n",
       "    </tr>\n",
       "    <tr>\n",
       "      <th>1472</th>\n",
       "      <td>0.445914</td>\n",
       "      <td>1</td>\n",
       "      <td>0.170111</td>\n",
       "      <td>-0.425491</td>\n",
       "      <td>0.817908</td>\n",
       "      <td>0</td>\n",
       "    </tr>\n",
       "    <tr>\n",
       "      <th>1473</th>\n",
       "      <td>-0.479751</td>\n",
       "      <td>0</td>\n",
       "      <td>0.170111</td>\n",
       "      <td>-0.425491</td>\n",
       "      <td>-0.006893</td>\n",
       "      <td>0</td>\n",
       "    </tr>\n",
       "    <tr>\n",
       "      <th>1474</th>\n",
       "      <td>-0.658869</td>\n",
       "      <td>0</td>\n",
       "      <td>0.170111</td>\n",
       "      <td>-0.507688</td>\n",
       "      <td>-0.357593</td>\n",
       "      <td>0</td>\n",
       "    </tr>\n",
       "    <tr>\n",
       "      <th>1475</th>\n",
       "      <td>0.152456</td>\n",
       "      <td>0</td>\n",
       "      <td>-0.854723</td>\n",
       "      <td>1.136249</td>\n",
       "      <td>0.028436</td>\n",
       "      <td>0</td>\n",
       "    </tr>\n",
       "  </tbody>\n",
       "</table>\n",
       "</div>"
      ],
      "text/plain": [
       "      word_freq_zh  cs_word_pos_zh  cs_word_length_zh  sentence_length_zh  \\\n",
       "1471      0.793648               0           0.170111            0.232084   \n",
       "1472      0.445914               1           0.170111           -0.425491   \n",
       "1473     -0.479751               0           0.170111           -0.425491   \n",
       "1474     -0.658869               0           0.170111           -0.507688   \n",
       "1475      0.152456               0          -0.854723            1.136249   \n",
       "\n",
       "      calvillo_surp  code_switched  \n",
       "1471       0.837675              0  \n",
       "1472       0.817908              0  \n",
       "1473      -0.006893              0  \n",
       "1474      -0.357593              0  \n",
       "1475       0.028436              0  "
      ]
     },
     "execution_count": 97,
     "metadata": {},
     "output_type": "execute_result"
    }
   ],
   "source": [
    "calvillo_surp_final_new.tail()"
   ]
  },
  {
   "cell_type": "code",
   "execution_count": 98,
   "metadata": {},
   "outputs": [],
   "source": [
    "clf = LogisticRegression()\n",
    "clf.fit(X_train, y_train)\n",
    "y_pred = clf.predict(X_test)"
   ]
  },
  {
   "cell_type": "code",
   "execution_count": 99,
   "metadata": {},
   "outputs": [
    {
     "name": "stdout",
     "output_type": "stream",
     "text": [
      "              precision    recall  f1-score   support\n",
      "\n",
      "           0       0.54      0.63      0.58       419\n",
      "           1       0.61      0.51      0.55       467\n",
      "\n",
      "    accuracy                           0.57       886\n",
      "   macro avg       0.57      0.57      0.57       886\n",
      "weighted avg       0.57      0.57      0.57       886\n",
      "\n"
     ]
    }
   ],
   "source": [
    "print(classification_report(y_test, y_pred))"
   ]
  },
  {
   "cell_type": "code",
   "execution_count": 100,
   "metadata": {},
   "outputs": [
    {
     "name": "stdout",
     "output_type": "stream",
     "text": [
      "[[0.21797461 0.22640768 0.49248315 0.46732638 0.37916184]]\n",
      "[-0.18643101]\n"
     ]
    }
   ],
   "source": [
    "print(clf.coef_)\n",
    "print(clf.intercept_)"
   ]
  },
  {
   "cell_type": "code",
   "execution_count": 101,
   "metadata": {},
   "outputs": [
    {
     "data": {
      "text/html": [
       "<table class=\"simpletable\">\n",
       "<caption>OLS Regression Results</caption>\n",
       "<tr>\n",
       "  <th>Dep. Variable:</th>      <td>code_switched</td>  <th>  R-squared:         </th> <td>   0.047</td>\n",
       "</tr>\n",
       "<tr>\n",
       "  <th>Model:</th>                   <td>OLS</td>       <th>  Adj. R-squared:    </th> <td>   0.045</td>\n",
       "</tr>\n",
       "<tr>\n",
       "  <th>Method:</th>             <td>Least Squares</td>  <th>  F-statistic:       </th> <td>   23.95</td>\n",
       "</tr>\n",
       "<tr>\n",
       "  <th>Date:</th>             <td>Wed, 15 Sep 2021</td> <th>  Prob (F-statistic):</th> <td>8.33e-28</td>\n",
       "</tr>\n",
       "<tr>\n",
       "  <th>Time:</th>                 <td>14:52:13</td>     <th>  Log-Likelihood:    </th> <td> -2072.2</td>\n",
       "</tr>\n",
       "<tr>\n",
       "  <th>No. Observations:</th>      <td>  2952</td>      <th>  AIC:               </th> <td>   4158.</td>\n",
       "</tr>\n",
       "<tr>\n",
       "  <th>Df Residuals:</th>          <td>  2945</td>      <th>  BIC:               </th> <td>   4200.</td>\n",
       "</tr>\n",
       "<tr>\n",
       "  <th>Df Model:</th>              <td>     6</td>      <th>                     </th>     <td> </td>   \n",
       "</tr>\n",
       "<tr>\n",
       "  <th>Covariance Type:</th>      <td>nonrobust</td>    <th>                     </th>     <td> </td>   \n",
       "</tr>\n",
       "</table>\n",
       "<table class=\"simpletable\">\n",
       "<tr>\n",
       "             <td></td>               <th>coef</th>     <th>std err</th>      <th>t</th>      <th>P>|t|</th>  <th>[0.025</th>    <th>0.975]</th>  \n",
       "</tr>\n",
       "<tr>\n",
       "  <th>Intercept</th>              <td>    0.4674</td> <td>    0.012</td> <td>   39.209</td> <td> 0.000</td> <td>    0.444</td> <td>    0.491</td>\n",
       "</tr>\n",
       "<tr>\n",
       "  <th>C(cs_word_pos_zh)[T.1]</th> <td>    0.0529</td> <td>    0.026</td> <td>    2.007</td> <td> 0.045</td> <td>    0.001</td> <td>    0.105</td>\n",
       "</tr>\n",
       "<tr>\n",
       "  <th>C(cs_word_pos_zh)[T.2]</th> <td>    0.1073</td> <td>    0.024</td> <td>    4.386</td> <td> 0.000</td> <td>    0.059</td> <td>    0.155</td>\n",
       "</tr>\n",
       "<tr>\n",
       "  <th>word_freq_zh</th>           <td>    0.0512</td> <td>    0.026</td> <td>    1.991</td> <td> 0.047</td> <td>    0.001</td> <td>    0.102</td>\n",
       "</tr>\n",
       "<tr>\n",
       "  <th>cs_word_length_zh</th>      <td>    0.1116</td> <td>    0.023</td> <td>    4.815</td> <td> 0.000</td> <td>    0.066</td> <td>    0.157</td>\n",
       "</tr>\n",
       "<tr>\n",
       "  <th>sentence_length_zh</th>     <td>    0.1219</td> <td>    0.018</td> <td>    6.730</td> <td> 0.000</td> <td>    0.086</td> <td>    0.157</td>\n",
       "</tr>\n",
       "<tr>\n",
       "  <th>calvillo_surp</th>          <td>    0.0845</td> <td>    0.022</td> <td>    3.762</td> <td> 0.000</td> <td>    0.040</td> <td>    0.129</td>\n",
       "</tr>\n",
       "</table>\n",
       "<table class=\"simpletable\">\n",
       "<tr>\n",
       "  <th>Omnibus:</th>       <td>11767.106</td> <th>  Durbin-Watson:     </th> <td>   0.094</td>\n",
       "</tr>\n",
       "<tr>\n",
       "  <th>Prob(Omnibus):</th>  <td> 0.000</td>   <th>  Jarque-Bera (JB):  </th> <td> 407.098</td>\n",
       "</tr>\n",
       "<tr>\n",
       "  <th>Skew:</th>           <td>-0.002</td>   <th>  Prob(JB):          </th> <td>3.98e-89</td>\n",
       "</tr>\n",
       "<tr>\n",
       "  <th>Kurtosis:</th>       <td> 1.181</td>   <th>  Cond. No.          </th> <td>    3.73</td>\n",
       "</tr>\n",
       "</table><br/><br/>Notes:<br/>[1] Standard Errors assume that the covariance matrix of the errors is correctly specified."
      ],
      "text/plain": [
       "<class 'statsmodels.iolib.summary.Summary'>\n",
       "\"\"\"\n",
       "                            OLS Regression Results                            \n",
       "==============================================================================\n",
       "Dep. Variable:          code_switched   R-squared:                       0.047\n",
       "Model:                            OLS   Adj. R-squared:                  0.045\n",
       "Method:                 Least Squares   F-statistic:                     23.95\n",
       "Date:                Wed, 15 Sep 2021   Prob (F-statistic):           8.33e-28\n",
       "Time:                        14:52:13   Log-Likelihood:                -2072.2\n",
       "No. Observations:                2952   AIC:                             4158.\n",
       "Df Residuals:                    2945   BIC:                             4200.\n",
       "Df Model:                           6                                         \n",
       "Covariance Type:            nonrobust                                         \n",
       "==========================================================================================\n",
       "                             coef    std err          t      P>|t|      [0.025      0.975]\n",
       "------------------------------------------------------------------------------------------\n",
       "Intercept                  0.4674      0.012     39.209      0.000       0.444       0.491\n",
       "C(cs_word_pos_zh)[T.1]     0.0529      0.026      2.007      0.045       0.001       0.105\n",
       "C(cs_word_pos_zh)[T.2]     0.1073      0.024      4.386      0.000       0.059       0.155\n",
       "word_freq_zh               0.0512      0.026      1.991      0.047       0.001       0.102\n",
       "cs_word_length_zh          0.1116      0.023      4.815      0.000       0.066       0.157\n",
       "sentence_length_zh         0.1219      0.018      6.730      0.000       0.086       0.157\n",
       "calvillo_surp              0.0845      0.022      3.762      0.000       0.040       0.129\n",
       "==============================================================================\n",
       "Omnibus:                    11767.106   Durbin-Watson:                   0.094\n",
       "Prob(Omnibus):                  0.000   Jarque-Bera (JB):              407.098\n",
       "Skew:                          -0.002   Prob(JB):                     3.98e-89\n",
       "Kurtosis:                       1.181   Cond. No.                         3.73\n",
       "==============================================================================\n",
       "\n",
       "Notes:\n",
       "[1] Standard Errors assume that the covariance matrix of the errors is correctly specified.\n",
       "\"\"\""
      ]
     },
     "execution_count": 101,
     "metadata": {},
     "output_type": "execute_result"
    }
   ],
   "source": [
    "import statsmodels.api as sm \n",
    "import statsmodels.formula.api as smf\n",
    "model = smf.ols(formula=\"code_switched ~ word_freq_zh + C(cs_word_pos_zh) + cs_word_length_zh + sentence_length_zh + calvillo_surp\",data=calvillo_surp_final_new).fit() \n",
    "model.summary()"
   ]
  },
  {
   "cell_type": "code",
   "execution_count": 102,
   "metadata": {},
   "outputs": [],
   "source": [
    "# from sklearn import linear_model\n",
    "# reg = linear_model.LassoLarsIC(criterion='aic')\n",
    "# reg.fit(X_train, y_train)\n",
    "# #LassoLarsIC(criterion='aic')\n",
    "# print(reg.criterion_)\n",
    "# print(\"mean: \" + str(np.mean(reg.criterion_)))\n",
    "# print(\"min: \" + str(np.amin(reg.criterion_)))"
   ]
  },
  {
   "cell_type": "code",
   "execution_count": 103,
   "metadata": {},
   "outputs": [],
   "source": [
    "# from sklearn import linear_model\n",
    "# reg = linear_model.LassoLarsIC(criterion='bic')\n",
    "# reg.fit(X_train, y_train)\n",
    "# #LassoLarsIC(criterion='aic')\n",
    "# print(reg.criterion_)\n",
    "# print(\"mean: \" + str(np.mean(reg.criterion_)))\n",
    "# print(\"min: \" + str(np.amin(reg.criterion_)))"
   ]
  },
  {
   "cell_type": "code",
   "execution_count": 104,
   "metadata": {},
   "outputs": [],
   "source": [
    "# num_params = len(clf.coef_) + 1\n",
    "# print('Number of parameters: %d' % (num_params))\n",
    "\n",
    "# ll = -log_loss(y_test, y_pred)*len(y_test)\n",
    "# print('LL: %.3f' % ll)"
   ]
  },
  {
   "cell_type": "code",
   "execution_count": 105,
   "metadata": {},
   "outputs": [],
   "source": [
    "# calculate_aic(len(y_train), ll, num_params)"
   ]
  },
  {
   "cell_type": "code",
   "execution_count": 106,
   "metadata": {},
   "outputs": [],
   "source": [
    "# calculate_bic(len(y_train), ll, num_params)"
   ]
  },
  {
   "cell_type": "code",
   "execution_count": 107,
   "metadata": {},
   "outputs": [
    {
     "name": "stdout",
     "output_type": "stream",
     "text": [
      "mean test accuracy: 0.587394640403115\n",
      "mean test f1: 0.5803157635059238\n",
      "mean test f1 macro: 0.5867898754665065\n",
      "mean test f1 micro: 0.587394640403115\n"
     ]
    }
   ],
   "source": [
    "result = cross_validate( # perform cross-validation\n",
    "        clf, # classifier object\n",
    "        X, # feature matrix\n",
    "        y, # gold labels\n",
    "        cv=10, #number of folds\n",
    "        scoring=['accuracy', 'f1', 'f1_macro', 'f1_micro'] # scoring methods\n",
    "    )\n",
    "print('mean test accuracy: ' + str(np.mean(result['test_accuracy'])))\n",
    "print('mean test f1: ' + str(np.mean(result['test_f1'])))\n",
    "print('mean test f1 macro: ' + str(np.mean(result['test_f1_macro'])))\n",
    "print('mean test f1 micro: ' + str(np.mean(result['test_f1_micro'])))"
   ]
  },
  {
   "cell_type": "code",
   "execution_count": 108,
   "metadata": {},
   "outputs": [],
   "source": [
    "# # number of parameters\n",
    "# num_params = len(clf.coef_) + 1\n",
    "# print('Number of parameters: %d' % (num_params))\n",
    "# # predict the training set\n",
    "# yhat = clf.predict(X)\n",
    "\n",
    "# ll = -log_loss(y_test, y_pred)*len(y_test)\n",
    "# print('LL: %.3f' % ll)\n",
    "# # calculate the aic\n",
    "# aic = calculate_aic(len(y), ll, num_params)\n",
    "# print('AIC: %.3f' % aic)\n",
    "# bic = calculate_bic(len(y), ll, num_params)\n",
    "# print('BIC: %.3f' % bic)"
   ]
  },
  {
   "cell_type": "code",
   "execution_count": null,
   "metadata": {},
   "outputs": [],
   "source": []
  },
  {
   "cell_type": "code",
   "execution_count": null,
   "metadata": {},
   "outputs": [],
   "source": []
  },
  {
   "cell_type": "code",
   "execution_count": 109,
   "metadata": {},
   "outputs": [],
   "source": [
    "ngram_surp = all_data[['word_freq_zh', 'cs_word_length_zh', 'sentence_length_zh', 'ngram_surp_zh', 'dep_surp_zh', 'code_switched']]\n",
    "ngram_surp['cs_word_pos_zh'] = as_ints"
   ]
  },
  {
   "cell_type": "code",
   "execution_count": 110,
   "metadata": {},
   "outputs": [
    {
     "data": {
      "text/html": [
       "<div>\n",
       "<style scoped>\n",
       "    .dataframe tbody tr th:only-of-type {\n",
       "        vertical-align: middle;\n",
       "    }\n",
       "\n",
       "    .dataframe tbody tr th {\n",
       "        vertical-align: top;\n",
       "    }\n",
       "\n",
       "    .dataframe thead th {\n",
       "        text-align: right;\n",
       "    }\n",
       "</style>\n",
       "<table border=\"1\" class=\"dataframe\">\n",
       "  <thead>\n",
       "    <tr style=\"text-align: right;\">\n",
       "      <th></th>\n",
       "      <th>word_freq_zh</th>\n",
       "      <th>cs_word_length_zh</th>\n",
       "      <th>sentence_length_zh</th>\n",
       "      <th>ngram_surp_zh</th>\n",
       "      <th>dep_surp_zh</th>\n",
       "      <th>code_switched</th>\n",
       "      <th>cs_word_pos_zh</th>\n",
       "    </tr>\n",
       "  </thead>\n",
       "  <tbody>\n",
       "    <tr>\n",
       "      <th>0</th>\n",
       "      <td>46.615353</td>\n",
       "      <td>2.0</td>\n",
       "      <td>34.0</td>\n",
       "      <td>5.630717</td>\n",
       "      <td>6.469786</td>\n",
       "      <td>1</td>\n",
       "      <td>0</td>\n",
       "    </tr>\n",
       "    <tr>\n",
       "      <th>1</th>\n",
       "      <td>41.578729</td>\n",
       "      <td>2.0</td>\n",
       "      <td>10.0</td>\n",
       "      <td>5.630717</td>\n",
       "      <td>6.199071</td>\n",
       "      <td>1</td>\n",
       "      <td>0</td>\n",
       "    </tr>\n",
       "    <tr>\n",
       "      <th>2</th>\n",
       "      <td>37.403903</td>\n",
       "      <td>2.0</td>\n",
       "      <td>8.0</td>\n",
       "      <td>4.787219</td>\n",
       "      <td>5.202944</td>\n",
       "      <td>1</td>\n",
       "      <td>0</td>\n",
       "    </tr>\n",
       "    <tr>\n",
       "      <th>3</th>\n",
       "      <td>40.402814</td>\n",
       "      <td>2.0</td>\n",
       "      <td>9.0</td>\n",
       "      <td>2.000932</td>\n",
       "      <td>1.262869</td>\n",
       "      <td>1</td>\n",
       "      <td>0</td>\n",
       "    </tr>\n",
       "    <tr>\n",
       "      <th>4</th>\n",
       "      <td>37.403903</td>\n",
       "      <td>2.0</td>\n",
       "      <td>5.0</td>\n",
       "      <td>5.630717</td>\n",
       "      <td>2.760256</td>\n",
       "      <td>1</td>\n",
       "      <td>0</td>\n",
       "    </tr>\n",
       "  </tbody>\n",
       "</table>\n",
       "</div>"
      ],
      "text/plain": [
       "   word_freq_zh  cs_word_length_zh  sentence_length_zh  ngram_surp_zh  \\\n",
       "0     46.615353                2.0                34.0       5.630717   \n",
       "1     41.578729                2.0                10.0       5.630717   \n",
       "2     37.403903                2.0                 8.0       4.787219   \n",
       "3     40.402814                2.0                 9.0       2.000932   \n",
       "4     37.403903                2.0                 5.0       5.630717   \n",
       "\n",
       "   dep_surp_zh  code_switched  cs_word_pos_zh  \n",
       "0     6.469786              1               0  \n",
       "1     6.199071              1               0  \n",
       "2     5.202944              1               0  \n",
       "3     1.262869              1               0  \n",
       "4     2.760256              1               0  "
      ]
     },
     "execution_count": 110,
     "metadata": {},
     "output_type": "execute_result"
    }
   ],
   "source": [
    "ngram_surp.head()"
   ]
  },
  {
   "cell_type": "code",
   "execution_count": 111,
   "metadata": {},
   "outputs": [],
   "source": [
    "ngram_surp = ngram_surp.dropna()"
   ]
  },
  {
   "cell_type": "code",
   "execution_count": 112,
   "metadata": {},
   "outputs": [
    {
     "data": {
      "text/plain": [
       "2952"
      ]
     },
     "execution_count": 112,
     "metadata": {},
     "output_type": "execute_result"
    }
   ],
   "source": [
    "len(ngram_surp)"
   ]
  },
  {
   "cell_type": "code",
   "execution_count": 113,
   "metadata": {},
   "outputs": [],
   "source": [
    "ngram_surp_final = ngram_surp[['word_freq_zh', 'cs_word_pos_zh', 'cs_word_length_zh', 'sentence_length_zh', 'ngram_surp_zh']]"
   ]
  },
  {
   "cell_type": "code",
   "execution_count": 114,
   "metadata": {},
   "outputs": [
    {
     "data": {
      "text/html": [
       "<div>\n",
       "<style scoped>\n",
       "    .dataframe tbody tr th:only-of-type {\n",
       "        vertical-align: middle;\n",
       "    }\n",
       "\n",
       "    .dataframe tbody tr th {\n",
       "        vertical-align: top;\n",
       "    }\n",
       "\n",
       "    .dataframe thead th {\n",
       "        text-align: right;\n",
       "    }\n",
       "</style>\n",
       "<table border=\"1\" class=\"dataframe\">\n",
       "  <thead>\n",
       "    <tr style=\"text-align: right;\">\n",
       "      <th></th>\n",
       "      <th>word_freq_zh</th>\n",
       "      <th>cs_word_pos_zh</th>\n",
       "      <th>cs_word_length_zh</th>\n",
       "      <th>sentence_length_zh</th>\n",
       "      <th>ngram_surp_zh</th>\n",
       "    </tr>\n",
       "  </thead>\n",
       "  <tbody>\n",
       "    <tr>\n",
       "      <th>0</th>\n",
       "      <td>46.615353</td>\n",
       "      <td>0</td>\n",
       "      <td>2.0</td>\n",
       "      <td>34.0</td>\n",
       "      <td>5.630717</td>\n",
       "    </tr>\n",
       "    <tr>\n",
       "      <th>1</th>\n",
       "      <td>41.578729</td>\n",
       "      <td>0</td>\n",
       "      <td>2.0</td>\n",
       "      <td>10.0</td>\n",
       "      <td>5.630717</td>\n",
       "    </tr>\n",
       "    <tr>\n",
       "      <th>2</th>\n",
       "      <td>37.403903</td>\n",
       "      <td>0</td>\n",
       "      <td>2.0</td>\n",
       "      <td>8.0</td>\n",
       "      <td>4.787219</td>\n",
       "    </tr>\n",
       "    <tr>\n",
       "      <th>3</th>\n",
       "      <td>40.402814</td>\n",
       "      <td>0</td>\n",
       "      <td>2.0</td>\n",
       "      <td>9.0</td>\n",
       "      <td>2.000932</td>\n",
       "    </tr>\n",
       "    <tr>\n",
       "      <th>4</th>\n",
       "      <td>37.403903</td>\n",
       "      <td>0</td>\n",
       "      <td>2.0</td>\n",
       "      <td>5.0</td>\n",
       "      <td>5.630717</td>\n",
       "    </tr>\n",
       "  </tbody>\n",
       "</table>\n",
       "</div>"
      ],
      "text/plain": [
       "   word_freq_zh  cs_word_pos_zh  cs_word_length_zh  sentence_length_zh  \\\n",
       "0     46.615353               0                2.0                34.0   \n",
       "1     41.578729               0                2.0                10.0   \n",
       "2     37.403903               0                2.0                 8.0   \n",
       "3     40.402814               0                2.0                 9.0   \n",
       "4     37.403903               0                2.0                 5.0   \n",
       "\n",
       "   ngram_surp_zh  \n",
       "0       5.630717  \n",
       "1       5.630717  \n",
       "2       4.787219  \n",
       "3       2.000932  \n",
       "4       5.630717  "
      ]
     },
     "execution_count": 114,
     "metadata": {},
     "output_type": "execute_result"
    }
   ],
   "source": [
    "ngram_surp_final.head()"
   ]
  },
  {
   "cell_type": "code",
   "execution_count": 115,
   "metadata": {},
   "outputs": [
    {
     "name": "stderr",
     "output_type": "stream",
     "text": [
      "/Library/Frameworks/Python.framework/Versions/3.7/lib/python3.7/site-packages/ipykernel_launcher.py:13: SettingWithCopyWarning: \n",
      "A value is trying to be set on a copy of a slice from a DataFrame.\n",
      "Try using .loc[row_indexer,col_indexer] = value instead\n",
      "\n",
      "See the caveats in the documentation: https://pandas.pydata.org/pandas-docs/stable/user_guide/indexing.html#returning-a-view-versus-a-copy\n",
      "  del sys.path[0]\n",
      "/Library/Frameworks/Python.framework/Versions/3.7/lib/python3.7/site-packages/ipykernel_launcher.py:14: SettingWithCopyWarning: \n",
      "A value is trying to be set on a copy of a slice from a DataFrame.\n",
      "Try using .loc[row_indexer,col_indexer] = value instead\n",
      "\n",
      "See the caveats in the documentation: https://pandas.pydata.org/pandas-docs/stable/user_guide/indexing.html#returning-a-view-versus-a-copy\n",
      "  \n",
      "/Library/Frameworks/Python.framework/Versions/3.7/lib/python3.7/site-packages/ipykernel_launcher.py:15: SettingWithCopyWarning: \n",
      "A value is trying to be set on a copy of a slice from a DataFrame.\n",
      "Try using .loc[row_indexer,col_indexer] = value instead\n",
      "\n",
      "See the caveats in the documentation: https://pandas.pydata.org/pandas-docs/stable/user_guide/indexing.html#returning-a-view-versus-a-copy\n",
      "  from ipykernel import kernelapp as app\n",
      "/Library/Frameworks/Python.framework/Versions/3.7/lib/python3.7/site-packages/ipykernel_launcher.py:17: SettingWithCopyWarning: \n",
      "A value is trying to be set on a copy of a slice from a DataFrame.\n",
      "Try using .loc[row_indexer,col_indexer] = value instead\n",
      "\n",
      "See the caveats in the documentation: https://pandas.pydata.org/pandas-docs/stable/user_guide/indexing.html#returning-a-view-versus-a-copy\n"
     ]
    }
   ],
   "source": [
    "cs_word_frequency = np.array(ngram_surp_final['word_freq_zh'])\n",
    "cs_word_length = np.array(ngram_surp_final['cs_word_length_zh'])\n",
    "sentence_length = np.array(ngram_surp_final['sentence_length_zh'])\n",
    "#cs_word_pos = np.array(ngram_surp_final['cs_word_pos_zh'])\n",
    "ngram_surp_val = np.array(ngram_surp_final['ngram_surp_zh'])\n",
    "\n",
    "cs_word_frequency_new = (cs_word_frequency-np.mean(cs_word_frequency))*0.5/np.std(cs_word_frequency)\n",
    "cs_word_length_new = (cs_word_length-np.mean(cs_word_length))*0.5/np.std(cs_word_length)\n",
    "sentence_length_new = (sentence_length-np.mean(sentence_length))*0.5/np.std(sentence_length)\n",
    "#cs_word_pos_new = (cs_word_pos-np.mean(cs_word_pos))*0.5/np.std(cs_word_pos)\n",
    "ngram_surp_new = (ngram_surp_val-np.mean(ngram_surp_val))*0.5/np.std(ngram_surp_val)\n",
    "\n",
    "ngram_surp_final['word_freq_zh'] = cs_word_frequency_new\n",
    "ngram_surp_final['cs_word_length_zh'] = cs_word_length_new\n",
    "ngram_surp_final['sentence_length_zh'] = sentence_length_new\n",
    "#ngram_surp_final['cs_word_pos_zh'] = cs_word_pos_new\n",
    "ngram_surp_final['ngram_surp_zh'] = ngram_surp_new"
   ]
  },
  {
   "cell_type": "code",
   "execution_count": 116,
   "metadata": {},
   "outputs": [
    {
     "data": {
      "text/html": [
       "<div>\n",
       "<style scoped>\n",
       "    .dataframe tbody tr th:only-of-type {\n",
       "        vertical-align: middle;\n",
       "    }\n",
       "\n",
       "    .dataframe tbody tr th {\n",
       "        vertical-align: top;\n",
       "    }\n",
       "\n",
       "    .dataframe thead th {\n",
       "        text-align: right;\n",
       "    }\n",
       "</style>\n",
       "<table border=\"1\" class=\"dataframe\">\n",
       "  <thead>\n",
       "    <tr style=\"text-align: right;\">\n",
       "      <th></th>\n",
       "      <th>word_freq_zh</th>\n",
       "      <th>cs_word_pos_zh</th>\n",
       "      <th>cs_word_length_zh</th>\n",
       "      <th>sentence_length_zh</th>\n",
       "      <th>ngram_surp_zh</th>\n",
       "    </tr>\n",
       "  </thead>\n",
       "  <tbody>\n",
       "    <tr>\n",
       "      <th>0</th>\n",
       "      <td>1.410115</td>\n",
       "      <td>0</td>\n",
       "      <td>0.170111</td>\n",
       "      <td>1.876020</td>\n",
       "      <td>0.615058</td>\n",
       "    </tr>\n",
       "    <tr>\n",
       "      <th>1</th>\n",
       "      <td>0.594916</td>\n",
       "      <td>0</td>\n",
       "      <td>0.170111</td>\n",
       "      <td>-0.096704</td>\n",
       "      <td>0.615058</td>\n",
       "    </tr>\n",
       "    <tr>\n",
       "      <th>2</th>\n",
       "      <td>-0.080797</td>\n",
       "      <td>0</td>\n",
       "      <td>0.170111</td>\n",
       "      <td>-0.261097</td>\n",
       "      <td>0.316623</td>\n",
       "    </tr>\n",
       "    <tr>\n",
       "      <th>3</th>\n",
       "      <td>0.404590</td>\n",
       "      <td>0</td>\n",
       "      <td>0.170111</td>\n",
       "      <td>-0.178901</td>\n",
       "      <td>-0.669184</td>\n",
       "    </tr>\n",
       "    <tr>\n",
       "      <th>4</th>\n",
       "      <td>-0.080797</td>\n",
       "      <td>0</td>\n",
       "      <td>0.170111</td>\n",
       "      <td>-0.507688</td>\n",
       "      <td>0.615058</td>\n",
       "    </tr>\n",
       "  </tbody>\n",
       "</table>\n",
       "</div>"
      ],
      "text/plain": [
       "   word_freq_zh  cs_word_pos_zh  cs_word_length_zh  sentence_length_zh  \\\n",
       "0      1.410115               0           0.170111            1.876020   \n",
       "1      0.594916               0           0.170111           -0.096704   \n",
       "2     -0.080797               0           0.170111           -0.261097   \n",
       "3      0.404590               0           0.170111           -0.178901   \n",
       "4     -0.080797               0           0.170111           -0.507688   \n",
       "\n",
       "   ngram_surp_zh  \n",
       "0       0.615058  \n",
       "1       0.615058  \n",
       "2       0.316623  \n",
       "3      -0.669184  \n",
       "4       0.615058  "
      ]
     },
     "execution_count": 116,
     "metadata": {},
     "output_type": "execute_result"
    }
   ],
   "source": [
    "ngram_surp_final.head()"
   ]
  },
  {
   "cell_type": "code",
   "execution_count": 117,
   "metadata": {},
   "outputs": [],
   "source": [
    "X = ngram_surp_final\n",
    "y = ngram_surp['code_switched']\n",
    "X_train, X_test, y_train, y_test = train_test_split(X, y, test_size=0.3, random_state=0)"
   ]
  },
  {
   "cell_type": "code",
   "execution_count": 118,
   "metadata": {},
   "outputs": [],
   "source": [
    "clf = LogisticRegression()\n",
    "clf.fit(X_train, y_train)\n",
    "y_pred = clf.predict(X_test)"
   ]
  },
  {
   "cell_type": "code",
   "execution_count": 119,
   "metadata": {},
   "outputs": [
    {
     "name": "stdout",
     "output_type": "stream",
     "text": [
      "              precision    recall  f1-score   support\n",
      "\n",
      "           0       0.55      0.64      0.60       419\n",
      "           1       0.63      0.54      0.58       467\n",
      "\n",
      "    accuracy                           0.59       886\n",
      "   macro avg       0.59      0.59      0.59       886\n",
      "weighted avg       0.59      0.59      0.59       886\n",
      "\n"
     ]
    }
   ],
   "source": [
    "print(classification_report(y_test, y_pred))"
   ]
  },
  {
   "cell_type": "code",
   "execution_count": 120,
   "metadata": {},
   "outputs": [
    {
     "name": "stdout",
     "output_type": "stream",
     "text": [
      "[[0.41399473 0.2268658  0.50656095 0.45905699 0.37447169]]\n",
      "[-0.18956228]\n"
     ]
    }
   ],
   "source": [
    "print(clf.coef_)\n",
    "print(clf.intercept_)"
   ]
  },
  {
   "cell_type": "code",
   "execution_count": 122,
   "metadata": {},
   "outputs": [],
   "source": [
    "ngram_surp_final_new = X.copy()\n",
    "ngram_surp_final_new['code_switched'] = y.copy()"
   ]
  },
  {
   "cell_type": "code",
   "execution_count": 123,
   "metadata": {},
   "outputs": [
    {
     "data": {
      "text/html": [
       "<table class=\"simpletable\">\n",
       "<caption>OLS Regression Results</caption>\n",
       "<tr>\n",
       "  <th>Dep. Variable:</th>      <td>code_switched</td>  <th>  R-squared:         </th> <td>   0.049</td>\n",
       "</tr>\n",
       "<tr>\n",
       "  <th>Model:</th>                   <td>OLS</td>       <th>  Adj. R-squared:    </th> <td>   0.047</td>\n",
       "</tr>\n",
       "<tr>\n",
       "  <th>Method:</th>             <td>Least Squares</td>  <th>  F-statistic:       </th> <td>   25.21</td>\n",
       "</tr>\n",
       "<tr>\n",
       "  <th>Date:</th>             <td>Wed, 15 Sep 2021</td> <th>  Prob (F-statistic):</th> <td>2.49e-29</td>\n",
       "</tr>\n",
       "<tr>\n",
       "  <th>Time:</th>                 <td>14:55:05</td>     <th>  Log-Likelihood:    </th> <td> -2068.6</td>\n",
       "</tr>\n",
       "<tr>\n",
       "  <th>No. Observations:</th>      <td>  2952</td>      <th>  AIC:               </th> <td>   4151.</td>\n",
       "</tr>\n",
       "<tr>\n",
       "  <th>Df Residuals:</th>          <td>  2945</td>      <th>  BIC:               </th> <td>   4193.</td>\n",
       "</tr>\n",
       "<tr>\n",
       "  <th>Df Model:</th>              <td>     6</td>      <th>                     </th>     <td> </td>   \n",
       "</tr>\n",
       "<tr>\n",
       "  <th>Covariance Type:</th>      <td>nonrobust</td>    <th>                     </th>     <td> </td>   \n",
       "</tr>\n",
       "</table>\n",
       "<table class=\"simpletable\">\n",
       "<tr>\n",
       "             <td></td>               <th>coef</th>     <th>std err</th>      <th>t</th>      <th>P>|t|</th>  <th>[0.025</th>    <th>0.975]</th>  \n",
       "</tr>\n",
       "<tr>\n",
       "  <th>Intercept</th>              <td>    0.4672</td> <td>    0.012</td> <td>   39.241</td> <td> 0.000</td> <td>    0.444</td> <td>    0.491</td>\n",
       "</tr>\n",
       "<tr>\n",
       "  <th>C(cs_word_pos_zh)[T.1]</th> <td>    0.0558</td> <td>    0.026</td> <td>    2.125</td> <td> 0.034</td> <td>    0.004</td> <td>    0.107</td>\n",
       "</tr>\n",
       "<tr>\n",
       "  <th>C(cs_word_pos_zh)[T.2]</th> <td>    0.1062</td> <td>    0.024</td> <td>    4.348</td> <td> 0.000</td> <td>    0.058</td> <td>    0.154</td>\n",
       "</tr>\n",
       "<tr>\n",
       "  <th>word_freq_zh</th>           <td>    0.0949</td> <td>    0.022</td> <td>    4.243</td> <td> 0.000</td> <td>    0.051</td> <td>    0.139</td>\n",
       "</tr>\n",
       "<tr>\n",
       "  <th>cs_word_length_zh</th>      <td>    0.1151</td> <td>    0.023</td> <td>    4.973</td> <td> 0.000</td> <td>    0.070</td> <td>    0.160</td>\n",
       "</tr>\n",
       "<tr>\n",
       "  <th>sentence_length_zh</th>     <td>    0.1218</td> <td>    0.018</td> <td>    6.738</td> <td> 0.000</td> <td>    0.086</td> <td>    0.157</td>\n",
       "</tr>\n",
       "<tr>\n",
       "  <th>ngram_surp_zh</th>          <td>    0.0834</td> <td>    0.018</td> <td>    4.628</td> <td> 0.000</td> <td>    0.048</td> <td>    0.119</td>\n",
       "</tr>\n",
       "</table>\n",
       "<table class=\"simpletable\">\n",
       "<tr>\n",
       "  <th>Omnibus:</th>       <td>11878.532</td> <th>  Durbin-Watson:     </th> <td>   0.097</td>\n",
       "</tr>\n",
       "<tr>\n",
       "  <th>Prob(Omnibus):</th>  <td> 0.000</td>   <th>  Jarque-Bera (JB):  </th> <td> 402.060</td>\n",
       "</tr>\n",
       "<tr>\n",
       "  <th>Skew:</th>           <td> 0.004</td>   <th>  Prob(JB):          </th> <td>4.94e-88</td>\n",
       "</tr>\n",
       "<tr>\n",
       "  <th>Kurtosis:</th>       <td> 1.192</td>   <th>  Cond. No.          </th> <td>    3.71</td>\n",
       "</tr>\n",
       "</table><br/><br/>Notes:<br/>[1] Standard Errors assume that the covariance matrix of the errors is correctly specified."
      ],
      "text/plain": [
       "<class 'statsmodels.iolib.summary.Summary'>\n",
       "\"\"\"\n",
       "                            OLS Regression Results                            \n",
       "==============================================================================\n",
       "Dep. Variable:          code_switched   R-squared:                       0.049\n",
       "Model:                            OLS   Adj. R-squared:                  0.047\n",
       "Method:                 Least Squares   F-statistic:                     25.21\n",
       "Date:                Wed, 15 Sep 2021   Prob (F-statistic):           2.49e-29\n",
       "Time:                        14:55:05   Log-Likelihood:                -2068.6\n",
       "No. Observations:                2952   AIC:                             4151.\n",
       "Df Residuals:                    2945   BIC:                             4193.\n",
       "Df Model:                           6                                         \n",
       "Covariance Type:            nonrobust                                         \n",
       "==========================================================================================\n",
       "                             coef    std err          t      P>|t|      [0.025      0.975]\n",
       "------------------------------------------------------------------------------------------\n",
       "Intercept                  0.4672      0.012     39.241      0.000       0.444       0.491\n",
       "C(cs_word_pos_zh)[T.1]     0.0558      0.026      2.125      0.034       0.004       0.107\n",
       "C(cs_word_pos_zh)[T.2]     0.1062      0.024      4.348      0.000       0.058       0.154\n",
       "word_freq_zh               0.0949      0.022      4.243      0.000       0.051       0.139\n",
       "cs_word_length_zh          0.1151      0.023      4.973      0.000       0.070       0.160\n",
       "sentence_length_zh         0.1218      0.018      6.738      0.000       0.086       0.157\n",
       "ngram_surp_zh              0.0834      0.018      4.628      0.000       0.048       0.119\n",
       "==============================================================================\n",
       "Omnibus:                    11878.532   Durbin-Watson:                   0.097\n",
       "Prob(Omnibus):                  0.000   Jarque-Bera (JB):              402.060\n",
       "Skew:                           0.004   Prob(JB):                     4.94e-88\n",
       "Kurtosis:                       1.192   Cond. No.                         3.71\n",
       "==============================================================================\n",
       "\n",
       "Notes:\n",
       "[1] Standard Errors assume that the covariance matrix of the errors is correctly specified.\n",
       "\"\"\""
      ]
     },
     "execution_count": 123,
     "metadata": {},
     "output_type": "execute_result"
    }
   ],
   "source": [
    "import statsmodels.api as sm \n",
    "import statsmodels.formula.api as smf\n",
    "model = smf.ols(formula=\"code_switched ~ word_freq_zh + C(cs_word_pos_zh) + cs_word_length_zh + sentence_length_zh + ngram_surp_zh\",data=ngram_surp_final_new).fit() \n",
    "model.summary()"
   ]
  },
  {
   "cell_type": "code",
   "execution_count": 124,
   "metadata": {},
   "outputs": [],
   "source": [
    "# from sklearn import linear_model\n",
    "# reg = linear_model.LassoLarsIC(criterion='aic')\n",
    "# reg.fit(X_train, y_train)\n",
    "# #LassoLarsIC(criterion='aic')\n",
    "# print(reg.criterion_)\n",
    "# print(\"mean: \" + str(np.mean(reg.criterion_)))\n",
    "# print(\"min: \" + str(np.amin(reg.criterion_)))"
   ]
  },
  {
   "cell_type": "code",
   "execution_count": 125,
   "metadata": {},
   "outputs": [],
   "source": [
    "# from sklearn import linear_model\n",
    "# reg = linear_model.LassoLarsIC(criterion='bic')\n",
    "# reg.fit(X_train, y_train)\n",
    "# #LassoLarsIC(criterion='aic')\n",
    "# print(reg.criterion_)\n",
    "# print(\"mean: \" + str(np.mean(reg.criterion_)))\n",
    "# print(\"min: \" + str(np.amin(reg.criterion_)))"
   ]
  },
  {
   "cell_type": "code",
   "execution_count": null,
   "metadata": {},
   "outputs": [],
   "source": []
  },
  {
   "cell_type": "code",
   "execution_count": 126,
   "metadata": {},
   "outputs": [],
   "source": [
    "# num_params = len(clf.coef_) + 1\n",
    "# print('Number of parameters: %d' % (num_params))\n",
    "\n",
    "# ll = -log_loss(y_test, y_pred)*len(y_test)\n",
    "# print('LL: %.3f' % ll)\n"
   ]
  },
  {
   "cell_type": "code",
   "execution_count": 127,
   "metadata": {},
   "outputs": [],
   "source": [
    "# calculate_aic(len(y_train), ll, num_params)"
   ]
  },
  {
   "cell_type": "code",
   "execution_count": 128,
   "metadata": {},
   "outputs": [],
   "source": [
    "# calculate_bic(len(y_train), ll, num_params)"
   ]
  },
  {
   "cell_type": "code",
   "execution_count": 129,
   "metadata": {},
   "outputs": [
    {
     "name": "stdout",
     "output_type": "stream",
     "text": [
      "mean test accuracy: 0.5965426019239578\n",
      "mean test f1: 0.5916827574495802\n",
      "mean test f1 macro: 0.5961172928742063\n",
      "mean test f1 micro: 0.5965426019239578\n"
     ]
    }
   ],
   "source": [
    "result = cross_validate( # perform cross-validation\n",
    "        clf, # classifier object\n",
    "        X, # feature matrix\n",
    "        y, # gold labels\n",
    "        cv=10, #number of folds\n",
    "        scoring=['accuracy', 'f1', 'f1_macro', 'f1_micro'] # scoring methods\n",
    "    )\n",
    "print('mean test accuracy: ' + str(np.mean(result['test_accuracy'])))\n",
    "print('mean test f1: ' + str(np.mean(result['test_f1'])))\n",
    "print('mean test f1 macro: ' + str(np.mean(result['test_f1_macro'])))\n",
    "print('mean test f1 micro: ' + str(np.mean(result['test_f1_micro'])))"
   ]
  },
  {
   "cell_type": "code",
   "execution_count": 130,
   "metadata": {},
   "outputs": [],
   "source": [
    "# # number of parameters\n",
    "# num_params = len(clf.coef_) + 1\n",
    "# print('Number of parameters: %d' % (num_params))\n",
    "# # predict the training set\n",
    "# yhat = clf.predict(X)\n",
    "# # calculate the error\n",
    "# ll = -log_loss(y_test, y_pred)*len(y_test)\n",
    "# print('LL: %.3f' % ll)\n",
    "# # calculate the aic\n",
    "# aic = calculate_aic(len(y), ll, num_params)\n",
    "# print('AIC: %.3f' % aic)\n",
    "# bic = calculate_bic(len(y), ll, num_params)\n",
    "# print('BIC: %.3f' % bic)"
   ]
  },
  {
   "cell_type": "code",
   "execution_count": null,
   "metadata": {},
   "outputs": [],
   "source": []
  },
  {
   "cell_type": "code",
   "execution_count": 131,
   "metadata": {},
   "outputs": [],
   "source": [
    "dep_surp = all_data[['word_freq_zh', 'cs_word_length_zh', 'sentence_length_zh', 'ngram_surp_zh', 'dep_surp_zh', 'code_switched']]\n",
    "dep_surp['cs_word_pos_zh'] = as_ints"
   ]
  },
  {
   "cell_type": "code",
   "execution_count": 132,
   "metadata": {},
   "outputs": [
    {
     "data": {
      "text/html": [
       "<div>\n",
       "<style scoped>\n",
       "    .dataframe tbody tr th:only-of-type {\n",
       "        vertical-align: middle;\n",
       "    }\n",
       "\n",
       "    .dataframe tbody tr th {\n",
       "        vertical-align: top;\n",
       "    }\n",
       "\n",
       "    .dataframe thead th {\n",
       "        text-align: right;\n",
       "    }\n",
       "</style>\n",
       "<table border=\"1\" class=\"dataframe\">\n",
       "  <thead>\n",
       "    <tr style=\"text-align: right;\">\n",
       "      <th></th>\n",
       "      <th>word_freq_zh</th>\n",
       "      <th>cs_word_length_zh</th>\n",
       "      <th>sentence_length_zh</th>\n",
       "      <th>ngram_surp_zh</th>\n",
       "      <th>dep_surp_zh</th>\n",
       "      <th>code_switched</th>\n",
       "      <th>cs_word_pos_zh</th>\n",
       "    </tr>\n",
       "  </thead>\n",
       "  <tbody>\n",
       "    <tr>\n",
       "      <th>0</th>\n",
       "      <td>46.615353</td>\n",
       "      <td>2.0</td>\n",
       "      <td>34.0</td>\n",
       "      <td>5.630717</td>\n",
       "      <td>6.469786</td>\n",
       "      <td>1</td>\n",
       "      <td>0</td>\n",
       "    </tr>\n",
       "    <tr>\n",
       "      <th>1</th>\n",
       "      <td>41.578729</td>\n",
       "      <td>2.0</td>\n",
       "      <td>10.0</td>\n",
       "      <td>5.630717</td>\n",
       "      <td>6.199071</td>\n",
       "      <td>1</td>\n",
       "      <td>0</td>\n",
       "    </tr>\n",
       "    <tr>\n",
       "      <th>2</th>\n",
       "      <td>37.403903</td>\n",
       "      <td>2.0</td>\n",
       "      <td>8.0</td>\n",
       "      <td>4.787219</td>\n",
       "      <td>5.202944</td>\n",
       "      <td>1</td>\n",
       "      <td>0</td>\n",
       "    </tr>\n",
       "    <tr>\n",
       "      <th>3</th>\n",
       "      <td>40.402814</td>\n",
       "      <td>2.0</td>\n",
       "      <td>9.0</td>\n",
       "      <td>2.000932</td>\n",
       "      <td>1.262869</td>\n",
       "      <td>1</td>\n",
       "      <td>0</td>\n",
       "    </tr>\n",
       "    <tr>\n",
       "      <th>4</th>\n",
       "      <td>37.403903</td>\n",
       "      <td>2.0</td>\n",
       "      <td>5.0</td>\n",
       "      <td>5.630717</td>\n",
       "      <td>2.760256</td>\n",
       "      <td>1</td>\n",
       "      <td>0</td>\n",
       "    </tr>\n",
       "  </tbody>\n",
       "</table>\n",
       "</div>"
      ],
      "text/plain": [
       "   word_freq_zh  cs_word_length_zh  sentence_length_zh  ngram_surp_zh  \\\n",
       "0     46.615353                2.0                34.0       5.630717   \n",
       "1     41.578729                2.0                10.0       5.630717   \n",
       "2     37.403903                2.0                 8.0       4.787219   \n",
       "3     40.402814                2.0                 9.0       2.000932   \n",
       "4     37.403903                2.0                 5.0       5.630717   \n",
       "\n",
       "   dep_surp_zh  code_switched  cs_word_pos_zh  \n",
       "0     6.469786              1               0  \n",
       "1     6.199071              1               0  \n",
       "2     5.202944              1               0  \n",
       "3     1.262869              1               0  \n",
       "4     2.760256              1               0  "
      ]
     },
     "execution_count": 132,
     "metadata": {},
     "output_type": "execute_result"
    }
   ],
   "source": [
    "dep_surp.head()"
   ]
  },
  {
   "cell_type": "code",
   "execution_count": 133,
   "metadata": {},
   "outputs": [],
   "source": [
    "dep_surp = dep_surp.dropna()"
   ]
  },
  {
   "cell_type": "code",
   "execution_count": 134,
   "metadata": {},
   "outputs": [
    {
     "data": {
      "text/plain": [
       "2952"
      ]
     },
     "execution_count": 134,
     "metadata": {},
     "output_type": "execute_result"
    }
   ],
   "source": [
    "len(dep_surp)"
   ]
  },
  {
   "cell_type": "code",
   "execution_count": 135,
   "metadata": {},
   "outputs": [],
   "source": [
    "dep_surp_final = dep_surp[['word_freq_zh', 'cs_word_pos_zh', 'cs_word_length_zh', 'sentence_length_zh', 'dep_surp_zh']]"
   ]
  },
  {
   "cell_type": "code",
   "execution_count": 136,
   "metadata": {},
   "outputs": [
    {
     "data": {
      "text/html": [
       "<div>\n",
       "<style scoped>\n",
       "    .dataframe tbody tr th:only-of-type {\n",
       "        vertical-align: middle;\n",
       "    }\n",
       "\n",
       "    .dataframe tbody tr th {\n",
       "        vertical-align: top;\n",
       "    }\n",
       "\n",
       "    .dataframe thead th {\n",
       "        text-align: right;\n",
       "    }\n",
       "</style>\n",
       "<table border=\"1\" class=\"dataframe\">\n",
       "  <thead>\n",
       "    <tr style=\"text-align: right;\">\n",
       "      <th></th>\n",
       "      <th>word_freq_zh</th>\n",
       "      <th>cs_word_pos_zh</th>\n",
       "      <th>cs_word_length_zh</th>\n",
       "      <th>sentence_length_zh</th>\n",
       "      <th>dep_surp_zh</th>\n",
       "    </tr>\n",
       "  </thead>\n",
       "  <tbody>\n",
       "    <tr>\n",
       "      <th>0</th>\n",
       "      <td>46.615353</td>\n",
       "      <td>0</td>\n",
       "      <td>2.0</td>\n",
       "      <td>34.0</td>\n",
       "      <td>6.469786</td>\n",
       "    </tr>\n",
       "    <tr>\n",
       "      <th>1</th>\n",
       "      <td>41.578729</td>\n",
       "      <td>0</td>\n",
       "      <td>2.0</td>\n",
       "      <td>10.0</td>\n",
       "      <td>6.199071</td>\n",
       "    </tr>\n",
       "    <tr>\n",
       "      <th>2</th>\n",
       "      <td>37.403903</td>\n",
       "      <td>0</td>\n",
       "      <td>2.0</td>\n",
       "      <td>8.0</td>\n",
       "      <td>5.202944</td>\n",
       "    </tr>\n",
       "    <tr>\n",
       "      <th>3</th>\n",
       "      <td>40.402814</td>\n",
       "      <td>0</td>\n",
       "      <td>2.0</td>\n",
       "      <td>9.0</td>\n",
       "      <td>1.262869</td>\n",
       "    </tr>\n",
       "    <tr>\n",
       "      <th>4</th>\n",
       "      <td>37.403903</td>\n",
       "      <td>0</td>\n",
       "      <td>2.0</td>\n",
       "      <td>5.0</td>\n",
       "      <td>2.760256</td>\n",
       "    </tr>\n",
       "  </tbody>\n",
       "</table>\n",
       "</div>"
      ],
      "text/plain": [
       "   word_freq_zh  cs_word_pos_zh  cs_word_length_zh  sentence_length_zh  \\\n",
       "0     46.615353               0                2.0                34.0   \n",
       "1     41.578729               0                2.0                10.0   \n",
       "2     37.403903               0                2.0                 8.0   \n",
       "3     40.402814               0                2.0                 9.0   \n",
       "4     37.403903               0                2.0                 5.0   \n",
       "\n",
       "   dep_surp_zh  \n",
       "0     6.469786  \n",
       "1     6.199071  \n",
       "2     5.202944  \n",
       "3     1.262869  \n",
       "4     2.760256  "
      ]
     },
     "execution_count": 136,
     "metadata": {},
     "output_type": "execute_result"
    }
   ],
   "source": [
    "dep_surp_final.head()"
   ]
  },
  {
   "cell_type": "code",
   "execution_count": 137,
   "metadata": {},
   "outputs": [
    {
     "name": "stderr",
     "output_type": "stream",
     "text": [
      "/Library/Frameworks/Python.framework/Versions/3.7/lib/python3.7/site-packages/ipykernel_launcher.py:13: SettingWithCopyWarning: \n",
      "A value is trying to be set on a copy of a slice from a DataFrame.\n",
      "Try using .loc[row_indexer,col_indexer] = value instead\n",
      "\n",
      "See the caveats in the documentation: https://pandas.pydata.org/pandas-docs/stable/user_guide/indexing.html#returning-a-view-versus-a-copy\n",
      "  del sys.path[0]\n",
      "/Library/Frameworks/Python.framework/Versions/3.7/lib/python3.7/site-packages/ipykernel_launcher.py:14: SettingWithCopyWarning: \n",
      "A value is trying to be set on a copy of a slice from a DataFrame.\n",
      "Try using .loc[row_indexer,col_indexer] = value instead\n",
      "\n",
      "See the caveats in the documentation: https://pandas.pydata.org/pandas-docs/stable/user_guide/indexing.html#returning-a-view-versus-a-copy\n",
      "  \n",
      "/Library/Frameworks/Python.framework/Versions/3.7/lib/python3.7/site-packages/ipykernel_launcher.py:15: SettingWithCopyWarning: \n",
      "A value is trying to be set on a copy of a slice from a DataFrame.\n",
      "Try using .loc[row_indexer,col_indexer] = value instead\n",
      "\n",
      "See the caveats in the documentation: https://pandas.pydata.org/pandas-docs/stable/user_guide/indexing.html#returning-a-view-versus-a-copy\n",
      "  from ipykernel import kernelapp as app\n",
      "/Library/Frameworks/Python.framework/Versions/3.7/lib/python3.7/site-packages/ipykernel_launcher.py:17: SettingWithCopyWarning: \n",
      "A value is trying to be set on a copy of a slice from a DataFrame.\n",
      "Try using .loc[row_indexer,col_indexer] = value instead\n",
      "\n",
      "See the caveats in the documentation: https://pandas.pydata.org/pandas-docs/stable/user_guide/indexing.html#returning-a-view-versus-a-copy\n"
     ]
    }
   ],
   "source": [
    "cs_word_frequency = np.array(dep_surp_final['word_freq_zh'])\n",
    "cs_word_length = np.array(dep_surp_final['cs_word_length_zh'])\n",
    "sentence_length = np.array(dep_surp_final['sentence_length_zh'])\n",
    "#cs_word_pos = np.array(dep_surp_final['cs_word_pos_zh'])\n",
    "dep_surp_val = np.array(dep_surp_final['dep_surp_zh'])\n",
    "\n",
    "cs_word_frequency_new = (cs_word_frequency-np.mean(cs_word_frequency))*0.5/np.std(cs_word_frequency)\n",
    "cs_word_length_new = (cs_word_length-np.mean(cs_word_length))*0.5/np.std(cs_word_length)\n",
    "sentence_length_new = (sentence_length-np.mean(sentence_length))*0.5/np.std(sentence_length)\n",
    "#cs_word_pos_new = (cs_word_pos-np.mean(cs_word_pos))*0.5/np.std(cs_word_pos)\n",
    "dep_surp_new = (dep_surp_val-np.mean(dep_surp_val))*0.5/np.std(dep_surp_val)\n",
    "\n",
    "dep_surp_final['word_freq_zh'] = cs_word_frequency_new\n",
    "dep_surp_final['cs_word_length_zh'] = cs_word_length_new\n",
    "dep_surp_final['sentence_length_zh'] = sentence_length_new\n",
    "#dep_surp_final['cs_word_pos_zh'] = cs_word_pos_new\n",
    "dep_surp_final['dep_surp_zh'] = dep_surp_new"
   ]
  },
  {
   "cell_type": "code",
   "execution_count": 138,
   "metadata": {},
   "outputs": [
    {
     "data": {
      "text/html": [
       "<div>\n",
       "<style scoped>\n",
       "    .dataframe tbody tr th:only-of-type {\n",
       "        vertical-align: middle;\n",
       "    }\n",
       "\n",
       "    .dataframe tbody tr th {\n",
       "        vertical-align: top;\n",
       "    }\n",
       "\n",
       "    .dataframe thead th {\n",
       "        text-align: right;\n",
       "    }\n",
       "</style>\n",
       "<table border=\"1\" class=\"dataframe\">\n",
       "  <thead>\n",
       "    <tr style=\"text-align: right;\">\n",
       "      <th></th>\n",
       "      <th>word_freq_zh</th>\n",
       "      <th>cs_word_pos_zh</th>\n",
       "      <th>cs_word_length_zh</th>\n",
       "      <th>sentence_length_zh</th>\n",
       "      <th>dep_surp_zh</th>\n",
       "    </tr>\n",
       "  </thead>\n",
       "  <tbody>\n",
       "    <tr>\n",
       "      <th>0</th>\n",
       "      <td>1.410115</td>\n",
       "      <td>0</td>\n",
       "      <td>0.170111</td>\n",
       "      <td>1.876020</td>\n",
       "      <td>0.645423</td>\n",
       "    </tr>\n",
       "    <tr>\n",
       "      <th>1</th>\n",
       "      <td>0.594916</td>\n",
       "      <td>0</td>\n",
       "      <td>0.170111</td>\n",
       "      <td>-0.096704</td>\n",
       "      <td>0.547655</td>\n",
       "    </tr>\n",
       "    <tr>\n",
       "      <th>2</th>\n",
       "      <td>-0.080797</td>\n",
       "      <td>0</td>\n",
       "      <td>0.170111</td>\n",
       "      <td>-0.261097</td>\n",
       "      <td>0.187909</td>\n",
       "    </tr>\n",
       "    <tr>\n",
       "      <th>3</th>\n",
       "      <td>0.404590</td>\n",
       "      <td>0</td>\n",
       "      <td>0.170111</td>\n",
       "      <td>-0.178901</td>\n",
       "      <td>-1.235032</td>\n",
       "    </tr>\n",
       "    <tr>\n",
       "      <th>4</th>\n",
       "      <td>-0.080797</td>\n",
       "      <td>0</td>\n",
       "      <td>0.170111</td>\n",
       "      <td>-0.507688</td>\n",
       "      <td>-0.694257</td>\n",
       "    </tr>\n",
       "  </tbody>\n",
       "</table>\n",
       "</div>"
      ],
      "text/plain": [
       "   word_freq_zh  cs_word_pos_zh  cs_word_length_zh  sentence_length_zh  \\\n",
       "0      1.410115               0           0.170111            1.876020   \n",
       "1      0.594916               0           0.170111           -0.096704   \n",
       "2     -0.080797               0           0.170111           -0.261097   \n",
       "3      0.404590               0           0.170111           -0.178901   \n",
       "4     -0.080797               0           0.170111           -0.507688   \n",
       "\n",
       "   dep_surp_zh  \n",
       "0     0.645423  \n",
       "1     0.547655  \n",
       "2     0.187909  \n",
       "3    -1.235032  \n",
       "4    -0.694257  "
      ]
     },
     "execution_count": 138,
     "metadata": {},
     "output_type": "execute_result"
    }
   ],
   "source": [
    "dep_surp_final.head()"
   ]
  },
  {
   "cell_type": "code",
   "execution_count": 139,
   "metadata": {},
   "outputs": [],
   "source": [
    "X = dep_surp_final\n",
    "y = dep_surp['code_switched']\n",
    "X_train, X_test, y_train, y_test = train_test_split(X, y, test_size=0.3, random_state=0)"
   ]
  },
  {
   "cell_type": "code",
   "execution_count": 140,
   "metadata": {},
   "outputs": [],
   "source": [
    "clf = LogisticRegression()\n",
    "clf.fit(X_train, y_train)\n",
    "y_pred = clf.predict(X_test)"
   ]
  },
  {
   "cell_type": "code",
   "execution_count": 141,
   "metadata": {},
   "outputs": [
    {
     "name": "stdout",
     "output_type": "stream",
     "text": [
      "              precision    recall  f1-score   support\n",
      "\n",
      "           0       0.60      0.61      0.60       419\n",
      "           1       0.64      0.63      0.64       467\n",
      "\n",
      "    accuracy                           0.62       886\n",
      "   macro avg       0.62      0.62      0.62       886\n",
      "weighted avg       0.62      0.62      0.62       886\n",
      "\n"
     ]
    }
   ],
   "source": [
    "print(classification_report(y_test, y_pred))"
   ]
  },
  {
   "cell_type": "code",
   "execution_count": 142,
   "metadata": {},
   "outputs": [
    {
     "name": "stdout",
     "output_type": "stream",
     "text": [
      "[[0.27758018 0.12351055 0.41039961 0.46781205 0.88994058]]\n",
      "[-0.12206681]\n"
     ]
    }
   ],
   "source": [
    "print(clf.coef_)\n",
    "print(clf.intercept_)"
   ]
  },
  {
   "cell_type": "code",
   "execution_count": 143,
   "metadata": {},
   "outputs": [
    {
     "data": {
      "text/html": [
       "<table class=\"simpletable\">\n",
       "<caption>OLS Regression Results</caption>\n",
       "<tr>\n",
       "  <th>Dep. Variable:</th>      <td>code_switched</td>  <th>  R-squared:         </th> <td>   0.078</td>\n",
       "</tr>\n",
       "<tr>\n",
       "  <th>Model:</th>                   <td>OLS</td>       <th>  Adj. R-squared:    </th> <td>   0.076</td>\n",
       "</tr>\n",
       "<tr>\n",
       "  <th>Method:</th>             <td>Least Squares</td>  <th>  F-statistic:       </th> <td>   41.36</td>\n",
       "</tr>\n",
       "<tr>\n",
       "  <th>Date:</th>             <td>Wed, 15 Sep 2021</td> <th>  Prob (F-statistic):</th> <td>1.23e-48</td>\n",
       "</tr>\n",
       "<tr>\n",
       "  <th>Time:</th>                 <td>14:56:45</td>     <th>  Log-Likelihood:    </th> <td> -2023.1</td>\n",
       "</tr>\n",
       "<tr>\n",
       "  <th>No. Observations:</th>      <td>  2952</td>      <th>  AIC:               </th> <td>   4060.</td>\n",
       "</tr>\n",
       "<tr>\n",
       "  <th>Df Residuals:</th>          <td>  2945</td>      <th>  BIC:               </th> <td>   4102.</td>\n",
       "</tr>\n",
       "<tr>\n",
       "  <th>Df Model:</th>              <td>     6</td>      <th>                     </th>     <td> </td>   \n",
       "</tr>\n",
       "<tr>\n",
       "  <th>Covariance Type:</th>      <td>nonrobust</td>    <th>                     </th>     <td> </td>   \n",
       "</tr>\n",
       "</table>\n",
       "<table class=\"simpletable\">\n",
       "<tr>\n",
       "             <td></td>               <th>coef</th>     <th>std err</th>      <th>t</th>      <th>P>|t|</th>  <th>[0.025</th>    <th>0.975]</th>  \n",
       "</tr>\n",
       "<tr>\n",
       "  <th>Intercept</th>              <td>    0.4780</td> <td>    0.012</td> <td>   40.614</td> <td> 0.000</td> <td>    0.455</td> <td>    0.501</td>\n",
       "</tr>\n",
       "<tr>\n",
       "  <th>C(cs_word_pos_zh)[T.1]</th> <td>    0.0640</td> <td>    0.026</td> <td>    2.472</td> <td> 0.014</td> <td>    0.013</td> <td>    0.115</td>\n",
       "</tr>\n",
       "<tr>\n",
       "  <th>C(cs_word_pos_zh)[T.2]</th> <td>    0.0528</td> <td>    0.025</td> <td>    2.150</td> <td> 0.032</td> <td>    0.005</td> <td>    0.101</td>\n",
       "</tr>\n",
       "<tr>\n",
       "  <th>word_freq_zh</th>           <td>    0.0598</td> <td>    0.022</td> <td>    2.681</td> <td> 0.007</td> <td>    0.016</td> <td>    0.104</td>\n",
       "</tr>\n",
       "<tr>\n",
       "  <th>cs_word_length_zh</th>      <td>    0.0959</td> <td>    0.023</td> <td>    4.196</td> <td> 0.000</td> <td>    0.051</td> <td>    0.141</td>\n",
       "</tr>\n",
       "<tr>\n",
       "  <th>sentence_length_zh</th>     <td>    0.1217</td> <td>    0.018</td> <td>    6.843</td> <td> 0.000</td> <td>    0.087</td> <td>    0.157</td>\n",
       "</tr>\n",
       "<tr>\n",
       "  <th>dep_surp_zh</th>            <td>    0.1971</td> <td>    0.018</td> <td>   10.689</td> <td> 0.000</td> <td>    0.161</td> <td>    0.233</td>\n",
       "</tr>\n",
       "</table>\n",
       "<table class=\"simpletable\">\n",
       "<tr>\n",
       "  <th>Omnibus:</th>       <td>13415.243</td> <th>  Durbin-Watson:     </th> <td>   0.157</td>\n",
       "</tr>\n",
       "<tr>\n",
       "  <th>Prob(Omnibus):</th>  <td> 0.000</td>   <th>  Jarque-Bera (JB):  </th> <td> 350.275</td>\n",
       "</tr>\n",
       "<tr>\n",
       "  <th>Skew:</th>           <td> 0.031</td>   <th>  Prob(JB):          </th> <td>8.68e-77</td>\n",
       "</tr>\n",
       "<tr>\n",
       "  <th>Kurtosis:</th>       <td> 1.314</td>   <th>  Cond. No.          </th> <td>    3.73</td>\n",
       "</tr>\n",
       "</table><br/><br/>Notes:<br/>[1] Standard Errors assume that the covariance matrix of the errors is correctly specified."
      ],
      "text/plain": [
       "<class 'statsmodels.iolib.summary.Summary'>\n",
       "\"\"\"\n",
       "                            OLS Regression Results                            \n",
       "==============================================================================\n",
       "Dep. Variable:          code_switched   R-squared:                       0.078\n",
       "Model:                            OLS   Adj. R-squared:                  0.076\n",
       "Method:                 Least Squares   F-statistic:                     41.36\n",
       "Date:                Wed, 15 Sep 2021   Prob (F-statistic):           1.23e-48\n",
       "Time:                        14:56:45   Log-Likelihood:                -2023.1\n",
       "No. Observations:                2952   AIC:                             4060.\n",
       "Df Residuals:                    2945   BIC:                             4102.\n",
       "Df Model:                           6                                         \n",
       "Covariance Type:            nonrobust                                         \n",
       "==========================================================================================\n",
       "                             coef    std err          t      P>|t|      [0.025      0.975]\n",
       "------------------------------------------------------------------------------------------\n",
       "Intercept                  0.4780      0.012     40.614      0.000       0.455       0.501\n",
       "C(cs_word_pos_zh)[T.1]     0.0640      0.026      2.472      0.014       0.013       0.115\n",
       "C(cs_word_pos_zh)[T.2]     0.0528      0.025      2.150      0.032       0.005       0.101\n",
       "word_freq_zh               0.0598      0.022      2.681      0.007       0.016       0.104\n",
       "cs_word_length_zh          0.0959      0.023      4.196      0.000       0.051       0.141\n",
       "sentence_length_zh         0.1217      0.018      6.843      0.000       0.087       0.157\n",
       "dep_surp_zh                0.1971      0.018     10.689      0.000       0.161       0.233\n",
       "==============================================================================\n",
       "Omnibus:                    13415.243   Durbin-Watson:                   0.157\n",
       "Prob(Omnibus):                  0.000   Jarque-Bera (JB):              350.275\n",
       "Skew:                           0.031   Prob(JB):                     8.68e-77\n",
       "Kurtosis:                       1.314   Cond. No.                         3.73\n",
       "==============================================================================\n",
       "\n",
       "Notes:\n",
       "[1] Standard Errors assume that the covariance matrix of the errors is correctly specified.\n",
       "\"\"\""
      ]
     },
     "execution_count": 143,
     "metadata": {},
     "output_type": "execute_result"
    }
   ],
   "source": [
    "dep_surp_final_new = X.copy()\n",
    "dep_surp_final_new['code_switched'] = y.copy()\n",
    "import statsmodels.api as sm \n",
    "import statsmodels.formula.api as smf\n",
    "model = smf.ols(formula=\"code_switched ~ word_freq_zh + C(cs_word_pos_zh) + cs_word_length_zh + sentence_length_zh + dep_surp_zh\",data=dep_surp_final_new).fit() \n",
    "model.summary()"
   ]
  },
  {
   "cell_type": "code",
   "execution_count": 144,
   "metadata": {},
   "outputs": [],
   "source": [
    "# from sklearn import linear_model\n",
    "# reg = linear_model.LassoLarsIC(criterion='aic')\n",
    "# reg.fit(X_train, y_train)\n",
    "# #LassoLarsIC(criterion='aic')\n",
    "# print(reg.criterion_)\n",
    "# print(\"mean: \" + str(np.mean(reg.criterion_)))\n",
    "# print(\"min: \" + str(np.amin(reg.criterion_)))"
   ]
  },
  {
   "cell_type": "code",
   "execution_count": 145,
   "metadata": {},
   "outputs": [],
   "source": [
    "# from sklearn import linear_model\n",
    "# reg = linear_model.LassoLarsIC(criterion='bic')\n",
    "# reg.fit(X_train, y_train)\n",
    "# #LassoLarsIC(criterion='aic')\n",
    "# print(reg.criterion_)\n",
    "# print(\"mean: \" + str(np.mean(reg.criterion_)))\n",
    "# print(\"min: \" + str(np.amin(reg.criterion_)))"
   ]
  },
  {
   "cell_type": "code",
   "execution_count": 146,
   "metadata": {},
   "outputs": [],
   "source": [
    "# num_params = len(clf.coef_) + 1\n",
    "# print('Number of parameters: %d' % (num_params))\n",
    "\n",
    "# ll = -log_loss(y_test, y_pred)*len(y_test)\n",
    "# print('LL: %.3f' % ll)"
   ]
  },
  {
   "cell_type": "code",
   "execution_count": 147,
   "metadata": {},
   "outputs": [],
   "source": [
    "# calculate_aic(len(y_train), ll, num_params)"
   ]
  },
  {
   "cell_type": "code",
   "execution_count": 148,
   "metadata": {},
   "outputs": [],
   "source": [
    "# calculate_bic(len(y_train), ll, num_params)"
   ]
  },
  {
   "cell_type": "code",
   "execution_count": 149,
   "metadata": {},
   "outputs": [
    {
     "name": "stdout",
     "output_type": "stream",
     "text": [
      "mean test accuracy: 0.6426454420522216\n",
      "mean test f1: 0.647638089409444\n",
      "mean test f1 macro: 0.6417456135477762\n",
      "mean test f1 micro: 0.6426454420522216\n"
     ]
    }
   ],
   "source": [
    "result = cross_validate( # perform cross-validation\n",
    "        clf, # classifier object\n",
    "        X, # feature matrix\n",
    "        y, # gold labels\n",
    "        cv=10, #number of folds\n",
    "        scoring=['accuracy', 'f1', 'f1_macro', 'f1_micro'] # scoring methods\n",
    "    )\n",
    "print('mean test accuracy: ' + str(np.mean(result['test_accuracy'])))\n",
    "print('mean test f1: ' + str(np.mean(result['test_f1'])))\n",
    "print('mean test f1 macro: ' + str(np.mean(result['test_f1_macro'])))\n",
    "print('mean test f1 micro: ' + str(np.mean(result['test_f1_micro'])))"
   ]
  },
  {
   "cell_type": "code",
   "execution_count": 150,
   "metadata": {},
   "outputs": [],
   "source": [
    "# # number of parameters\n",
    "# num_params = len(clf.coef_) + 1\n",
    "# print('Number of parameters: %d' % (num_params))\n",
    "# # predict the training set\n",
    "# yhat = clf.predict(X)\n",
    "# # calculate the error\n",
    "# ll = -log_loss(y_test, y_pred)*len(y_test)\n",
    "# print('LL: %.3f' % ll)\n",
    "# # calculate the aic\n",
    "# aic = calculate_aic(len(y), ll, num_params)\n",
    "# print('AIC: %.3f' % aic)\n",
    "# bic = calculate_bic(len(y), ll, num_params)\n",
    "# print('BIC: %.3f' % bic)"
   ]
  },
  {
   "cell_type": "code",
   "execution_count": null,
   "metadata": {},
   "outputs": [],
   "source": []
  },
  {
   "cell_type": "code",
   "execution_count": 151,
   "metadata": {},
   "outputs": [],
   "source": [
    "all_surp = all_data[['word_freq_zh', 'cs_word_length_zh', 'sentence_length_zh', 'ngram_surp_zh', 'dep_surp_zh', 'code_switched']]\n",
    "all_surp['cs_word_pos_zh'] = as_ints"
   ]
  },
  {
   "cell_type": "code",
   "execution_count": 152,
   "metadata": {},
   "outputs": [
    {
     "data": {
      "text/html": [
       "<div>\n",
       "<style scoped>\n",
       "    .dataframe tbody tr th:only-of-type {\n",
       "        vertical-align: middle;\n",
       "    }\n",
       "\n",
       "    .dataframe tbody tr th {\n",
       "        vertical-align: top;\n",
       "    }\n",
       "\n",
       "    .dataframe thead th {\n",
       "        text-align: right;\n",
       "    }\n",
       "</style>\n",
       "<table border=\"1\" class=\"dataframe\">\n",
       "  <thead>\n",
       "    <tr style=\"text-align: right;\">\n",
       "      <th></th>\n",
       "      <th>word_freq_zh</th>\n",
       "      <th>cs_word_length_zh</th>\n",
       "      <th>sentence_length_zh</th>\n",
       "      <th>ngram_surp_zh</th>\n",
       "      <th>dep_surp_zh</th>\n",
       "      <th>code_switched</th>\n",
       "      <th>cs_word_pos_zh</th>\n",
       "    </tr>\n",
       "  </thead>\n",
       "  <tbody>\n",
       "    <tr>\n",
       "      <th>0</th>\n",
       "      <td>46.615353</td>\n",
       "      <td>2.0</td>\n",
       "      <td>34.0</td>\n",
       "      <td>5.630717</td>\n",
       "      <td>6.469786</td>\n",
       "      <td>1</td>\n",
       "      <td>0</td>\n",
       "    </tr>\n",
       "    <tr>\n",
       "      <th>1</th>\n",
       "      <td>41.578729</td>\n",
       "      <td>2.0</td>\n",
       "      <td>10.0</td>\n",
       "      <td>5.630717</td>\n",
       "      <td>6.199071</td>\n",
       "      <td>1</td>\n",
       "      <td>0</td>\n",
       "    </tr>\n",
       "    <tr>\n",
       "      <th>2</th>\n",
       "      <td>37.403903</td>\n",
       "      <td>2.0</td>\n",
       "      <td>8.0</td>\n",
       "      <td>4.787219</td>\n",
       "      <td>5.202944</td>\n",
       "      <td>1</td>\n",
       "      <td>0</td>\n",
       "    </tr>\n",
       "    <tr>\n",
       "      <th>3</th>\n",
       "      <td>40.402814</td>\n",
       "      <td>2.0</td>\n",
       "      <td>9.0</td>\n",
       "      <td>2.000932</td>\n",
       "      <td>1.262869</td>\n",
       "      <td>1</td>\n",
       "      <td>0</td>\n",
       "    </tr>\n",
       "    <tr>\n",
       "      <th>4</th>\n",
       "      <td>37.403903</td>\n",
       "      <td>2.0</td>\n",
       "      <td>5.0</td>\n",
       "      <td>5.630717</td>\n",
       "      <td>2.760256</td>\n",
       "      <td>1</td>\n",
       "      <td>0</td>\n",
       "    </tr>\n",
       "  </tbody>\n",
       "</table>\n",
       "</div>"
      ],
      "text/plain": [
       "   word_freq_zh  cs_word_length_zh  sentence_length_zh  ngram_surp_zh  \\\n",
       "0     46.615353                2.0                34.0       5.630717   \n",
       "1     41.578729                2.0                10.0       5.630717   \n",
       "2     37.403903                2.0                 8.0       4.787219   \n",
       "3     40.402814                2.0                 9.0       2.000932   \n",
       "4     37.403903                2.0                 5.0       5.630717   \n",
       "\n",
       "   dep_surp_zh  code_switched  cs_word_pos_zh  \n",
       "0     6.469786              1               0  \n",
       "1     6.199071              1               0  \n",
       "2     5.202944              1               0  \n",
       "3     1.262869              1               0  \n",
       "4     2.760256              1               0  "
      ]
     },
     "execution_count": 152,
     "metadata": {},
     "output_type": "execute_result"
    }
   ],
   "source": [
    "all_surp.head()"
   ]
  },
  {
   "cell_type": "code",
   "execution_count": 153,
   "metadata": {},
   "outputs": [],
   "source": [
    "all_surp = all_surp.dropna()"
   ]
  },
  {
   "cell_type": "code",
   "execution_count": 154,
   "metadata": {},
   "outputs": [
    {
     "data": {
      "text/plain": [
       "2952"
      ]
     },
     "execution_count": 154,
     "metadata": {},
     "output_type": "execute_result"
    }
   ],
   "source": [
    "len(all_surp)"
   ]
  },
  {
   "cell_type": "code",
   "execution_count": 155,
   "metadata": {},
   "outputs": [],
   "source": [
    "all_surp_final = all_surp[['word_freq_zh', 'cs_word_pos_zh', 'cs_word_length_zh', 'sentence_length_zh', 'ngram_surp_zh', 'dep_surp_zh']]"
   ]
  },
  {
   "cell_type": "code",
   "execution_count": 156,
   "metadata": {},
   "outputs": [
    {
     "data": {
      "text/html": [
       "<div>\n",
       "<style scoped>\n",
       "    .dataframe tbody tr th:only-of-type {\n",
       "        vertical-align: middle;\n",
       "    }\n",
       "\n",
       "    .dataframe tbody tr th {\n",
       "        vertical-align: top;\n",
       "    }\n",
       "\n",
       "    .dataframe thead th {\n",
       "        text-align: right;\n",
       "    }\n",
       "</style>\n",
       "<table border=\"1\" class=\"dataframe\">\n",
       "  <thead>\n",
       "    <tr style=\"text-align: right;\">\n",
       "      <th></th>\n",
       "      <th>word_freq_zh</th>\n",
       "      <th>cs_word_pos_zh</th>\n",
       "      <th>cs_word_length_zh</th>\n",
       "      <th>sentence_length_zh</th>\n",
       "      <th>ngram_surp_zh</th>\n",
       "      <th>dep_surp_zh</th>\n",
       "    </tr>\n",
       "  </thead>\n",
       "  <tbody>\n",
       "    <tr>\n",
       "      <th>0</th>\n",
       "      <td>46.615353</td>\n",
       "      <td>0</td>\n",
       "      <td>2.0</td>\n",
       "      <td>34.0</td>\n",
       "      <td>5.630717</td>\n",
       "      <td>6.469786</td>\n",
       "    </tr>\n",
       "    <tr>\n",
       "      <th>1</th>\n",
       "      <td>41.578729</td>\n",
       "      <td>0</td>\n",
       "      <td>2.0</td>\n",
       "      <td>10.0</td>\n",
       "      <td>5.630717</td>\n",
       "      <td>6.199071</td>\n",
       "    </tr>\n",
       "    <tr>\n",
       "      <th>2</th>\n",
       "      <td>37.403903</td>\n",
       "      <td>0</td>\n",
       "      <td>2.0</td>\n",
       "      <td>8.0</td>\n",
       "      <td>4.787219</td>\n",
       "      <td>5.202944</td>\n",
       "    </tr>\n",
       "    <tr>\n",
       "      <th>3</th>\n",
       "      <td>40.402814</td>\n",
       "      <td>0</td>\n",
       "      <td>2.0</td>\n",
       "      <td>9.0</td>\n",
       "      <td>2.000932</td>\n",
       "      <td>1.262869</td>\n",
       "    </tr>\n",
       "    <tr>\n",
       "      <th>4</th>\n",
       "      <td>37.403903</td>\n",
       "      <td>0</td>\n",
       "      <td>2.0</td>\n",
       "      <td>5.0</td>\n",
       "      <td>5.630717</td>\n",
       "      <td>2.760256</td>\n",
       "    </tr>\n",
       "  </tbody>\n",
       "</table>\n",
       "</div>"
      ],
      "text/plain": [
       "   word_freq_zh  cs_word_pos_zh  cs_word_length_zh  sentence_length_zh  \\\n",
       "0     46.615353               0                2.0                34.0   \n",
       "1     41.578729               0                2.0                10.0   \n",
       "2     37.403903               0                2.0                 8.0   \n",
       "3     40.402814               0                2.0                 9.0   \n",
       "4     37.403903               0                2.0                 5.0   \n",
       "\n",
       "   ngram_surp_zh  dep_surp_zh  \n",
       "0       5.630717     6.469786  \n",
       "1       5.630717     6.199071  \n",
       "2       4.787219     5.202944  \n",
       "3       2.000932     1.262869  \n",
       "4       5.630717     2.760256  "
      ]
     },
     "execution_count": 156,
     "metadata": {},
     "output_type": "execute_result"
    }
   ],
   "source": [
    "all_surp_final.head()"
   ]
  },
  {
   "cell_type": "code",
   "execution_count": 157,
   "metadata": {},
   "outputs": [
    {
     "name": "stderr",
     "output_type": "stream",
     "text": [
      "/Library/Frameworks/Python.framework/Versions/3.7/lib/python3.7/site-packages/ipykernel_launcher.py:15: SettingWithCopyWarning: \n",
      "A value is trying to be set on a copy of a slice from a DataFrame.\n",
      "Try using .loc[row_indexer,col_indexer] = value instead\n",
      "\n",
      "See the caveats in the documentation: https://pandas.pydata.org/pandas-docs/stable/user_guide/indexing.html#returning-a-view-versus-a-copy\n",
      "  from ipykernel import kernelapp as app\n",
      "/Library/Frameworks/Python.framework/Versions/3.7/lib/python3.7/site-packages/ipykernel_launcher.py:16: SettingWithCopyWarning: \n",
      "A value is trying to be set on a copy of a slice from a DataFrame.\n",
      "Try using .loc[row_indexer,col_indexer] = value instead\n",
      "\n",
      "See the caveats in the documentation: https://pandas.pydata.org/pandas-docs/stable/user_guide/indexing.html#returning-a-view-versus-a-copy\n",
      "  app.launch_new_instance()\n",
      "/Library/Frameworks/Python.framework/Versions/3.7/lib/python3.7/site-packages/ipykernel_launcher.py:17: SettingWithCopyWarning: \n",
      "A value is trying to be set on a copy of a slice from a DataFrame.\n",
      "Try using .loc[row_indexer,col_indexer] = value instead\n",
      "\n",
      "See the caveats in the documentation: https://pandas.pydata.org/pandas-docs/stable/user_guide/indexing.html#returning-a-view-versus-a-copy\n",
      "/Library/Frameworks/Python.framework/Versions/3.7/lib/python3.7/site-packages/ipykernel_launcher.py:19: SettingWithCopyWarning: \n",
      "A value is trying to be set on a copy of a slice from a DataFrame.\n",
      "Try using .loc[row_indexer,col_indexer] = value instead\n",
      "\n",
      "See the caveats in the documentation: https://pandas.pydata.org/pandas-docs/stable/user_guide/indexing.html#returning-a-view-versus-a-copy\n",
      "/Library/Frameworks/Python.framework/Versions/3.7/lib/python3.7/site-packages/ipykernel_launcher.py:20: SettingWithCopyWarning: \n",
      "A value is trying to be set on a copy of a slice from a DataFrame.\n",
      "Try using .loc[row_indexer,col_indexer] = value instead\n",
      "\n",
      "See the caveats in the documentation: https://pandas.pydata.org/pandas-docs/stable/user_guide/indexing.html#returning-a-view-versus-a-copy\n"
     ]
    }
   ],
   "source": [
    "cs_word_frequency = np.array(all_surp_final['word_freq_zh'])\n",
    "cs_word_length = np.array(all_surp_final['cs_word_length_zh'])\n",
    "sentence_length = np.array(all_surp_final['sentence_length_zh'])\n",
    "#cs_word_pos = np.array(all_surp_final['cs_word_pos_zh'])\n",
    "ngram_surp_val = np.array(all_surp_final['ngram_surp_zh'])\n",
    "dep_surp_val = np.array(all_surp_final['dep_surp_zh'])\n",
    "\n",
    "cs_word_frequency_new = (cs_word_frequency-np.mean(cs_word_frequency))*0.5/np.std(cs_word_frequency)\n",
    "cs_word_length_new = (cs_word_length-np.mean(cs_word_length))*0.5/np.std(cs_word_length)\n",
    "sentence_length_new = (sentence_length-np.mean(sentence_length))*0.5/np.std(sentence_length)\n",
    "#cs_word_pos_new = (cs_word_pos-np.mean(cs_word_pos))*0.5/np.std(cs_word_pos)\n",
    "ngram_surp_new = (ngram_surp_val-np.mean(ngram_surp_val))*0.5/np.std(ngram_surp_val)\n",
    "dep_surp_new = (dep_surp_val-np.mean(dep_surp_val))*0.5/np.std(dep_surp_val)\n",
    "\n",
    "all_surp_final['word_freq_zh'] = cs_word_frequency_new\n",
    "all_surp_final['cs_word_length_zh'] = cs_word_length_new\n",
    "all_surp_final['sentence_length_zh'] = sentence_length_new\n",
    "#all_surp_final['cs_word_pos_zh'] = cs_word_pos_new\n",
    "all_surp_final['ngram_surp_zh'] = ngram_surp_new\n",
    "all_surp_final['dep_surp_zh'] = dep_surp_new"
   ]
  },
  {
   "cell_type": "code",
   "execution_count": 158,
   "metadata": {},
   "outputs": [
    {
     "data": {
      "text/html": [
       "<div>\n",
       "<style scoped>\n",
       "    .dataframe tbody tr th:only-of-type {\n",
       "        vertical-align: middle;\n",
       "    }\n",
       "\n",
       "    .dataframe tbody tr th {\n",
       "        vertical-align: top;\n",
       "    }\n",
       "\n",
       "    .dataframe thead th {\n",
       "        text-align: right;\n",
       "    }\n",
       "</style>\n",
       "<table border=\"1\" class=\"dataframe\">\n",
       "  <thead>\n",
       "    <tr style=\"text-align: right;\">\n",
       "      <th></th>\n",
       "      <th>word_freq_zh</th>\n",
       "      <th>cs_word_pos_zh</th>\n",
       "      <th>cs_word_length_zh</th>\n",
       "      <th>sentence_length_zh</th>\n",
       "      <th>ngram_surp_zh</th>\n",
       "      <th>dep_surp_zh</th>\n",
       "    </tr>\n",
       "  </thead>\n",
       "  <tbody>\n",
       "    <tr>\n",
       "      <th>0</th>\n",
       "      <td>1.410115</td>\n",
       "      <td>0</td>\n",
       "      <td>0.170111</td>\n",
       "      <td>1.876020</td>\n",
       "      <td>0.615058</td>\n",
       "      <td>0.645423</td>\n",
       "    </tr>\n",
       "    <tr>\n",
       "      <th>1</th>\n",
       "      <td>0.594916</td>\n",
       "      <td>0</td>\n",
       "      <td>0.170111</td>\n",
       "      <td>-0.096704</td>\n",
       "      <td>0.615058</td>\n",
       "      <td>0.547655</td>\n",
       "    </tr>\n",
       "    <tr>\n",
       "      <th>2</th>\n",
       "      <td>-0.080797</td>\n",
       "      <td>0</td>\n",
       "      <td>0.170111</td>\n",
       "      <td>-0.261097</td>\n",
       "      <td>0.316623</td>\n",
       "      <td>0.187909</td>\n",
       "    </tr>\n",
       "    <tr>\n",
       "      <th>3</th>\n",
       "      <td>0.404590</td>\n",
       "      <td>0</td>\n",
       "      <td>0.170111</td>\n",
       "      <td>-0.178901</td>\n",
       "      <td>-0.669184</td>\n",
       "      <td>-1.235032</td>\n",
       "    </tr>\n",
       "    <tr>\n",
       "      <th>4</th>\n",
       "      <td>-0.080797</td>\n",
       "      <td>0</td>\n",
       "      <td>0.170111</td>\n",
       "      <td>-0.507688</td>\n",
       "      <td>0.615058</td>\n",
       "      <td>-0.694257</td>\n",
       "    </tr>\n",
       "  </tbody>\n",
       "</table>\n",
       "</div>"
      ],
      "text/plain": [
       "   word_freq_zh  cs_word_pos_zh  cs_word_length_zh  sentence_length_zh  \\\n",
       "0      1.410115               0           0.170111            1.876020   \n",
       "1      0.594916               0           0.170111           -0.096704   \n",
       "2     -0.080797               0           0.170111           -0.261097   \n",
       "3      0.404590               0           0.170111           -0.178901   \n",
       "4     -0.080797               0           0.170111           -0.507688   \n",
       "\n",
       "   ngram_surp_zh  dep_surp_zh  \n",
       "0       0.615058     0.645423  \n",
       "1       0.615058     0.547655  \n",
       "2       0.316623     0.187909  \n",
       "3      -0.669184    -1.235032  \n",
       "4       0.615058    -0.694257  "
      ]
     },
     "execution_count": 158,
     "metadata": {},
     "output_type": "execute_result"
    }
   ],
   "source": [
    "all_surp_final.head()"
   ]
  },
  {
   "cell_type": "code",
   "execution_count": 159,
   "metadata": {},
   "outputs": [],
   "source": [
    "X = all_surp_final\n",
    "y = all_surp['code_switched']\n",
    "X_train, X_test, y_train, y_test = train_test_split(X, y, test_size=0.3, random_state=0)"
   ]
  },
  {
   "cell_type": "code",
   "execution_count": 160,
   "metadata": {},
   "outputs": [],
   "source": [
    "clf = LogisticRegression()\n",
    "clf.fit(X_train, y_train)\n",
    "y_pred = clf.predict(X_test)"
   ]
  },
  {
   "cell_type": "code",
   "execution_count": 161,
   "metadata": {},
   "outputs": [
    {
     "name": "stdout",
     "output_type": "stream",
     "text": [
      "              precision    recall  f1-score   support\n",
      "\n",
      "           0       0.60      0.62      0.61       419\n",
      "           1       0.65      0.63      0.64       467\n",
      "\n",
      "    accuracy                           0.62       886\n",
      "   macro avg       0.62      0.62      0.62       886\n",
      "weighted avg       0.62      0.62      0.62       886\n",
      "\n"
     ]
    }
   ],
   "source": [
    "print(classification_report(y_test, y_pred))"
   ]
  },
  {
   "cell_type": "code",
   "execution_count": 162,
   "metadata": {},
   "outputs": [
    {
     "name": "stdout",
     "output_type": "stream",
     "text": [
      "[[0.27057374 0.13151224 0.41465129 0.47827836 0.31735824 0.86884039]]\n",
      "[-0.12930405]\n"
     ]
    }
   ],
   "source": [
    "print(clf.coef_)\n",
    "print(clf.intercept_)"
   ]
  },
  {
   "cell_type": "code",
   "execution_count": 163,
   "metadata": {},
   "outputs": [
    {
     "data": {
      "text/html": [
       "<table class=\"simpletable\">\n",
       "<caption>OLS Regression Results</caption>\n",
       "<tr>\n",
       "  <th>Dep. Variable:</th>      <td>code_switched</td>  <th>  R-squared:         </th> <td>   0.082</td>\n",
       "</tr>\n",
       "<tr>\n",
       "  <th>Model:</th>                   <td>OLS</td>       <th>  Adj. R-squared:    </th> <td>   0.080</td>\n",
       "</tr>\n",
       "<tr>\n",
       "  <th>Method:</th>             <td>Least Squares</td>  <th>  F-statistic:       </th> <td>   37.63</td>\n",
       "</tr>\n",
       "<tr>\n",
       "  <th>Date:</th>             <td>Wed, 15 Sep 2021</td> <th>  Prob (F-statistic):</th> <td>8.04e-51</td>\n",
       "</tr>\n",
       "<tr>\n",
       "  <th>Time:</th>                 <td>14:58:56</td>     <th>  Log-Likelihood:    </th> <td> -2016.0</td>\n",
       "</tr>\n",
       "<tr>\n",
       "  <th>No. Observations:</th>      <td>  2952</td>      <th>  AIC:               </th> <td>   4048.</td>\n",
       "</tr>\n",
       "<tr>\n",
       "  <th>Df Residuals:</th>          <td>  2944</td>      <th>  BIC:               </th> <td>   4096.</td>\n",
       "</tr>\n",
       "<tr>\n",
       "  <th>Df Model:</th>              <td>     7</td>      <th>                     </th>     <td> </td>   \n",
       "</tr>\n",
       "<tr>\n",
       "  <th>Covariance Type:</th>      <td>nonrobust</td>    <th>                     </th>     <td> </td>   \n",
       "</tr>\n",
       "</table>\n",
       "<table class=\"simpletable\">\n",
       "<tr>\n",
       "             <td></td>               <th>coef</th>     <th>std err</th>      <th>t</th>      <th>P>|t|</th>  <th>[0.025</th>    <th>0.975]</th>  \n",
       "</tr>\n",
       "<tr>\n",
       "  <th>Intercept</th>              <td>    0.4779</td> <td>    0.012</td> <td>   40.697</td> <td> 0.000</td> <td>    0.455</td> <td>    0.501</td>\n",
       "</tr>\n",
       "<tr>\n",
       "  <th>C(cs_word_pos_zh)[T.1]</th> <td>    0.0613</td> <td>    0.026</td> <td>    2.374</td> <td> 0.018</td> <td>    0.011</td> <td>    0.112</td>\n",
       "</tr>\n",
       "<tr>\n",
       "  <th>C(cs_word_pos_zh)[T.2]</th> <td>    0.0550</td> <td>    0.025</td> <td>    2.246</td> <td> 0.025</td> <td>    0.007</td> <td>    0.103</td>\n",
       "</tr>\n",
       "<tr>\n",
       "  <th>word_freq_zh</th>           <td>    0.0581</td> <td>    0.022</td> <td>    2.608</td> <td> 0.009</td> <td>    0.014</td> <td>    0.102</td>\n",
       "</tr>\n",
       "<tr>\n",
       "  <th>cs_word_length_zh</th>      <td>    0.0963</td> <td>    0.023</td> <td>    4.224</td> <td> 0.000</td> <td>    0.052</td> <td>    0.141</td>\n",
       "</tr>\n",
       "<tr>\n",
       "  <th>sentence_length_zh</th>     <td>    0.1244</td> <td>    0.018</td> <td>    7.006</td> <td> 0.000</td> <td>    0.090</td> <td>    0.159</td>\n",
       "</tr>\n",
       "<tr>\n",
       "  <th>ngram_surp_zh</th>          <td>    0.0669</td> <td>    0.018</td> <td>    3.765</td> <td> 0.000</td> <td>    0.032</td> <td>    0.102</td>\n",
       "</tr>\n",
       "<tr>\n",
       "  <th>dep_surp_zh</th>            <td>    0.1908</td> <td>    0.018</td> <td>   10.332</td> <td> 0.000</td> <td>    0.155</td> <td>    0.227</td>\n",
       "</tr>\n",
       "</table>\n",
       "<table class=\"simpletable\">\n",
       "<tr>\n",
       "  <th>Omnibus:</th>       <td>13732.623</td> <th>  Durbin-Watson:     </th> <td>   0.163</td>\n",
       "</tr>\n",
       "<tr>\n",
       "  <th>Prob(Omnibus):</th>  <td> 0.000</td>   <th>  Jarque-Bera (JB):  </th> <td> 342.598</td>\n",
       "</tr>\n",
       "<tr>\n",
       "  <th>Skew:</th>           <td> 0.035</td>   <th>  Prob(JB):          </th> <td>4.03e-75</td>\n",
       "</tr>\n",
       "<tr>\n",
       "  <th>Kurtosis:</th>       <td> 1.333</td>   <th>  Cond. No.          </th> <td>    3.73</td>\n",
       "</tr>\n",
       "</table><br/><br/>Notes:<br/>[1] Standard Errors assume that the covariance matrix of the errors is correctly specified."
      ],
      "text/plain": [
       "<class 'statsmodels.iolib.summary.Summary'>\n",
       "\"\"\"\n",
       "                            OLS Regression Results                            \n",
       "==============================================================================\n",
       "Dep. Variable:          code_switched   R-squared:                       0.082\n",
       "Model:                            OLS   Adj. R-squared:                  0.080\n",
       "Method:                 Least Squares   F-statistic:                     37.63\n",
       "Date:                Wed, 15 Sep 2021   Prob (F-statistic):           8.04e-51\n",
       "Time:                        14:58:56   Log-Likelihood:                -2016.0\n",
       "No. Observations:                2952   AIC:                             4048.\n",
       "Df Residuals:                    2944   BIC:                             4096.\n",
       "Df Model:                           7                                         \n",
       "Covariance Type:            nonrobust                                         \n",
       "==========================================================================================\n",
       "                             coef    std err          t      P>|t|      [0.025      0.975]\n",
       "------------------------------------------------------------------------------------------\n",
       "Intercept                  0.4779      0.012     40.697      0.000       0.455       0.501\n",
       "C(cs_word_pos_zh)[T.1]     0.0613      0.026      2.374      0.018       0.011       0.112\n",
       "C(cs_word_pos_zh)[T.2]     0.0550      0.025      2.246      0.025       0.007       0.103\n",
       "word_freq_zh               0.0581      0.022      2.608      0.009       0.014       0.102\n",
       "cs_word_length_zh          0.0963      0.023      4.224      0.000       0.052       0.141\n",
       "sentence_length_zh         0.1244      0.018      7.006      0.000       0.090       0.159\n",
       "ngram_surp_zh              0.0669      0.018      3.765      0.000       0.032       0.102\n",
       "dep_surp_zh                0.1908      0.018     10.332      0.000       0.155       0.227\n",
       "==============================================================================\n",
       "Omnibus:                    13732.623   Durbin-Watson:                   0.163\n",
       "Prob(Omnibus):                  0.000   Jarque-Bera (JB):              342.598\n",
       "Skew:                           0.035   Prob(JB):                     4.03e-75\n",
       "Kurtosis:                       1.333   Cond. No.                         3.73\n",
       "==============================================================================\n",
       "\n",
       "Notes:\n",
       "[1] Standard Errors assume that the covariance matrix of the errors is correctly specified.\n",
       "\"\"\""
      ]
     },
     "execution_count": 163,
     "metadata": {},
     "output_type": "execute_result"
    }
   ],
   "source": [
    "all_surp_final_new = X.copy()\n",
    "all_surp_final_new['code_switched'] = y.copy()\n",
    "import statsmodels.api as sm \n",
    "import statsmodels.formula.api as smf\n",
    "model = smf.ols(formula=\"code_switched ~ word_freq_zh + C(cs_word_pos_zh) + cs_word_length_zh + sentence_length_zh + ngram_surp_zh + dep_surp_zh\",data=all_surp_final_new).fit() \n",
    "model.summary()"
   ]
  },
  {
   "cell_type": "code",
   "execution_count": 165,
   "metadata": {},
   "outputs": [],
   "source": [
    "#model.wald_test(['word_freq_zh', 'cs_word_pos_zh', 'cs_word_length_zh', 'sentence_length_zh', 'ngram_surp_zh', 'dep_surp_zh'])"
   ]
  },
  {
   "cell_type": "code",
   "execution_count": 166,
   "metadata": {},
   "outputs": [],
   "source": [
    "# from sklearn import linear_model\n",
    "# reg = linear_model.LassoLarsIC(criterion='aic')\n",
    "# reg.fit(X_train, y_train)\n",
    "# #LassoLarsIC(criterion='aic')\n",
    "# print(reg.criterion_)\n",
    "# print(\"mean: \" + str(np.mean(reg.criterion_)))\n",
    "# print(\"min: \" + str(np.amin(reg.criterion_)))"
   ]
  },
  {
   "cell_type": "code",
   "execution_count": 167,
   "metadata": {},
   "outputs": [],
   "source": [
    "# from sklearn import linear_model\n",
    "# reg = linear_model.LassoLarsIC(criterion='bic')\n",
    "# reg.fit(X_train, y_train)\n",
    "# #LassoLarsIC(criterion='aic')\n",
    "# print(reg.criterion_)\n",
    "# print(\"mean: \" + str(np.mean(reg.criterion_)))\n",
    "# print(\"min: \" + str(np.amin(reg.criterion_)))"
   ]
  },
  {
   "cell_type": "code",
   "execution_count": 168,
   "metadata": {},
   "outputs": [],
   "source": [
    "# num_params = len(clf.coef_) + 1\n",
    "# print('Number of parameters: %d' % (num_params))\n",
    "\n",
    "# ll = -log_loss(y_test, y_pred)*len(y_test)\n",
    "# print('LL: %.3f' % ll)"
   ]
  },
  {
   "cell_type": "code",
   "execution_count": 169,
   "metadata": {},
   "outputs": [],
   "source": [
    "# calculate_aic(len(y_train), ll, num_params)"
   ]
  },
  {
   "cell_type": "code",
   "execution_count": 170,
   "metadata": {},
   "outputs": [],
   "source": [
    "# calculate_bic(len(y_train), ll, num_params)"
   ]
  },
  {
   "cell_type": "code",
   "execution_count": 171,
   "metadata": {},
   "outputs": [
    {
     "name": "stdout",
     "output_type": "stream",
     "text": [
      "mean test accuracy: 0.6290849748053138\n",
      "mean test f1: 0.6372006196584022\n",
      "mean test f1 macro: 0.6282880941592671\n",
      "mean test f1 micro: 0.6290849748053138\n"
     ]
    }
   ],
   "source": [
    "result = cross_validate( # perform cross-validation\n",
    "        clf, # classifier object\n",
    "        X, # feature matrix\n",
    "        y, # gold labels\n",
    "        cv=10, #number of folds\n",
    "        scoring=['accuracy', 'f1', 'f1_macro', 'f1_micro'] # scoring methods\n",
    "    )\n",
    "print('mean test accuracy: ' + str(np.mean(result['test_accuracy'])))\n",
    "print('mean test f1: ' + str(np.mean(result['test_f1'])))\n",
    "print('mean test f1 macro: ' + str(np.mean(result['test_f1_macro'])))\n",
    "print('mean test f1 micro: ' + str(np.mean(result['test_f1_micro'])))"
   ]
  },
  {
   "cell_type": "code",
   "execution_count": 172,
   "metadata": {},
   "outputs": [],
   "source": [
    "# # number of parameters\n",
    "# num_params = len(clf.coef_) + 1\n",
    "# print('Number of parameters: %d' % (num_params))\n",
    "# # predict the training set\n",
    "# yhat = clf.predict(X)\n",
    "\n",
    "# ll = -log_loss(y_test, y_pred)*len(y_test)\n",
    "# print('LL: %.3f' % ll)\n",
    "# # calculate the aic\n",
    "# aic = calculate_aic(len(y), ll, num_params)\n",
    "# print('AIC: %.3f' % aic)\n",
    "# bic = calculate_bic(len(y), ll, num_params)\n",
    "# print('BIC: %.3f' % bic)"
   ]
  },
  {
   "cell_type": "code",
   "execution_count": null,
   "metadata": {},
   "outputs": [],
   "source": []
  }
 ],
 "metadata": {
  "kernelspec": {
   "display_name": "Python 3",
   "language": "python",
   "name": "python3"
  },
  "language_info": {
   "codemirror_mode": {
    "name": "ipython",
    "version": 3
   },
   "file_extension": ".py",
   "mimetype": "text/x-python",
   "name": "python",
   "nbconvert_exporter": "python",
   "pygments_lexer": "ipython3",
   "version": "3.7.6"
  }
 },
 "nbformat": 4,
 "nbformat_minor": 4
}
